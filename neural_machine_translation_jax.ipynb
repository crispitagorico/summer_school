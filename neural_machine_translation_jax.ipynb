{
  "cells": [
    {
      "cell_type": "markdown",
      "metadata": {
        "id": "aExsxPtwcY8v"
      },
      "source": [
        "# Neural machine translation using encoder-decoder RNN\n",
        "\n",
        "We show how to implement NMT using an encoder-decoder.\n",
        "\n",
        "Based on sec 9.7 of http://d2l.ai/chapter_recurrent-modern/seq2seq.html\n"
      ]
    },
    {
      "cell_type": "code",
      "execution_count": 1,
      "metadata": {
        "colab": {
          "base_uri": "https://localhost:8080/"
        },
        "id": "fF-NgxfLcYPn",
        "outputId": "68e37b1b-3a27-41b2-be87-b11897702be7"
      },
      "outputs": [
        {
          "output_type": "stream",
          "name": "stdout",
          "text": [
            "mkdir: cannot create directory ‘figures’: File exists\n"
          ]
        }
      ],
      "source": [
        "import jax.numpy as jnp\n",
        "import matplotlib.pyplot as plt\n",
        "import pandas as pd\n",
        "import math\n",
        "from IPython import display\n",
        "\n",
        "import jax\n",
        "\n",
        "try:\n",
        "    import flax.linen as nn\n",
        "except ModuleNotFoundError:\n",
        "    %pip install -qq flax\n",
        "    import flax.linen as nn\n",
        "from flax.training import train_state\n",
        "\n",
        "try:\n",
        "    import optax\n",
        "except ModuleNotFoundError:\n",
        "    %pip install -qq optax\n",
        "    import optax\n",
        "\n",
        "import collections\n",
        "import re\n",
        "import random\n",
        "import os\n",
        "import requests\n",
        "import zipfile\n",
        "import tarfile\n",
        "import hashlib\n",
        "import time\n",
        "import functools\n",
        "\n",
        "random.seed(0)\n",
        "rng = jax.random.PRNGKey(0)\n",
        "\n",
        "!mkdir figures # for saving plots"
      ]
    },
    {
      "cell_type": "markdown",
      "metadata": {
        "id": "GF_JE7xaZKRn"
      },
      "source": [
        "# Required functions for text preprocessing\n",
        "\n",
        "For more details on this functions: See [this colab](https://colab.research.google.com/github/probml/pyprobml/blob/master/notebooks/text_preproc_torch.ipynb#scrollTo=yDmK1xQ9T4IY) for details."
      ]
    },
    {
      "cell_type": "code",
      "execution_count": 2,
      "metadata": {
        "id": "o_C6Ke82BM7V"
      },
      "outputs": [],
      "source": [
        "# Required functions for downloading data\n",
        "\n",
        "\n",
        "def download(name, cache_dir=os.path.join(\"..\", \"data\")):\n",
        "    \"\"\"Download a file inserted into DATA_HUB, return the local filename.\"\"\"\n",
        "    assert name in DATA_HUB, f\"{name} does not exist in {DATA_HUB}.\"\n",
        "    url, sha1_hash = DATA_HUB[name]\n",
        "    os.makedirs(cache_dir, exist_ok=True)\n",
        "    fname = os.path.join(cache_dir, url.split(\"/\")[-1])\n",
        "    if os.path.exists(fname):\n",
        "        sha1 = hashlib.sha1()\n",
        "        with open(fname, \"rb\") as f:\n",
        "            while True:\n",
        "                data = f.read(1048576)\n",
        "                if not data:\n",
        "                    break\n",
        "                sha1.update(data)\n",
        "        if sha1.hexdigest() == sha1_hash:\n",
        "            return fname  # Hit cache\n",
        "    print(f\"Downloading {fname} from {url}...\")\n",
        "    r = requests.get(url, stream=True, verify=True)\n",
        "    with open(fname, \"wb\") as f:\n",
        "        f.write(r.content)\n",
        "    return fname\n",
        "\n",
        "\n",
        "def download_extract(name, folder=None):\n",
        "    \"\"\"Download and extract a zip/tar file.\"\"\"\n",
        "    fname = download(name)\n",
        "    base_dir = os.path.dirname(fname)\n",
        "    data_dir, ext = os.path.splitext(fname)\n",
        "    if ext == \".zip\":\n",
        "        fp = zipfile.ZipFile(fname, \"r\")\n",
        "    elif ext in (\".tar\", \".gz\"):\n",
        "        fp = tarfile.open(fname, \"r\")\n",
        "    else:\n",
        "        assert False, \"Only zip/tar files can be extracted.\"\n",
        "    fp.extractall(base_dir)\n",
        "    return os.path.join(base_dir, folder) if folder else data_dir"
      ]
    },
    {
      "cell_type": "code",
      "execution_count": 3,
      "metadata": {
        "id": "-c0dzTV5AXXn"
      },
      "outputs": [],
      "source": [
        "def read_data_nmt():\n",
        "    \"\"\"Load the English-French dataset.\"\"\"\n",
        "    data_dir = download_extract(\"fra-eng\")\n",
        "    with open(os.path.join(data_dir, \"fra.txt\"), \"r\") as f:\n",
        "        return f.read()\n",
        "\n",
        "\n",
        "def preprocess_nmt(text):\n",
        "    \"\"\"Preprocess the English-French dataset.\"\"\"\n",
        "\n",
        "    def no_space(char, prev_char):\n",
        "        return char in set(\",.!?\") and prev_char != \" \"\n",
        "\n",
        "    # Replace non-breaking space with space, and convert uppercase letters to\n",
        "    # lowercase ones\n",
        "    text = text.replace(\"\\u202f\", \" \").replace(\"\\xa0\", \" \").lower()\n",
        "    # Insert space between words and punctuation marks\n",
        "    out = [\" \" + char if i > 0 and no_space(char, text[i - 1]) else char for i, char in enumerate(text)]\n",
        "    return \"\".join(out)\n",
        "\n",
        "\n",
        "def tokenize_nmt(text, num_examples=None):\n",
        "    \"\"\"Tokenize the English-French dataset.\"\"\"\n",
        "    source, target = [], []\n",
        "    for i, line in enumerate(text.split(\"\\n\")):\n",
        "        if num_examples and i > num_examples:\n",
        "            break\n",
        "        parts = line.split(\"\\t\")\n",
        "        if len(parts) == 2:\n",
        "            source.append(parts[0].split(\" \"))\n",
        "            target.append(parts[1].split(\" \"))\n",
        "    return source, target\n",
        ""
      ]
    },
    {
      "cell_type": "code",
      "execution_count": 4,
      "metadata": {
        "id": "GE_0EjLhH1pR"
      },
      "outputs": [],
      "source": [
        "class Vocab:\n",
        "    \"\"\"Vocabulary for text.\"\"\"\n",
        "\n",
        "    def __init__(self, tokens=None, min_freq=0, reserved_tokens=None):\n",
        "        if tokens is None:\n",
        "            tokens = []\n",
        "        if reserved_tokens is None:\n",
        "            reserved_tokens = []\n",
        "        # Sort according to frequencies\n",
        "        counter = count_corpus(tokens)\n",
        "        self.token_freqs = sorted(counter.items(), key=lambda x: x[1], reverse=True)\n",
        "        # The index for the unknown token is 0\n",
        "        self.unk, uniq_tokens = 0, [\"\"] + reserved_tokens\n",
        "        uniq_tokens += [token for token, freq in self.token_freqs if freq >= min_freq and token not in uniq_tokens]\n",
        "        self.idx_to_token, self.token_to_idx = [], dict()\n",
        "        for token in uniq_tokens:\n",
        "            self.idx_to_token.append(token)\n",
        "            self.token_to_idx[token] = len(self.idx_to_token) - 1\n",
        "\n",
        "    def __len__(self):\n",
        "        return len(self.idx_to_token)\n",
        "\n",
        "    def __getitem__(self, tokens):\n",
        "        if not isinstance(tokens, (list, tuple)):\n",
        "            return self.token_to_idx.get(tokens, self.unk)\n",
        "        return [self.__getitem__(token) for token in tokens]\n",
        "\n",
        "    def to_tokens(self, indices):\n",
        "        if not isinstance(indices, (list, tuple)):\n",
        "            return self.idx_to_token[indices]\n",
        "        return [self.idx_to_token[index] for index in indices]\n",
        "\n",
        "\n",
        "def count_corpus(tokens):\n",
        "    \"\"\"Count token frequencies.\"\"\"\n",
        "    # Here `tokens` is a 1D list or 2D list\n",
        "    if len(tokens) == 0 or isinstance(tokens[0], list):\n",
        "        # Flatten a list of token lists into a list of tokens\n",
        "        tokens = [token for line in tokens for token in line]\n",
        "    return collections.Counter(tokens)"
      ]
    },
    {
      "cell_type": "code",
      "execution_count": 5,
      "metadata": {
        "id": "Gbs426U9IQU0"
      },
      "outputs": [],
      "source": [
        "\n",
        "reduce_sum = lambda x, *args, **kwargs: x.sum(*args, **kwargs)\n",
        "astype = lambda x, *args, **kwargs: jnp.array(x, *args, **kwargs)\n",
        "\n",
        "\n",
        "def build_array_nmt(lines, vocab, num_steps):\n",
        "    \"\"\"Transform text sequences of machine translation into minibatches.\"\"\"\n",
        "    lines = [vocab[l] for l in lines]\n",
        "    lines = [l + [vocab[\"\"]] for l in lines]\n",
        "    array = jnp.array([truncate_pad(l, num_steps, vocab[\"\"]) for l in lines])\n",
        "    valid_len = reduce_sum(astype(array != vocab[\"\"], jnp.int32), 1)\n",
        "    return array, valid_len"
      ]
    },
    {
      "cell_type": "code",
      "execution_count": 6,
      "metadata": {
        "id": "PpUa9rqcl0Pz"
      },
      "outputs": [],
      "source": [
        "class Dataset:\n",
        "    \"\"\"A dataset wrapping data arrays.\"\"\"\n",
        "\n",
        "    def __init__(self, *data_arrays):\n",
        "        self.arrays = data_arrays\n",
        "\n",
        "    def __getitem__(self, indices):\n",
        "        return tuple(array[jnp.array(indices)] for array in self.arrays)\n",
        "\n",
        "    def __len__(self):\n",
        "        return self.arrays[0].shape[0]\n",
        "\n",
        "\n",
        "class DataLoader:\n",
        "    \"\"\"A data loader with an iterable for data arrays.\"\"\"\n",
        "\n",
        "    def __init__(self, dataset, batch_size, shuffle=False):\n",
        "        self.dataset = dataset\n",
        "        self.batch_size = batch_size\n",
        "        self.shuffle = shuffle\n",
        "\n",
        "    def __iter__(self):\n",
        "        return self.data_iter()\n",
        "\n",
        "    def data_iter(self):\n",
        "        indices = list(range(0, len(self.dataset)))\n",
        "\n",
        "        if self.shuffle:\n",
        "            random.shuffle(indices)\n",
        "\n",
        "        for i in range(0, len(indices), self.batch_size):\n",
        "            yield self.dataset[indices[i : i + self.batch_size]]"
      ]
    },
    {
      "cell_type": "code",
      "execution_count": 7,
      "metadata": {
        "id": "3yYUa_itADJm"
      },
      "outputs": [],
      "source": [
        "def load_array(data_arrays, batch_size, is_train=True):\n",
        "    \"\"\"Construct a data iterator.\"\"\"\n",
        "    dataset = Dataset(*data_arrays)\n",
        "    return DataLoader(dataset, batch_size, shuffle=is_train)\n",
        "\n",
        "\n",
        "def truncate_pad(line, num_steps, padding_token):\n",
        "    \"\"\"Truncate or pad sequences.\"\"\"\n",
        "    if len(line) > num_steps:\n",
        "        return line[:num_steps]  # Truncate\n",
        "    return line + [padding_token] * (num_steps - len(line))\n",
        "\n",
        "\n",
        "def load_data_nmt(batch_size, num_steps, num_examples=600):\n",
        "    \"\"\"Return the iterator and the vocabularies of the translation dataset.\"\"\"\n",
        "    text = preprocess_nmt(read_data_nmt())\n",
        "    source, target = tokenize_nmt(text, num_examples)\n",
        "    src_vocab = Vocab(source, min_freq=2, reserved_tokens=[\"\", \"\", \"\"])\n",
        "    tgt_vocab = Vocab(target, min_freq=2, reserved_tokens=[\"\", \"\", \"\"])\n",
        "    src_array, src_valid_len = build_array_nmt(source, src_vocab, num_steps)\n",
        "    tgt_array, tgt_valid_len = build_array_nmt(target, tgt_vocab, num_steps)\n",
        "    data_arrays = (src_array, src_valid_len, tgt_array, tgt_valid_len)\n",
        "    data_iter = load_array(data_arrays, batch_size)\n",
        "    return data_iter, src_vocab, tgt_vocab"
      ]
    },
    {
      "cell_type": "markdown",
      "metadata": {
        "id": "f1dieC4GqW68"
      },
      "source": [
        "# Data\n",
        "\n",
        "We use a english-french dataset. See [this colab](https://colab.research.google.com/github/probml/probml-notebooks/blob/main/notebooks/text_preproc_torch.ipynb#scrollTo=yDmK1xQ9T4IY) for details."
      ]
    },
    {
      "cell_type": "code",
      "execution_count": 28,
      "metadata": {
        "id": "r-4oeZhRqZ2y"
      },
      "outputs": [],
      "source": [
        "DATA_HUB = dict()\n",
        "DATA_URL = \"http://d2l-data.s3-accelerate.amazonaws.com/\"\n",
        "\n",
        "DATA_HUB[\"fra-eng\"] = (DATA_URL + \"fra-eng.zip\", \"94646ad1522d915e7b0f9296181140edcf86a4f5\")\n",
        "\n",
        "batch_size, num_steps = 64, 10\n",
        "train_iter, src_vocab, tgt_vocab = load_data_nmt(batch_size, num_steps)"
      ]
    },
    {
      "cell_type": "markdown",
      "metadata": {
        "id": "XMzkvJuXcyw5"
      },
      "source": [
        "# Encoder-decoder"
      ]
    },
    {
      "cell_type": "code",
      "execution_count": 29,
      "metadata": {
        "id": "0WQNa-n7TcYt"
      },
      "outputs": [],
      "source": [
        "\n",
        "class EncoderDecoder(nn.Module):\n",
        "    \"\"\"The encoder-decoder architecture.\"\"\"\n",
        "\n",
        "    encoder: nn.Module\n",
        "    decoder: nn.Module\n",
        "\n",
        "    @nn.compact\n",
        "    def __call__(self, enc_X, dec_X, *args, deterministic=True):\n",
        "        enc_outputs = self.encoder(enc_X, *args, deterministic=deterministic)\n",
        "        dec_state = self.decoder.init_state(enc_outputs, *args)\n",
        "        return self.decoder(dec_state, dec_X, deterministic=deterministic)"
      ]
    },
    {
      "cell_type": "markdown",
      "metadata": {
        "id": "Ftsr8h2CdGoP"
      },
      "source": [
        "## GRU\n",
        "\n",
        "We create a multilayer GRU RNN. The hidden state of a layer, followed by dropout, is the input to the next layer.\n"
      ]
    },
    {
      "cell_type": "code",
      "execution_count": 30,
      "metadata": {
        "id": "uj5uYpw2ulJv"
      },
      "outputs": [],
      "source": [
        "class GRU(nn.Module):\n",
        "    \"\"\"Multi-layer GRU with dropout, scanned over the time axis.\"\"\"\n",
        "    num_layers: int = 1\n",
        "    dropout_rate: float = 0.0\n",
        "    deterministic: bool = True\n",
        "\n",
        "    @functools.partial(\n",
        "        nn.transforms.scan,\n",
        "        variable_broadcast=\"params\",\n",
        "        in_axes=0,\n",
        "        out_axes=0,\n",
        "        split_rngs={\"params\": False, \"dropout\": True},\n",
        "    )\n",
        "    @nn.compact\n",
        "    def __call__(self, state, x):\n",
        "        \"\"\"\n",
        "        Args:\n",
        "          state: array of shape (num_layers, batch_size, hidden_size)\n",
        "          x:     array of shape (batch_size, input_size)\n",
        "        Returns:\n",
        "          new_state: array of shape (num_layers, batch_size, hidden_size)\n",
        "          output:    array of shape (batch_size, hidden_size)\n",
        "        \"\"\"\n",
        "        new_states = []\n",
        "\n",
        "        # First num_layers-1 cells with dropout after each\n",
        "        for i in range(self.num_layers - 1):\n",
        "            s, x = nn.GRUCell(features=state.shape[-1])(state[i], x)\n",
        "            new_states.append(s)\n",
        "            x = nn.Dropout(rate=self.dropout_rate)(\n",
        "                x, deterministic=self.deterministic\n",
        "            )\n",
        "\n",
        "        # Final layer, no dropout on its output\n",
        "        s, out = nn.GRUCell(features=state.shape[-1])(state[-1], x)\n",
        "        new_states.append(s)\n",
        "\n",
        "        # stack to shape (num_layers, batch_size, hidden_size)\n",
        "        return jnp.stack(new_states, axis=0), out\n",
        "\n",
        "    def initialize_carry(self, rng, batch_dims, size):\n",
        "        \"\"\"\n",
        "        Zero-initialize the hidden state for all layers,\n",
        "        shape = (num_layers, *batch_dims, hidden_size).\n",
        "        \"\"\"\n",
        "        # dtype matches default GRUCell carry dtype\n",
        "        return jnp.zeros((self.num_layers, *batch_dims, size), dtype=jnp.float32)"
      ]
    },
    {
      "cell_type": "markdown",
      "metadata": {
        "id": "6J5JnFy_dgU8"
      },
      "source": [
        "## Encoder\n",
        "\n",
        "We use a 2-level GRU for the encoder; we set the context as the final state of the GRU. The input to the GRU is the word embedding of each token.\n"
      ]
    },
    {
      "cell_type": "code",
      "execution_count": 31,
      "metadata": {
        "id": "uq--PRcjLBaK"
      },
      "outputs": [],
      "source": [
        "class Seq2SeqEncoder(nn.Module):\n",
        "    \"\"\"The RNN encoder for sequence to sequence learning.\"\"\"\n",
        "\n",
        "    vocab_size: int\n",
        "    embed_size: int\n",
        "    num_hiddens: int\n",
        "    num_layers: int\n",
        "    dropout_rate: float = 0.0\n",
        "\n",
        "    @nn.compact\n",
        "    def __call__(self, X, *args, deterministic=True):\n",
        "        # The output `X` shape: (`batch_size`, `num_steps`, `embed_size`)\n",
        "        X = nn.Embed(num_embeddings=self.vocab_size, features=self.embed_size)(X)\n",
        "        # In RNN models, the first axis corresponds to time steps\n",
        "        X = X.transpose(1, 0, 2)\n",
        "        rnn = GRU(num_layers=self.num_layers, dropout_rate=self.dropout_rate, deterministic=deterministic)\n",
        "        state = rnn.initialize_carry(jax.random.PRNGKey(0), (X.shape[1],), self.num_hiddens)\n",
        "        state, output = rnn(state, X)\n",
        "        # `state` shape: (`num_layers`, `batch_size`, `num_hiddens`)\n",
        "        # `output` shape: (`num_steps`, `batch_size`, `num_hiddens`)\n",
        "        return state, output"
      ]
    },
    {
      "cell_type": "code",
      "execution_count": 32,
      "metadata": {
        "colab": {
          "base_uri": "https://localhost:8080/"
        },
        "id": "JQ895FigmY3A",
        "outputId": "a9f4ef06-b6bc-49a1-9f16-d7205a4f584c"
      },
      "outputs": [
        {
          "output_type": "stream",
          "name": "stdout",
          "text": [
            "(7, 4, 16)\n",
            "(2, 4, 16)\n"
          ]
        }
      ],
      "source": [
        "encoder = Seq2SeqEncoder(vocab_size=10, embed_size=8, num_hiddens=16, num_layers=2)\n",
        "batch_size = 4\n",
        "num_steps = 7\n",
        "X = jnp.zeros((batch_size, num_steps), dtype=jnp.int32)\n",
        "encoder_params = encoder.init(rng, X)\n",
        "state, output = encoder.apply(encoder_params, X)\n",
        "print(output.shape)\n",
        "print(state.shape)"
      ]
    },
    {
      "cell_type": "markdown",
      "metadata": {
        "id": "twNb8LAJe6So"
      },
      "source": [
        "## Decoder\n",
        "\n",
        "We use another GRU as the decoder. The initial state is the final state of the encoder, so we must use the same number of hidden units. In addition, we pass in the context (ie final state of encoder) as input to every step of the decoder.\n"
      ]
    },
    {
      "cell_type": "code",
      "execution_count": 33,
      "metadata": {
        "id": "7YKxPKssoa9L"
      },
      "outputs": [],
      "source": [
        "class Seq2SeqDecoder(nn.Module):\n",
        "    \"\"\"The RNN decoder for sequence to sequence learning.\"\"\"\n",
        "    vocab_size: int\n",
        "    embed_size: int\n",
        "    num_hiddens: int\n",
        "    num_layers: int\n",
        "    dropout_rate: float = 0.0\n",
        "\n",
        "    @nn.compact\n",
        "    def __call__(self, state, X, deterministic=True):\n",
        "        # X: (batch_size, num_steps)\n",
        "        # 1) embed and transpose to (num_steps, batch_size, embed_size)\n",
        "        X = nn.Embed(num_embeddings=self.vocab_size, features=self.embed_size)(X)\n",
        "        X = X.transpose(1, 0, 2)\n",
        "\n",
        "        # 2) build context by repeating the last encoder hidden across time\n",
        "        #    state[-1] has shape (batch_size, num_hiddens)\n",
        "        #    we add a time axis then tile:\n",
        "        #      state[-1][None, :, :] -> (1, batch_size, num_hiddens)\n",
        "        #      tiled to           -> (num_steps, batch_size, num_hiddens)\n",
        "        num_steps = X.shape[0]\n",
        "        context = jnp.tile(state[-1][None, :, :], (num_steps, 1, 1))\n",
        "\n",
        "        # 3) concatenate inputs and context along feature dim -> (num_steps, batch_size, embed+hidden)\n",
        "        X_and_context = jnp.concatenate([X, context], axis=-1)\n",
        "\n",
        "        # 4) run through our multi-layer GRU (scanned over time)\n",
        "        rnn = GRU(\n",
        "            num_layers=self.num_layers,\n",
        "            dropout_rate=self.dropout_rate,\n",
        "            deterministic=deterministic,\n",
        "        )\n",
        "        state, rnn_output = rnn(state, X_and_context)\n",
        "        # rnn_output: (num_steps, batch_size, num_hiddens)\n",
        "\n",
        "        # 5) project to vocabulary and transpose back -> (batch_size, num_steps, vocab_size)\n",
        "        logits = nn.Dense(features=self.vocab_size)(rnn_output)\n",
        "        logits = logits.transpose(1, 0, 2)\n",
        "\n",
        "        return state, logits\n",
        "\n",
        "    def init_state(self, enc_outputs, *args):\n",
        "        # enc_outputs is a tuple (state, output) from the encoder\n",
        "        # we just take the encoder’s final hidden-state array\n",
        "        return enc_outputs[0]"
      ]
    },
    {
      "cell_type": "code",
      "execution_count": 34,
      "metadata": {
        "colab": {
          "base_uri": "https://localhost:8080/"
        },
        "id": "xBpEzLPHqY62",
        "outputId": "79cbf516-14fd-42e0-e3c7-40ad17e7563d"
      },
      "outputs": [
        {
          "output_type": "stream",
          "name": "stdout",
          "text": [
            "(4, 7, 10)\n",
            "(2, 4, 16)\n"
          ]
        }
      ],
      "source": [
        "decoder = Seq2SeqDecoder(vocab_size=10, embed_size=8, num_hiddens=16, num_layers=2)\n",
        "state = decoder.init_state(encoder.apply(encoder_params, X))\n",
        "decoder_params = decoder.init(rng, state, X)\n",
        "state, output = decoder.apply(decoder_params, state, X)\n",
        "print(output.shape)  # (batch size, number of time steps, vocabulary size)\n",
        "print(state.shape)  # (num layers, batch size, num hiddens)"
      ]
    },
    {
      "cell_type": "markdown",
      "metadata": {
        "id": "nfhSjLALgN3R"
      },
      "source": [
        "# Loss function\n",
        "\n",
        "We use cross entropy loss, but we must mask out target tokens that are just padding. We replace all outputs beyond the valid length to the target value of 0."
      ]
    },
    {
      "cell_type": "code",
      "execution_count": 35,
      "metadata": {
        "colab": {
          "base_uri": "https://localhost:8080/"
        },
        "id": "ZIL9P5h3gSW2",
        "outputId": "b55c32d1-146d-48d4-c843-4eea2221f5cb"
      },
      "outputs": [
        {
          "output_type": "execute_result",
          "data": {
            "text/plain": [
              "Array([[1, 0, 0],\n",
              "       [4, 5, 0]], dtype=int32)"
            ]
          },
          "metadata": {},
          "execution_count": 35
        }
      ],
      "source": [
        "def sequence_mask(X, valid_len, value=0):\n",
        "    \"\"\"Mask irrelevant entries in sequences.\"\"\"\n",
        "    maxlen = X.shape[1]\n",
        "    mask = jnp.arange((maxlen))[None, :] < valid_len[:, None]\n",
        "    return jnp.where(mask, X, value)\n",
        "\n",
        "\n",
        "X = jnp.array([[1, 2, 3], [4, 5, 6]])\n",
        "sequence_mask(X, jnp.array([1, 2]))"
      ]
    },
    {
      "cell_type": "markdown",
      "metadata": {
        "id": "rYKVdTZ9hAKL"
      },
      "source": [
        "We now use this to create a weight mask of 0s and 1s, where 0 corresponds to invalid locations. When we compute the cross entropy loss, we multiply by this weight mask, thus ignoring invalid locations."
      ]
    },
    {
      "cell_type": "code",
      "execution_count": 36,
      "metadata": {
        "id": "OlHTsKhxg_RM"
      },
      "outputs": [],
      "source": [
        "def masked_softmax_cross_entropy(pred, label, valid_len):\n",
        "    \"\"\"The softmax cross-entropy loss with masks.\"\"\"\n",
        "\n",
        "    # `pred` shape: (`batch_size`, `num_steps`, `vocab_size`)\n",
        "    # `label` shape: (`batch_size`, `num_steps`)\n",
        "    # `valid_len` shape: (`batch_size`,)\n",
        "    weights = jnp.ones(label.shape)\n",
        "    weights = sequence_mask(weights, valid_len)\n",
        "    label_one_hot = jax.nn.one_hot(label, num_classes=pred.shape[-1])\n",
        "    unweighted_loss = optax.softmax_cross_entropy(pred, label_one_hot)\n",
        "    weighted_loss = (unweighted_loss * weights).mean(axis=1)\n",
        "    return weighted_loss"
      ]
    },
    {
      "cell_type": "markdown",
      "metadata": {
        "id": "7UEwUQaphtb5"
      },
      "source": [
        "As an example, let us create a prediction array of all ones of size (3,4,10) and a target label array of all ones of size (3,4). We specify the valid lengths to (4,2,0). Thus the first loss should be twice the second. And the third loss should be 0."
      ]
    },
    {
      "cell_type": "code",
      "execution_count": 37,
      "metadata": {
        "colab": {
          "base_uri": "https://localhost:8080/"
        },
        "id": "M_zzw7I4wiO0",
        "outputId": "cfb5d40b-2e01-47d4-d6ad-58f3b2392e81"
      },
      "outputs": [
        {
          "output_type": "execute_result",
          "data": {
            "text/plain": [
              "Array([2.3025851, 1.1512926, 0.       ], dtype=float32)"
            ]
          },
          "metadata": {},
          "execution_count": 37
        }
      ],
      "source": [
        "masked_softmax_cross_entropy(jnp.ones((3, 4, 10)), jnp.zeros((3, 4)), jnp.array([4, 2, 0]))"
      ]
    },
    {
      "cell_type": "markdown",
      "metadata": {
        "id": "aKLRJpCMpEQH"
      },
      "source": [
        "# Training\n",
        "\n",
        "We use teacher forcing, where the inputs to the decoder are \"bos\" (beginning of sentence), followed by the ground truth target tokens from the previous step, as shown below.\n",
        "\n",
        "\n",
        "<img src=\"https://github.com/probml/probml-notebooks/blob/main/images/seq2seq.png?raw=true\">\n",
        "\n"
      ]
    },
    {
      "cell_type": "code",
      "execution_count": 38,
      "metadata": {
        "id": "0OJenK-mMh1m"
      },
      "outputs": [],
      "source": [
        "class Animator:\n",
        "    \"\"\"For plotting data in animation.\"\"\"\n",
        "\n",
        "    def __init__(\n",
        "        self,\n",
        "        xlabel=None,\n",
        "        ylabel=None,\n",
        "        legend=None,\n",
        "        xlim=None,\n",
        "        ylim=None,\n",
        "        xscale=\"linear\",\n",
        "        yscale=\"linear\",\n",
        "        fmts=(\"-\", \"m--\", \"g-.\", \"r:\"),\n",
        "        nrows=1,\n",
        "        ncols=1,\n",
        "        figsize=(3.5, 2.5),\n",
        "    ):\n",
        "        # Incrementally plot multiple lines\n",
        "        if legend is None:\n",
        "            legend = []\n",
        "        display.set_matplotlib_formats(\"svg\")\n",
        "        self.fig, self.axes = plt.subplots(nrows, ncols, figsize=figsize)\n",
        "        if nrows * ncols == 1:\n",
        "            self.axes = [\n",
        "                self.axes,\n",
        "            ]\n",
        "        # Use a lambda function to capture arguments\n",
        "        self.config_axes = lambda: set_axes(self.axes[0], xlabel, ylabel, xlim, ylim, xscale, yscale, legend)\n",
        "        self.X, self.Y, self.fmts = None, None, fmts\n",
        "\n",
        "    def add(self, x, y):\n",
        "        # Add multiple data points into the figure\n",
        "        if not hasattr(y, \"__len__\"):\n",
        "            y = [y]\n",
        "        n = len(y)\n",
        "        if not hasattr(x, \"__len__\"):\n",
        "            x = [x] * n\n",
        "        if not self.X:\n",
        "            self.X = [[] for _ in range(n)]\n",
        "        if not self.Y:\n",
        "            self.Y = [[] for _ in range(n)]\n",
        "        for i, (a, b) in enumerate(zip(x, y)):\n",
        "            if a is not None and b is not None:\n",
        "                self.X[i].append(a)\n",
        "                self.Y[i].append(b)\n",
        "        self.axes[0].cla()\n",
        "        for x, y, fmt in zip(self.X, self.Y, self.fmts):\n",
        "            self.axes[0].plot(x, y, fmt)\n",
        "        self.config_axes()\n",
        "        display.display(self.fig)\n",
        "        display.clear_output(wait=True)\n",
        "\n",
        "\n",
        "class Timer:\n",
        "    \"\"\"Record multiple running times.\"\"\"\n",
        "\n",
        "    def __init__(self):\n",
        "        self.times = []\n",
        "        self.start()\n",
        "\n",
        "    def start(self):\n",
        "        \"\"\"Start the timer.\"\"\"\n",
        "        self.tik = time.time()\n",
        "\n",
        "    def stop(self):\n",
        "        \"\"\"Stop the timer and record the time in a list.\"\"\"\n",
        "        self.times.append(time.time() - self.tik)\n",
        "        return self.times[-1]\n",
        "\n",
        "    def avg(self):\n",
        "        \"\"\"Return the average time.\"\"\"\n",
        "        return sum(self.times) / len(self.times)\n",
        "\n",
        "    def sum(self):\n",
        "        \"\"\"Return the sum of time.\"\"\"\n",
        "        return sum(self.times)\n",
        "\n",
        "    def cumsum(self):\n",
        "        \"\"\"Return the accumulated time.\"\"\"\n",
        "        return jnp.array(self.times).cumsum().tolist()\n",
        "\n",
        "\n",
        "class Accumulator:\n",
        "    \"\"\"For accumulating sums over `n` variables.\"\"\"\n",
        "\n",
        "    def __init__(self, n):\n",
        "        self.data = [0.0] * n\n",
        "\n",
        "    def add(self, *args):\n",
        "        self.data = [a + float(b) for a, b in zip(self.data, args)]\n",
        "\n",
        "    def reset(self):\n",
        "        self.data = [0.0] * len(self.data)\n",
        "\n",
        "    def __getitem__(self, idx):\n",
        "        return self.data[idx]"
      ]
    },
    {
      "cell_type": "code",
      "execution_count": 39,
      "metadata": {
        "id": "p2fqQdzkZvdF"
      },
      "outputs": [],
      "source": [
        "def set_axes(axes, xlabel, ylabel, xlim, ylim, xscale, yscale, legend):\n",
        "    \"\"\"Set the axes for matplotlib.\"\"\"\n",
        "    axes.set_xlabel(xlabel)\n",
        "    axes.set_ylabel(ylabel)\n",
        "    axes.set_xscale(xscale)\n",
        "    axes.set_yscale(yscale)\n",
        "    axes.set_xlim(xlim)\n",
        "    axes.set_ylim(ylim)\n",
        "    if legend:\n",
        "        axes.legend(legend)\n",
        "    axes.grid()"
      ]
    },
    {
      "cell_type": "code",
      "execution_count": 40,
      "metadata": {
        "id": "_TV-1Pqbq6eB"
      },
      "outputs": [],
      "source": [
        "@jax.jit\n",
        "def grad_clipping(grads, theta):\n",
        "    \"\"\"Clip the gradient.\"\"\"\n",
        "\n",
        "    def grad_update(grads):\n",
        "        return jax.tree_map(lambda g: g * theta / norm, grads)\n",
        "\n",
        "    norm = jnp.sqrt(sum(jax.tree_util.tree_leaves(jax.tree_map(lambda x: jnp.sum(x**2), grads))))\n",
        "    # Update gradient if norm > theta\n",
        "    # This is jax.jit compatible\n",
        "    grads = jax.lax.cond(norm > theta, grad_update, lambda g: g, grads)\n",
        "    return grads"
      ]
    },
    {
      "cell_type": "code",
      "execution_count": 41,
      "metadata": {
        "id": "SZ_FQo0AZgv4"
      },
      "outputs": [],
      "source": [
        "@jax.jit\n",
        "def train_step(state, batch, bos_idx, rngs):\n",
        "    \"\"\"Train for a single step.\"\"\"\n",
        "    # Make sure to get a new RNG at every step\n",
        "    step = state.step\n",
        "    rngs = {name: jax.random.fold_in(rng, step) for name, rng in rngs.items()}\n",
        "\n",
        "    def loss_fn(params):\n",
        "        X, X_valid_len, Y, Y_valid_len = batch\n",
        "        bos = jnp.array([bos_idx] * Y.shape[0]).reshape(-1, 1)\n",
        "        dec_input = jnp.concatenate([bos, Y[:, :-1]], 1)  # Teacher forcing\n",
        "        _, Y_hat = state.apply_fn({\"params\": params}, X, dec_input, X_valid_len, deterministic=False, rngs=rngs)\n",
        "        loss = masked_softmax_cross_entropy(Y_hat, Y, Y_valid_len)\n",
        "        return loss.sum()\n",
        "\n",
        "    grad_fn = jax.value_and_grad(loss_fn)\n",
        "    loss, grads = grad_fn(state.params)\n",
        "    grads = grad_clipping(grads, 1)\n",
        "    state = state.apply_gradients(grads=grads)\n",
        "\n",
        "    return state, loss\n",
        "\n",
        "def train_seq2seq(state, data_iter, num_epochs, tgt_vocab, rngs):\n",
        "    \"\"\"Train a model for sequence to sequence.\"\"\"\n",
        "    animator = Animator(xlabel=\"epoch\", ylabel=\"loss\", xlim=[10, num_epochs])\n",
        "    for epoch in range(num_epochs):\n",
        "        timer = Timer()\n",
        "        metric = Accumulator(2)  # Sum of training loss, no. of tokens\n",
        "        for batch in data_iter:\n",
        "            state, loss = train_step(state, batch, tgt_vocab[\"\"], rngs)\n",
        "            num_tokens = batch[3].sum()\n",
        "            metric.add(loss, num_tokens)\n",
        "        if (epoch + 1) % 10 == 0:\n",
        "            animator.add(epoch + 1, (metric[0] / metric[1],))\n",
        "\n",
        "    device = jax.default_backend()\n",
        "    print(f\"loss {metric[0] / metric[1]:.3f}, {metric[1] / timer.stop():.1f} \" f\"tokens/sec on {device}\")\n",
        "    return state"
      ]
    },
    {
      "cell_type": "code",
      "execution_count": 42,
      "metadata": {
        "id": "c0jpCdjwRxEv"
      },
      "outputs": [],
      "source": [
        "def create_train_state(net, params, lr):\n",
        "    \"\"\"Create the train state for the network.\"\"\"\n",
        "    tx = optax.adam(learning_rate=lr)\n",
        "    state = train_state.TrainState.create(apply_fn=net.apply, params=params, tx=tx)\n",
        "    return state"
      ]
    },
    {
      "cell_type": "code",
      "execution_count": 43,
      "metadata": {
        "id": "JbntBH02R1Gf"
      },
      "outputs": [],
      "source": [
        "embed_size, num_hiddens, num_layers, dropout = 32, 32, 2, 0.1\n",
        "lr, num_epochs = 0.005, 300\n",
        "\n",
        "encoder = Seq2SeqEncoder(\n",
        "    vocab_size=len(src_vocab),\n",
        "    embed_size=embed_size,\n",
        "    num_hiddens=num_hiddens,\n",
        "    num_layers=num_layers,\n",
        "    dropout_rate=dropout,\n",
        ")\n",
        "decoder = Seq2SeqDecoder(\n",
        "    vocab_size=len(tgt_vocab),\n",
        "    embed_size=embed_size,\n",
        "    num_hiddens=num_hiddens,\n",
        "    num_layers=num_layers,\n",
        "    dropout_rate=dropout,\n",
        ")\n",
        "net = EncoderDecoder(encoder=encoder, decoder=decoder)"
      ]
    },
    {
      "cell_type": "code",
      "execution_count": 44,
      "metadata": {
        "colab": {
          "base_uri": "https://localhost:8080/",
          "height": 283
        },
        "id": "iqL5rbuRTHbC",
        "outputId": "262935e0-7853-48aa-fe38-3f38f56ac16a"
      },
      "outputs": [
        {
          "output_type": "stream",
          "name": "stdout",
          "text": [
            "loss 0.026, 6948.2 tokens/sec on gpu\n"
          ]
        },
        {
          "output_type": "display_data",
          "data": {
            "text/plain": [
              "<Figure size 350x250 with 1 Axes>"
            ],
            "image/svg+xml": "<?xml version=\"1.0\" encoding=\"utf-8\" standalone=\"no\"?>\n<!DOCTYPE svg PUBLIC \"-//W3C//DTD SVG 1.1//EN\"\n  \"http://www.w3.org/Graphics/SVG/1.1/DTD/svg11.dtd\">\n<svg xmlns:xlink=\"http://www.w3.org/1999/xlink\" width=\"262.1875pt\" height=\"183.35625pt\" viewBox=\"0 0 262.1875 183.35625\" xmlns=\"http://www.w3.org/2000/svg\" version=\"1.1\">\n <metadata>\n  <rdf:RDF xmlns:dc=\"http://purl.org/dc/elements/1.1/\" xmlns:cc=\"http://creativecommons.org/ns#\" xmlns:rdf=\"http://www.w3.org/1999/02/22-rdf-syntax-ns#\">\n   <cc:Work>\n    <dc:type rdf:resource=\"http://purl.org/dc/dcmitype/StillImage\"/>\n    <dc:date>2025-06-24T13:09:40.871336</dc:date>\n    <dc:format>image/svg+xml</dc:format>\n    <dc:creator>\n     <cc:Agent>\n      <dc:title>Matplotlib v3.10.0, https://matplotlib.org/</dc:title>\n     </cc:Agent>\n    </dc:creator>\n   </cc:Work>\n  </rdf:RDF>\n </metadata>\n <defs>\n  <style type=\"text/css\">*{stroke-linejoin: round; stroke-linecap: butt}</style>\n </defs>\n <g id=\"figure_1\">\n  <g id=\"patch_1\">\n   <path d=\"M 0 183.35625 \nL 262.1875 183.35625 \nL 262.1875 0 \nL 0 0 \nz\n\" style=\"fill: #ffffff\"/>\n  </g>\n  <g id=\"axes_1\">\n   <g id=\"patch_2\">\n    <path d=\"M 50.14375 145.8 \nL 245.44375 145.8 \nL 245.44375 7.2 \nL 50.14375 7.2 \nz\n\" style=\"fill: #ffffff\"/>\n   </g>\n   <g id=\"matplotlib.axis_1\">\n    <g id=\"xtick_1\">\n     <g id=\"line2d_1\">\n      <path d=\"M 77.081681 145.8 \nL 77.081681 7.2 \n\" clip-path=\"url(#p64a22d2475)\" style=\"fill: none; stroke: #b0b0b0; stroke-width: 0.8; stroke-linecap: square\"/>\n     </g>\n     <g id=\"line2d_2\">\n      <defs>\n       <path id=\"m4d3f71531c\" d=\"M 0 0 \nL 0 3.5 \n\" style=\"stroke: #000000; stroke-width: 0.8\"/>\n      </defs>\n      <g>\n       <use xlink:href=\"#m4d3f71531c\" x=\"77.081681\" y=\"145.8\" style=\"stroke: #000000; stroke-width: 0.8\"/>\n      </g>\n     </g>\n     <g id=\"text_1\">\n      <!-- 50 -->\n      <g transform=\"translate(70.719181 160.398438) scale(0.1 -0.1)\">\n       <defs>\n        <path id=\"DejaVuSans-35\" d=\"M 691 4666 \nL 3169 4666 \nL 3169 4134 \nL 1269 4134 \nL 1269 2991 \nQ 1406 3038 1543 3061 \nQ 1681 3084 1819 3084 \nQ 2600 3084 3056 2656 \nQ 3513 2228 3513 1497 \nQ 3513 744 3044 326 \nQ 2575 -91 1722 -91 \nQ 1428 -91 1123 -41 \nQ 819 9 494 109 \nL 494 744 \nQ 775 591 1075 516 \nQ 1375 441 1709 441 \nQ 2250 441 2565 725 \nQ 2881 1009 2881 1497 \nQ 2881 1984 2565 2268 \nQ 2250 2553 1709 2553 \nQ 1456 2553 1204 2497 \nQ 953 2441 691 2322 \nL 691 4666 \nz\n\" transform=\"scale(0.015625)\"/>\n        <path id=\"DejaVuSans-30\" d=\"M 2034 4250 \nQ 1547 4250 1301 3770 \nQ 1056 3291 1056 2328 \nQ 1056 1369 1301 889 \nQ 1547 409 2034 409 \nQ 2525 409 2770 889 \nQ 3016 1369 3016 2328 \nQ 3016 3291 2770 3770 \nQ 2525 4250 2034 4250 \nz\nM 2034 4750 \nQ 2819 4750 3233 4129 \nQ 3647 3509 3647 2328 \nQ 3647 1150 3233 529 \nQ 2819 -91 2034 -91 \nQ 1250 -91 836 529 \nQ 422 1150 422 2328 \nQ 422 3509 836 4129 \nQ 1250 4750 2034 4750 \nz\n\" transform=\"scale(0.015625)\"/>\n       </defs>\n       <use xlink:href=\"#DejaVuSans-35\"/>\n       <use xlink:href=\"#DejaVuSans-30\" transform=\"translate(63.623047 0)\"/>\n      </g>\n     </g>\n    </g>\n    <g id=\"xtick_2\">\n     <g id=\"line2d_3\">\n      <path d=\"M 110.754095 145.8 \nL 110.754095 7.2 \n\" clip-path=\"url(#p64a22d2475)\" style=\"fill: none; stroke: #b0b0b0; stroke-width: 0.8; stroke-linecap: square\"/>\n     </g>\n     <g id=\"line2d_4\">\n      <g>\n       <use xlink:href=\"#m4d3f71531c\" x=\"110.754095\" y=\"145.8\" style=\"stroke: #000000; stroke-width: 0.8\"/>\n      </g>\n     </g>\n     <g id=\"text_2\">\n      <!-- 100 -->\n      <g transform=\"translate(101.210345 160.398438) scale(0.1 -0.1)\">\n       <defs>\n        <path id=\"DejaVuSans-31\" d=\"M 794 531 \nL 1825 531 \nL 1825 4091 \nL 703 3866 \nL 703 4441 \nL 1819 4666 \nL 2450 4666 \nL 2450 531 \nL 3481 531 \nL 3481 0 \nL 794 0 \nL 794 531 \nz\n\" transform=\"scale(0.015625)\"/>\n       </defs>\n       <use xlink:href=\"#DejaVuSans-31\"/>\n       <use xlink:href=\"#DejaVuSans-30\" transform=\"translate(63.623047 0)\"/>\n       <use xlink:href=\"#DejaVuSans-30\" transform=\"translate(127.246094 0)\"/>\n      </g>\n     </g>\n    </g>\n    <g id=\"xtick_3\">\n     <g id=\"line2d_5\">\n      <path d=\"M 144.426509 145.8 \nL 144.426509 7.2 \n\" clip-path=\"url(#p64a22d2475)\" style=\"fill: none; stroke: #b0b0b0; stroke-width: 0.8; stroke-linecap: square\"/>\n     </g>\n     <g id=\"line2d_6\">\n      <g>\n       <use xlink:href=\"#m4d3f71531c\" x=\"144.426509\" y=\"145.8\" style=\"stroke: #000000; stroke-width: 0.8\"/>\n      </g>\n     </g>\n     <g id=\"text_3\">\n      <!-- 150 -->\n      <g transform=\"translate(134.882759 160.398438) scale(0.1 -0.1)\">\n       <use xlink:href=\"#DejaVuSans-31\"/>\n       <use xlink:href=\"#DejaVuSans-35\" transform=\"translate(63.623047 0)\"/>\n       <use xlink:href=\"#DejaVuSans-30\" transform=\"translate(127.246094 0)\"/>\n      </g>\n     </g>\n    </g>\n    <g id=\"xtick_4\">\n     <g id=\"line2d_7\">\n      <path d=\"M 178.098922 145.8 \nL 178.098922 7.2 \n\" clip-path=\"url(#p64a22d2475)\" style=\"fill: none; stroke: #b0b0b0; stroke-width: 0.8; stroke-linecap: square\"/>\n     </g>\n     <g id=\"line2d_8\">\n      <g>\n       <use xlink:href=\"#m4d3f71531c\" x=\"178.098922\" y=\"145.8\" style=\"stroke: #000000; stroke-width: 0.8\"/>\n      </g>\n     </g>\n     <g id=\"text_4\">\n      <!-- 200 -->\n      <g transform=\"translate(168.555172 160.398438) scale(0.1 -0.1)\">\n       <defs>\n        <path id=\"DejaVuSans-32\" d=\"M 1228 531 \nL 3431 531 \nL 3431 0 \nL 469 0 \nL 469 531 \nQ 828 903 1448 1529 \nQ 2069 2156 2228 2338 \nQ 2531 2678 2651 2914 \nQ 2772 3150 2772 3378 \nQ 2772 3750 2511 3984 \nQ 2250 4219 1831 4219 \nQ 1534 4219 1204 4116 \nQ 875 4013 500 3803 \nL 500 4441 \nQ 881 4594 1212 4672 \nQ 1544 4750 1819 4750 \nQ 2544 4750 2975 4387 \nQ 3406 4025 3406 3419 \nQ 3406 3131 3298 2873 \nQ 3191 2616 2906 2266 \nQ 2828 2175 2409 1742 \nQ 1991 1309 1228 531 \nz\n\" transform=\"scale(0.015625)\"/>\n       </defs>\n       <use xlink:href=\"#DejaVuSans-32\"/>\n       <use xlink:href=\"#DejaVuSans-30\" transform=\"translate(63.623047 0)\"/>\n       <use xlink:href=\"#DejaVuSans-30\" transform=\"translate(127.246094 0)\"/>\n      </g>\n     </g>\n    </g>\n    <g id=\"xtick_5\">\n     <g id=\"line2d_9\">\n      <path d=\"M 211.771336 145.8 \nL 211.771336 7.2 \n\" clip-path=\"url(#p64a22d2475)\" style=\"fill: none; stroke: #b0b0b0; stroke-width: 0.8; stroke-linecap: square\"/>\n     </g>\n     <g id=\"line2d_10\">\n      <g>\n       <use xlink:href=\"#m4d3f71531c\" x=\"211.771336\" y=\"145.8\" style=\"stroke: #000000; stroke-width: 0.8\"/>\n      </g>\n     </g>\n     <g id=\"text_5\">\n      <!-- 250 -->\n      <g transform=\"translate(202.227586 160.398438) scale(0.1 -0.1)\">\n       <use xlink:href=\"#DejaVuSans-32\"/>\n       <use xlink:href=\"#DejaVuSans-35\" transform=\"translate(63.623047 0)\"/>\n       <use xlink:href=\"#DejaVuSans-30\" transform=\"translate(127.246094 0)\"/>\n      </g>\n     </g>\n    </g>\n    <g id=\"xtick_6\">\n     <g id=\"line2d_11\">\n      <path d=\"M 245.44375 145.8 \nL 245.44375 7.2 \n\" clip-path=\"url(#p64a22d2475)\" style=\"fill: none; stroke: #b0b0b0; stroke-width: 0.8; stroke-linecap: square\"/>\n     </g>\n     <g id=\"line2d_12\">\n      <g>\n       <use xlink:href=\"#m4d3f71531c\" x=\"245.44375\" y=\"145.8\" style=\"stroke: #000000; stroke-width: 0.8\"/>\n      </g>\n     </g>\n     <g id=\"text_6\">\n      <!-- 300 -->\n      <g transform=\"translate(235.9 160.398438) scale(0.1 -0.1)\">\n       <defs>\n        <path id=\"DejaVuSans-33\" d=\"M 2597 2516 \nQ 3050 2419 3304 2112 \nQ 3559 1806 3559 1356 \nQ 3559 666 3084 287 \nQ 2609 -91 1734 -91 \nQ 1441 -91 1130 -33 \nQ 819 25 488 141 \nL 488 750 \nQ 750 597 1062 519 \nQ 1375 441 1716 441 \nQ 2309 441 2620 675 \nQ 2931 909 2931 1356 \nQ 2931 1769 2642 2001 \nQ 2353 2234 1838 2234 \nL 1294 2234 \nL 1294 2753 \nL 1863 2753 \nQ 2328 2753 2575 2939 \nQ 2822 3125 2822 3475 \nQ 2822 3834 2567 4026 \nQ 2313 4219 1838 4219 \nQ 1578 4219 1281 4162 \nQ 984 4106 628 3988 \nL 628 4550 \nQ 988 4650 1302 4700 \nQ 1616 4750 1894 4750 \nQ 2613 4750 3031 4423 \nQ 3450 4097 3450 3541 \nQ 3450 3153 3228 2886 \nQ 3006 2619 2597 2516 \nz\n\" transform=\"scale(0.015625)\"/>\n       </defs>\n       <use xlink:href=\"#DejaVuSans-33\"/>\n       <use xlink:href=\"#DejaVuSans-30\" transform=\"translate(63.623047 0)\"/>\n       <use xlink:href=\"#DejaVuSans-30\" transform=\"translate(127.246094 0)\"/>\n      </g>\n     </g>\n    </g>\n    <g id=\"text_7\">\n     <!-- epoch -->\n     <g transform=\"translate(132.565625 174.076563) scale(0.1 -0.1)\">\n      <defs>\n       <path id=\"DejaVuSans-65\" d=\"M 3597 1894 \nL 3597 1613 \nL 953 1613 \nQ 991 1019 1311 708 \nQ 1631 397 2203 397 \nQ 2534 397 2845 478 \nQ 3156 559 3463 722 \nL 3463 178 \nQ 3153 47 2828 -22 \nQ 2503 -91 2169 -91 \nQ 1331 -91 842 396 \nQ 353 884 353 1716 \nQ 353 2575 817 3079 \nQ 1281 3584 2069 3584 \nQ 2775 3584 3186 3129 \nQ 3597 2675 3597 1894 \nz\nM 3022 2063 \nQ 3016 2534 2758 2815 \nQ 2500 3097 2075 3097 \nQ 1594 3097 1305 2825 \nQ 1016 2553 972 2059 \nL 3022 2063 \nz\n\" transform=\"scale(0.015625)\"/>\n       <path id=\"DejaVuSans-70\" d=\"M 1159 525 \nL 1159 -1331 \nL 581 -1331 \nL 581 3500 \nL 1159 3500 \nL 1159 2969 \nQ 1341 3281 1617 3432 \nQ 1894 3584 2278 3584 \nQ 2916 3584 3314 3078 \nQ 3713 2572 3713 1747 \nQ 3713 922 3314 415 \nQ 2916 -91 2278 -91 \nQ 1894 -91 1617 61 \nQ 1341 213 1159 525 \nz\nM 3116 1747 \nQ 3116 2381 2855 2742 \nQ 2594 3103 2138 3103 \nQ 1681 3103 1420 2742 \nQ 1159 2381 1159 1747 \nQ 1159 1113 1420 752 \nQ 1681 391 2138 391 \nQ 2594 391 2855 752 \nQ 3116 1113 3116 1747 \nz\n\" transform=\"scale(0.015625)\"/>\n       <path id=\"DejaVuSans-6f\" d=\"M 1959 3097 \nQ 1497 3097 1228 2736 \nQ 959 2375 959 1747 \nQ 959 1119 1226 758 \nQ 1494 397 1959 397 \nQ 2419 397 2687 759 \nQ 2956 1122 2956 1747 \nQ 2956 2369 2687 2733 \nQ 2419 3097 1959 3097 \nz\nM 1959 3584 \nQ 2709 3584 3137 3096 \nQ 3566 2609 3566 1747 \nQ 3566 888 3137 398 \nQ 2709 -91 1959 -91 \nQ 1206 -91 779 398 \nQ 353 888 353 1747 \nQ 353 2609 779 3096 \nQ 1206 3584 1959 3584 \nz\n\" transform=\"scale(0.015625)\"/>\n       <path id=\"DejaVuSans-63\" d=\"M 3122 3366 \nL 3122 2828 \nQ 2878 2963 2633 3030 \nQ 2388 3097 2138 3097 \nQ 1578 3097 1268 2742 \nQ 959 2388 959 1747 \nQ 959 1106 1268 751 \nQ 1578 397 2138 397 \nQ 2388 397 2633 464 \nQ 2878 531 3122 666 \nL 3122 134 \nQ 2881 22 2623 -34 \nQ 2366 -91 2075 -91 \nQ 1284 -91 818 406 \nQ 353 903 353 1747 \nQ 353 2603 823 3093 \nQ 1294 3584 2113 3584 \nQ 2378 3584 2631 3529 \nQ 2884 3475 3122 3366 \nz\n\" transform=\"scale(0.015625)\"/>\n       <path id=\"DejaVuSans-68\" d=\"M 3513 2113 \nL 3513 0 \nL 2938 0 \nL 2938 2094 \nQ 2938 2591 2744 2837 \nQ 2550 3084 2163 3084 \nQ 1697 3084 1428 2787 \nQ 1159 2491 1159 1978 \nL 1159 0 \nL 581 0 \nL 581 4863 \nL 1159 4863 \nL 1159 2956 \nQ 1366 3272 1645 3428 \nQ 1925 3584 2291 3584 \nQ 2894 3584 3203 3211 \nQ 3513 2838 3513 2113 \nz\n\" transform=\"scale(0.015625)\"/>\n      </defs>\n      <use xlink:href=\"#DejaVuSans-65\"/>\n      <use xlink:href=\"#DejaVuSans-70\" transform=\"translate(61.523438 0)\"/>\n      <use xlink:href=\"#DejaVuSans-6f\" transform=\"translate(125 0)\"/>\n      <use xlink:href=\"#DejaVuSans-63\" transform=\"translate(186.181641 0)\"/>\n      <use xlink:href=\"#DejaVuSans-68\" transform=\"translate(241.162109 0)\"/>\n     </g>\n    </g>\n   </g>\n   <g id=\"matplotlib.axis_2\">\n    <g id=\"ytick_1\">\n     <g id=\"line2d_13\">\n      <path d=\"M 50.14375 125.452881 \nL 245.44375 125.452881 \n\" clip-path=\"url(#p64a22d2475)\" style=\"fill: none; stroke: #b0b0b0; stroke-width: 0.8; stroke-linecap: square\"/>\n     </g>\n     <g id=\"line2d_14\">\n      <defs>\n       <path id=\"mdd8fb29b79\" d=\"M 0 0 \nL -3.5 0 \n\" style=\"stroke: #000000; stroke-width: 0.8\"/>\n      </defs>\n      <g>\n       <use xlink:href=\"#mdd8fb29b79\" x=\"50.14375\" y=\"125.452881\" style=\"stroke: #000000; stroke-width: 0.8\"/>\n      </g>\n     </g>\n     <g id=\"text_8\">\n      <!-- 0.05 -->\n      <g transform=\"translate(20.878125 129.2521) scale(0.1 -0.1)\">\n       <defs>\n        <path id=\"DejaVuSans-2e\" d=\"M 684 794 \nL 1344 794 \nL 1344 0 \nL 684 0 \nL 684 794 \nz\n\" transform=\"scale(0.015625)\"/>\n       </defs>\n       <use xlink:href=\"#DejaVuSans-30\"/>\n       <use xlink:href=\"#DejaVuSans-2e\" transform=\"translate(63.623047 0)\"/>\n       <use xlink:href=\"#DejaVuSans-30\" transform=\"translate(95.410156 0)\"/>\n       <use xlink:href=\"#DejaVuSans-35\" transform=\"translate(159.033203 0)\"/>\n      </g>\n     </g>\n    </g>\n    <g id=\"ytick_2\">\n     <g id=\"line2d_15\">\n      <path d=\"M 50.14375 97.444297 \nL 245.44375 97.444297 \n\" clip-path=\"url(#p64a22d2475)\" style=\"fill: none; stroke: #b0b0b0; stroke-width: 0.8; stroke-linecap: square\"/>\n     </g>\n     <g id=\"line2d_16\">\n      <g>\n       <use xlink:href=\"#mdd8fb29b79\" x=\"50.14375\" y=\"97.444297\" style=\"stroke: #000000; stroke-width: 0.8\"/>\n      </g>\n     </g>\n     <g id=\"text_9\">\n      <!-- 0.10 -->\n      <g transform=\"translate(20.878125 101.243516) scale(0.1 -0.1)\">\n       <use xlink:href=\"#DejaVuSans-30\"/>\n       <use xlink:href=\"#DejaVuSans-2e\" transform=\"translate(63.623047 0)\"/>\n       <use xlink:href=\"#DejaVuSans-31\" transform=\"translate(95.410156 0)\"/>\n       <use xlink:href=\"#DejaVuSans-30\" transform=\"translate(159.033203 0)\"/>\n      </g>\n     </g>\n    </g>\n    <g id=\"ytick_3\">\n     <g id=\"line2d_17\">\n      <path d=\"M 50.14375 69.435714 \nL 245.44375 69.435714 \n\" clip-path=\"url(#p64a22d2475)\" style=\"fill: none; stroke: #b0b0b0; stroke-width: 0.8; stroke-linecap: square\"/>\n     </g>\n     <g id=\"line2d_18\">\n      <g>\n       <use xlink:href=\"#mdd8fb29b79\" x=\"50.14375\" y=\"69.435714\" style=\"stroke: #000000; stroke-width: 0.8\"/>\n      </g>\n     </g>\n     <g id=\"text_10\">\n      <!-- 0.15 -->\n      <g transform=\"translate(20.878125 73.234932) scale(0.1 -0.1)\">\n       <use xlink:href=\"#DejaVuSans-30\"/>\n       <use xlink:href=\"#DejaVuSans-2e\" transform=\"translate(63.623047 0)\"/>\n       <use xlink:href=\"#DejaVuSans-31\" transform=\"translate(95.410156 0)\"/>\n       <use xlink:href=\"#DejaVuSans-35\" transform=\"translate(159.033203 0)\"/>\n      </g>\n     </g>\n    </g>\n    <g id=\"ytick_4\">\n     <g id=\"line2d_19\">\n      <path d=\"M 50.14375 41.42713 \nL 245.44375 41.42713 \n\" clip-path=\"url(#p64a22d2475)\" style=\"fill: none; stroke: #b0b0b0; stroke-width: 0.8; stroke-linecap: square\"/>\n     </g>\n     <g id=\"line2d_20\">\n      <g>\n       <use xlink:href=\"#mdd8fb29b79\" x=\"50.14375\" y=\"41.42713\" style=\"stroke: #000000; stroke-width: 0.8\"/>\n      </g>\n     </g>\n     <g id=\"text_11\">\n      <!-- 0.20 -->\n      <g transform=\"translate(20.878125 45.226349) scale(0.1 -0.1)\">\n       <use xlink:href=\"#DejaVuSans-30\"/>\n       <use xlink:href=\"#DejaVuSans-2e\" transform=\"translate(63.623047 0)\"/>\n       <use xlink:href=\"#DejaVuSans-32\" transform=\"translate(95.410156 0)\"/>\n       <use xlink:href=\"#DejaVuSans-30\" transform=\"translate(159.033203 0)\"/>\n      </g>\n     </g>\n    </g>\n    <g id=\"ytick_5\">\n     <g id=\"line2d_21\">\n      <path d=\"M 50.14375 13.418546 \nL 245.44375 13.418546 \n\" clip-path=\"url(#p64a22d2475)\" style=\"fill: none; stroke: #b0b0b0; stroke-width: 0.8; stroke-linecap: square\"/>\n     </g>\n     <g id=\"line2d_22\">\n      <g>\n       <use xlink:href=\"#mdd8fb29b79\" x=\"50.14375\" y=\"13.418546\" style=\"stroke: #000000; stroke-width: 0.8\"/>\n      </g>\n     </g>\n     <g id=\"text_12\">\n      <!-- 0.25 -->\n      <g transform=\"translate(20.878125 17.217765) scale(0.1 -0.1)\">\n       <use xlink:href=\"#DejaVuSans-30\"/>\n       <use xlink:href=\"#DejaVuSans-2e\" transform=\"translate(63.623047 0)\"/>\n       <use xlink:href=\"#DejaVuSans-32\" transform=\"translate(95.410156 0)\"/>\n       <use xlink:href=\"#DejaVuSans-35\" transform=\"translate(159.033203 0)\"/>\n      </g>\n     </g>\n    </g>\n    <g id=\"text_13\">\n     <!-- loss -->\n     <g transform=\"translate(14.798437 86.157813) rotate(-90) scale(0.1 -0.1)\">\n      <defs>\n       <path id=\"DejaVuSans-6c\" d=\"M 603 4863 \nL 1178 4863 \nL 1178 0 \nL 603 0 \nL 603 4863 \nz\n\" transform=\"scale(0.015625)\"/>\n       <path id=\"DejaVuSans-73\" d=\"M 2834 3397 \nL 2834 2853 \nQ 2591 2978 2328 3040 \nQ 2066 3103 1784 3103 \nQ 1356 3103 1142 2972 \nQ 928 2841 928 2578 \nQ 928 2378 1081 2264 \nQ 1234 2150 1697 2047 \nL 1894 2003 \nQ 2506 1872 2764 1633 \nQ 3022 1394 3022 966 \nQ 3022 478 2636 193 \nQ 2250 -91 1575 -91 \nQ 1294 -91 989 -36 \nQ 684 19 347 128 \nL 347 722 \nQ 666 556 975 473 \nQ 1284 391 1588 391 \nQ 1994 391 2212 530 \nQ 2431 669 2431 922 \nQ 2431 1156 2273 1281 \nQ 2116 1406 1581 1522 \nL 1381 1569 \nQ 847 1681 609 1914 \nQ 372 2147 372 2553 \nQ 372 3047 722 3315 \nQ 1072 3584 1716 3584 \nQ 2034 3584 2315 3537 \nQ 2597 3491 2834 3397 \nz\n\" transform=\"scale(0.015625)\"/>\n      </defs>\n      <use xlink:href=\"#DejaVuSans-6c\"/>\n      <use xlink:href=\"#DejaVuSans-6f\" transform=\"translate(27.783203 0)\"/>\n      <use xlink:href=\"#DejaVuSans-73\" transform=\"translate(88.964844 0)\"/>\n      <use xlink:href=\"#DejaVuSans-73\" transform=\"translate(141.064453 0)\"/>\n     </g>\n    </g>\n   </g>\n   <g id=\"line2d_23\">\n    <path d=\"M 50.14375 13.5 \nL 56.878233 51.895908 \nL 63.612716 75.79905 \nL 70.347198 91.625923 \nL 77.081681 103.709022 \nL 83.816164 111.055051 \nL 90.550647 116.676012 \nL 97.285129 121.767624 \nL 104.019612 125.529106 \nL 110.754095 128.643161 \nL 117.488578 131.183019 \nL 124.22306 132.870002 \nL 130.957543 133.66465 \nL 137.692026 135.395865 \nL 144.426509 136.053783 \nL 151.160991 136.709898 \nL 157.895474 137.311338 \nL 164.629957 137.481877 \nL 171.36444 137.667837 \nL 178.098922 137.623031 \nL 184.833405 138.110043 \nL 191.567888 138.816801 \nL 198.302371 138.684019 \nL 205.036853 138.486189 \nL 211.771336 138.992955 \nL 218.505819 138.881997 \nL 225.240302 139.177158 \nL 231.974784 139.313793 \nL 238.709267 139.5 \nL 245.44375 139.141084 \n\" clip-path=\"url(#p64a22d2475)\" style=\"fill: none; stroke: #1f77b4; stroke-width: 1.5; stroke-linecap: square\"/>\n   </g>\n   <g id=\"patch_3\">\n    <path d=\"M 50.14375 145.8 \nL 50.14375 7.2 \n\" style=\"fill: none; stroke: #000000; stroke-width: 0.8; stroke-linejoin: miter; stroke-linecap: square\"/>\n   </g>\n   <g id=\"patch_4\">\n    <path d=\"M 245.44375 145.8 \nL 245.44375 7.2 \n\" style=\"fill: none; stroke: #000000; stroke-width: 0.8; stroke-linejoin: miter; stroke-linecap: square\"/>\n   </g>\n   <g id=\"patch_5\">\n    <path d=\"M 50.14375 145.8 \nL 245.44375 145.8 \n\" style=\"fill: none; stroke: #000000; stroke-width: 0.8; stroke-linejoin: miter; stroke-linecap: square\"/>\n   </g>\n   <g id=\"patch_6\">\n    <path d=\"M 50.14375 7.2 \nL 245.44375 7.2 \n\" style=\"fill: none; stroke: #000000; stroke-width: 0.8; stroke-linejoin: miter; stroke-linecap: square\"/>\n   </g>\n  </g>\n </g>\n <defs>\n  <clipPath id=\"p64a22d2475\">\n   <rect x=\"50.14375\" y=\"7.2\" width=\"195.3\" height=\"138.6\"/>\n  </clipPath>\n </defs>\n</svg>\n"
          },
          "metadata": {}
        }
      ],
      "source": [
        "params_rng, dropout_rng = jax.random.split(rng)\n",
        "rngs = {\"params\": params_rng, \"dropout\": dropout_rng}\n",
        "\n",
        "init_x = init_dec_input = jnp.ones((batch_size, num_steps), dtype=jnp.int32)\n",
        "init_x_valid_len = jnp.ones((batch_size,), dtype=jnp.int32)\n",
        "params = net.init(rngs, init_x, init_dec_input, init_x_valid_len)[\"params\"]\n",
        "\n",
        "state = create_train_state(net, params, lr)\n",
        "# Set the seed for the data iterator\n",
        "random.seed(0)\n",
        "state = train_seq2seq(state, train_iter, num_epochs, tgt_vocab, rngs)"
      ]
    },
    {
      "cell_type": "markdown",
      "metadata": {
        "id": "-XSkOuMCr0yw"
      },
      "source": [
        "# Prediction\n",
        "\n",
        "We use greedy decoding, where the inputs to the decoder are \"bos\" (beginning of sentence), followed by the most likely target token from the previous step, as shown below. We keep decoding until the model generates \"eos\" (end of sentence).\n",
        "\n",
        "\n",
        "<img src=\"https://github.com/probml/probml-notebooks/blob/main/images/seq2seq-predict.png?raw=true\">\n"
      ]
    },
    {
      "cell_type": "code",
      "execution_count": 45,
      "metadata": {
        "id": "M2VB7oXlqPJD"
      },
      "outputs": [],
      "source": [
        "def predict_seq2seq(net, state, src_sentence, src_vocab, tgt_vocab, num_steps, save_attention_weights=False):\n",
        "    \"\"\"Predict for sequence to sequence.\"\"\"\n",
        "    src_tokens = src_vocab[src_sentence.lower().split(\" \")] + [src_vocab[\"<eos>\"]]\n",
        "    enc_valid_len = jnp.array([len(src_tokens)])\n",
        "    src_tokens = truncate_pad(src_tokens, num_steps, src_vocab[\"<pad>\"])\n",
        "    # Add the batch axis\n",
        "    enc_X = jnp.expand_dims(jnp.array(src_tokens, dtype=jnp.int32), axis=0)\n",
        "    enc_outputs = net.encoder.apply({\"params\": state.params[\"encoder\"]}, enc_X, enc_valid_len, deterministic=True)\n",
        "    dec_state = net.decoder.init_state(enc_outputs, enc_valid_len)\n",
        "    # Add the batch axis\n",
        "    dec_X = jnp.expand_dims(jnp.array([tgt_vocab[\"<bos>\"]], dtype=jnp.int32), axis=0)\n",
        "    output_seq, attention_weight_seq = [], []\n",
        "    for _ in range(num_steps):\n",
        "        dec_state, Y = net.decoder.apply({\"params\": state.params[\"decoder\"]}, dec_state, dec_X, deterministic=True)\n",
        "        # We use the token with the highest prediction likelihood as the input\n",
        "        # of the decoder at the next time step\n",
        "        dec_X = Y.argmax(axis=2)\n",
        "        pred = dec_X.squeeze(axis=0).item()\n",
        "        # Save attention weights (to be covered later)\n",
        "        if save_attention_weights:\n",
        "            attention_weight_seq.append(net.decoder.attention_weights)\n",
        "        # Once the end-of-sequence token is predicted, the generation of the\n",
        "        # output sequence is complete\n",
        "        if pred == tgt_vocab[\"<eos>\"]:\n",
        "            break\n",
        "        output_seq.append(pred)\n",
        "    return \" \".join(tgt_vocab.to_tokens(output_seq)), attention_weight_seq"
      ]
    },
    {
      "cell_type": "markdown",
      "metadata": {
        "id": "2Vv9eQKjtud1"
      },
      "source": [
        "# Evaluation"
      ]
    },
    {
      "cell_type": "markdown",
      "metadata": {
        "id": "y-bjpplDtwee"
      },
      "source": [
        "In the MT community, the standard evaluation metric is known as BLEU (Bilingual Evaluation Understudy), which measures how many n-grams in the predicted target match the true label target.\n",
        "\n",
        "For example, suppose the prediction is A,B,B,C,D and the target is A,B,C,D,E,F.\n",
        "There are five 1-grams in the prediction, of which 4 find a match in the target (the second \"B\" is a \"false positive\"), so the precision for 1-grams is $p_1=4/5$. Similarly, there are four 2-grams, of which 3 find a match (the bigram \"BB\" does not occur), so $p_2 = 3/4$. We continue in this way to compute up to $p_k$, where $k$ is the max n-gram length. (Since we are using words, not characters, we typically keep $k$ small, to avoid sparse counts.)\n",
        "\n",
        "The BLEU score is then defined by\n",
        "$$\n",
        "\\exp(\\min(0, 1-\\frac{L_y}{L_p})) \\prod_{n=1}^k p_n^{0.5^n}\n",
        "$$\n",
        "where $L_y$ is the length of the target label sequence, and $L_p$ is the length of the prediction.\n",
        "\n",
        "Since predicting shorter sequences tends to give higher $p_n$ values, short sequences are penalized by the exponential factor. For example, suppose  $k=2$ and the label sequence  is A,B,C,D,E,F.\n",
        "If the predicted sequence is A,B,B,C,D,\n",
        "we have $p_1=4/5$ and $p_2=3/4$, and the penalty factor is\n",
        "$\\exp(1-6/5)=0.818$.\n",
        "If  the predicted sequence  is A,B,\n",
        "we have $p_1=p_2=1$, but the penalty factor is $\\exp(1−6/2)≈0.135$.\n",
        "\n"
      ]
    },
    {
      "cell_type": "code",
      "execution_count": 48,
      "metadata": {
        "id": "qwybiVMkwPp8"
      },
      "outputs": [],
      "source": [
        "def bleu(pred_seq, label_seq, k):\n",
        "    \"\"\"Compute the BLEU.\"\"\"\n",
        "    pred_tokens, label_tokens = pred_seq.split(\" \"), label_seq.split(\" \")\n",
        "    len_pred, len_label = len(pred_tokens), len(label_tokens)\n",
        "    # Add a small epsilon to len_pred to avoid log(0) when computing the brevity penalty\n",
        "    # if len_pred is 0, but this doesn't fix the n-gram matching issue.\n",
        "    # The n-gram issue is handled below by checking len_pred - n + 1 > 0.\n",
        "    score = math.exp(min(0, 1 - len_label / (len_pred + 1e-9))) # Add epsilon for brevity penalty\n",
        "\n",
        "    for n in range(1, k + 1):\n",
        "        # Ensure that we only compute n-gram matches if the predicted sequence is long enough\n",
        "        if len_pred - n + 1 > 0:\n",
        "            num_matches, label_subs = 0, collections.defaultdict(int)\n",
        "            for i in range(len_label - n + 1):\n",
        "                label_subs[\"\".join(label_tokens[i : i + n])] += 1\n",
        "            for i in range(len_pred - n + 1):\n",
        "                if label_subs[\"\".join(pred_tokens[i : i + n])] > 0:\n",
        "                    num_matches += 1\n",
        "                    label_subs[\"\".join(pred_tokens[i : i + n])] -= 1\n",
        "            score *= math.pow(num_matches / (len_pred - n + 1), math.pow(0.5, n))\n",
        "        else:\n",
        "            # If the predicted sequence is too short for this n-gram length,\n",
        "            # there are no possible matches. The term becomes 0/something,\n",
        "            # but to avoid issues with pow(0, 0) or similar, we can effectively\n",
        "            # treat the precision for this n-gram as 0, which means the score\n",
        "            # should be multiplied by 0^something. However, the BLEU formula\n",
        "            # takes the geometric mean of precisions. If one precision is 0,\n",
        "            # the overall score will be 0. A simpler way is to just stop the loop\n",
        "            # or multiply by 0 raised to the power. A more robust approach is\n",
        "            # to just not update the score for this n when the length is insufficient.\n",
        "            # But according to the BLEU definition, if the predicted sequence\n",
        "            # is shorter than n, the precision for that n is 0. Multiplying by 0\n",
        "            # will make the overall score 0. Let's keep the power term as if\n",
        "            # num_matches is 0.\n",
        "            if len_pred - n + 1 <= 0:\n",
        "                 # If the denominator is non-positive, this precision is effectively 0.\n",
        "                 # The power of 0 is tricky. If the exponent is positive, 0^x is 0.\n",
        "                 # If the exponent is 0, 0^0 is 1.\n",
        "                 # The exponent math.pow(0.5, n) is always positive for n >= 1.\n",
        "                 score *= 0.0 # This effectively makes the BLEU score 0.\n",
        "\n",
        "    return score"
      ]
    },
    {
      "cell_type": "code",
      "execution_count": 49,
      "metadata": {
        "colab": {
          "base_uri": "https://localhost:8080/",
          "height": 175
        },
        "id": "Ov-JXBCkxCgp",
        "outputId": "89af8115-3c3b-4358-9ac6-da248097191b"
      },
      "outputs": [
        {
          "output_type": "display_data",
          "data": {
            "text/plain": [
              "       English               Truth  \\\n",
              "0         go .                va !   \n",
              "1     i lost .        j'ai perdu .   \n",
              "2  he's calm .      il est calme .   \n",
              "3   i'm home .  je suis chez moi .   \n",
              "\n",
              "                                     Prediction  Bleu  \n",
              "0                                                 0.0  \n",
              "1                                       j'en ai   0.0  \n",
              "2                            je suis chez ai ai   0.0  \n",
              "3  faible faible faible faible gras faible gras   0.0  "
            ],
            "text/html": [
              "\n",
              "  <div id=\"df-70a5d605-7a0a-440a-8b2d-5ce3592c66d1\" class=\"colab-df-container\">\n",
              "    <div>\n",
              "<style scoped>\n",
              "    .dataframe tbody tr th:only-of-type {\n",
              "        vertical-align: middle;\n",
              "    }\n",
              "\n",
              "    .dataframe tbody tr th {\n",
              "        vertical-align: top;\n",
              "    }\n",
              "\n",
              "    .dataframe thead th {\n",
              "        text-align: right;\n",
              "    }\n",
              "</style>\n",
              "<table border=\"1\" class=\"dataframe\">\n",
              "  <thead>\n",
              "    <tr style=\"text-align: right;\">\n",
              "      <th></th>\n",
              "      <th>English</th>\n",
              "      <th>Truth</th>\n",
              "      <th>Prediction</th>\n",
              "      <th>Bleu</th>\n",
              "    </tr>\n",
              "  </thead>\n",
              "  <tbody>\n",
              "    <tr>\n",
              "      <th>0</th>\n",
              "      <td>go .</td>\n",
              "      <td>va !</td>\n",
              "      <td></td>\n",
              "      <td>0.0</td>\n",
              "    </tr>\n",
              "    <tr>\n",
              "      <th>1</th>\n",
              "      <td>i lost .</td>\n",
              "      <td>j'ai perdu .</td>\n",
              "      <td>j'en ai</td>\n",
              "      <td>0.0</td>\n",
              "    </tr>\n",
              "    <tr>\n",
              "      <th>2</th>\n",
              "      <td>he's calm .</td>\n",
              "      <td>il est calme .</td>\n",
              "      <td>je suis chez ai ai</td>\n",
              "      <td>0.0</td>\n",
              "    </tr>\n",
              "    <tr>\n",
              "      <th>3</th>\n",
              "      <td>i'm home .</td>\n",
              "      <td>je suis chez moi .</td>\n",
              "      <td>faible faible faible faible gras faible gras</td>\n",
              "      <td>0.0</td>\n",
              "    </tr>\n",
              "  </tbody>\n",
              "</table>\n",
              "</div>\n",
              "    <div class=\"colab-df-buttons\">\n",
              "\n",
              "  <div class=\"colab-df-container\">\n",
              "    <button class=\"colab-df-convert\" onclick=\"convertToInteractive('df-70a5d605-7a0a-440a-8b2d-5ce3592c66d1')\"\n",
              "            title=\"Convert this dataframe to an interactive table.\"\n",
              "            style=\"display:none;\">\n",
              "\n",
              "  <svg xmlns=\"http://www.w3.org/2000/svg\" height=\"24px\" viewBox=\"0 -960 960 960\">\n",
              "    <path d=\"M120-120v-720h720v720H120Zm60-500h600v-160H180v160Zm220 220h160v-160H400v160Zm0 220h160v-160H400v160ZM180-400h160v-160H180v160Zm440 0h160v-160H620v160ZM180-180h160v-160H180v160Zm440 0h160v-160H620v160Z\"/>\n",
              "  </svg>\n",
              "    </button>\n",
              "\n",
              "  <style>\n",
              "    .colab-df-container {\n",
              "      display:flex;\n",
              "      gap: 12px;\n",
              "    }\n",
              "\n",
              "    .colab-df-convert {\n",
              "      background-color: #E8F0FE;\n",
              "      border: none;\n",
              "      border-radius: 50%;\n",
              "      cursor: pointer;\n",
              "      display: none;\n",
              "      fill: #1967D2;\n",
              "      height: 32px;\n",
              "      padding: 0 0 0 0;\n",
              "      width: 32px;\n",
              "    }\n",
              "\n",
              "    .colab-df-convert:hover {\n",
              "      background-color: #E2EBFA;\n",
              "      box-shadow: 0px 1px 2px rgba(60, 64, 67, 0.3), 0px 1px 3px 1px rgba(60, 64, 67, 0.15);\n",
              "      fill: #174EA6;\n",
              "    }\n",
              "\n",
              "    .colab-df-buttons div {\n",
              "      margin-bottom: 4px;\n",
              "    }\n",
              "\n",
              "    [theme=dark] .colab-df-convert {\n",
              "      background-color: #3B4455;\n",
              "      fill: #D2E3FC;\n",
              "    }\n",
              "\n",
              "    [theme=dark] .colab-df-convert:hover {\n",
              "      background-color: #434B5C;\n",
              "      box-shadow: 0px 1px 3px 1px rgba(0, 0, 0, 0.15);\n",
              "      filter: drop-shadow(0px 1px 2px rgba(0, 0, 0, 0.3));\n",
              "      fill: #FFFFFF;\n",
              "    }\n",
              "  </style>\n",
              "\n",
              "    <script>\n",
              "      const buttonEl =\n",
              "        document.querySelector('#df-70a5d605-7a0a-440a-8b2d-5ce3592c66d1 button.colab-df-convert');\n",
              "      buttonEl.style.display =\n",
              "        google.colab.kernel.accessAllowed ? 'block' : 'none';\n",
              "\n",
              "      async function convertToInteractive(key) {\n",
              "        const element = document.querySelector('#df-70a5d605-7a0a-440a-8b2d-5ce3592c66d1');\n",
              "        const dataTable =\n",
              "          await google.colab.kernel.invokeFunction('convertToInteractive',\n",
              "                                                    [key], {});\n",
              "        if (!dataTable) return;\n",
              "\n",
              "        const docLinkHtml = 'Like what you see? Visit the ' +\n",
              "          '<a target=\"_blank\" href=https://colab.research.google.com/notebooks/data_table.ipynb>data table notebook</a>'\n",
              "          + ' to learn more about interactive tables.';\n",
              "        element.innerHTML = '';\n",
              "        dataTable['output_type'] = 'display_data';\n",
              "        await google.colab.output.renderOutput(dataTable, element);\n",
              "        const docLink = document.createElement('div');\n",
              "        docLink.innerHTML = docLinkHtml;\n",
              "        element.appendChild(docLink);\n",
              "      }\n",
              "    </script>\n",
              "  </div>\n",
              "\n",
              "\n",
              "    <div id=\"df-e384807b-1a8e-47cb-8a14-10dc87bf4e65\">\n",
              "      <button class=\"colab-df-quickchart\" onclick=\"quickchart('df-e384807b-1a8e-47cb-8a14-10dc87bf4e65')\"\n",
              "                title=\"Suggest charts\"\n",
              "                style=\"display:none;\">\n",
              "\n",
              "<svg xmlns=\"http://www.w3.org/2000/svg\" height=\"24px\"viewBox=\"0 0 24 24\"\n",
              "     width=\"24px\">\n",
              "    <g>\n",
              "        <path d=\"M19 3H5c-1.1 0-2 .9-2 2v14c0 1.1.9 2 2 2h14c1.1 0 2-.9 2-2V5c0-1.1-.9-2-2-2zM9 17H7v-7h2v7zm4 0h-2V7h2v10zm4 0h-2v-4h2v4z\"/>\n",
              "    </g>\n",
              "</svg>\n",
              "      </button>\n",
              "\n",
              "<style>\n",
              "  .colab-df-quickchart {\n",
              "      --bg-color: #E8F0FE;\n",
              "      --fill-color: #1967D2;\n",
              "      --hover-bg-color: #E2EBFA;\n",
              "      --hover-fill-color: #174EA6;\n",
              "      --disabled-fill-color: #AAA;\n",
              "      --disabled-bg-color: #DDD;\n",
              "  }\n",
              "\n",
              "  [theme=dark] .colab-df-quickchart {\n",
              "      --bg-color: #3B4455;\n",
              "      --fill-color: #D2E3FC;\n",
              "      --hover-bg-color: #434B5C;\n",
              "      --hover-fill-color: #FFFFFF;\n",
              "      --disabled-bg-color: #3B4455;\n",
              "      --disabled-fill-color: #666;\n",
              "  }\n",
              "\n",
              "  .colab-df-quickchart {\n",
              "    background-color: var(--bg-color);\n",
              "    border: none;\n",
              "    border-radius: 50%;\n",
              "    cursor: pointer;\n",
              "    display: none;\n",
              "    fill: var(--fill-color);\n",
              "    height: 32px;\n",
              "    padding: 0;\n",
              "    width: 32px;\n",
              "  }\n",
              "\n",
              "  .colab-df-quickchart:hover {\n",
              "    background-color: var(--hover-bg-color);\n",
              "    box-shadow: 0 1px 2px rgba(60, 64, 67, 0.3), 0 1px 3px 1px rgba(60, 64, 67, 0.15);\n",
              "    fill: var(--button-hover-fill-color);\n",
              "  }\n",
              "\n",
              "  .colab-df-quickchart-complete:disabled,\n",
              "  .colab-df-quickchart-complete:disabled:hover {\n",
              "    background-color: var(--disabled-bg-color);\n",
              "    fill: var(--disabled-fill-color);\n",
              "    box-shadow: none;\n",
              "  }\n",
              "\n",
              "  .colab-df-spinner {\n",
              "    border: 2px solid var(--fill-color);\n",
              "    border-color: transparent;\n",
              "    border-bottom-color: var(--fill-color);\n",
              "    animation:\n",
              "      spin 1s steps(1) infinite;\n",
              "  }\n",
              "\n",
              "  @keyframes spin {\n",
              "    0% {\n",
              "      border-color: transparent;\n",
              "      border-bottom-color: var(--fill-color);\n",
              "      border-left-color: var(--fill-color);\n",
              "    }\n",
              "    20% {\n",
              "      border-color: transparent;\n",
              "      border-left-color: var(--fill-color);\n",
              "      border-top-color: var(--fill-color);\n",
              "    }\n",
              "    30% {\n",
              "      border-color: transparent;\n",
              "      border-left-color: var(--fill-color);\n",
              "      border-top-color: var(--fill-color);\n",
              "      border-right-color: var(--fill-color);\n",
              "    }\n",
              "    40% {\n",
              "      border-color: transparent;\n",
              "      border-right-color: var(--fill-color);\n",
              "      border-top-color: var(--fill-color);\n",
              "    }\n",
              "    60% {\n",
              "      border-color: transparent;\n",
              "      border-right-color: var(--fill-color);\n",
              "    }\n",
              "    80% {\n",
              "      border-color: transparent;\n",
              "      border-right-color: var(--fill-color);\n",
              "      border-bottom-color: var(--fill-color);\n",
              "    }\n",
              "    90% {\n",
              "      border-color: transparent;\n",
              "      border-bottom-color: var(--fill-color);\n",
              "    }\n",
              "  }\n",
              "</style>\n",
              "\n",
              "      <script>\n",
              "        async function quickchart(key) {\n",
              "          const quickchartButtonEl =\n",
              "            document.querySelector('#' + key + ' button');\n",
              "          quickchartButtonEl.disabled = true;  // To prevent multiple clicks.\n",
              "          quickchartButtonEl.classList.add('colab-df-spinner');\n",
              "          try {\n",
              "            const charts = await google.colab.kernel.invokeFunction(\n",
              "                'suggestCharts', [key], {});\n",
              "          } catch (error) {\n",
              "            console.error('Error during call to suggestCharts:', error);\n",
              "          }\n",
              "          quickchartButtonEl.classList.remove('colab-df-spinner');\n",
              "          quickchartButtonEl.classList.add('colab-df-quickchart-complete');\n",
              "        }\n",
              "        (() => {\n",
              "          let quickchartButtonEl =\n",
              "            document.querySelector('#df-e384807b-1a8e-47cb-8a14-10dc87bf4e65 button');\n",
              "          quickchartButtonEl.style.display =\n",
              "            google.colab.kernel.accessAllowed ? 'block' : 'none';\n",
              "        })();\n",
              "      </script>\n",
              "    </div>\n",
              "\n",
              "  <div id=\"id_fdc9f50c-0df3-4973-b9ab-1e315a0892b2\">\n",
              "    <style>\n",
              "      .colab-df-generate {\n",
              "        background-color: #E8F0FE;\n",
              "        border: none;\n",
              "        border-radius: 50%;\n",
              "        cursor: pointer;\n",
              "        display: none;\n",
              "        fill: #1967D2;\n",
              "        height: 32px;\n",
              "        padding: 0 0 0 0;\n",
              "        width: 32px;\n",
              "      }\n",
              "\n",
              "      .colab-df-generate:hover {\n",
              "        background-color: #E2EBFA;\n",
              "        box-shadow: 0px 1px 2px rgba(60, 64, 67, 0.3), 0px 1px 3px 1px rgba(60, 64, 67, 0.15);\n",
              "        fill: #174EA6;\n",
              "      }\n",
              "\n",
              "      [theme=dark] .colab-df-generate {\n",
              "        background-color: #3B4455;\n",
              "        fill: #D2E3FC;\n",
              "      }\n",
              "\n",
              "      [theme=dark] .colab-df-generate:hover {\n",
              "        background-color: #434B5C;\n",
              "        box-shadow: 0px 1px 3px 1px rgba(0, 0, 0, 0.15);\n",
              "        filter: drop-shadow(0px 1px 2px rgba(0, 0, 0, 0.3));\n",
              "        fill: #FFFFFF;\n",
              "      }\n",
              "    </style>\n",
              "    <button class=\"colab-df-generate\" onclick=\"generateWithVariable('df')\"\n",
              "            title=\"Generate code using this dataframe.\"\n",
              "            style=\"display:none;\">\n",
              "\n",
              "  <svg xmlns=\"http://www.w3.org/2000/svg\" height=\"24px\"viewBox=\"0 0 24 24\"\n",
              "       width=\"24px\">\n",
              "    <path d=\"M7,19H8.4L18.45,9,17,7.55,7,17.6ZM5,21V16.75L18.45,3.32a2,2,0,0,1,2.83,0l1.4,1.43a1.91,1.91,0,0,1,.58,1.4,1.91,1.91,0,0,1-.58,1.4L9.25,21ZM18.45,9,17,7.55Zm-12,3A5.31,5.31,0,0,0,4.9,8.1,5.31,5.31,0,0,0,1,6.5,5.31,5.31,0,0,0,4.9,4.9,5.31,5.31,0,0,0,6.5,1,5.31,5.31,0,0,0,8.1,4.9,5.31,5.31,0,0,0,12,6.5,5.46,5.46,0,0,0,6.5,12Z\"/>\n",
              "  </svg>\n",
              "    </button>\n",
              "    <script>\n",
              "      (() => {\n",
              "      const buttonEl =\n",
              "        document.querySelector('#id_fdc9f50c-0df3-4973-b9ab-1e315a0892b2 button.colab-df-generate');\n",
              "      buttonEl.style.display =\n",
              "        google.colab.kernel.accessAllowed ? 'block' : 'none';\n",
              "\n",
              "      buttonEl.onclick = () => {\n",
              "        google.colab.notebook.generateWithVariable('df');\n",
              "      }\n",
              "      })();\n",
              "    </script>\n",
              "  </div>\n",
              "\n",
              "    </div>\n",
              "  </div>\n"
            ],
            "application/vnd.google.colaboratory.intrinsic+json": {
              "type": "dataframe",
              "variable_name": "df",
              "summary": "{\n  \"name\": \"df\",\n  \"rows\": 4,\n  \"fields\": [\n    {\n      \"column\": \"English\",\n      \"properties\": {\n        \"dtype\": \"string\",\n        \"num_unique_values\": 4,\n        \"samples\": [\n          \"i lost .\",\n          \"i'm home .\",\n          \"go .\"\n        ],\n        \"semantic_type\": \"\",\n        \"description\": \"\"\n      }\n    },\n    {\n      \"column\": \"Truth\",\n      \"properties\": {\n        \"dtype\": \"string\",\n        \"num_unique_values\": 4,\n        \"samples\": [\n          \"j'ai perdu .\",\n          \"je suis chez moi .\",\n          \"va !\"\n        ],\n        \"semantic_type\": \"\",\n        \"description\": \"\"\n      }\n    },\n    {\n      \"column\": \"Prediction\",\n      \"properties\": {\n        \"dtype\": \"string\",\n        \"num_unique_values\": 4,\n        \"samples\": [\n          \"j'en ai\",\n          \"faible faible faible faible gras faible gras\",\n          \"\"\n        ],\n        \"semantic_type\": \"\",\n        \"description\": \"\"\n      }\n    },\n    {\n      \"column\": \"Bleu\",\n      \"properties\": {\n        \"dtype\": \"number\",\n        \"std\": 0.0,\n        \"min\": 0.0,\n        \"max\": 0.0,\n        \"num_unique_values\": 1,\n        \"samples\": [\n          0.0\n        ],\n        \"semantic_type\": \"\",\n        \"description\": \"\"\n      }\n    }\n  ]\n}"
            }
          },
          "metadata": {}
        }
      ],
      "source": [
        "# prediction\n",
        "\n",
        "engs = [\"go .\", \"i lost .\", \"he's calm .\", \"i'm home .\"]\n",
        "fras = [\"va !\", \"j'ai perdu .\", \"il est calme .\", \"je suis chez moi .\"]\n",
        "\n",
        "data = []\n",
        "for eng, fra in zip(engs, fras):\n",
        "    translation, attention_weight_seq = predict_seq2seq(net, state, eng, src_vocab, tgt_vocab, num_steps)\n",
        "    score = bleu(translation, fra, k=2)\n",
        "    data.append((eng, fra, translation, score))\n",
        "df = pd.DataFrame.from_records(data, columns=[\"English\", \"Truth\", \"Prediction\", \"Bleu\"])\n",
        "display.display(df)"
      ]
    },
    {
      "cell_type": "code",
      "source": [],
      "metadata": {
        "id": "54MblYTlDx7w"
      },
      "execution_count": 47,
      "outputs": []
    }
  ],
  "metadata": {
    "colab": {
      "name": "nmt_jax.ipynb",
      "provenance": [],
      "gpuType": "T4"
    },
    "kernelspec": {
      "display_name": "Python 3",
      "name": "python3"
    },
    "language_info": {
      "name": "python"
    },
    "accelerator": "GPU"
  },
  "nbformat": 4,
  "nbformat_minor": 0
}