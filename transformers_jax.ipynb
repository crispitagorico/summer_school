{
  "cells": [
    {
      "cell_type": "code",
      "execution_count": 1,
      "metadata": {
        "execution": {
          "iopub.execute_input": "2022-04-07T04:20:50.559798Z",
          "iopub.status.busy": "2022-04-07T04:20:50.559495Z",
          "iopub.status.idle": "2022-04-07T04:20:50.572291Z",
          "shell.execute_reply": "2022-04-07T04:20:50.571603Z",
          "shell.execute_reply.started": "2022-04-07T04:20:50.559762Z"
        },
        "id": "Y5XhMfBtqSW4"
      },
      "outputs": [],
      "source": [
        "# import numpy as np\n",
        "import matplotlib.pyplot as plt\n",
        "import pandas as pd\n",
        "import math\n",
        "from IPython import display\n",
        "\n",
        "import functools\n",
        "\n",
        "import collections\n",
        "import random\n",
        "import os\n",
        "import requests\n",
        "import zipfile\n",
        "import hashlib\n",
        "import time\n",
        "\n",
        "import jax\n",
        "import jax.numpy as jnp\n",
        "import numpy as np\n",
        "from jax import random\n",
        "\n",
        "jax.config.update(\"jax_enable_x64\", True)\n",
        "\n",
        "try:\n",
        "    from flax import linen as nn\n",
        "except ModuleNotFoundError:\n",
        "    %pip install -qq flax\n",
        "    from flax import linen as nn\n",
        "from flax.training import train_state\n",
        "\n",
        "try:\n",
        "    import optax\n",
        "except ModuleNotFoundError:\n",
        "    %pip install -qq optax\n",
        "    import optax\n",
        "\n",
        "key = random.PRNGKey(314)"
      ]
    },
    {
      "cell_type": "markdown",
      "metadata": {
        "id": "dnCwBw05qn6f"
      },
      "source": [
        "# Layers"
      ]
    },
    {
      "cell_type": "markdown",
      "metadata": {
        "id": "6rE6nWWV2M5_"
      },
      "source": [
        "## Positionwise Feed-Forward Networks"
      ]
    },
    {
      "cell_type": "code",
      "execution_count": 2,
      "metadata": {
        "execution": {
          "iopub.execute_input": "2022-04-07T04:20:50.575121Z",
          "iopub.status.busy": "2022-04-07T04:20:50.574569Z",
          "iopub.status.idle": "2022-04-07T04:20:50.582735Z",
          "shell.execute_reply": "2022-04-07T04:20:50.581817Z",
          "shell.execute_reply.started": "2022-04-07T04:20:50.575082Z"
        },
        "id": "8ubc9FVzqovL"
      },
      "outputs": [],
      "source": [
        "class PositionWiseFFN(nn.Module):\n",
        "    ffn_num_input: int\n",
        "    ffn_num_hiddens: int\n",
        "    ffn_num_outputs: int\n",
        "\n",
        "    def setup(self):\n",
        "        self.dense1 = nn.Dense(self.ffn_num_hiddens)\n",
        "        self.relu = nn.relu\n",
        "        self.dense2 = nn.Dense(self.ffn_num_outputs)\n",
        "\n",
        "    def __call__(self, inputs):\n",
        "        return self.dense2(self.relu(self.dense1(inputs)))"
      ]
    },
    {
      "cell_type": "code",
      "execution_count": 3,
      "metadata": {
        "colab": {
          "base_uri": "https://localhost:8080/"
        },
        "execution": {
          "iopub.execute_input": "2022-04-07T04:20:50.587014Z",
          "iopub.status.busy": "2022-04-07T04:20:50.586794Z",
          "iopub.status.idle": "2022-04-07T04:20:50.652817Z",
          "shell.execute_reply": "2022-04-07T04:20:50.651925Z",
          "shell.execute_reply.started": "2022-04-07T04:20:50.586980Z"
        },
        "id": "TLehwIIwqpRU",
        "outputId": "9d0e4525-679e-41f0-b556-655d1ff07583"
      },
      "outputs": [
        {
          "output_type": "stream",
          "name": "stdout",
          "text": [
            "(2, 3, 8)\n"
          ]
        }
      ],
      "source": [
        "ffn = PositionWiseFFN(ffn_num_input=4, ffn_num_hiddens=4, ffn_num_outputs=8)\n",
        "\n",
        "x = jnp.ones((2, 3, 4))\n",
        "key, mykey = random.split(key, 2)\n",
        "params = ffn.init(mykey, x)\n",
        "Y = ffn.apply(params, x)\n",
        "\n",
        "print(Y.shape)"
      ]
    },
    {
      "cell_type": "markdown",
      "metadata": {
        "id": "2n93Mon62Td3"
      },
      "source": [
        "## Residual Connection and Layer Normalization"
      ]
    },
    {
      "cell_type": "code",
      "execution_count": 4,
      "metadata": {
        "execution": {
          "iopub.execute_input": "2022-04-07T04:20:50.654437Z",
          "iopub.status.busy": "2022-04-07T04:20:50.654125Z",
          "iopub.status.idle": "2022-04-07T04:20:50.660906Z",
          "shell.execute_reply": "2022-04-07T04:20:50.659945Z",
          "shell.execute_reply.started": "2022-04-07T04:20:50.654399Z"
        },
        "id": "D2A0wMZSq2qt"
      },
      "outputs": [],
      "source": [
        "class AddNorm(nn.Module):\n",
        "    dropout_rate: int\n",
        "\n",
        "    def setup(self):\n",
        "        self.dropout = nn.Dropout(self.dropout_rate)\n",
        "        self.ln = nn.LayerNorm()\n",
        "\n",
        "    def __call__(self, X, Y, train):\n",
        "        return self.ln(self.dropout(Y, deterministic=not train) + X)"
      ]
    },
    {
      "cell_type": "code",
      "execution_count": 5,
      "metadata": {
        "colab": {
          "base_uri": "https://localhost:8080/"
        },
        "execution": {
          "iopub.execute_input": "2022-04-07T04:20:50.662779Z",
          "iopub.status.busy": "2022-04-07T04:20:50.662292Z",
          "iopub.status.idle": "2022-04-07T04:20:50.687432Z",
          "shell.execute_reply": "2022-04-07T04:20:50.686594Z",
          "shell.execute_reply.started": "2022-04-07T04:20:50.662743Z"
        },
        "id": "VFitw8AFrEC3",
        "outputId": "ee27d8f1-39b6-4f65-aee6-4f64348789fc"
      },
      "outputs": [
        {
          "output_type": "execute_result",
          "data": {
            "text/plain": [
              "(2, 3, 4)"
            ]
          },
          "metadata": {},
          "execution_count": 5
        }
      ],
      "source": [
        "add_norm = AddNorm(0.5)  # Normalized_shape is input.size()[1:]\n",
        "key, mykey = random.split(key, 2)\n",
        "x = jnp.ones((2, 3, 4))\n",
        "y = jnp.ones((2, 3, 4))\n",
        "params = add_norm.init(mykey, x, y, False)\n",
        "add_norm.apply(params, x, y, False).shape"
      ]
    },
    {
      "cell_type": "markdown",
      "metadata": {
        "id": "_iRpZ75OrIaa"
      },
      "source": [
        "# Encoder"
      ]
    },
    {
      "cell_type": "code",
      "execution_count": 6,
      "metadata": {
        "execution": {
          "iopub.execute_input": "2022-04-07T04:20:50.689233Z",
          "iopub.status.busy": "2022-04-07T04:20:50.688966Z",
          "iopub.status.idle": "2022-04-07T04:20:50.696074Z",
          "shell.execute_reply": "2022-04-07T04:20:50.695083Z",
          "shell.execute_reply.started": "2022-04-07T04:20:50.689198Z"
        },
        "id": "nXEUO1gqvQF9"
      },
      "outputs": [],
      "source": [
        "class DotProductAttention(nn.Module):\n",
        "    \"\"\"Scaled dot product attention.\"\"\"\n",
        "\n",
        "    dropout_rate: float\n",
        "\n",
        "    # Shape of `queries`: (`batch_size`, no. of queries, `d`)\n",
        "    # Shape of `keys`: (`batch_size`, no. of key-value pairs, `d`)\n",
        "    # Shape of `values`: (`batch_size`, no. of key-value pairs, value\n",
        "    # dimension)\n",
        "    # Shape of `valid_lens`: (`batch_size`,) or (`batch_size`, no. of queries)\n",
        "    @nn.compact\n",
        "    def __call__(self, queries, keys, values, train, valid_lens=None):\n",
        "        d = queries.shape[-1]\n",
        "        scores = queries @ (keys.swapaxes(1, 2)) / math.sqrt(d)\n",
        "        attention_weights = masked_softmax(scores, valid_lens)\n",
        "        dropout_layer = nn.Dropout(self.dropout_rate, deterministic=not train)\n",
        "        return dropout_layer(attention_weights) @ values, attention_weights"
      ]
    },
    {
      "cell_type": "code",
      "execution_count": 7,
      "metadata": {
        "execution": {
          "iopub.execute_input": "2022-04-07T04:20:50.697926Z",
          "iopub.status.busy": "2022-04-07T04:20:50.697680Z",
          "iopub.status.idle": "2022-04-07T04:20:50.710111Z",
          "shell.execute_reply": "2022-04-07T04:20:50.709381Z",
          "shell.execute_reply.started": "2022-04-07T04:20:50.697893Z"
        },
        "id": "PGRyY5fEwBcN"
      },
      "outputs": [],
      "source": [
        "class MultiHeadAttention(nn.Module):\n",
        "    num_hiddens: int\n",
        "    num_heads: int\n",
        "    dropout: float\n",
        "    bias: bool = False\n",
        "\n",
        "    @nn.compact\n",
        "    def __call__(self, queries, keys, values, valid_lens, train):\n",
        "        # Shape of `queries`, `keys`, or `values`:\n",
        "        # (`batch_size`, no. of queries or key-value pairs, `num_hiddens`)\n",
        "        # Shape of `valid_lens`:\n",
        "        # (`batch_size`,) or (`batch_size`, no. of queries)\n",
        "        # After transposing, shape of output `queries`, `keys`, or `values`:\n",
        "        # (`batch_size` * `num_heads`, no. of queries or key-value pairs,\n",
        "        # `num_hiddens` / `num_heads`)\n",
        "        queries = transpose_qkv(nn.Dense(self.num_hiddens, use_bias=self.bias)(queries), self.num_heads)\n",
        "        keys = transpose_qkv(nn.Dense(self.num_hiddens, use_bias=self.bias)(keys), self.num_heads)\n",
        "        values = transpose_qkv(nn.Dense(self.num_hiddens, use_bias=self.bias)(values), self.num_heads)\n",
        "\n",
        "        if valid_lens is not None:\n",
        "            # On axis 0, copy the first item (scalar or vector) for\n",
        "            # `num_heads` times, then copy the next item, and so on\n",
        "            valid_lens = jnp.repeat(valid_lens, self.num_heads, axis=0)\n",
        "\n",
        "        # Shape of `output`: (`batch_size` * `num_heads`, no. of queries,\n",
        "        # `num_hiddens` / `num_heads`)\n",
        "        output, attention_weights = DotProductAttention(self.dropout)(queries, keys, values, train, valid_lens)\n",
        "\n",
        "        # Shape of `output_concat`:\n",
        "        # (`batch_size`, no. of queries, `num_hiddens`)\n",
        "        output_concat = transpose_output(output, self.num_heads)\n",
        "        return nn.Dense(self.num_hiddens, use_bias=self.bias)(output_concat), attention_weights"
      ]
    },
    {
      "cell_type": "code",
      "execution_count": 8,
      "metadata": {
        "execution": {
          "iopub.execute_input": "2022-04-07T04:20:50.711738Z",
          "iopub.status.busy": "2022-04-07T04:20:50.711412Z",
          "iopub.status.idle": "2022-04-07T04:20:50.727317Z",
          "shell.execute_reply": "2022-04-07T04:20:50.726246Z",
          "shell.execute_reply.started": "2022-04-07T04:20:50.711705Z"
        },
        "id": "bAhv_p0cNk3Z"
      },
      "outputs": [],
      "source": [
        "def sequence_mask(X, valid_len, value=0):\n",
        "    \"\"\"Mask irrelevant entries in sequences.\"\"\"\n",
        "    maxlen = X.shape[1]\n",
        "    mask = jnp.arange((maxlen), dtype=jnp.float32)[None, :] < valid_len[:, None]\n",
        "\n",
        "    X = jnp.where(~mask, value, X)\n",
        "\n",
        "    return X\n",
        "\n",
        "\n",
        "def masked_softmax(X, valid_lens):\n",
        "    \"\"\"Perform softmax operation by masking elements on the last axis.\"\"\"\n",
        "    # `X`: 3D tensor, `valid_lens`: 1D or 2D tensor\n",
        "    if valid_lens is None:\n",
        "        return nn.softmax(X, axis=-1)\n",
        "    else:\n",
        "        shape = X.shape\n",
        "        if valid_lens.ndim == 1:\n",
        "            valid_lens = jnp.repeat(valid_lens, shape[1])\n",
        "        else:\n",
        "            valid_lens = valid_lens.reshape(-1)\n",
        "        # On the last axis, replace masked elements with a very large negative\n",
        "        # value, whose exponentiation outputs 0\n",
        "        X = sequence_mask(X.reshape(-1, shape[-1]), valid_lens, value=-1e6)\n",
        "        return nn.softmax(X.reshape(shape), axis=-1)\n",
        "\n",
        "\n",
        "def transpose_qkv(X, num_heads):\n",
        "    # Shape of input `X`:\n",
        "    # (`batch_size`, no. of queries or key-value pairs, `num_hiddens`).\n",
        "    # Shape of output `X`:\n",
        "    # (`batch_size`, no. of queries or key-value pairs, `num_heads`,\n",
        "    # `num_hiddens` / `num_heads`)\n",
        "    X = X.reshape((X.shape[0], X.shape[1], num_heads, -1))\n",
        "\n",
        "    # Shape of output `X`:\n",
        "    # (`batch_size`, `num_heads`, no. of queries or key-value pairs,\n",
        "    # `num_hiddens` / `num_heads`)\n",
        "    X = jnp.transpose(X, (0, 2, 1, 3))\n",
        "\n",
        "    # Shape of `output`:\n",
        "    # (`batch_size` * `num_heads`, no. of queries or key-value pairs,\n",
        "    # `num_hiddens` / `num_heads`)\n",
        "    return X.reshape((-1, X.shape[2], X.shape[3]))\n",
        "\n",
        "\n",
        "def transpose_output(X, num_heads):\n",
        "    \"\"\"Reverse the operation of `transpose_qkv`\"\"\"\n",
        "    X = X.reshape((-1, num_heads, X.shape[1], X.shape[2]))\n",
        "    X = jnp.transpose(X, (0, 2, 1, 3))\n",
        "    return X.reshape((X.shape[0], X.shape[1], -1))"
      ]
    },
    {
      "cell_type": "code",
      "execution_count": 9,
      "metadata": {
        "execution": {
          "iopub.execute_input": "2022-04-07T04:20:50.732287Z",
          "iopub.status.busy": "2022-04-07T04:20:50.731592Z",
          "iopub.status.idle": "2022-04-07T04:20:50.741812Z",
          "shell.execute_reply": "2022-04-07T04:20:50.741045Z",
          "shell.execute_reply.started": "2022-04-07T04:20:50.732249Z"
        },
        "id": "hYl6Y2EAwnE7"
      },
      "outputs": [],
      "source": [
        "class PositionalEncoding(nn.Module):\n",
        "    num_hiddens: int\n",
        "    dropout: float\n",
        "    max_len = 1000\n",
        "\n",
        "    @nn.compact\n",
        "    def __call__(self, X, train):\n",
        "        dropout = nn.Dropout(self.dropout)\n",
        "        P = jax.numpy.zeros((1, self.max_len, self.num_hiddens))\n",
        "        x = jax.numpy.arange(self.max_len, dtype=jax.numpy.float32).reshape(-1, 1) / jax.numpy.power(\n",
        "            10000, jax.numpy.arange(0, self.num_hiddens, 2, dtype=jax.numpy.float32) / self.num_hiddens\n",
        "        )\n",
        "        P = P.at[:, :, 0::2].set(jax.numpy.sin(x))\n",
        "        P = P.at[:, :, 1::2].set(jax.numpy.cos(x))\n",
        "\n",
        "        X = X + P[:, : X.shape[1], :]\n",
        "        return dropout(X, deterministic=not train), P"
      ]
    },
    {
      "cell_type": "code",
      "execution_count": 10,
      "metadata": {
        "execution": {
          "iopub.execute_input": "2022-04-07T04:20:50.743788Z",
          "iopub.status.busy": "2022-04-07T04:20:50.743275Z",
          "iopub.status.idle": "2022-04-07T04:20:50.754803Z",
          "shell.execute_reply": "2022-04-07T04:20:50.753927Z",
          "shell.execute_reply.started": "2022-04-07T04:20:50.743705Z"
        },
        "id": "Zhnkr_RarJCh"
      },
      "outputs": [],
      "source": [
        "class EncoderBlock(nn.Module):\n",
        "    num_hiddens: int\n",
        "    ffn_num_input: int\n",
        "    ffn_num_hiddens: int\n",
        "    num_heads: int\n",
        "    dropout_rate: float\n",
        "    use_bias: bool = False\n",
        "\n",
        "    def setup(self):\n",
        "        self.attention = MultiHeadAttention(self.num_hiddens, self.num_heads, self.dropout_rate, self.use_bias)\n",
        "        self.addnorm1 = AddNorm(self.dropout_rate)\n",
        "        self.ffn = PositionWiseFFN(self.ffn_num_input, self.ffn_num_hiddens, self.num_hiddens)\n",
        "        self.addnorm2 = AddNorm(self.dropout_rate)\n",
        "\n",
        "    def __call__(self, X, valid_lens, train):\n",
        "        output, attention_weights = self.attention(X, X, X, valid_lens, train)\n",
        "        Y = self.addnorm1(X, output, train)\n",
        "        return self.addnorm2(Y, self.ffn(Y), train), attention_weights"
      ]
    },
    {
      "cell_type": "code",
      "execution_count": 11,
      "metadata": {
        "colab": {
          "base_uri": "https://localhost:8080/"
        },
        "execution": {
          "iopub.execute_input": "2022-04-07T04:20:50.757845Z",
          "iopub.status.busy": "2022-04-07T04:20:50.757359Z",
          "iopub.status.idle": "2022-04-07T04:20:50.966220Z",
          "shell.execute_reply": "2022-04-07T04:20:50.965440Z",
          "shell.execute_reply.started": "2022-04-07T04:20:50.757808Z"
        },
        "id": "cgfrrCKJrJVp",
        "outputId": "ddf14e92-c652-497f-c5a8-6573b9db1091"
      },
      "outputs": [
        {
          "output_type": "execute_result",
          "data": {
            "text/plain": [
              "(2, 100, 24)"
            ]
          },
          "metadata": {},
          "execution_count": 11
        }
      ],
      "source": [
        "X = jnp.ones((2, 100, 24))\n",
        "valid_lens = jnp.array([3, 2])\n",
        "encoder_blk = EncoderBlock(24, 24, 48, 8, 0.5)\n",
        "key, mykey = random.split(key, 2)\n",
        "params = encoder_blk.init(mykey, X, valid_lens, False)\n",
        "encoder_blk_output = encoder_blk.apply(params, X, valid_lens, False)[0]\n",
        "encoder_blk_output.shape"
      ]
    },
    {
      "cell_type": "code",
      "execution_count": 12,
      "metadata": {
        "execution": {
          "iopub.execute_input": "2022-04-07T04:20:50.967909Z",
          "iopub.status.busy": "2022-04-07T04:20:50.967407Z",
          "iopub.status.idle": "2022-04-07T04:20:50.977486Z",
          "shell.execute_reply": "2022-04-07T04:20:50.976695Z",
          "shell.execute_reply.started": "2022-04-07T04:20:50.967865Z"
        },
        "id": "9BHcHiBIrMZ_"
      },
      "outputs": [],
      "source": [
        "class TransformerEncoder(nn.Module):\n",
        "    vocab_size: int\n",
        "    num_hiddens: int\n",
        "    ffn_num_input: int\n",
        "    ffn_num_hiddens: int\n",
        "    num_heads: int\n",
        "    num_layers: int\n",
        "    dropout_rate: float\n",
        "    use_bias: bool = False\n",
        "\n",
        "    def setup(self):\n",
        "        self.embedding = nn.Embed(self.vocab_size, self.num_hiddens)\n",
        "        self.pos_encoding = PositionalEncoding(self.num_hiddens, self.dropout_rate)\n",
        "        self.blks = [\n",
        "            EncoderBlock(\n",
        "                self.num_hiddens,\n",
        "                self.ffn_num_input,\n",
        "                self.ffn_num_hiddens,\n",
        "                self.num_heads,\n",
        "                self.dropout_rate,\n",
        "                self.use_bias,\n",
        "            )\n",
        "            for _ in range(self.num_layers)\n",
        "        ]\n",
        "\n",
        "    def __call__(self, X, valid_lens, train):\n",
        "        # Since positional encoding values are between -1 and 1, the embedding\n",
        "        # values are multiplied by the square root of the embedding dimension\n",
        "        # to rescale before they are summed up\n",
        "        X, _ = self.pos_encoding(self.embedding(X) * jnp.sqrt(self.num_hiddens), train)\n",
        "\n",
        "        attention_weights = [None] * len(self.blks)\n",
        "        for i, blk in enumerate(self.blks):\n",
        "            X, attention_weight = blk(X, valid_lens, train)\n",
        "            attention_weights[i] = attention_weight\n",
        "        return X, attention_weights"
      ]
    },
    {
      "cell_type": "markdown",
      "metadata": {
        "id": "vn1g8puTrUdw"
      },
      "source": [
        "The shape of the transformer encoder output is (batch size, number of time steps, num_hiddens)."
      ]
    },
    {
      "cell_type": "code",
      "execution_count": 13,
      "metadata": {
        "colab": {
          "base_uri": "https://localhost:8080/"
        },
        "execution": {
          "iopub.execute_input": "2022-04-07T04:20:50.979210Z",
          "iopub.status.busy": "2022-04-07T04:20:50.978697Z",
          "iopub.status.idle": "2022-04-07T04:20:51.401045Z",
          "shell.execute_reply": "2022-04-07T04:20:51.400357Z",
          "shell.execute_reply.started": "2022-04-07T04:20:50.979172Z"
        },
        "id": "O-u7PLrTrPsT",
        "outputId": "66f7a078-558b-4d8e-eecc-f02251e17124"
      },
      "outputs": [
        {
          "output_type": "execute_result",
          "data": {
            "text/plain": [
              "(2, 100, 24)"
            ]
          },
          "metadata": {},
          "execution_count": 13
        }
      ],
      "source": [
        "encoder_test = TransformerEncoder(200, 24, 24, 48, 8, 2, 0.5)\n",
        "key, mykey = random.split(key, 2)\n",
        "x = jnp.ones((2, 100), jnp.int64)\n",
        "valid_lens = jnp.array([3, 2])\n",
        "params = encoder_test.init(mykey, x, valid_lens, False)\n",
        "encoder_test.apply(params, x, valid_lens, False)[0].shape"
      ]
    },
    {
      "cell_type": "markdown",
      "metadata": {
        "id": "l5JEeGFirWUZ"
      },
      "source": [
        "# Decoder"
      ]
    },
    {
      "cell_type": "code",
      "execution_count": 14,
      "metadata": {
        "execution": {
          "iopub.execute_input": "2022-04-07T04:20:51.403193Z",
          "iopub.status.busy": "2022-04-07T04:20:51.402640Z",
          "iopub.status.idle": "2022-04-07T04:20:51.416087Z",
          "shell.execute_reply": "2022-04-07T04:20:51.415201Z",
          "shell.execute_reply.started": "2022-04-07T04:20:51.403157Z"
        },
        "id": "x1GX2mrhrWvJ"
      },
      "outputs": [],
      "source": [
        "class DecoderBlock(nn.Module):\n",
        "    num_hiddens: int\n",
        "    ffn_num_input: int\n",
        "    ffn_num_hiddens: int\n",
        "    num_heads: int\n",
        "    dropout_rate: float\n",
        "    i: int\n",
        "\n",
        "    # The `i`-th block in the decoder\n",
        "    def setup(self):\n",
        "        self.attention1 = MultiHeadAttention(self.num_hiddens, self.num_heads, self.dropout_rate)\n",
        "        self.addnorm1 = AddNorm(self.dropout_rate)\n",
        "        self.attention2 = MultiHeadAttention(self.num_hiddens, self.num_heads, self.dropout_rate)\n",
        "        self.addnorm2 = AddNorm(self.dropout_rate)\n",
        "        self.ffn = PositionWiseFFN(self.ffn_num_input, self.ffn_num_hiddens, self.num_hiddens)\n",
        "        self.addnorm3 = AddNorm(self.dropout_rate)\n",
        "\n",
        "    def __call__(self, X, state, train):\n",
        "        enc_outputs, enc_valid_lens = state[0], state[1]\n",
        "        # During training, all the tokens of any output sequence are processed\n",
        "        # at the same time, so `state[2][self.i]` is `None` as initialized.\n",
        "        # When decoding any output sequence token by token during prediction,\n",
        "        # `state[2][self.i]` contains representations of the decoded output at\n",
        "        # the `i`-th block up to the current time step\n",
        "        if state[2][self.i] is None:\n",
        "            key_values = X\n",
        "        else:\n",
        "            key_values = jnp.concatenate((state[2][self.i], X), axis=1)\n",
        "        state[2][self.i] = key_values\n",
        "\n",
        "        if train:\n",
        "            batch_size, num_steps, _ = X.shape\n",
        "            # Shape of `dec_valid_lens`: (`batch_size`, `num_steps`), where\n",
        "            # every row is [1, 2, ..., `num_steps`]\n",
        "            dec_valid_lens = jnp.tile(jnp.arange(1, num_steps + 1), (batch_size, 1))\n",
        "        else:\n",
        "            dec_valid_lens = None\n",
        "\n",
        "        # Self-attention\n",
        "        X2, attention_weight1 = self.attention1(X, key_values, key_values, dec_valid_lens, train)\n",
        "        Y = self.addnorm1(X, X2, train)\n",
        "        # Encoder-decoder attention. Shape of `enc_outputs`:\n",
        "        # (`batch_size`, `num_steps`, `num_hiddens`)\n",
        "        Y2, attention_weight2 = self.attention2(Y, enc_outputs, enc_outputs, enc_valid_lens, train)\n",
        "        Z = self.addnorm2(Y, Y2, train)\n",
        "        return self.addnorm3(Z, self.ffn(Z), train), state, attention_weight1, attention_weight2"
      ]
    },
    {
      "cell_type": "code",
      "execution_count": 15,
      "metadata": {
        "colab": {
          "base_uri": "https://localhost:8080/"
        },
        "execution": {
          "iopub.execute_input": "2022-04-07T04:20:51.417554Z",
          "iopub.status.busy": "2022-04-07T04:20:51.417235Z",
          "iopub.status.idle": "2022-04-07T04:20:51.730238Z",
          "shell.execute_reply": "2022-04-07T04:20:51.729581Z",
          "shell.execute_reply.started": "2022-04-07T04:20:51.417502Z"
        },
        "id": "3LQ9ei-ardtA",
        "outputId": "815751dd-295f-4072-f6c9-712af60a9358"
      },
      "outputs": [
        {
          "output_type": "execute_result",
          "data": {
            "text/plain": [
              "(2, 100, 24)"
            ]
          },
          "metadata": {},
          "execution_count": 15
        }
      ],
      "source": [
        "decoder_blk = DecoderBlock(24, 24, 48, 8, 0.5, 0)\n",
        "key, mykey = random.split(key, 2)\n",
        "X = jnp.ones((2, 100, 24))\n",
        "state = [encoder_blk_output, valid_lens, [None]]\n",
        "train = False\n",
        "params = decoder_blk.init(mykey, X, state, train)\n",
        "decoder_blk.apply(params, X, state, train)[0].shape"
      ]
    },
    {
      "cell_type": "code",
      "execution_count": 16,
      "metadata": {
        "execution": {
          "iopub.execute_input": "2022-04-07T04:20:51.733033Z",
          "iopub.status.busy": "2022-04-07T04:20:51.732617Z",
          "iopub.status.idle": "2022-04-07T04:20:51.743862Z",
          "shell.execute_reply": "2022-04-07T04:20:51.743056Z",
          "shell.execute_reply.started": "2022-04-07T04:20:51.732993Z"
        },
        "id": "0eV-Q0NGrfwV"
      },
      "outputs": [],
      "source": [
        "class TransformerDecoder(nn.Module):\n",
        "    vocab_size: int\n",
        "    num_hiddens: int\n",
        "    ffn_num_input: int\n",
        "    ffn_num_hiddens: int\n",
        "    num_heads: int\n",
        "    num_layers: int\n",
        "    dropout_rate: float\n",
        "\n",
        "    def setup(self):\n",
        "        self.embedding = nn.Embed(self.vocab_size, self.num_hiddens)\n",
        "        self.pos_encoding = PositionalEncoding(self.num_hiddens, self.dropout_rate)\n",
        "        self.blks = [\n",
        "            DecoderBlock(\n",
        "                self.num_hiddens, self.ffn_num_input, self.ffn_num_hiddens, self.num_heads, self.dropout_rate, i\n",
        "            )\n",
        "            for i in range(self.num_layers)\n",
        "        ]\n",
        "        self.dense = nn.Dense(self.vocab_size)\n",
        "\n",
        "    def init_state(self, enc_outputs, enc_valid_lens):\n",
        "        return [enc_outputs, enc_valid_lens, [None] * self.num_layers]\n",
        "\n",
        "    def __call__(self, X, state, train):\n",
        "        X, _ = self.pos_encoding(self.embedding(X) * jnp.sqrt(self.num_hiddens), train)\n",
        "        attention_weights = [[None] * len(self.blks) for _ in range(2)]\n",
        "        for i, blk in enumerate(self.blks):\n",
        "            X, state, attention_weight1, attention_weight2 = blk(X, state, train)\n",
        "            # Decoder self-attention weights\n",
        "            attention_weights[0][i] = attention_weight1\n",
        "            # Encoder-decoder attention weights\n",
        "            attention_weights[1][i] = attention_weight2\n",
        "        return self.dense(X), state, attention_weights"
      ]
    },
    {
      "cell_type": "markdown",
      "metadata": {
        "id": "CQFOi9zqCuvG"
      },
      "source": [
        "# Transformer"
      ]
    },
    {
      "cell_type": "code",
      "execution_count": 17,
      "metadata": {
        "execution": {
          "iopub.execute_input": "2022-04-07T04:20:51.745714Z",
          "iopub.status.busy": "2022-04-07T04:20:51.745259Z",
          "iopub.status.idle": "2022-04-07T04:20:51.756492Z",
          "shell.execute_reply": "2022-04-07T04:20:51.755764Z",
          "shell.execute_reply.started": "2022-04-07T04:20:51.745667Z"
        },
        "id": "FxSdJDZY8Hfg"
      },
      "outputs": [],
      "source": [
        "class EncoderDecoder(nn.Module):\n",
        "    encoder: nn.Module\n",
        "    decoder: nn.Module\n",
        "\n",
        "    def __call__(self, enc_X, valid_lens, dec_X, train):\n",
        "        enc_outputs, attention_weights = self.encoder(enc_X, valid_lens, train)\n",
        "        dec_state = self.decoder.init_state(enc_outputs, valid_lens)\n",
        "        return (*self.decoder(dec_X, dec_state, train), attention_weights)\n",
        "\n",
        "    def encode(self, enc_X, valid_lens, train):\n",
        "        return self.encoder(enc_X, valid_lens, train)\n",
        "\n",
        "    def decode(self, dec_X, dec_state, train):\n",
        "        return self.decoder(dec_X, dec_state, train)"
      ]
    },
    {
      "cell_type": "markdown",
      "metadata": {
        "id": "j4fhuNfGrrAF"
      },
      "source": [
        "# Full model\n"
      ]
    },
    {
      "cell_type": "code",
      "execution_count": 18,
      "metadata": {
        "execution": {
          "iopub.execute_input": "2022-04-07T04:20:51.758512Z",
          "iopub.status.busy": "2022-04-07T04:20:51.758182Z",
          "iopub.status.idle": "2022-04-07T04:20:51.772368Z",
          "shell.execute_reply": "2022-04-07T04:20:51.771492Z",
          "shell.execute_reply.started": "2022-04-07T04:20:51.758407Z"
        },
        "id": "o_C6Ke82BM7V"
      },
      "outputs": [],
      "source": [
        "# Required functions for downloading data\n",
        "try:\n",
        "    from torch.utils import data\n",
        "except ModuleNotFoundError:\n",
        "    %pip install -qq torch\n",
        "    from torch.utils import data\n",
        "import torch\n",
        "\n",
        "\n",
        "def download(name, cache_dir=os.path.join(\"..\", \"data\")):\n",
        "    \"\"\"Download a file inserted into DATA_HUB, return the local filename.\"\"\"\n",
        "    assert name in DATA_HUB, f\"{name} does not exist in {DATA_HUB}.\"\n",
        "    url, sha1_hash = DATA_HUB[name]\n",
        "    os.makedirs(cache_dir, exist_ok=True)\n",
        "    fname = os.path.join(cache_dir, url.split(\"/\")[-1])\n",
        "    if os.path.exists(fname):\n",
        "        sha1 = hashlib.sha1()\n",
        "        with open(fname, \"rb\") as f:\n",
        "            while True:\n",
        "                data = f.read(1048576)\n",
        "                if not data:\n",
        "                    break\n",
        "                sha1.update(data)\n",
        "        if sha1.hexdigest() == sha1_hash:\n",
        "            return fname  # Hit cache\n",
        "    print(f\"Downloading {fname} from {url}...\")\n",
        "    r = requests.get(url, stream=True, verify=True)\n",
        "    with open(fname, \"wb\") as f:\n",
        "        f.write(r.content)\n",
        "    return fname\n",
        "\n",
        "\n",
        "def download_extract(name, folder=None):\n",
        "    \"\"\"Download and extract a zip/tar file.\"\"\"\n",
        "    fname = download(name)\n",
        "    base_dir = os.path.dirname(fname)\n",
        "    data_dir, ext = os.path.splitext(fname)\n",
        "    if ext == \".zip\":\n",
        "        fp = zipfile.ZipFile(fname, \"r\")\n",
        "    elif ext in (\".tar\", \".gz\"):\n",
        "        fp = tarfile.open(fname, \"r\")\n",
        "    else:\n",
        "        assert False, \"Only zip/tar files can be extracted.\"\n",
        "    fp.extractall(base_dir)\n",
        "    return os.path.join(base_dir, folder) if folder else data_dir"
      ]
    },
    {
      "cell_type": "code",
      "execution_count": 19,
      "metadata": {
        "execution": {
          "iopub.execute_input": "2022-04-07T04:20:51.774602Z",
          "iopub.status.busy": "2022-04-07T04:20:51.774131Z",
          "iopub.status.idle": "2022-04-07T04:20:51.786334Z",
          "shell.execute_reply": "2022-04-07T04:20:51.785490Z",
          "shell.execute_reply.started": "2022-04-07T04:20:51.774363Z"
        },
        "id": "-c0dzTV5AXXn"
      },
      "outputs": [],
      "source": [
        "def read_data_nmt():\n",
        "    \"\"\"Load the English-French dataset.\"\"\"\n",
        "    data_dir = download_extract(\"fra-eng\")\n",
        "    with open(os.path.join(data_dir, \"fra.txt\"), \"r\") as f:\n",
        "        return f.read()\n",
        "\n",
        "\n",
        "def preprocess_nmt(text):\n",
        "    \"\"\"Preprocess the English-French dataset.\"\"\"\n",
        "\n",
        "    def no_space(char, prev_char):\n",
        "        return char in set(\",.!?\") and prev_char != \" \"\n",
        "\n",
        "    # Replace non-breaking space with space, and convert uppercase letters to\n",
        "    # lowercase ones\n",
        "    text = text.replace(\"\\u202f\", \" \").replace(\"\\xa0\", \" \").lower()\n",
        "    # Insert space between words and punctuation marks\n",
        "    out = [\" \" + char if i > 0 and no_space(char, text[i - 1]) else char for i, char in enumerate(text)]\n",
        "    return \"\".join(out)\n",
        "\n",
        "\n",
        "def tokenize_nmt(text, num_examples=None):\n",
        "    \"\"\"Tokenize the English-French dataset.\"\"\"\n",
        "    source, target = [], []\n",
        "    for i, line in enumerate(text.split(\"\\n\")):\n",
        "        if num_examples and i > num_examples:\n",
        "            break\n",
        "        parts = line.split(\"\\t\")\n",
        "        if len(parts) == 2:\n",
        "            source.append(parts[0].split(\" \"))\n",
        "            target.append(parts[1].split(\" \"))\n",
        "    return source, target"
      ]
    },
    {
      "cell_type": "code",
      "execution_count": 20,
      "metadata": {
        "execution": {
          "iopub.execute_input": "2022-04-07T04:20:51.789572Z",
          "iopub.status.busy": "2022-04-07T04:20:51.788692Z",
          "iopub.status.idle": "2022-04-07T04:20:51.802094Z",
          "shell.execute_reply": "2022-04-07T04:20:51.801367Z",
          "shell.execute_reply.started": "2022-04-07T04:20:51.789511Z"
        },
        "id": "GE_0EjLhH1pR"
      },
      "outputs": [],
      "source": [
        "class Vocab:\n",
        "    \"\"\"Vocabulary for text.\"\"\"\n",
        "\n",
        "    def __init__(self, tokens=None, min_freq=0, reserved_tokens=None):\n",
        "        if tokens is None:\n",
        "            tokens = []\n",
        "        if reserved_tokens is None:\n",
        "            reserved_tokens = []\n",
        "        # Sort according to frequencies\n",
        "        counter = count_corpus(tokens)\n",
        "        self.token_freqs = sorted(counter.items(), key=lambda x: x[1], reverse=True)\n",
        "        # The index for the unknown token is 0\n",
        "        self.unk, uniq_tokens = 0, [\"<unk>\"] + reserved_tokens\n",
        "        uniq_tokens += [token for token, freq in self.token_freqs if freq >= min_freq and token not in uniq_tokens]\n",
        "        self.idx_to_token, self.token_to_idx = [], dict()\n",
        "        for token in uniq_tokens:\n",
        "            self.idx_to_token.append(token)\n",
        "            self.token_to_idx[token] = len(self.idx_to_token) - 1\n",
        "\n",
        "    def __len__(self):\n",
        "        return len(self.idx_to_token)\n",
        "\n",
        "    def __getitem__(self, tokens):\n",
        "        if not isinstance(tokens, (list, tuple)):\n",
        "            return self.token_to_idx.get(tokens, self.unk)\n",
        "        return [self.__getitem__(token) for token in tokens]\n",
        "\n",
        "    def to_tokens(self, indices):\n",
        "        if not isinstance(indices, (list, tuple)):\n",
        "            return self.idx_to_token[indices]\n",
        "        return [self.idx_to_token[index] for index in indices]\n",
        "\n",
        "\n",
        "def count_corpus(tokens):\n",
        "    \"\"\"Count token frequencies.\"\"\"\n",
        "    # Here `tokens` is a 1D list or 2D list\n",
        "    if len(tokens) == 0 or isinstance(tokens[0], list):\n",
        "        # Flatten a list of token lists into a list of tokens\n",
        "        tokens = [token for line in tokens for token in line]\n",
        "    return collections.Counter(tokens)"
      ]
    },
    {
      "cell_type": "code",
      "execution_count": 21,
      "metadata": {
        "execution": {
          "iopub.execute_input": "2022-04-07T04:20:51.804674Z",
          "iopub.status.busy": "2022-04-07T04:20:51.804453Z",
          "iopub.status.idle": "2022-04-07T04:20:51.814415Z",
          "shell.execute_reply": "2022-04-07T04:20:51.813672Z",
          "shell.execute_reply.started": "2022-04-07T04:20:51.804650Z"
        },
        "id": "Gbs426U9IQU0"
      },
      "outputs": [],
      "source": [
        "reduce_sum = lambda x, *args, **kwargs: x.sum(*args, **kwargs)\n",
        "astype = lambda x, *args, **kwargs: x.type(*args, **kwargs)\n",
        "\n",
        "\n",
        "def build_array_nmt(lines, vocab, num_steps):\n",
        "    \"\"\"Transform text sequences of machine translation into minibatches.\"\"\"\n",
        "    lines = [vocab[l] for l in lines]\n",
        "    lines = [l + [vocab[\"<eos>\"]] for l in lines]\n",
        "    array = torch.tensor([truncate_pad(l, num_steps, vocab[\"<pad>\"]) for l in lines])\n",
        "    valid_len = reduce_sum(astype(array != vocab[\"<pad>\"], torch.int32), 1)\n",
        "    return array, valid_len"
      ]
    },
    {
      "cell_type": "code",
      "execution_count": 22,
      "metadata": {
        "execution": {
          "iopub.execute_input": "2022-04-07T04:20:51.816357Z",
          "iopub.status.busy": "2022-04-07T04:20:51.815856Z",
          "iopub.status.idle": "2022-04-07T04:20:51.827501Z",
          "shell.execute_reply": "2022-04-07T04:20:51.826754Z",
          "shell.execute_reply.started": "2022-04-07T04:20:51.816318Z"
        },
        "id": "3yYUa_itADJm"
      },
      "outputs": [],
      "source": [
        "def load_array(data_arrays, batch_size, is_train=True):\n",
        "    \"\"\"Construct a PyTorch data iterator.\"\"\"\n",
        "    dataset = data.TensorDataset(*data_arrays)\n",
        "    return data.DataLoader(dataset, batch_size, shuffle=is_train)\n",
        "\n",
        "\n",
        "def truncate_pad(line, num_steps, padding_token):\n",
        "    \"\"\"Truncate or pad sequences.\"\"\"\n",
        "    if len(line) > num_steps:\n",
        "        return line[:num_steps]  # Truncate\n",
        "    return line + [padding_token] * (num_steps - len(line))\n",
        "\n",
        "\n",
        "def load_data_nmt(batch_size, num_steps, num_examples=600):\n",
        "    \"\"\"Return the iterator and the vocabularies of the translation dataset.\"\"\"\n",
        "    text = preprocess_nmt(read_data_nmt())\n",
        "    source, target = tokenize_nmt(text, num_examples)\n",
        "    src_vocab = Vocab(source, min_freq=2, reserved_tokens=[\"<pad>\", \"<bos>\", \"<eos>\"])\n",
        "    tgt_vocab = Vocab(target, min_freq=2, reserved_tokens=[\"<pad>\", \"<bos>\", \"<eos>\"])\n",
        "    src_array, src_valid_len = build_array_nmt(source, src_vocab, num_steps)\n",
        "    tgt_array, tgt_valid_len = build_array_nmt(target, tgt_vocab, num_steps)\n",
        "    data_arrays = (src_array, src_valid_len, tgt_array, tgt_valid_len)\n",
        "    data_iter = load_array(data_arrays, batch_size)\n",
        "    return data_iter, src_vocab, tgt_vocab"
      ]
    },
    {
      "cell_type": "markdown",
      "metadata": {
        "id": "f1dieC4GqW68"
      },
      "source": [
        "# Data\n",
        "\n",
        "We use a english-french dataset. See [this colab](https://colab.research.google.com/github/probml/pyprobml/blob/master/notebooks/text_preproc_torch.ipynb#scrollTo=yDmK1xQ9T4IY) for details."
      ]
    },
    {
      "cell_type": "code",
      "execution_count": 23,
      "metadata": {
        "execution": {
          "iopub.execute_input": "2022-04-07T04:20:51.829202Z",
          "iopub.status.busy": "2022-04-07T04:20:51.828878Z",
          "iopub.status.idle": "2022-04-07T04:20:51.836206Z",
          "shell.execute_reply": "2022-04-07T04:20:51.835384Z",
          "shell.execute_reply.started": "2022-04-07T04:20:51.829167Z"
        },
        "id": "QzTch77XdfxK"
      },
      "outputs": [],
      "source": [
        "DATA_HUB = dict()\n",
        "DATA_URL = \"http://d2l-data.s3-accelerate.amazonaws.com/\"\n",
        "\n",
        "DATA_HUB[\"fra-eng\"] = (DATA_URL + \"fra-eng.zip\", \"94646ad1522d915e7b0f9296181140edcf86a4f5\")\n",
        "\n",
        "batch_size, num_steps = 64, 10"
      ]
    },
    {
      "cell_type": "code",
      "execution_count": 24,
      "metadata": {
        "colab": {
          "base_uri": "https://localhost:8080/"
        },
        "execution": {
          "iopub.execute_input": "2022-04-07T04:20:51.838255Z",
          "iopub.status.busy": "2022-04-07T04:20:51.837860Z",
          "iopub.status.idle": "2022-04-07T04:20:58.248209Z",
          "shell.execute_reply": "2022-04-07T04:20:58.247416Z",
          "shell.execute_reply.started": "2022-04-07T04:20:51.838178Z"
        },
        "id": "r-4oeZhRqZ2y",
        "outputId": "faa6af65-5e61-4fe2-da84-450a437f92bd"
      },
      "outputs": [
        {
          "output_type": "stream",
          "name": "stdout",
          "text": [
            "Downloading ../data/fra-eng.zip from http://d2l-data.s3-accelerate.amazonaws.com/fra-eng.zip...\n"
          ]
        }
      ],
      "source": [
        "train_iter, src_vocab, tgt_vocab = load_data_nmt(batch_size, num_steps)"
      ]
    },
    {
      "cell_type": "code",
      "execution_count": 25,
      "metadata": {
        "execution": {
          "iopub.execute_input": "2022-04-07T04:20:58.249949Z",
          "iopub.status.busy": "2022-04-07T04:20:58.249716Z",
          "iopub.status.idle": "2022-04-07T04:20:58.256291Z",
          "shell.execute_reply": "2022-04-07T04:20:58.255366Z",
          "shell.execute_reply.started": "2022-04-07T04:20:58.249916Z"
        },
        "id": "AbqbhodcrsGG"
      },
      "outputs": [],
      "source": [
        "num_hiddens, num_layers, dropout = 32, 2, 0.1\n",
        "ffn_num_input, ffn_num_hiddens, num_heads = 32, 64, 4\n",
        "\n",
        "encoder = TransformerEncoder(\n",
        "    len(src_vocab), num_hiddens, ffn_num_input, ffn_num_hiddens, num_heads, num_layers, dropout\n",
        ")\n",
        "decoder = TransformerDecoder(\n",
        "    len(tgt_vocab), num_hiddens, ffn_num_input, ffn_num_hiddens, num_heads, num_layers, dropout\n",
        ")\n",
        "Transformer = functools.partial(EncoderDecoder, encoder, decoder)"
      ]
    },
    {
      "cell_type": "markdown",
      "metadata": {
        "id": "THw6lR1bsHD-"
      },
      "source": [
        "# Training"
      ]
    },
    {
      "cell_type": "code",
      "execution_count": 26,
      "metadata": {
        "execution": {
          "iopub.execute_input": "2022-04-07T04:20:58.258342Z",
          "iopub.status.busy": "2022-04-07T04:20:58.257858Z",
          "iopub.status.idle": "2022-04-07T04:20:58.278437Z",
          "shell.execute_reply": "2022-04-07T04:20:58.277753Z",
          "shell.execute_reply.started": "2022-04-07T04:20:58.258307Z"
        },
        "id": "0OJenK-mMh1m"
      },
      "outputs": [],
      "source": [
        "class Animator:\n",
        "    \"\"\"For plotting data in animation.\"\"\"\n",
        "\n",
        "    def __init__(\n",
        "        self,\n",
        "        xlabel=None,\n",
        "        ylabel=None,\n",
        "        legend=None,\n",
        "        xlim=None,\n",
        "        ylim=None,\n",
        "        xscale=\"linear\",\n",
        "        yscale=\"linear\",\n",
        "        fmts=(\"-\", \"m--\", \"g-.\", \"r:\"),\n",
        "        nrows=1,\n",
        "        ncols=1,\n",
        "        figsize=(3.5, 2.5),\n",
        "    ):\n",
        "        # Incrementally plot multiple lines\n",
        "        if legend is None:\n",
        "            legend = []\n",
        "        display.set_matplotlib_formats(\"svg\")\n",
        "        self.fig, self.axes = plt.subplots(nrows, ncols, figsize=figsize)\n",
        "        if nrows * ncols == 1:\n",
        "            self.axes = [\n",
        "                self.axes,\n",
        "            ]\n",
        "        # Use a lambda function to capture arguments\n",
        "        self.config_axes = lambda: set_axes(self.axes[0], xlabel, ylabel, xlim, ylim, xscale, yscale, legend)\n",
        "        self.X, self.Y, self.fmts = None, None, fmts\n",
        "\n",
        "    def add(self, x, y):\n",
        "        # Add multiple data points into the figure\n",
        "        if not hasattr(y, \"__len__\"):\n",
        "            y = [y]\n",
        "        n = len(y)\n",
        "        if not hasattr(x, \"__len__\"):\n",
        "            x = [x] * n\n",
        "        if not self.X:\n",
        "            self.X = [[] for _ in range(n)]\n",
        "        if not self.Y:\n",
        "            self.Y = [[] for _ in range(n)]\n",
        "        for i, (a, b) in enumerate(zip(x, y)):\n",
        "            if a is not None and b is not None:\n",
        "                self.X[i].append(a)\n",
        "                self.Y[i].append(b)\n",
        "        self.axes[0].cla()\n",
        "        for x, y, fmt in zip(self.X, self.Y, self.fmts):\n",
        "            self.axes[0].plot(x, y, fmt)\n",
        "        self.config_axes()\n",
        "        display.display(self.fig)\n",
        "        display.clear_output(wait=True)\n",
        "\n",
        "\n",
        "class Timer:\n",
        "    \"\"\"Record multiple running times.\"\"\"\n",
        "\n",
        "    def __init__(self):\n",
        "        self.times = []\n",
        "        self.start()\n",
        "\n",
        "    def start(self):\n",
        "        \"\"\"Start the timer.\"\"\"\n",
        "        self.tik = time.time()\n",
        "\n",
        "    def stop(self):\n",
        "        \"\"\"Stop the timer and record the time in a list.\"\"\"\n",
        "        self.times.append(time.time() - self.tik)\n",
        "        return self.times[-1]\n",
        "\n",
        "    def avg(self):\n",
        "        \"\"\"Return the average time.\"\"\"\n",
        "        return sum(self.times) / len(self.times)\n",
        "\n",
        "    def sum(self):\n",
        "        \"\"\"Return the sum of time.\"\"\"\n",
        "        return sum(self.times)\n",
        "\n",
        "    def cumsum(self):\n",
        "        \"\"\"Return the accumulated time.\"\"\"\n",
        "        return np.array(self.times).cumsum().tolist()\n",
        "\n",
        "\n",
        "class Accumulator:\n",
        "    \"\"\"For accumulating sums over `n` variables.\"\"\"\n",
        "\n",
        "    def __init__(self, n):\n",
        "        self.data = [0.0] * n\n",
        "\n",
        "    def add(self, *args):\n",
        "        self.data = [a + float(b) for a, b in zip(self.data, args)]\n",
        "\n",
        "    def reset(self):\n",
        "        self.data = [0.0] * len(self.data)\n",
        "\n",
        "    def __getitem__(self, idx):\n",
        "        return self.data[idx]"
      ]
    },
    {
      "cell_type": "code",
      "execution_count": 27,
      "metadata": {
        "execution": {
          "iopub.execute_input": "2022-04-07T04:20:58.283948Z",
          "iopub.status.busy": "2022-04-07T04:20:58.283342Z",
          "iopub.status.idle": "2022-04-07T04:20:58.292988Z",
          "shell.execute_reply": "2022-04-07T04:20:58.292342Z",
          "shell.execute_reply.started": "2022-04-07T04:20:58.283910Z"
        },
        "id": "p2fqQdzkZvdF"
      },
      "outputs": [],
      "source": [
        "def set_axes(axes, xlabel, ylabel, xlim, ylim, xscale, yscale, legend):\n",
        "    \"\"\"Set the axes for matplotlib.\"\"\"\n",
        "    axes.set_xlabel(xlabel)\n",
        "    axes.set_ylabel(ylabel)\n",
        "    axes.set_xscale(xscale)\n",
        "    axes.set_yscale(yscale)\n",
        "    axes.set_xlim(xlim)\n",
        "    axes.set_ylim(ylim)\n",
        "    if legend:\n",
        "        axes.legend(legend)\n",
        "    axes.grid()\n",
        "\n",
        "\n",
        "def grad_clipping(net, theta):\n",
        "    \"\"\"Clip the gradient.\"\"\"\n",
        "    if isinstance(net, nn.Module):\n",
        "        params = [p for p in net.parameters() if p.requires_grad]\n",
        "    else:\n",
        "        params = net.params\n",
        "    norm = torch.sqrt(sum(torch.sum((p.grad**2)) for p in params))\n",
        "    if norm > theta:\n",
        "        for param in params:\n",
        "            param.grad[:] *= theta / norm\n",
        "\n",
        "\n",
        "def try_gpu(i=0):\n",
        "    \"\"\"Return gpu(i) if exists, otherwise return cpu().\"\"\"\n",
        "    if torch.cuda.device_count() >= i + 1:\n",
        "        return torch.device(f\"cuda:{i}\")\n",
        "    return torch.device(\"cpu\")"
      ]
    },
    {
      "cell_type": "code",
      "execution_count": 28,
      "metadata": {
        "execution": {
          "iopub.execute_input": "2022-04-07T04:20:58.295946Z",
          "iopub.status.busy": "2022-04-07T04:20:58.295331Z",
          "iopub.status.idle": "2022-04-07T04:20:58.301928Z",
          "shell.execute_reply": "2022-04-07T04:20:58.301109Z",
          "shell.execute_reply.started": "2022-04-07T04:20:58.295908Z"
        },
        "id": "fim0FaVM9qYe"
      },
      "outputs": [],
      "source": [
        "def cross_entropy_loss(logits, labels, lengths) -> float:\n",
        "    \"\"\"The softmax cross-entropy loss with masks.\"\"\"\n",
        "\n",
        "    # `pred` shape: (`batch_size`, `num_steps`, `vocab_size`)\n",
        "    # `label` shape: (`batch_size`, `num_steps`)\n",
        "    # `valid_len` shape: (`batch_size`,)\n",
        "    one_hot_labels = jax.nn.one_hot(labels, num_classes=logits.shape[2])\n",
        "    xe = jnp.sum(nn.log_softmax(logits) * one_hot_labels, axis=-1)\n",
        "    masked_xe = jnp.mean(sequence_mask(xe, lengths))\n",
        "    return -masked_xe"
      ]
    },
    {
      "cell_type": "code",
      "execution_count": 29,
      "metadata": {
        "colab": {
          "base_uri": "https://localhost:8080/"
        },
        "execution": {
          "iopub.execute_input": "2022-04-07T04:20:58.303913Z",
          "iopub.status.busy": "2022-04-07T04:20:58.303588Z",
          "iopub.status.idle": "2022-04-07T04:20:58.320811Z",
          "shell.execute_reply": "2022-04-07T04:20:58.320023Z",
          "shell.execute_reply.started": "2022-04-07T04:20:58.303878Z"
        },
        "id": "3hP-eQkc9poF",
        "outputId": "ecde2e73-8fa3-4c14-e645-8a4d53761d74"
      },
      "outputs": [
        {
          "output_type": "execute_result",
          "data": {
            "text/plain": [
              "Array(1.04591068, dtype=float64)"
            ]
          },
          "metadata": {},
          "execution_count": 29
        }
      ],
      "source": [
        "p = jnp.array([[[0.10, 0.40, 0.50]]])\n",
        "label = jnp.array([[1]])\n",
        "valid_len = jnp.array([1])\n",
        "cross_entropy_loss(p, label, valid_len)"
      ]
    },
    {
      "cell_type": "code",
      "execution_count": 30,
      "metadata": {
        "execution": {
          "iopub.execute_input": "2022-04-07T04:20:58.322495Z",
          "iopub.status.busy": "2022-04-07T04:20:58.322014Z",
          "iopub.status.idle": "2022-04-07T04:20:58.331609Z",
          "shell.execute_reply": "2022-04-07T04:20:58.330986Z",
          "shell.execute_reply.started": "2022-04-07T04:20:58.322461Z"
        },
        "id": "OlHTsKhxg_RM"
      },
      "outputs": [],
      "source": [
        "def get_initial_params(model, rng):\n",
        "    \"\"\"Returns the initial parameters of a seq2seq model.\"\"\"\n",
        "    valid_lens = jnp.ones((64), jnp.int64)\n",
        "    init_rngs = {\"params\": random.PRNGKey(0), \"dropout\": random.PRNGKey(1)}\n",
        "    variables = model.init(\n",
        "        init_rngs, jnp.ones((64, 10), jnp.int64), valid_lens, jnp.ones((64, 10), jnp.int64), train=False\n",
        "    )\n",
        "    return variables[\"params\"]\n",
        "\n",
        "\n",
        "def get_train_state(rng, lr) -> train_state.TrainState:\n",
        "    \"\"\"Returns a train state.\"\"\"\n",
        "    model = Transformer()\n",
        "    params = get_initial_params(model, rng)\n",
        "    tx = optax.adam(lr)\n",
        "    return train_state.TrainState.create(apply_fn=model.apply, params=params, tx=tx)\n",
        "\n",
        "\n",
        "def compute_metrics(logits, labels, Y_valid_len):\n",
        "    \"\"\"Computes metrics and returns them.\"\"\"\n",
        "    loss = cross_entropy_loss(logits, labels, Y_valid_len)\n",
        "    token_accuracy = jnp.argmax(logits, -1) == labels\n",
        "    sequence_accuracy = jnp.sum(sequence_mask(token_accuracy, Y_valid_len), axis=-1) == Y_valid_len\n",
        "    accuracy = jnp.mean(sequence_accuracy)\n",
        "    metrics = {\n",
        "        \"loss\": loss,\n",
        "        \"accuracy\": accuracy,\n",
        "    }\n",
        "    return metrics"
      ]
    },
    {
      "cell_type": "code",
      "execution_count": 31,
      "metadata": {
        "execution": {
          "iopub.execute_input": "2022-04-07T04:20:58.333358Z",
          "iopub.status.busy": "2022-04-07T04:20:58.333105Z",
          "iopub.status.idle": "2022-04-07T04:20:58.346100Z",
          "shell.execute_reply": "2022-04-07T04:20:58.345406Z",
          "shell.execute_reply.started": "2022-04-07T04:20:58.333326Z"
        },
        "id": "N5Bn5tM9JNYR"
      },
      "outputs": [],
      "source": [
        "@jax.jit\n",
        "def train_step(state: train_state.TrainState, key, X, X_valid_len, Y, Y_valid_len, bos, dec_input):\n",
        "    \"\"\"Trains one step.\"\"\"\n",
        "\n",
        "    def loss_fn(params):\n",
        "        logits, _, _, _ = state.apply_fn(\n",
        "            {\"params\": params}, X, X_valid_len, dec_input, train=True, rngs={\"dropout\": key}\n",
        "        )\n",
        "        loss = cross_entropy_loss(logits, Y, Y_valid_len)\n",
        "        return loss, logits\n",
        "\n",
        "    grad_fn = jax.value_and_grad(loss_fn, has_aux=True)\n",
        "    (_, logits), grads = grad_fn(state.params)\n",
        "    state = state.apply_gradients(grads=grads)\n",
        "    metrics = compute_metrics(logits, Y, Y_valid_len)\n",
        "\n",
        "    return state, metrics\n",
        "\n",
        "\n",
        "def train_seq2seq(data_iter, lr, num_epochs, tgt_vocab):\n",
        "    \"\"\"Train a model for sequence to sequence.\"\"\"\n",
        "\n",
        "    key = random.PRNGKey(314)\n",
        "    state = get_train_state(key, lr)\n",
        "\n",
        "    animator = Animator(xlabel=\"epoch\", ylabel=\"loss\", xlim=[10, num_epochs])\n",
        "    for epoch in range(num_epochs):\n",
        "        timer = Timer()\n",
        "        metric = Accumulator(2)  # Sum of training loss, no. of tokens\n",
        "        for batch in data_iter:\n",
        "            X, X_valid_len, Y, Y_valid_len = [jnp.array(x) for x in batch]\n",
        "\n",
        "            bos = jnp.array([tgt_vocab[\"<bos>\"]] * Y.shape[0]).reshape(-1, 1)\n",
        "            dec_input = jnp.concatenate([bos, Y[:, :-1]], 1)  # Teacher forcing\n",
        "\n",
        "            state, metrics = train_step(state, key, X, X_valid_len, Y, Y_valid_len, bos, dec_input)\n",
        "\n",
        "            num_tokens = Y_valid_len.sum()\n",
        "\n",
        "            metric.add(metrics[\"loss\"] * num_tokens, num_tokens)\n",
        "        # if (epoch + 1) % 10 == 0:\n",
        "        animator.add(epoch + 1, (metric[0] / metric[1],))\n",
        "    print(f\"loss {metric[0] / metric[1]:.3f}, {metric[1] / timer.stop():.1f} \" f\"tokens/sec on {str(device)}\")\n",
        "\n",
        "    return state"
      ]
    },
    {
      "cell_type": "code",
      "execution_count": 32,
      "metadata": {
        "colab": {
          "base_uri": "https://localhost:8080/",
          "height": 283
        },
        "execution": {
          "iopub.execute_input": "2022-04-07T04:20:58.348042Z",
          "iopub.status.busy": "2022-04-07T04:20:58.347583Z",
          "iopub.status.idle": "2022-04-07T04:22:27.855939Z",
          "shell.execute_reply": "2022-04-07T04:22:27.854928Z",
          "shell.execute_reply.started": "2022-04-07T04:20:58.348006Z"
        },
        "id": "4-qC6IFAJQgA",
        "outputId": "6519015b-c087-4ea9-ae47-1ced566e8401"
      },
      "outputs": [
        {
          "output_type": "stream",
          "name": "stdout",
          "text": [
            "loss 0.116, 15597.4 tokens/sec on cuda:0\n"
          ]
        },
        {
          "output_type": "display_data",
          "data": {
            "text/plain": [
              "<Figure size 350x250 with 1 Axes>"
            ],
            "image/svg+xml": "<?xml version=\"1.0\" encoding=\"utf-8\" standalone=\"no\"?>\n<!DOCTYPE svg PUBLIC \"-//W3C//DTD SVG 1.1//EN\"\n  \"http://www.w3.org/Graphics/SVG/1.1/DTD/svg11.dtd\">\n<svg xmlns:xlink=\"http://www.w3.org/1999/xlink\" width=\"255.825pt\" height=\"183.35625pt\" viewBox=\"0 0 255.825 183.35625\" xmlns=\"http://www.w3.org/2000/svg\" version=\"1.1\">\n <metadata>\n  <rdf:RDF xmlns:dc=\"http://purl.org/dc/elements/1.1/\" xmlns:cc=\"http://creativecommons.org/ns#\" xmlns:rdf=\"http://www.w3.org/1999/02/22-rdf-syntax-ns#\">\n   <cc:Work>\n    <dc:type rdf:resource=\"http://purl.org/dc/dcmitype/StillImage\"/>\n    <dc:date>2025-06-26T07:30:36.884845</dc:date>\n    <dc:format>image/svg+xml</dc:format>\n    <dc:creator>\n     <cc:Agent>\n      <dc:title>Matplotlib v3.10.0, https://matplotlib.org/</dc:title>\n     </cc:Agent>\n    </dc:creator>\n   </cc:Work>\n  </rdf:RDF>\n </metadata>\n <defs>\n  <style type=\"text/css\">*{stroke-linejoin: round; stroke-linecap: butt}</style>\n </defs>\n <g id=\"figure_1\">\n  <g id=\"patch_1\">\n   <path d=\"M 0 183.35625 \nL 255.825 183.35625 \nL 255.825 0 \nL 0 0 \nz\n\" style=\"fill: #ffffff\"/>\n  </g>\n  <g id=\"axes_1\">\n   <g id=\"patch_2\">\n    <path d=\"M 43.78125 145.8 \nL 239.08125 145.8 \nL 239.08125 7.2 \nL 43.78125 7.2 \nz\n\" style=\"fill: #ffffff\"/>\n   </g>\n   <g id=\"matplotlib.axis_1\">\n    <g id=\"xtick_1\">\n     <g id=\"line2d_1\">\n      <path d=\"M 84.897039 145.8 \nL 84.897039 7.2 \n\" clip-path=\"url(#p0d3d203fde)\" style=\"fill: none; stroke: #b0b0b0; stroke-width: 0.8; stroke-linecap: square\"/>\n     </g>\n     <g id=\"line2d_2\">\n      <defs>\n       <path id=\"m45866add8c\" d=\"M 0 0 \nL 0 3.5 \n\" style=\"stroke: #000000; stroke-width: 0.8\"/>\n      </defs>\n      <g>\n       <use xlink:href=\"#m45866add8c\" x=\"84.897039\" y=\"145.8\" style=\"stroke: #000000; stroke-width: 0.8\"/>\n      </g>\n     </g>\n     <g id=\"text_1\">\n      <!-- 50 -->\n      <g transform=\"translate(78.534539 160.398438) scale(0.1 -0.1)\">\n       <defs>\n        <path id=\"DejaVuSans-35\" d=\"M 691 4666 \nL 3169 4666 \nL 3169 4134 \nL 1269 4134 \nL 1269 2991 \nQ 1406 3038 1543 3061 \nQ 1681 3084 1819 3084 \nQ 2600 3084 3056 2656 \nQ 3513 2228 3513 1497 \nQ 3513 744 3044 326 \nQ 2575 -91 1722 -91 \nQ 1428 -91 1123 -41 \nQ 819 9 494 109 \nL 494 744 \nQ 775 591 1075 516 \nQ 1375 441 1709 441 \nQ 2250 441 2565 725 \nQ 2881 1009 2881 1497 \nQ 2881 1984 2565 2268 \nQ 2250 2553 1709 2553 \nQ 1456 2553 1204 2497 \nQ 953 2441 691 2322 \nL 691 4666 \nz\n\" transform=\"scale(0.015625)\"/>\n        <path id=\"DejaVuSans-30\" d=\"M 2034 4250 \nQ 1547 4250 1301 3770 \nQ 1056 3291 1056 2328 \nQ 1056 1369 1301 889 \nQ 1547 409 2034 409 \nQ 2525 409 2770 889 \nQ 3016 1369 3016 2328 \nQ 3016 3291 2770 3770 \nQ 2525 4250 2034 4250 \nz\nM 2034 4750 \nQ 2819 4750 3233 4129 \nQ 3647 3509 3647 2328 \nQ 3647 1150 3233 529 \nQ 2819 -91 2034 -91 \nQ 1250 -91 836 529 \nQ 422 1150 422 2328 \nQ 422 3509 836 4129 \nQ 1250 4750 2034 4750 \nz\n\" transform=\"scale(0.015625)\"/>\n       </defs>\n       <use xlink:href=\"#DejaVuSans-35\"/>\n       <use xlink:href=\"#DejaVuSans-30\" transform=\"translate(63.623047 0)\"/>\n      </g>\n     </g>\n    </g>\n    <g id=\"xtick_2\">\n     <g id=\"line2d_3\">\n      <path d=\"M 136.291776 145.8 \nL 136.291776 7.2 \n\" clip-path=\"url(#p0d3d203fde)\" style=\"fill: none; stroke: #b0b0b0; stroke-width: 0.8; stroke-linecap: square\"/>\n     </g>\n     <g id=\"line2d_4\">\n      <g>\n       <use xlink:href=\"#m45866add8c\" x=\"136.291776\" y=\"145.8\" style=\"stroke: #000000; stroke-width: 0.8\"/>\n      </g>\n     </g>\n     <g id=\"text_2\">\n      <!-- 100 -->\n      <g transform=\"translate(126.748026 160.398438) scale(0.1 -0.1)\">\n       <defs>\n        <path id=\"DejaVuSans-31\" d=\"M 794 531 \nL 1825 531 \nL 1825 4091 \nL 703 3866 \nL 703 4441 \nL 1819 4666 \nL 2450 4666 \nL 2450 531 \nL 3481 531 \nL 3481 0 \nL 794 0 \nL 794 531 \nz\n\" transform=\"scale(0.015625)\"/>\n       </defs>\n       <use xlink:href=\"#DejaVuSans-31\"/>\n       <use xlink:href=\"#DejaVuSans-30\" transform=\"translate(63.623047 0)\"/>\n       <use xlink:href=\"#DejaVuSans-30\" transform=\"translate(127.246094 0)\"/>\n      </g>\n     </g>\n    </g>\n    <g id=\"xtick_3\">\n     <g id=\"line2d_5\">\n      <path d=\"M 187.686513 145.8 \nL 187.686513 7.2 \n\" clip-path=\"url(#p0d3d203fde)\" style=\"fill: none; stroke: #b0b0b0; stroke-width: 0.8; stroke-linecap: square\"/>\n     </g>\n     <g id=\"line2d_6\">\n      <g>\n       <use xlink:href=\"#m45866add8c\" x=\"187.686513\" y=\"145.8\" style=\"stroke: #000000; stroke-width: 0.8\"/>\n      </g>\n     </g>\n     <g id=\"text_3\">\n      <!-- 150 -->\n      <g transform=\"translate(178.142763 160.398438) scale(0.1 -0.1)\">\n       <use xlink:href=\"#DejaVuSans-31\"/>\n       <use xlink:href=\"#DejaVuSans-35\" transform=\"translate(63.623047 0)\"/>\n       <use xlink:href=\"#DejaVuSans-30\" transform=\"translate(127.246094 0)\"/>\n      </g>\n     </g>\n    </g>\n    <g id=\"xtick_4\">\n     <g id=\"line2d_7\">\n      <path d=\"M 239.08125 145.8 \nL 239.08125 7.2 \n\" clip-path=\"url(#p0d3d203fde)\" style=\"fill: none; stroke: #b0b0b0; stroke-width: 0.8; stroke-linecap: square\"/>\n     </g>\n     <g id=\"line2d_8\">\n      <g>\n       <use xlink:href=\"#m45866add8c\" x=\"239.08125\" y=\"145.8\" style=\"stroke: #000000; stroke-width: 0.8\"/>\n      </g>\n     </g>\n     <g id=\"text_4\">\n      <!-- 200 -->\n      <g transform=\"translate(229.5375 160.398438) scale(0.1 -0.1)\">\n       <defs>\n        <path id=\"DejaVuSans-32\" d=\"M 1228 531 \nL 3431 531 \nL 3431 0 \nL 469 0 \nL 469 531 \nQ 828 903 1448 1529 \nQ 2069 2156 2228 2338 \nQ 2531 2678 2651 2914 \nQ 2772 3150 2772 3378 \nQ 2772 3750 2511 3984 \nQ 2250 4219 1831 4219 \nQ 1534 4219 1204 4116 \nQ 875 4013 500 3803 \nL 500 4441 \nQ 881 4594 1212 4672 \nQ 1544 4750 1819 4750 \nQ 2544 4750 2975 4387 \nQ 3406 4025 3406 3419 \nQ 3406 3131 3298 2873 \nQ 3191 2616 2906 2266 \nQ 2828 2175 2409 1742 \nQ 1991 1309 1228 531 \nz\n\" transform=\"scale(0.015625)\"/>\n       </defs>\n       <use xlink:href=\"#DejaVuSans-32\"/>\n       <use xlink:href=\"#DejaVuSans-30\" transform=\"translate(63.623047 0)\"/>\n       <use xlink:href=\"#DejaVuSans-30\" transform=\"translate(127.246094 0)\"/>\n      </g>\n     </g>\n    </g>\n    <g id=\"text_5\">\n     <!-- epoch -->\n     <g transform=\"translate(126.203125 174.076563) scale(0.1 -0.1)\">\n      <defs>\n       <path id=\"DejaVuSans-65\" d=\"M 3597 1894 \nL 3597 1613 \nL 953 1613 \nQ 991 1019 1311 708 \nQ 1631 397 2203 397 \nQ 2534 397 2845 478 \nQ 3156 559 3463 722 \nL 3463 178 \nQ 3153 47 2828 -22 \nQ 2503 -91 2169 -91 \nQ 1331 -91 842 396 \nQ 353 884 353 1716 \nQ 353 2575 817 3079 \nQ 1281 3584 2069 3584 \nQ 2775 3584 3186 3129 \nQ 3597 2675 3597 1894 \nz\nM 3022 2063 \nQ 3016 2534 2758 2815 \nQ 2500 3097 2075 3097 \nQ 1594 3097 1305 2825 \nQ 1016 2553 972 2059 \nL 3022 2063 \nz\n\" transform=\"scale(0.015625)\"/>\n       <path id=\"DejaVuSans-70\" d=\"M 1159 525 \nL 1159 -1331 \nL 581 -1331 \nL 581 3500 \nL 1159 3500 \nL 1159 2969 \nQ 1341 3281 1617 3432 \nQ 1894 3584 2278 3584 \nQ 2916 3584 3314 3078 \nQ 3713 2572 3713 1747 \nQ 3713 922 3314 415 \nQ 2916 -91 2278 -91 \nQ 1894 -91 1617 61 \nQ 1341 213 1159 525 \nz\nM 3116 1747 \nQ 3116 2381 2855 2742 \nQ 2594 3103 2138 3103 \nQ 1681 3103 1420 2742 \nQ 1159 2381 1159 1747 \nQ 1159 1113 1420 752 \nQ 1681 391 2138 391 \nQ 2594 391 2855 752 \nQ 3116 1113 3116 1747 \nz\n\" transform=\"scale(0.015625)\"/>\n       <path id=\"DejaVuSans-6f\" d=\"M 1959 3097 \nQ 1497 3097 1228 2736 \nQ 959 2375 959 1747 \nQ 959 1119 1226 758 \nQ 1494 397 1959 397 \nQ 2419 397 2687 759 \nQ 2956 1122 2956 1747 \nQ 2956 2369 2687 2733 \nQ 2419 3097 1959 3097 \nz\nM 1959 3584 \nQ 2709 3584 3137 3096 \nQ 3566 2609 3566 1747 \nQ 3566 888 3137 398 \nQ 2709 -91 1959 -91 \nQ 1206 -91 779 398 \nQ 353 888 353 1747 \nQ 353 2609 779 3096 \nQ 1206 3584 1959 3584 \nz\n\" transform=\"scale(0.015625)\"/>\n       <path id=\"DejaVuSans-63\" d=\"M 3122 3366 \nL 3122 2828 \nQ 2878 2963 2633 3030 \nQ 2388 3097 2138 3097 \nQ 1578 3097 1268 2742 \nQ 959 2388 959 1747 \nQ 959 1106 1268 751 \nQ 1578 397 2138 397 \nQ 2388 397 2633 464 \nQ 2878 531 3122 666 \nL 3122 134 \nQ 2881 22 2623 -34 \nQ 2366 -91 2075 -91 \nQ 1284 -91 818 406 \nQ 353 903 353 1747 \nQ 353 2603 823 3093 \nQ 1294 3584 2113 3584 \nQ 2378 3584 2631 3529 \nQ 2884 3475 3122 3366 \nz\n\" transform=\"scale(0.015625)\"/>\n       <path id=\"DejaVuSans-68\" d=\"M 3513 2113 \nL 3513 0 \nL 2938 0 \nL 2938 2094 \nQ 2938 2591 2744 2837 \nQ 2550 3084 2163 3084 \nQ 1697 3084 1428 2787 \nQ 1159 2491 1159 1978 \nL 1159 0 \nL 581 0 \nL 581 4863 \nL 1159 4863 \nL 1159 2956 \nQ 1366 3272 1645 3428 \nQ 1925 3584 2291 3584 \nQ 2894 3584 3203 3211 \nQ 3513 2838 3513 2113 \nz\n\" transform=\"scale(0.015625)\"/>\n      </defs>\n      <use xlink:href=\"#DejaVuSans-65\"/>\n      <use xlink:href=\"#DejaVuSans-70\" transform=\"translate(61.523438 0)\"/>\n      <use xlink:href=\"#DejaVuSans-6f\" transform=\"translate(125 0)\"/>\n      <use xlink:href=\"#DejaVuSans-63\" transform=\"translate(186.181641 0)\"/>\n      <use xlink:href=\"#DejaVuSans-68\" transform=\"translate(241.162109 0)\"/>\n     </g>\n    </g>\n   </g>\n   <g id=\"matplotlib.axis_2\">\n    <g id=\"ytick_1\">\n     <g id=\"line2d_9\">\n      <path d=\"M 43.78125 109.965096 \nL 239.08125 109.965096 \n\" clip-path=\"url(#p0d3d203fde)\" style=\"fill: none; stroke: #b0b0b0; stroke-width: 0.8; stroke-linecap: square\"/>\n     </g>\n     <g id=\"line2d_10\">\n      <defs>\n       <path id=\"m52a56eb20d\" d=\"M 0 0 \nL -3.5 0 \n\" style=\"stroke: #000000; stroke-width: 0.8\"/>\n      </defs>\n      <g>\n       <use xlink:href=\"#m52a56eb20d\" x=\"43.78125\" y=\"109.965096\" style=\"stroke: #000000; stroke-width: 0.8\"/>\n      </g>\n     </g>\n     <g id=\"text_6\">\n      <!-- 0.5 -->\n      <g transform=\"translate(20.878125 113.764314) scale(0.1 -0.1)\">\n       <defs>\n        <path id=\"DejaVuSans-2e\" d=\"M 684 794 \nL 1344 794 \nL 1344 0 \nL 684 0 \nL 684 794 \nz\n\" transform=\"scale(0.015625)\"/>\n       </defs>\n       <use xlink:href=\"#DejaVuSans-30\"/>\n       <use xlink:href=\"#DejaVuSans-2e\" transform=\"translate(63.623047 0)\"/>\n       <use xlink:href=\"#DejaVuSans-35\" transform=\"translate(95.410156 0)\"/>\n      </g>\n     </g>\n    </g>\n    <g id=\"ytick_2\">\n     <g id=\"line2d_11\">\n      <path d=\"M 43.78125 72.440953 \nL 239.08125 72.440953 \n\" clip-path=\"url(#p0d3d203fde)\" style=\"fill: none; stroke: #b0b0b0; stroke-width: 0.8; stroke-linecap: square\"/>\n     </g>\n     <g id=\"line2d_12\">\n      <g>\n       <use xlink:href=\"#m52a56eb20d\" x=\"43.78125\" y=\"72.440953\" style=\"stroke: #000000; stroke-width: 0.8\"/>\n      </g>\n     </g>\n     <g id=\"text_7\">\n      <!-- 1.0 -->\n      <g transform=\"translate(20.878125 76.240172) scale(0.1 -0.1)\">\n       <use xlink:href=\"#DejaVuSans-31\"/>\n       <use xlink:href=\"#DejaVuSans-2e\" transform=\"translate(63.623047 0)\"/>\n       <use xlink:href=\"#DejaVuSans-30\" transform=\"translate(95.410156 0)\"/>\n      </g>\n     </g>\n    </g>\n    <g id=\"ytick_3\">\n     <g id=\"line2d_13\">\n      <path d=\"M 43.78125 34.91681 \nL 239.08125 34.91681 \n\" clip-path=\"url(#p0d3d203fde)\" style=\"fill: none; stroke: #b0b0b0; stroke-width: 0.8; stroke-linecap: square\"/>\n     </g>\n     <g id=\"line2d_14\">\n      <g>\n       <use xlink:href=\"#m52a56eb20d\" x=\"43.78125\" y=\"34.91681\" style=\"stroke: #000000; stroke-width: 0.8\"/>\n      </g>\n     </g>\n     <g id=\"text_8\">\n      <!-- 1.5 -->\n      <g transform=\"translate(20.878125 38.716029) scale(0.1 -0.1)\">\n       <use xlink:href=\"#DejaVuSans-31\"/>\n       <use xlink:href=\"#DejaVuSans-2e\" transform=\"translate(63.623047 0)\"/>\n       <use xlink:href=\"#DejaVuSans-35\" transform=\"translate(95.410156 0)\"/>\n      </g>\n     </g>\n    </g>\n    <g id=\"text_9\">\n     <!-- loss -->\n     <g transform=\"translate(14.798437 86.157813) rotate(-90) scale(0.1 -0.1)\">\n      <defs>\n       <path id=\"DejaVuSans-6c\" d=\"M 603 4863 \nL 1178 4863 \nL 1178 0 \nL 603 0 \nL 603 4863 \nz\n\" transform=\"scale(0.015625)\"/>\n       <path id=\"DejaVuSans-73\" d=\"M 2834 3397 \nL 2834 2853 \nQ 2591 2978 2328 3040 \nQ 2066 3103 1784 3103 \nQ 1356 3103 1142 2972 \nQ 928 2841 928 2578 \nQ 928 2378 1081 2264 \nQ 1234 2150 1697 2047 \nL 1894 2003 \nQ 2506 1872 2764 1633 \nQ 3022 1394 3022 966 \nQ 3022 478 2636 193 \nQ 2250 -91 1575 -91 \nQ 1294 -91 989 -36 \nQ 684 19 347 128 \nL 347 722 \nQ 666 556 975 473 \nQ 1284 391 1588 391 \nQ 1994 391 2212 530 \nQ 2431 669 2431 922 \nQ 2431 1156 2273 1281 \nQ 2116 1406 1581 1522 \nL 1381 1569 \nQ 847 1681 609 1914 \nQ 372 2147 372 2553 \nQ 372 3047 722 3315 \nQ 1072 3584 1716 3584 \nQ 2034 3584 2315 3537 \nQ 2597 3491 2834 3397 \nz\n\" transform=\"scale(0.015625)\"/>\n      </defs>\n      <use xlink:href=\"#DejaVuSans-6c\"/>\n      <use xlink:href=\"#DejaVuSans-6f\" transform=\"translate(27.783203 0)\"/>\n      <use xlink:href=\"#DejaVuSans-73\" transform=\"translate(88.964844 0)\"/>\n      <use xlink:href=\"#DejaVuSans-73\" transform=\"translate(141.064453 0)\"/>\n     </g>\n    </g>\n   </g>\n   <g id=\"line2d_15\">\n    <path d=\"M 34.530197 13.5 \nL 35.558092 51.158935 \nL 36.585987 63.015843 \nL 37.613882 70.780307 \nL 39.669671 82.164661 \nL 40.697566 86.442296 \nL 41.725461 90.159275 \nL 42.753355 94.670398 \nL 43.78125 97.250567 \nL 44.809145 99.411966 \nL 45.837039 102.679417 \nL 46.864934 104.724971 \nL 47.892829 107.180884 \nL 49.948618 111.210299 \nL 50.976513 112.083198 \nL 52.004408 114.024983 \nL 54.060197 116.950946 \nL 55.088092 118.755056 \nL 56.115987 119.420165 \nL 57.143882 120.78538 \nL 58.171776 121.439168 \nL 59.199671 122.692839 \nL 60.227566 122.750869 \nL 61.255461 124.416696 \nL 62.283355 125.360802 \nL 63.31125 125.84318 \nL 64.339145 126.692294 \nL 65.367039 127.216255 \nL 67.422829 127.506999 \nL 68.450724 126.838099 \nL 69.478618 128.426919 \nL 70.506513 128.776713 \nL 71.534408 130.05887 \nL 72.562303 129.873772 \nL 73.590197 130.307644 \nL 74.618092 130.077466 \nL 75.645987 130.930384 \nL 76.673882 130.585389 \nL 78.729671 132.494862 \nL 79.757566 131.985568 \nL 80.785461 131.686584 \nL 81.813355 132.519935 \nL 84.897039 133.471262 \nL 85.924934 133.215462 \nL 86.952829 133.497265 \nL 87.980724 134.006941 \nL 89.008618 134.248763 \nL 90.036513 133.967003 \nL 91.064408 133.279371 \nL 93.120197 134.337463 \nL 94.148092 134.26328 \nL 95.175987 134.356624 \nL 96.203882 134.934421 \nL 97.231776 133.954678 \nL 98.259671 135.169424 \nL 99.287566 135.555896 \nL 100.315461 135.47295 \nL 101.343355 134.977691 \nL 102.37125 135.122043 \nL 104.427039 136.024355 \nL 105.454934 136.196173 \nL 106.482829 136.49804 \nL 108.538618 136.04854 \nL 109.566513 136.216417 \nL 110.594408 135.959581 \nL 111.622303 136.273229 \nL 112.650197 136.432722 \nL 113.678092 136.375815 \nL 114.705987 135.99641 \nL 115.733882 136.577326 \nL 116.761776 136.730502 \nL 117.789671 136.31354 \nL 118.817566 136.149658 \nL 119.845461 136.288306 \nL 120.873355 137.228196 \nL 121.90125 136.706422 \nL 122.929145 137.341986 \nL 123.957039 136.4261 \nL 124.984934 137.200869 \nL 126.012829 136.77653 \nL 127.040724 137.159143 \nL 128.068618 136.947198 \nL 129.096513 137.305033 \nL 130.124408 136.998976 \nL 131.152303 137.163542 \nL 132.180197 136.251489 \nL 133.208092 137.209404 \nL 134.235987 137.137888 \nL 136.291776 137.439119 \nL 137.319671 137.028911 \nL 138.347566 137.727526 \nL 140.403355 137.294329 \nL 141.43125 137.874364 \nL 142.459145 137.711455 \nL 146.570724 137.930843 \nL 147.598618 137.675207 \nL 148.626513 137.818138 \nL 149.654408 138.128193 \nL 150.682303 137.978307 \nL 151.710197 137.638161 \nL 152.738092 138.028397 \nL 153.765987 137.866414 \nL 154.793882 138.367638 \nL 155.821776 137.703268 \nL 156.849671 137.654793 \nL 158.905461 138.039608 \nL 160.96125 137.064098 \nL 161.989145 137.944461 \nL 163.017039 137.90949 \nL 164.044934 138.010691 \nL 165.072829 138.249163 \nL 166.100724 137.676477 \nL 167.128618 137.376199 \nL 168.156513 138.23963 \nL 169.184408 137.906434 \nL 170.212303 138.373154 \nL 171.240197 138.471035 \nL 172.268092 138.04963 \nL 173.295987 138.228292 \nL 175.351776 138.323076 \nL 176.379671 138.684405 \nL 177.407566 138.864584 \nL 178.435461 138.47791 \nL 179.463355 138.861179 \nL 180.49125 138.700495 \nL 181.519145 138.235488 \nL 182.547039 138.631127 \nL 185.630724 138.393907 \nL 186.658618 138.650719 \nL 187.686513 138.730616 \nL 188.714408 138.696892 \nL 189.742303 138.4299 \nL 190.770197 138.402765 \nL 191.798092 138.495237 \nL 192.825987 138.888473 \nL 194.881776 138.774749 \nL 195.909671 138.476149 \nL 196.937566 138.570569 \nL 198.993355 138.988447 \nL 200.02125 138.226915 \nL 201.049145 138.816506 \nL 202.077039 138.432572 \nL 203.104934 138.656288 \nL 204.132829 138.283613 \nL 205.160724 138.770908 \nL 206.188618 138.528652 \nL 207.216513 138.766099 \nL 208.244408 138.562591 \nL 209.272303 138.590369 \nL 210.300197 138.907225 \nL 211.328092 138.779119 \nL 212.355987 139.355941 \nL 213.383882 139.21672 \nL 214.411776 138.653874 \nL 215.439671 138.999326 \nL 216.467566 138.369366 \nL 217.495461 138.758842 \nL 218.523355 139.484712 \nL 219.55125 139.191828 \nL 221.607039 139.002684 \nL 222.634934 139.169238 \nL 223.662829 138.634554 \nL 224.690724 138.776317 \nL 225.718618 139.379346 \nL 226.746513 139.136228 \nL 227.774408 139.228161 \nL 229.830197 138.450701 \nL 230.858092 138.979227 \nL 231.885987 138.632649 \nL 232.913882 138.888625 \nL 233.941776 138.981868 \nL 234.969671 139.5 \nL 235.997566 139.301475 \nL 238.053355 139.223144 \nL 239.08125 138.812722 \nL 239.08125 138.812722 \n\" clip-path=\"url(#p0d3d203fde)\" style=\"fill: none; stroke: #1f77b4; stroke-width: 1.5; stroke-linecap: square\"/>\n   </g>\n   <g id=\"patch_3\">\n    <path d=\"M 43.78125 145.8 \nL 43.78125 7.2 \n\" style=\"fill: none; stroke: #000000; stroke-width: 0.8; stroke-linejoin: miter; stroke-linecap: square\"/>\n   </g>\n   <g id=\"patch_4\">\n    <path d=\"M 239.08125 145.8 \nL 239.08125 7.2 \n\" style=\"fill: none; stroke: #000000; stroke-width: 0.8; stroke-linejoin: miter; stroke-linecap: square\"/>\n   </g>\n   <g id=\"patch_5\">\n    <path d=\"M 43.78125 145.8 \nL 239.08125 145.8 \n\" style=\"fill: none; stroke: #000000; stroke-width: 0.8; stroke-linejoin: miter; stroke-linecap: square\"/>\n   </g>\n   <g id=\"patch_6\">\n    <path d=\"M 43.78125 7.2 \nL 239.08125 7.2 \n\" style=\"fill: none; stroke: #000000; stroke-width: 0.8; stroke-linejoin: miter; stroke-linecap: square\"/>\n   </g>\n  </g>\n </g>\n <defs>\n  <clipPath id=\"p0d3d203fde\">\n   <rect x=\"43.78125\" y=\"7.2\" width=\"195.3\" height=\"138.6\"/>\n  </clipPath>\n </defs>\n</svg>\n"
          },
          "metadata": {}
        }
      ],
      "source": [
        "lr, num_epochs, device = 0.005, 200, try_gpu()\n",
        "transformer_train_state = train_seq2seq(train_iter, lr, num_epochs, tgt_vocab)"
      ]
    },
    {
      "cell_type": "markdown",
      "metadata": {
        "id": "XItVF3uzsdCM"
      },
      "source": [
        "# Evaluation"
      ]
    },
    {
      "cell_type": "code",
      "execution_count": 37,
      "metadata": {
        "execution": {
          "iopub.execute_input": "2022-04-07T04:22:27.857948Z",
          "iopub.status.busy": "2022-04-07T04:22:27.857642Z",
          "iopub.status.idle": "2022-04-07T04:22:27.871062Z",
          "shell.execute_reply": "2022-04-07T04:22:27.870064Z",
          "shell.execute_reply.started": "2022-04-07T04:22:27.857908Z"
        },
        "id": "M2VB7oXlqPJD"
      },
      "outputs": [],
      "source": [
        "@jax.jit\n",
        "def eval_encoder(state, enc_X, enc_valid_len):\n",
        "    return Transformer().apply(\n",
        "        {\"params\": state.params}, enc_X, enc_valid_len, train=False, method=EncoderDecoder.encode\n",
        "    )\n",
        "\n",
        "\n",
        "@jax.jit\n",
        "def eval_decoder(state, dec_X, dec_state):\n",
        "    return Transformer().apply({\"params\": state.params}, dec_X, dec_state, train=False, method=EncoderDecoder.decode)\n",
        "\n",
        "\n",
        "def predict_seq2seq(state, src_sentence, src_vocab, tgt_vocab, num_steps, save_attention_weights=False):\n",
        "    \"\"\"Predict for sequence to sequence.\"\"\"\n",
        "\n",
        "    src_tokens = src_vocab[src_sentence.lower().split(\" \")] + [src_vocab[\"<eos>\"]]\n",
        "    enc_valid_len = jnp.array([len(src_tokens)])\n",
        "    src_tokens = truncate_pad(src_tokens, num_steps, src_vocab[\"<pad>\"])\n",
        "\n",
        "    # Add the batch axis\n",
        "    enc_X = jnp.expand_dims(jnp.array(src_tokens, dtype=jnp.int64), axis=0)\n",
        "    enc_outputs, encoder_attention_weights = eval_encoder(state, enc_X, enc_valid_len)\n",
        "    dec_state = Transformer().decoder.init_state(enc_outputs, enc_valid_len)\n",
        "\n",
        "    # Add the batch axis\n",
        "    dec_X = jnp.expand_dims(jnp.array([tgt_vocab[\"<bos>\"]], dtype=jnp.int64), axis=0)\n",
        "\n",
        "    output_seq, attention_weight_seq = [], []\n",
        "    for _ in range(num_steps):\n",
        "        Y, dec_state, decoder_attention_weights = eval_decoder(state, dec_X, dec_state)\n",
        "\n",
        "        # We use the token with the highest prediction likelihood as the input\n",
        "        # of the decoder at the next time step\n",
        "        dec_X = Y.argmax(axis=2)\n",
        "\n",
        "        pred = dec_X.squeeze(axis=0)\n",
        "\n",
        "        # Save attention weights (to be covered later)\n",
        "        if save_attention_weights:\n",
        "            attention_weight_seq.append(decoder_attention_weights)\n",
        "        # Once the end-of-sequence token is predicted, the generation of the\n",
        "        # output sequence is complete\n",
        "        if pred.item() == tgt_vocab[\"<eos>\"]:\n",
        "            break\n",
        "        output_seq.append(int(pred.item()))\n",
        "\n",
        "    return \" \".join(tgt_vocab.to_tokens(output_seq)), attention_weight_seq, encoder_attention_weights"
      ]
    },
    {
      "cell_type": "code",
      "execution_count": 40,
      "metadata": {
        "execution": {
          "iopub.execute_input": "2022-04-07T04:22:27.873118Z",
          "iopub.status.busy": "2022-04-07T04:22:27.872676Z",
          "iopub.status.idle": "2022-04-07T04:22:27.885548Z",
          "shell.execute_reply": "2022-04-07T04:22:27.884740Z",
          "shell.execute_reply.started": "2022-04-07T04:22:27.873067Z"
        },
        "id": "qwybiVMkwPp8"
      },
      "outputs": [],
      "source": [
        "import math\n",
        "import collections\n",
        "\n",
        "def bleu(pred_seq, label_seq, k):\n",
        "    \"\"\"Compute the BLEU score up to k-grams between a predicted sequence and a reference.\"\"\"\n",
        "    # 1. Tokenize the two sentences on spaces\n",
        "    pred_tokens, label_tokens = pred_seq.split(\" \"), label_seq.split(\" \")\n",
        "    len_pred, len_label = len(pred_tokens), len(label_tokens)\n",
        "\n",
        "    # 2. Brevity penalty: penalize very short predictions\n",
        "    #    BP = exp(min(0, 1 – |ref|/|hyp|))\n",
        "    #    if |hyp| < |ref|, term < 1; else BP = 1\n",
        "    score = math.exp(min(0, 1 - len_label / len_pred))\n",
        "\n",
        "    # 3. For each n from 1 to k, compute clipped n-gram precision and weight it\n",
        "    for n in range(1, k + 1):\n",
        "        num_matches = 0\n",
        "        # Build a histogram of all n-grams in the reference\n",
        "        label_subs = collections.defaultdict(int)\n",
        "        for i in range(len_label - n + 1):\n",
        "            # Concatenate tokens [i:i+n] into a single string key\n",
        "            gram = \"\".join(label_tokens[i : i + n])\n",
        "            label_subs[gram] += 1\n",
        "\n",
        "        # Now count how many of the predicted n-grams appear in that histogram\n",
        "        for i in range(len_pred - n + 1):\n",
        "            gram = \"\".join(pred_tokens[i : i + n])\n",
        "            if label_subs[gram] > 0:\n",
        "                num_matches     += 1\n",
        "                label_subs[gram] -= 1  # clip: don’t count this n-gram more than it appears\n",
        "\n",
        "        # Precision = (# matched n-grams) / (# predicted n-grams)\n",
        "        if len_pred - n + 1 > 0:\n",
        "            precision_n = num_matches / (len_pred - n + 1)\n",
        "        else:\n",
        "            precision_n = 0.0\n",
        "\n",
        "        # Weight this precision by 2^(–n) (i.e. geometric averaging with decreasing weights)\n",
        "        score *= math.pow(precision_n, math.pow(0.5, n))\n",
        "\n",
        "    return score"
      ]
    },
    {
      "cell_type": "code",
      "execution_count": 42,
      "metadata": {
        "colab": {
          "base_uri": "https://localhost:8080/"
        },
        "execution": {
          "iopub.execute_input": "2022-04-07T04:24:58.089281Z",
          "iopub.status.busy": "2022-04-07T04:24:58.088703Z",
          "iopub.status.idle": "2022-04-07T04:24:58.135014Z",
          "shell.execute_reply": "2022-04-07T04:24:58.134202Z",
          "shell.execute_reply.started": "2022-04-07T04:24:58.089240Z"
        },
        "id": "JRbDnsZLsPdy",
        "outputId": "71e5e8d7-3593-4a64-8f5c-a8362ed0f4dd"
      },
      "outputs": [
        {
          "output_type": "stream",
          "name": "stdout",
          "text": [
            "go . => va !,  bleu 1.000\n",
            "i lost . => j'ai perdu .,  bleu 1.000\n",
            "he's calm . => il est calme .,  bleu 1.000\n",
            "i'm home . => je suis chez moi .,  bleu 1.000\n"
          ]
        }
      ],
      "source": [
        "# 1. Example test pairs: English sentences and their French references\n",
        "engs = [\"go .\", \"i lost .\", \"he's calm .\", \"i'm home .\"]\n",
        "fras = [\"va !\", \"j'ai perdu .\", \"il est calme .\", \"je suis chez moi .\"]\n",
        "\n",
        "# 2. Iterate over each English–French pair\n",
        "for eng, fra in zip(engs, fras):\n",
        "    # 3. Call your seq2seq model’s prediction function:\n",
        "    #  It returns:\n",
        "    #    * translation:                the model’s output sentence (string)\n",
        "    #    * dec_attention_weight_seq:   a sequence of decoder attention weight matrices\n",
        "    #    * encoder_attention_weights:  the encoder’s self-attention weights\n",
        "    translation, dec_attention_weight_seq, encoder_attention_weights = predict_seq2seq(\n",
        "        transformer_train_state,\n",
        "        eng,\n",
        "        src_vocab,\n",
        "        tgt_vocab,\n",
        "        num_steps,\n",
        "        True\n",
        "    )\n",
        "\n",
        "    # 4. Compute a 2-gram BLEU score against the reference and print it\n",
        "    #    - bleu(..., k=2) computes up to bigram precision + brevity penalty\n",
        "    print(\n",
        "        f\"{eng} => {translation}, \",\n",
        "        f\"bleu {bleu(translation, fra, k=2):.3f}\"\n",
        "    )\n"
      ]
    },
    {
      "cell_type": "markdown",
      "metadata": {
        "id": "_rxnfmBtsgnn"
      },
      "source": [
        "# Visualization of attention heatmaps\n",
        "\n",
        "We visualize the attention heatmaps for the last (english, french) pair, where the input has length 3 and the output has length 5.\n",
        "\n",
        "The shape of the encoder self-attention weights is (number of encoder layers, number of attention heads, num_steps or number of queries, num_steps or number of key-value pairs).\n"
      ]
    },
    {
      "cell_type": "code",
      "execution_count": 43,
      "metadata": {
        "colab": {
          "base_uri": "https://localhost:8080/"
        },
        "execution": {
          "iopub.execute_input": "2022-04-07T04:22:45.402329Z",
          "iopub.status.busy": "2022-04-07T04:22:45.401902Z",
          "iopub.status.idle": "2022-04-07T04:22:45.410932Z",
          "shell.execute_reply": "2022-04-07T04:22:45.409954Z",
          "shell.execute_reply.started": "2022-04-07T04:22:45.402282Z"
        },
        "id": "OoNT_10Zs540",
        "outputId": "5929ac18-f6eb-4fbe-cbb1-7a9bfe81968a"
      },
      "outputs": [
        {
          "output_type": "execute_result",
          "data": {
            "text/plain": [
              "(2, 4, 10, 10)"
            ]
          },
          "metadata": {},
          "execution_count": 43
        }
      ],
      "source": [
        "enc_attention_weights = jnp.concatenate(encoder_attention_weights, 0).reshape((num_layers, num_heads, -1, num_steps))\n",
        "enc_attention_weights.shape"
      ]
    },
    {
      "cell_type": "markdown",
      "metadata": {
        "id": "gS_fjqcItJBS"
      },
      "source": [
        "Encoder self-attention for each of the 2 encoder blocks.\n",
        "The input has length 4, so all keys are 0 after that."
      ]
    },
    {
      "cell_type": "code",
      "execution_count": 44,
      "metadata": {
        "execution": {
          "iopub.execute_input": "2022-04-07T04:22:45.413371Z",
          "iopub.status.busy": "2022-04-07T04:22:45.412759Z",
          "iopub.status.idle": "2022-04-07T04:22:45.426385Z",
          "shell.execute_reply": "2022-04-07T04:22:45.425338Z",
          "shell.execute_reply.started": "2022-04-07T04:22:45.413327Z"
        },
        "id": "kHyQ3ugTTX9q"
      },
      "outputs": [],
      "source": [
        "def show_heatmaps(matrices, xlabel, ylabel, titles=None, figsize=(2.5, 2.5), cmap=\"Reds\"):\n",
        "    display.set_matplotlib_formats(\"svg\")\n",
        "    num_rows, num_cols = matrices.shape[0], matrices.shape[1]\n",
        "    fig, axes = plt.subplots(num_rows, num_cols, figsize=figsize, sharex=True, sharey=True, squeeze=False)\n",
        "    for i, (row_axes, row_matrices) in enumerate(zip(axes, matrices)):\n",
        "        for j, (ax, matrix) in enumerate(zip(row_axes, row_matrices)):\n",
        "            pcm = ax.imshow(matrix, cmap=cmap)\n",
        "            if i == num_rows - 1:\n",
        "                ax.set_xlabel(xlabel)\n",
        "            if j == 0:\n",
        "                ax.set_ylabel(ylabel)\n",
        "            if titles:\n",
        "                ax.set_title(titles[j])\n",
        "    fig.colorbar(pcm, ax=axes, shrink=0.6)"
      ]
    },
    {
      "cell_type": "code",
      "execution_count": 45,
      "metadata": {
        "colab": {
          "base_uri": "https://localhost:8080/",
          "height": 388
        },
        "execution": {
          "iopub.execute_input": "2022-04-07T04:22:45.428458Z",
          "iopub.status.busy": "2022-04-07T04:22:45.428081Z",
          "iopub.status.idle": "2022-04-07T04:22:46.333378Z",
          "shell.execute_reply": "2022-04-07T04:22:46.331448Z",
          "shell.execute_reply.started": "2022-04-07T04:22:45.428419Z"
        },
        "id": "smscWfpntKFt",
        "outputId": "06575254-fa54-4866-d101-956d65433761"
      },
      "outputs": [
        {
          "output_type": "stream",
          "name": "stderr",
          "text": [
            "/tmp/ipython-input-44-637965182.py:2: DeprecationWarning: `set_matplotlib_formats` is deprecated since IPython 7.23, directly use `matplotlib_inline.backend_inline.set_matplotlib_formats()`\n",
            "  display.set_matplotlib_formats(\"svg\")\n"
          ]
        },
        {
          "output_type": "display_data",
          "data": {
            "text/plain": [
              "<Figure size 700x350 with 9 Axes>"
            ],
            "image/svg+xml": "<?xml version=\"1.0\" encoding=\"utf-8\" standalone=\"no\"?>\n<!DOCTYPE svg PUBLIC \"-//W3C//DTD SVG 1.1//EN\"\n  \"http://www.w3.org/Graphics/SVG/1.1/DTD/svg11.dtd\">\n<svg xmlns:xlink=\"http://www.w3.org/1999/xlink\" width=\"402.17495pt\" height=\"233.64481pt\" viewBox=\"0 0 402.17495 233.64481\" xmlns=\"http://www.w3.org/2000/svg\" version=\"1.1\">\n <metadata>\n  <rdf:RDF xmlns:dc=\"http://purl.org/dc/elements/1.1/\" xmlns:cc=\"http://creativecommons.org/ns#\" xmlns:rdf=\"http://www.w3.org/1999/02/22-rdf-syntax-ns#\">\n   <cc:Work>\n    <dc:type rdf:resource=\"http://purl.org/dc/dcmitype/StillImage\"/>\n    <dc:date>2025-06-26T07:35:25.287266</dc:date>\n    <dc:format>image/svg+xml</dc:format>\n    <dc:creator>\n     <cc:Agent>\n      <dc:title>Matplotlib v3.10.0, https://matplotlib.org/</dc:title>\n     </cc:Agent>\n    </dc:creator>\n   </cc:Work>\n  </rdf:RDF>\n </metadata>\n <defs>\n  <style type=\"text/css\">*{stroke-linejoin: round; stroke-linecap: butt}</style>\n </defs>\n <g id=\"figure_1\">\n  <g id=\"patch_1\">\n   <path d=\"M 0 233.64481 \nL 402.17495 233.64481 \nL 402.17495 0 \nL 0 0 \nz\n\" style=\"fill: #ffffff\"/>\n  </g>\n  <g id=\"axes_1\">\n   <g id=\"patch_2\">\n    <path d=\"M 34.240625 90.24856 \nL 102.17106 90.24856 \nL 102.17106 22.318125 \nL 34.240625 22.318125 \nz\n\" style=\"fill: #ffffff\"/>\n   </g>\n   <g clip-path=\"url(#p35e9527732)\">\n    <image xlink:href=\"data:image/png;base64,\niVBORw0KGgoAAAANSUhEUgAAAF8AAABfCAYAAACOTBv1AAABmElEQVR4nO3aP0oDURRG8TcqmBgVg1XAOuASLFLaqY2LcB/uyd7ewtYFiJ1/EEeJGsclvA8sDvLOr75chsNtHkw39C9Dqfi+vKiNlFJK6Y4W9aHRONq1vjiP5v6zNfoDWmZ8kPFBxgcZH2R8kPFBxgcZH7QRTc1m2bbnx/rMdD/b1QAvH2R8kPFBxgcZH2R8kPFBxgdFj6xuspNte3+rz+zuZbsa4OWDjA8yPsj4IOODjA8yPsj4IOODohfu8HAfLevmh/Wh8STa1QIvH2R8kPFBxgcZH2R8kPFBxgdFj6zl7V20bHR8Vh9araJdLfDyQcYHGR9kfJDxQcYHGR9kfJDxQdEL9+fjM9u2uVWf6V+zXQ3w8kHGBxkfZHyQ8UHGBxkfZHxQ9Mi6vsn+1Tw5mNeHvpbRrhZ4+SDjg4wPMj7I+CDjg4wPMj7I+KDohXv11EfLTrenf/qY1nj5IOODjA8yPsj4IOODjA8yPsj4IOODjA8yPsj4IOODjA8yPsj4IOODjA8yPsj4IOODjA8yPsj4IOODjA/6BYwCIT7iEkzhAAAAAElFTkSuQmCC\" id=\"image2060b86243\" transform=\"scale(1 -1) translate(0 -68.4)\" x=\"34.240625\" y=\"-21.84856\" width=\"68.4\" height=\"68.4\"/>\n   </g>\n   <g id=\"matplotlib.axis_1\">\n    <g id=\"xtick_1\">\n     <g id=\"line2d_1\">\n      <defs>\n       <path id=\"m3239913108\" d=\"M 0 0 \nL 0 3.5 \n\" style=\"stroke: #000000; stroke-width: 0.8\"/>\n      </defs>\n      <g>\n       <use xlink:href=\"#m3239913108\" x=\"37.637147\" y=\"90.24856\" style=\"stroke: #000000; stroke-width: 0.8\"/>\n      </g>\n     </g>\n    </g>\n    <g id=\"xtick_2\">\n     <g id=\"line2d_2\">\n      <g>\n       <use xlink:href=\"#m3239913108\" x=\"71.602364\" y=\"90.24856\" style=\"stroke: #000000; stroke-width: 0.8\"/>\n      </g>\n     </g>\n    </g>\n   </g>\n   <g id=\"matplotlib.axis_2\">\n    <g id=\"ytick_1\">\n     <g id=\"line2d_3\">\n      <defs>\n       <path id=\"m3d52d77240\" d=\"M 0 0 \nL -3.5 0 \n\" style=\"stroke: #000000; stroke-width: 0.8\"/>\n      </defs>\n      <g>\n       <use xlink:href=\"#m3d52d77240\" x=\"34.240625\" y=\"25.714647\" style=\"stroke: #000000; stroke-width: 0.8\"/>\n      </g>\n     </g>\n     <g id=\"text_1\">\n      <!-- 0 -->\n      <g transform=\"translate(20.878125 29.513865) scale(0.1 -0.1)\">\n       <defs>\n        <path id=\"DejaVuSans-30\" d=\"M 2034 4250 \nQ 1547 4250 1301 3770 \nQ 1056 3291 1056 2328 \nQ 1056 1369 1301 889 \nQ 1547 409 2034 409 \nQ 2525 409 2770 889 \nQ 3016 1369 3016 2328 \nQ 3016 3291 2770 3770 \nQ 2525 4250 2034 4250 \nz\nM 2034 4750 \nQ 2819 4750 3233 4129 \nQ 3647 3509 3647 2328 \nQ 3647 1150 3233 529 \nQ 2819 -91 2034 -91 \nQ 1250 -91 836 529 \nQ 422 1150 422 2328 \nQ 422 3509 836 4129 \nQ 1250 4750 2034 4750 \nz\n\" transform=\"scale(0.015625)\"/>\n       </defs>\n       <use xlink:href=\"#DejaVuSans-30\"/>\n      </g>\n     </g>\n    </g>\n    <g id=\"ytick_2\">\n     <g id=\"line2d_4\">\n      <g>\n       <use xlink:href=\"#m3d52d77240\" x=\"34.240625\" y=\"59.679864\" style=\"stroke: #000000; stroke-width: 0.8\"/>\n      </g>\n     </g>\n     <g id=\"text_2\">\n      <!-- 5 -->\n      <g transform=\"translate(20.878125 63.479083) scale(0.1 -0.1)\">\n       <defs>\n        <path id=\"DejaVuSans-35\" d=\"M 691 4666 \nL 3169 4666 \nL 3169 4134 \nL 1269 4134 \nL 1269 2991 \nQ 1406 3038 1543 3061 \nQ 1681 3084 1819 3084 \nQ 2600 3084 3056 2656 \nQ 3513 2228 3513 1497 \nQ 3513 744 3044 326 \nQ 2575 -91 1722 -91 \nQ 1428 -91 1123 -41 \nQ 819 9 494 109 \nL 494 744 \nQ 775 591 1075 516 \nQ 1375 441 1709 441 \nQ 2250 441 2565 725 \nQ 2881 1009 2881 1497 \nQ 2881 1984 2565 2268 \nQ 2250 2553 1709 2553 \nQ 1456 2553 1204 2497 \nQ 953 2441 691 2322 \nL 691 4666 \nz\n\" transform=\"scale(0.015625)\"/>\n       </defs>\n       <use xlink:href=\"#DejaVuSans-35\"/>\n      </g>\n     </g>\n    </g>\n    <g id=\"text_3\">\n     <!-- Query positions -->\n     <g transform=\"translate(14.798437 95.477874) rotate(-90) scale(0.1 -0.1)\">\n      <defs>\n       <path id=\"DejaVuSans-51\" d=\"M 2522 4238 \nQ 1834 4238 1429 3725 \nQ 1025 3213 1025 2328 \nQ 1025 1447 1429 934 \nQ 1834 422 2522 422 \nQ 3209 422 3611 934 \nQ 4013 1447 4013 2328 \nQ 4013 3213 3611 3725 \nQ 3209 4238 2522 4238 \nz\nM 3406 84 \nL 4238 -825 \nL 3475 -825 \nL 2784 -78 \nQ 2681 -84 2626 -87 \nQ 2572 -91 2522 -91 \nQ 1538 -91 948 567 \nQ 359 1225 359 2328 \nQ 359 3434 948 4092 \nQ 1538 4750 2522 4750 \nQ 3503 4750 4090 4092 \nQ 4678 3434 4678 2328 \nQ 4678 1516 4351 937 \nQ 4025 359 3406 84 \nz\n\" transform=\"scale(0.015625)\"/>\n       <path id=\"DejaVuSans-75\" d=\"M 544 1381 \nL 544 3500 \nL 1119 3500 \nL 1119 1403 \nQ 1119 906 1312 657 \nQ 1506 409 1894 409 \nQ 2359 409 2629 706 \nQ 2900 1003 2900 1516 \nL 2900 3500 \nL 3475 3500 \nL 3475 0 \nL 2900 0 \nL 2900 538 \nQ 2691 219 2414 64 \nQ 2138 -91 1772 -91 \nQ 1169 -91 856 284 \nQ 544 659 544 1381 \nz\nM 1991 3584 \nL 1991 3584 \nz\n\" transform=\"scale(0.015625)\"/>\n       <path id=\"DejaVuSans-65\" d=\"M 3597 1894 \nL 3597 1613 \nL 953 1613 \nQ 991 1019 1311 708 \nQ 1631 397 2203 397 \nQ 2534 397 2845 478 \nQ 3156 559 3463 722 \nL 3463 178 \nQ 3153 47 2828 -22 \nQ 2503 -91 2169 -91 \nQ 1331 -91 842 396 \nQ 353 884 353 1716 \nQ 353 2575 817 3079 \nQ 1281 3584 2069 3584 \nQ 2775 3584 3186 3129 \nQ 3597 2675 3597 1894 \nz\nM 3022 2063 \nQ 3016 2534 2758 2815 \nQ 2500 3097 2075 3097 \nQ 1594 3097 1305 2825 \nQ 1016 2553 972 2059 \nL 3022 2063 \nz\n\" transform=\"scale(0.015625)\"/>\n       <path id=\"DejaVuSans-72\" d=\"M 2631 2963 \nQ 2534 3019 2420 3045 \nQ 2306 3072 2169 3072 \nQ 1681 3072 1420 2755 \nQ 1159 2438 1159 1844 \nL 1159 0 \nL 581 0 \nL 581 3500 \nL 1159 3500 \nL 1159 2956 \nQ 1341 3275 1631 3429 \nQ 1922 3584 2338 3584 \nQ 2397 3584 2469 3576 \nQ 2541 3569 2628 3553 \nL 2631 2963 \nz\n\" transform=\"scale(0.015625)\"/>\n       <path id=\"DejaVuSans-79\" d=\"M 2059 -325 \nQ 1816 -950 1584 -1140 \nQ 1353 -1331 966 -1331 \nL 506 -1331 \nL 506 -850 \nL 844 -850 \nQ 1081 -850 1212 -737 \nQ 1344 -625 1503 -206 \nL 1606 56 \nL 191 3500 \nL 800 3500 \nL 1894 763 \nL 2988 3500 \nL 3597 3500 \nL 2059 -325 \nz\n\" transform=\"scale(0.015625)\"/>\n       <path id=\"DejaVuSans-20\" transform=\"scale(0.015625)\"/>\n       <path id=\"DejaVuSans-70\" d=\"M 1159 525 \nL 1159 -1331 \nL 581 -1331 \nL 581 3500 \nL 1159 3500 \nL 1159 2969 \nQ 1341 3281 1617 3432 \nQ 1894 3584 2278 3584 \nQ 2916 3584 3314 3078 \nQ 3713 2572 3713 1747 \nQ 3713 922 3314 415 \nQ 2916 -91 2278 -91 \nQ 1894 -91 1617 61 \nQ 1341 213 1159 525 \nz\nM 3116 1747 \nQ 3116 2381 2855 2742 \nQ 2594 3103 2138 3103 \nQ 1681 3103 1420 2742 \nQ 1159 2381 1159 1747 \nQ 1159 1113 1420 752 \nQ 1681 391 2138 391 \nQ 2594 391 2855 752 \nQ 3116 1113 3116 1747 \nz\n\" transform=\"scale(0.015625)\"/>\n       <path id=\"DejaVuSans-6f\" d=\"M 1959 3097 \nQ 1497 3097 1228 2736 \nQ 959 2375 959 1747 \nQ 959 1119 1226 758 \nQ 1494 397 1959 397 \nQ 2419 397 2687 759 \nQ 2956 1122 2956 1747 \nQ 2956 2369 2687 2733 \nQ 2419 3097 1959 3097 \nz\nM 1959 3584 \nQ 2709 3584 3137 3096 \nQ 3566 2609 3566 1747 \nQ 3566 888 3137 398 \nQ 2709 -91 1959 -91 \nQ 1206 -91 779 398 \nQ 353 888 353 1747 \nQ 353 2609 779 3096 \nQ 1206 3584 1959 3584 \nz\n\" transform=\"scale(0.015625)\"/>\n       <path id=\"DejaVuSans-73\" d=\"M 2834 3397 \nL 2834 2853 \nQ 2591 2978 2328 3040 \nQ 2066 3103 1784 3103 \nQ 1356 3103 1142 2972 \nQ 928 2841 928 2578 \nQ 928 2378 1081 2264 \nQ 1234 2150 1697 2047 \nL 1894 2003 \nQ 2506 1872 2764 1633 \nQ 3022 1394 3022 966 \nQ 3022 478 2636 193 \nQ 2250 -91 1575 -91 \nQ 1294 -91 989 -36 \nQ 684 19 347 128 \nL 347 722 \nQ 666 556 975 473 \nQ 1284 391 1588 391 \nQ 1994 391 2212 530 \nQ 2431 669 2431 922 \nQ 2431 1156 2273 1281 \nQ 2116 1406 1581 1522 \nL 1381 1569 \nQ 847 1681 609 1914 \nQ 372 2147 372 2553 \nQ 372 3047 722 3315 \nQ 1072 3584 1716 3584 \nQ 2034 3584 2315 3537 \nQ 2597 3491 2834 3397 \nz\n\" transform=\"scale(0.015625)\"/>\n       <path id=\"DejaVuSans-69\" d=\"M 603 3500 \nL 1178 3500 \nL 1178 0 \nL 603 0 \nL 603 3500 \nz\nM 603 4863 \nL 1178 4863 \nL 1178 4134 \nL 603 4134 \nL 603 4863 \nz\n\" transform=\"scale(0.015625)\"/>\n       <path id=\"DejaVuSans-74\" d=\"M 1172 4494 \nL 1172 3500 \nL 2356 3500 \nL 2356 3053 \nL 1172 3053 \nL 1172 1153 \nQ 1172 725 1289 603 \nQ 1406 481 1766 481 \nL 2356 481 \nL 2356 0 \nL 1766 0 \nQ 1100 0 847 248 \nQ 594 497 594 1153 \nL 594 3053 \nL 172 3053 \nL 172 3500 \nL 594 3500 \nL 594 4494 \nL 1172 4494 \nz\n\" transform=\"scale(0.015625)\"/>\n       <path id=\"DejaVuSans-6e\" d=\"M 3513 2113 \nL 3513 0 \nL 2938 0 \nL 2938 2094 \nQ 2938 2591 2744 2837 \nQ 2550 3084 2163 3084 \nQ 1697 3084 1428 2787 \nQ 1159 2491 1159 1978 \nL 1159 0 \nL 581 0 \nL 581 3500 \nL 1159 3500 \nL 1159 2956 \nQ 1366 3272 1645 3428 \nQ 1925 3584 2291 3584 \nQ 2894 3584 3203 3211 \nQ 3513 2838 3513 2113 \nz\n\" transform=\"scale(0.015625)\"/>\n      </defs>\n      <use xlink:href=\"#DejaVuSans-51\"/>\n      <use xlink:href=\"#DejaVuSans-75\" transform=\"translate(78.710938 0)\"/>\n      <use xlink:href=\"#DejaVuSans-65\" transform=\"translate(142.089844 0)\"/>\n      <use xlink:href=\"#DejaVuSans-72\" transform=\"translate(203.613281 0)\"/>\n      <use xlink:href=\"#DejaVuSans-79\" transform=\"translate(244.726562 0)\"/>\n      <use xlink:href=\"#DejaVuSans-20\" transform=\"translate(303.90625 0)\"/>\n      <use xlink:href=\"#DejaVuSans-70\" transform=\"translate(335.693359 0)\"/>\n      <use xlink:href=\"#DejaVuSans-6f\" transform=\"translate(399.169922 0)\"/>\n      <use xlink:href=\"#DejaVuSans-73\" transform=\"translate(460.351562 0)\"/>\n      <use xlink:href=\"#DejaVuSans-69\" transform=\"translate(512.451172 0)\"/>\n      <use xlink:href=\"#DejaVuSans-74\" transform=\"translate(540.234375 0)\"/>\n      <use xlink:href=\"#DejaVuSans-69\" transform=\"translate(579.443359 0)\"/>\n      <use xlink:href=\"#DejaVuSans-6f\" transform=\"translate(607.226562 0)\"/>\n      <use xlink:href=\"#DejaVuSans-6e\" transform=\"translate(668.408203 0)\"/>\n      <use xlink:href=\"#DejaVuSans-73\" transform=\"translate(731.787109 0)\"/>\n     </g>\n    </g>\n   </g>\n   <g id=\"patch_3\">\n    <path d=\"M 34.240625 90.24856 \nL 34.240625 22.318125 \n\" style=\"fill: none; stroke: #000000; stroke-width: 0.8; stroke-linejoin: miter; stroke-linecap: square\"/>\n   </g>\n   <g id=\"patch_4\">\n    <path d=\"M 102.17106 90.24856 \nL 102.17106 22.318125 \n\" style=\"fill: none; stroke: #000000; stroke-width: 0.8; stroke-linejoin: miter; stroke-linecap: square\"/>\n   </g>\n   <g id=\"patch_5\">\n    <path d=\"M 34.240625 90.24856 \nL 102.17106 90.24856 \n\" style=\"fill: none; stroke: #000000; stroke-width: 0.8; stroke-linejoin: miter; stroke-linecap: square\"/>\n   </g>\n   <g id=\"patch_6\">\n    <path d=\"M 34.240625 22.318125 \nL 102.17106 22.318125 \n\" style=\"fill: none; stroke: #000000; stroke-width: 0.8; stroke-linejoin: miter; stroke-linecap: square\"/>\n   </g>\n   <g id=\"text_4\">\n    <!-- Head 1 -->\n    <g transform=\"translate(46.791467 16.318125) scale(0.12 -0.12)\">\n     <defs>\n      <path id=\"DejaVuSans-48\" d=\"M 628 4666 \nL 1259 4666 \nL 1259 2753 \nL 3553 2753 \nL 3553 4666 \nL 4184 4666 \nL 4184 0 \nL 3553 0 \nL 3553 2222 \nL 1259 2222 \nL 1259 0 \nL 628 0 \nL 628 4666 \nz\n\" transform=\"scale(0.015625)\"/>\n      <path id=\"DejaVuSans-61\" d=\"M 2194 1759 \nQ 1497 1759 1228 1600 \nQ 959 1441 959 1056 \nQ 959 750 1161 570 \nQ 1363 391 1709 391 \nQ 2188 391 2477 730 \nQ 2766 1069 2766 1631 \nL 2766 1759 \nL 2194 1759 \nz\nM 3341 1997 \nL 3341 0 \nL 2766 0 \nL 2766 531 \nQ 2569 213 2275 61 \nQ 1981 -91 1556 -91 \nQ 1019 -91 701 211 \nQ 384 513 384 1019 \nQ 384 1609 779 1909 \nQ 1175 2209 1959 2209 \nL 2766 2209 \nL 2766 2266 \nQ 2766 2663 2505 2880 \nQ 2244 3097 1772 3097 \nQ 1472 3097 1187 3025 \nQ 903 2953 641 2809 \nL 641 3341 \nQ 956 3463 1253 3523 \nQ 1550 3584 1831 3584 \nQ 2591 3584 2966 3190 \nQ 3341 2797 3341 1997 \nz\n\" transform=\"scale(0.015625)\"/>\n      <path id=\"DejaVuSans-64\" d=\"M 2906 2969 \nL 2906 4863 \nL 3481 4863 \nL 3481 0 \nL 2906 0 \nL 2906 525 \nQ 2725 213 2448 61 \nQ 2172 -91 1784 -91 \nQ 1150 -91 751 415 \nQ 353 922 353 1747 \nQ 353 2572 751 3078 \nQ 1150 3584 1784 3584 \nQ 2172 3584 2448 3432 \nQ 2725 3281 2906 2969 \nz\nM 947 1747 \nQ 947 1113 1208 752 \nQ 1469 391 1925 391 \nQ 2381 391 2643 752 \nQ 2906 1113 2906 1747 \nQ 2906 2381 2643 2742 \nQ 2381 3103 1925 3103 \nQ 1469 3103 1208 2742 \nQ 947 2381 947 1747 \nz\n\" transform=\"scale(0.015625)\"/>\n      <path id=\"DejaVuSans-31\" d=\"M 794 531 \nL 1825 531 \nL 1825 4091 \nL 703 3866 \nL 703 4441 \nL 1819 4666 \nL 2450 4666 \nL 2450 531 \nL 3481 531 \nL 3481 0 \nL 794 0 \nL 794 531 \nz\n\" transform=\"scale(0.015625)\"/>\n     </defs>\n     <use xlink:href=\"#DejaVuSans-48\"/>\n     <use xlink:href=\"#DejaVuSans-65\" transform=\"translate(75.195312 0)\"/>\n     <use xlink:href=\"#DejaVuSans-61\" transform=\"translate(136.71875 0)\"/>\n     <use xlink:href=\"#DejaVuSans-64\" transform=\"translate(197.998047 0)\"/>\n     <use xlink:href=\"#DejaVuSans-20\" transform=\"translate(261.474609 0)\"/>\n     <use xlink:href=\"#DejaVuSans-31\" transform=\"translate(293.261719 0)\"/>\n    </g>\n   </g>\n  </g>\n  <g id=\"axes_2\">\n   <g id=\"patch_7\">\n    <path d=\"M 115.757147 90.24856 \nL 183.687582 90.24856 \nL 183.687582 22.318125 \nL 115.757147 22.318125 \nz\n\" style=\"fill: #ffffff\"/>\n   </g>\n   <g clip-path=\"url(#pdeba1bf633)\">\n    <image xlink:href=\"data:image/png;base64,\niVBORw0KGgoAAAANSUhEUgAAAF8AAABfCAYAAACOTBv1AAABZ0lEQVR4nO3dsUn2UBiA0RsJKOgIWomlleAKrvI39g5iYesYjuAcWlhYaKHlHwsHSGx8kO+c+iVcHt4mJCHT8vG2jBX/Do/XRsYYY9x9PG+a49tefYBdJn5I/JD4IfFD4ofED4kfEj8kfkj8kPgh8UPih8QPiR8SPyR+SPyQ+CHxQ+KHxA+JHxI/JH5I/JD4oXlZVt+THdOYfuEou8fmh8QPiR8SPyR+SPyQ+CHxQ/M0uYGq2PyQ+CHxQ+KHxA+JHxI/JH5I/NC8ZWgZ648a+TmbHxI/JH5I/JD4IfFD4ofED83L5/vq0Mn+pnsxfsjmh8QPiR8SPyR+SPyQ+CHxQ+KH5perq9Whm9vrXzjK7rH5IfFD4ofED4kfEj8kfkj80OTfiB2bHxI/JH5I/JD4IfFD4ofED4kfmv6/Pq1/anhwtOlij6fnqzOXD/ebrrV3drFp7i+z+SHxQ+KHxA+JHxI/JH5I/NAXxrAgbBMNGnkAAAAASUVORK5CYII=\" id=\"imagef945a652e4\" transform=\"scale(1 -1) translate(0 -68.4)\" x=\"115.757147\" y=\"-21.84856\" width=\"68.4\" height=\"68.4\"/>\n   </g>\n   <g id=\"matplotlib.axis_3\">\n    <g id=\"xtick_3\">\n     <g id=\"line2d_5\">\n      <g>\n       <use xlink:href=\"#m3239913108\" x=\"119.153668\" y=\"90.24856\" style=\"stroke: #000000; stroke-width: 0.8\"/>\n      </g>\n     </g>\n    </g>\n    <g id=\"xtick_4\">\n     <g id=\"line2d_6\">\n      <g>\n       <use xlink:href=\"#m3239913108\" x=\"153.118886\" y=\"90.24856\" style=\"stroke: #000000; stroke-width: 0.8\"/>\n      </g>\n     </g>\n    </g>\n   </g>\n   <g id=\"matplotlib.axis_4\">\n    <g id=\"ytick_3\">\n     <g id=\"line2d_7\">\n      <g>\n       <use xlink:href=\"#m3d52d77240\" x=\"115.757147\" y=\"25.714647\" style=\"stroke: #000000; stroke-width: 0.8\"/>\n      </g>\n     </g>\n    </g>\n    <g id=\"ytick_4\">\n     <g id=\"line2d_8\">\n      <g>\n       <use xlink:href=\"#m3d52d77240\" x=\"115.757147\" y=\"59.679864\" style=\"stroke: #000000; stroke-width: 0.8\"/>\n      </g>\n     </g>\n    </g>\n   </g>\n   <g id=\"patch_8\">\n    <path d=\"M 115.757147 90.24856 \nL 115.757147 22.318125 \n\" style=\"fill: none; stroke: #000000; stroke-width: 0.8; stroke-linejoin: miter; stroke-linecap: square\"/>\n   </g>\n   <g id=\"patch_9\">\n    <path d=\"M 183.687582 90.24856 \nL 183.687582 22.318125 \n\" style=\"fill: none; stroke: #000000; stroke-width: 0.8; stroke-linejoin: miter; stroke-linecap: square\"/>\n   </g>\n   <g id=\"patch_10\">\n    <path d=\"M 115.757147 90.24856 \nL 183.687582 90.24856 \n\" style=\"fill: none; stroke: #000000; stroke-width: 0.8; stroke-linejoin: miter; stroke-linecap: square\"/>\n   </g>\n   <g id=\"patch_11\">\n    <path d=\"M 115.757147 22.318125 \nL 183.687582 22.318125 \n\" style=\"fill: none; stroke: #000000; stroke-width: 0.8; stroke-linejoin: miter; stroke-linecap: square\"/>\n   </g>\n   <g id=\"text_5\">\n    <!-- Head 2 -->\n    <g transform=\"translate(128.307989 16.318125) scale(0.12 -0.12)\">\n     <defs>\n      <path id=\"DejaVuSans-32\" d=\"M 1228 531 \nL 3431 531 \nL 3431 0 \nL 469 0 \nL 469 531 \nQ 828 903 1448 1529 \nQ 2069 2156 2228 2338 \nQ 2531 2678 2651 2914 \nQ 2772 3150 2772 3378 \nQ 2772 3750 2511 3984 \nQ 2250 4219 1831 4219 \nQ 1534 4219 1204 4116 \nQ 875 4013 500 3803 \nL 500 4441 \nQ 881 4594 1212 4672 \nQ 1544 4750 1819 4750 \nQ 2544 4750 2975 4387 \nQ 3406 4025 3406 3419 \nQ 3406 3131 3298 2873 \nQ 3191 2616 2906 2266 \nQ 2828 2175 2409 1742 \nQ 1991 1309 1228 531 \nz\n\" transform=\"scale(0.015625)\"/>\n     </defs>\n     <use xlink:href=\"#DejaVuSans-48\"/>\n     <use xlink:href=\"#DejaVuSans-65\" transform=\"translate(75.195312 0)\"/>\n     <use xlink:href=\"#DejaVuSans-61\" transform=\"translate(136.71875 0)\"/>\n     <use xlink:href=\"#DejaVuSans-64\" transform=\"translate(197.998047 0)\"/>\n     <use xlink:href=\"#DejaVuSans-20\" transform=\"translate(261.474609 0)\"/>\n     <use xlink:href=\"#DejaVuSans-32\" transform=\"translate(293.261719 0)\"/>\n    </g>\n   </g>\n  </g>\n  <g id=\"axes_3\">\n   <g id=\"patch_12\">\n    <path d=\"M 197.273668 90.24856 \nL 265.204103 90.24856 \nL 265.204103 22.318125 \nL 197.273668 22.318125 \nz\n\" style=\"fill: #ffffff\"/>\n   </g>\n   <g clip-path=\"url(#pa696bf0d3a)\">\n    <image xlink:href=\"data:image/png;base64,\niVBORw0KGgoAAAANSUhEUgAAAF8AAABfCAYAAACOTBv1AAABLUlEQVR4nO3XQWoCQRBAUUfagJBFbpkr5YCeIOBCHMYcYSaK/MW8t26a4lObmr4Pn4/Dip/rZe0JTzjWA+yZ+CHxQ+KHxA+JHxI/JH5I/JD4IfFD4ofED4kfEj8kfkj8kPgh8UPih8QPiR8SPyR+SPyQ+CHxQ+KHxvm43v8x3zd9No3Tq/Psis0PiR8SPyR+SPyQ+CHxQ+KHxtfY0H++bfzNkfUfNj8kfkj8kPgh8UPih8QPiR8SPzR+52XDq4/3T7JDNj8kfkj8kPgh8UPih8QPiR8a12X9yJocWW9h80Pih8QPiR8SPyR+SPyQ+CHxQ+KHxA+JHxI/JH5I/JD4IfFD4ofED4kfEj8kfkj8kPgh8UPih8QPiR8SPyR+SPyQ+CHxQ+KHxA+JHxI/9Af1vg+8FT9zAAAAAABJRU5ErkJggg==\" id=\"image4968a81080\" transform=\"scale(1 -1) translate(0 -68.4)\" x=\"197.273668\" y=\"-21.84856\" width=\"68.4\" height=\"68.4\"/>\n   </g>\n   <g id=\"matplotlib.axis_5\">\n    <g id=\"xtick_5\">\n     <g id=\"line2d_9\">\n      <g>\n       <use xlink:href=\"#m3239913108\" x=\"200.67019\" y=\"90.24856\" style=\"stroke: #000000; stroke-width: 0.8\"/>\n      </g>\n     </g>\n    </g>\n    <g id=\"xtick_6\">\n     <g id=\"line2d_10\">\n      <g>\n       <use xlink:href=\"#m3239913108\" x=\"234.635408\" y=\"90.24856\" style=\"stroke: #000000; stroke-width: 0.8\"/>\n      </g>\n     </g>\n    </g>\n   </g>\n   <g id=\"matplotlib.axis_6\">\n    <g id=\"ytick_5\">\n     <g id=\"line2d_11\">\n      <g>\n       <use xlink:href=\"#m3d52d77240\" x=\"197.273668\" y=\"25.714647\" style=\"stroke: #000000; stroke-width: 0.8\"/>\n      </g>\n     </g>\n    </g>\n    <g id=\"ytick_6\">\n     <g id=\"line2d_12\">\n      <g>\n       <use xlink:href=\"#m3d52d77240\" x=\"197.273668\" y=\"59.679864\" style=\"stroke: #000000; stroke-width: 0.8\"/>\n      </g>\n     </g>\n    </g>\n   </g>\n   <g id=\"patch_13\">\n    <path d=\"M 197.273668 90.24856 \nL 197.273668 22.318125 \n\" style=\"fill: none; stroke: #000000; stroke-width: 0.8; stroke-linejoin: miter; stroke-linecap: square\"/>\n   </g>\n   <g id=\"patch_14\">\n    <path d=\"M 265.204103 90.24856 \nL 265.204103 22.318125 \n\" style=\"fill: none; stroke: #000000; stroke-width: 0.8; stroke-linejoin: miter; stroke-linecap: square\"/>\n   </g>\n   <g id=\"patch_15\">\n    <path d=\"M 197.273668 90.24856 \nL 265.204103 90.24856 \n\" style=\"fill: none; stroke: #000000; stroke-width: 0.8; stroke-linejoin: miter; stroke-linecap: square\"/>\n   </g>\n   <g id=\"patch_16\">\n    <path d=\"M 197.273668 22.318125 \nL 265.204103 22.318125 \n\" style=\"fill: none; stroke: #000000; stroke-width: 0.8; stroke-linejoin: miter; stroke-linecap: square\"/>\n   </g>\n   <g id=\"text_6\">\n    <!-- Head 3 -->\n    <g transform=\"translate(209.824511 16.318125) scale(0.12 -0.12)\">\n     <defs>\n      <path id=\"DejaVuSans-33\" d=\"M 2597 2516 \nQ 3050 2419 3304 2112 \nQ 3559 1806 3559 1356 \nQ 3559 666 3084 287 \nQ 2609 -91 1734 -91 \nQ 1441 -91 1130 -33 \nQ 819 25 488 141 \nL 488 750 \nQ 750 597 1062 519 \nQ 1375 441 1716 441 \nQ 2309 441 2620 675 \nQ 2931 909 2931 1356 \nQ 2931 1769 2642 2001 \nQ 2353 2234 1838 2234 \nL 1294 2234 \nL 1294 2753 \nL 1863 2753 \nQ 2328 2753 2575 2939 \nQ 2822 3125 2822 3475 \nQ 2822 3834 2567 4026 \nQ 2313 4219 1838 4219 \nQ 1578 4219 1281 4162 \nQ 984 4106 628 3988 \nL 628 4550 \nQ 988 4650 1302 4700 \nQ 1616 4750 1894 4750 \nQ 2613 4750 3031 4423 \nQ 3450 4097 3450 3541 \nQ 3450 3153 3228 2886 \nQ 3006 2619 2597 2516 \nz\n\" transform=\"scale(0.015625)\"/>\n     </defs>\n     <use xlink:href=\"#DejaVuSans-48\"/>\n     <use xlink:href=\"#DejaVuSans-65\" transform=\"translate(75.195312 0)\"/>\n     <use xlink:href=\"#DejaVuSans-61\" transform=\"translate(136.71875 0)\"/>\n     <use xlink:href=\"#DejaVuSans-64\" transform=\"translate(197.998047 0)\"/>\n     <use xlink:href=\"#DejaVuSans-20\" transform=\"translate(261.474609 0)\"/>\n     <use xlink:href=\"#DejaVuSans-33\" transform=\"translate(293.261719 0)\"/>\n    </g>\n   </g>\n  </g>\n  <g id=\"axes_4\">\n   <g id=\"patch_17\">\n    <path d=\"M 278.79019 90.24856 \nL 346.720625 90.24856 \nL 346.720625 22.318125 \nL 278.79019 22.318125 \nz\n\" style=\"fill: #ffffff\"/>\n   </g>\n   <g clip-path=\"url(#pf9a0c55316)\">\n    <image xlink:href=\"data:image/png;base64,\niVBORw0KGgoAAAANSUhEUgAAAF8AAABfCAYAAACOTBv1AAAB/ElEQVR4nO3csUocURSA4Xt3x1UQAlEhjcQuEBFSJJU2eQQhL2Bpkc5Oi/QJaQTBF7D2CWxSSMAu2KSJhVtJCCFgQNzZsQipz4EQfpb5v/pwZvi5zYXZre3lp64E6qPlaOSP4Vw48uPNdmrV8tl57pkzbEC/QJ8ZH2R8kPFBxgcZH2R8kPFBxgc13c11OFSfrOW2/f4VjoyWFnO7esCTDzI+yPgg44OMDzI+yPgg44OaMr6Kp168Ti3rptNwZmFtJbWrDzz5IOODjA8yPsj4IOODjA8yPsj4oKa0bTx1f5daVpv4Q9k6GqV29YEnH2R8kPFBxgcZH2R8kPFBxgc1Zf1lODT9epFaNnj2Kh6aTFK7+sCTDzI+yPgg44OMDzI+yPgg44OMD2oGT5+HQ+3Ru9y2ja14ZsUPZf/y5IOMDzI+yPgg44OMDzI+yPigOjk/Df/U9PP229SyzW+X8VAX/2KxlFLqYJiam2WefJDxQcYHGR9kfJDxQcYHGR9kfFD9sPA4vOHujb/kts1n/rA0fFwpxRuu/jPjg4wPMj7I+CDjg4wPMj6oTr9fh7ee9vAgtWy49zGcafd3Urua9yepuVnmyQcZH2R8kPFBxgcZH2R8kPFBxgfV7vZneMPdXVxNLTu+Hf/zC/WJJx9kfJDxQcYHGR9kfJDxQcYHPQCtfDzqrLZXHQAAAABJRU5ErkJggg==\" id=\"image18b26e0640\" transform=\"scale(1 -1) translate(0 -68.4)\" x=\"278.79019\" y=\"-21.84856\" width=\"68.4\" height=\"68.4\"/>\n   </g>\n   <g id=\"matplotlib.axis_7\">\n    <g id=\"xtick_7\">\n     <g id=\"line2d_13\">\n      <g>\n       <use xlink:href=\"#m3239913108\" x=\"282.186712\" y=\"90.24856\" style=\"stroke: #000000; stroke-width: 0.8\"/>\n      </g>\n     </g>\n    </g>\n    <g id=\"xtick_8\">\n     <g id=\"line2d_14\">\n      <g>\n       <use xlink:href=\"#m3239913108\" x=\"316.151929\" y=\"90.24856\" style=\"stroke: #000000; stroke-width: 0.8\"/>\n      </g>\n     </g>\n    </g>\n   </g>\n   <g id=\"matplotlib.axis_8\">\n    <g id=\"ytick_7\">\n     <g id=\"line2d_15\">\n      <g>\n       <use xlink:href=\"#m3d52d77240\" x=\"278.79019\" y=\"25.714647\" style=\"stroke: #000000; stroke-width: 0.8\"/>\n      </g>\n     </g>\n    </g>\n    <g id=\"ytick_8\">\n     <g id=\"line2d_16\">\n      <g>\n       <use xlink:href=\"#m3d52d77240\" x=\"278.79019\" y=\"59.679864\" style=\"stroke: #000000; stroke-width: 0.8\"/>\n      </g>\n     </g>\n    </g>\n   </g>\n   <g id=\"patch_18\">\n    <path d=\"M 278.79019 90.24856 \nL 278.79019 22.318125 \n\" style=\"fill: none; stroke: #000000; stroke-width: 0.8; stroke-linejoin: miter; stroke-linecap: square\"/>\n   </g>\n   <g id=\"patch_19\">\n    <path d=\"M 346.720625 90.24856 \nL 346.720625 22.318125 \n\" style=\"fill: none; stroke: #000000; stroke-width: 0.8; stroke-linejoin: miter; stroke-linecap: square\"/>\n   </g>\n   <g id=\"patch_20\">\n    <path d=\"M 278.79019 90.24856 \nL 346.720625 90.24856 \n\" style=\"fill: none; stroke: #000000; stroke-width: 0.8; stroke-linejoin: miter; stroke-linecap: square\"/>\n   </g>\n   <g id=\"patch_21\">\n    <path d=\"M 278.79019 22.318125 \nL 346.720625 22.318125 \n\" style=\"fill: none; stroke: #000000; stroke-width: 0.8; stroke-linejoin: miter; stroke-linecap: square\"/>\n   </g>\n   <g id=\"text_7\">\n    <!-- Head 4 -->\n    <g transform=\"translate(291.341033 16.318125) scale(0.12 -0.12)\">\n     <defs>\n      <path id=\"DejaVuSans-34\" d=\"M 2419 4116 \nL 825 1625 \nL 2419 1625 \nL 2419 4116 \nz\nM 2253 4666 \nL 3047 4666 \nL 3047 1625 \nL 3713 1625 \nL 3713 1100 \nL 3047 1100 \nL 3047 0 \nL 2419 0 \nL 2419 1100 \nL 313 1100 \nL 313 1709 \nL 2253 4666 \nz\n\" transform=\"scale(0.015625)\"/>\n     </defs>\n     <use xlink:href=\"#DejaVuSans-48\"/>\n     <use xlink:href=\"#DejaVuSans-65\" transform=\"translate(75.195312 0)\"/>\n     <use xlink:href=\"#DejaVuSans-61\" transform=\"translate(136.71875 0)\"/>\n     <use xlink:href=\"#DejaVuSans-64\" transform=\"translate(197.998047 0)\"/>\n     <use xlink:href=\"#DejaVuSans-20\" transform=\"translate(261.474609 0)\"/>\n     <use xlink:href=\"#DejaVuSans-34\" transform=\"translate(293.261719 0)\"/>\n    </g>\n   </g>\n  </g>\n  <g id=\"axes_5\">\n   <g id=\"patch_22\">\n    <path d=\"M 34.240625 196.08856 \nL 102.17106 196.08856 \nL 102.17106 128.158125 \nL 34.240625 128.158125 \nz\n\" style=\"fill: #ffffff\"/>\n   </g>\n   <g clip-path=\"url(#p6668998865)\">\n    <image xlink:href=\"data:image/png;base64,\niVBORw0KGgoAAAANSUhEUgAAAF8AAABfCAYAAACOTBv1AAABt0lEQVR4nO3cPUoDURRA4XmZJ0YiQirBQnAr7kPXYOlGbGxdiL2llZ2dqUQUMyE/JFaK3b3FwCHM+erLm3DmNsMMKYury10TuHl4ikaapmmau8f7eOjlOXVWe32bmttnI/oHDJnxQcYHGR9kfJDxQcYHGR9kfFAtbenvtJK4l+tVf9fbc24+yPgg44OMDzI+yPgg44OMD6qltuFQaZIPYiWe2618yPrl5oOMDzI+yPgg44OMDzI+yPgg44Nqaij7pnEXfnOrf9x8kPFBxgcZH2R8kPFBxgcZH1S3y004dNIm71HmO8w2fm05FG4+yPgg44OMDzI+yPgg44OMDzI+qG67ZTg0rT0+4SY+ph0KNx9kfJDxQcYHGR9kfJDxQcYH1c/X93DofHyQO+3rIxwpp2e5swbAzQcZH2R8kPFBxgcZH2R8kPFBxgfVros/lE07HMczm3V/19tzbj7I+CDjg4wPMj7I+CDjg4wPqpNJ/K8vx6PkPVp08cz8O3fWALj5IOODjA8yPsj4IOODjA8yPsj4oPo2i59KL6ZHudMW83jG/9v54+aDjA8yPsj4IOODjA8yPsj4oB98AS2H6749MwAAAABJRU5ErkJggg==\" id=\"imageb2dff8f875\" transform=\"scale(1 -1) translate(0 -68.4)\" x=\"34.240625\" y=\"-127.68856\" width=\"68.4\" height=\"68.4\"/>\n   </g>\n   <g id=\"matplotlib.axis_9\">\n    <g id=\"xtick_9\">\n     <g id=\"line2d_17\">\n      <g>\n       <use xlink:href=\"#m3239913108\" x=\"37.637147\" y=\"196.08856\" style=\"stroke: #000000; stroke-width: 0.8\"/>\n      </g>\n     </g>\n     <g id=\"text_8\">\n      <!-- 0 -->\n      <g transform=\"translate(34.455897 210.686997) scale(0.1 -0.1)\">\n       <use xlink:href=\"#DejaVuSans-30\"/>\n      </g>\n     </g>\n    </g>\n    <g id=\"xtick_10\">\n     <g id=\"line2d_18\">\n      <g>\n       <use xlink:href=\"#m3239913108\" x=\"71.602364\" y=\"196.08856\" style=\"stroke: #000000; stroke-width: 0.8\"/>\n      </g>\n     </g>\n     <g id=\"text_9\">\n      <!-- 5 -->\n      <g transform=\"translate(68.421114 210.686997) scale(0.1 -0.1)\">\n       <use xlink:href=\"#DejaVuSans-35\"/>\n      </g>\n     </g>\n    </g>\n    <g id=\"text_10\">\n     <!-- Key positions -->\n     <g transform=\"translate(35.142561 224.365122) scale(0.1 -0.1)\">\n      <defs>\n       <path id=\"DejaVuSans-4b\" d=\"M 628 4666 \nL 1259 4666 \nL 1259 2694 \nL 3353 4666 \nL 4166 4666 \nL 1850 2491 \nL 4331 0 \nL 3500 0 \nL 1259 2247 \nL 1259 0 \nL 628 0 \nL 628 4666 \nz\n\" transform=\"scale(0.015625)\"/>\n      </defs>\n      <use xlink:href=\"#DejaVuSans-4b\"/>\n      <use xlink:href=\"#DejaVuSans-65\" transform=\"translate(60.576172 0)\"/>\n      <use xlink:href=\"#DejaVuSans-79\" transform=\"translate(122.099609 0)\"/>\n      <use xlink:href=\"#DejaVuSans-20\" transform=\"translate(181.279297 0)\"/>\n      <use xlink:href=\"#DejaVuSans-70\" transform=\"translate(213.066406 0)\"/>\n      <use xlink:href=\"#DejaVuSans-6f\" transform=\"translate(276.542969 0)\"/>\n      <use xlink:href=\"#DejaVuSans-73\" transform=\"translate(337.724609 0)\"/>\n      <use xlink:href=\"#DejaVuSans-69\" transform=\"translate(389.824219 0)\"/>\n      <use xlink:href=\"#DejaVuSans-74\" transform=\"translate(417.607422 0)\"/>\n      <use xlink:href=\"#DejaVuSans-69\" transform=\"translate(456.816406 0)\"/>\n      <use xlink:href=\"#DejaVuSans-6f\" transform=\"translate(484.599609 0)\"/>\n      <use xlink:href=\"#DejaVuSans-6e\" transform=\"translate(545.78125 0)\"/>\n      <use xlink:href=\"#DejaVuSans-73\" transform=\"translate(609.160156 0)\"/>\n     </g>\n    </g>\n   </g>\n   <g id=\"matplotlib.axis_10\">\n    <g id=\"ytick_9\">\n     <g id=\"line2d_19\">\n      <g>\n       <use xlink:href=\"#m3d52d77240\" x=\"34.240625\" y=\"131.554647\" style=\"stroke: #000000; stroke-width: 0.8\"/>\n      </g>\n     </g>\n     <g id=\"text_11\">\n      <!-- 0 -->\n      <g transform=\"translate(20.878125 135.353865) scale(0.1 -0.1)\">\n       <use xlink:href=\"#DejaVuSans-30\"/>\n      </g>\n     </g>\n    </g>\n    <g id=\"ytick_10\">\n     <g id=\"line2d_20\">\n      <g>\n       <use xlink:href=\"#m3d52d77240\" x=\"34.240625\" y=\"165.519864\" style=\"stroke: #000000; stroke-width: 0.8\"/>\n      </g>\n     </g>\n     <g id=\"text_12\">\n      <!-- 5 -->\n      <g transform=\"translate(20.878125 169.319083) scale(0.1 -0.1)\">\n       <use xlink:href=\"#DejaVuSans-35\"/>\n      </g>\n     </g>\n    </g>\n    <g id=\"text_13\">\n     <!-- Query positions -->\n     <g transform=\"translate(14.798437 201.317874) rotate(-90) scale(0.1 -0.1)\">\n      <use xlink:href=\"#DejaVuSans-51\"/>\n      <use xlink:href=\"#DejaVuSans-75\" transform=\"translate(78.710938 0)\"/>\n      <use xlink:href=\"#DejaVuSans-65\" transform=\"translate(142.089844 0)\"/>\n      <use xlink:href=\"#DejaVuSans-72\" transform=\"translate(203.613281 0)\"/>\n      <use xlink:href=\"#DejaVuSans-79\" transform=\"translate(244.726562 0)\"/>\n      <use xlink:href=\"#DejaVuSans-20\" transform=\"translate(303.90625 0)\"/>\n      <use xlink:href=\"#DejaVuSans-70\" transform=\"translate(335.693359 0)\"/>\n      <use xlink:href=\"#DejaVuSans-6f\" transform=\"translate(399.169922 0)\"/>\n      <use xlink:href=\"#DejaVuSans-73\" transform=\"translate(460.351562 0)\"/>\n      <use xlink:href=\"#DejaVuSans-69\" transform=\"translate(512.451172 0)\"/>\n      <use xlink:href=\"#DejaVuSans-74\" transform=\"translate(540.234375 0)\"/>\n      <use xlink:href=\"#DejaVuSans-69\" transform=\"translate(579.443359 0)\"/>\n      <use xlink:href=\"#DejaVuSans-6f\" transform=\"translate(607.226562 0)\"/>\n      <use xlink:href=\"#DejaVuSans-6e\" transform=\"translate(668.408203 0)\"/>\n      <use xlink:href=\"#DejaVuSans-73\" transform=\"translate(731.787109 0)\"/>\n     </g>\n    </g>\n   </g>\n   <g id=\"patch_23\">\n    <path d=\"M 34.240625 196.08856 \nL 34.240625 128.158125 \n\" style=\"fill: none; stroke: #000000; stroke-width: 0.8; stroke-linejoin: miter; stroke-linecap: square\"/>\n   </g>\n   <g id=\"patch_24\">\n    <path d=\"M 102.17106 196.08856 \nL 102.17106 128.158125 \n\" style=\"fill: none; stroke: #000000; stroke-width: 0.8; stroke-linejoin: miter; stroke-linecap: square\"/>\n   </g>\n   <g id=\"patch_25\">\n    <path d=\"M 34.240625 196.08856 \nL 102.17106 196.08856 \n\" style=\"fill: none; stroke: #000000; stroke-width: 0.8; stroke-linejoin: miter; stroke-linecap: square\"/>\n   </g>\n   <g id=\"patch_26\">\n    <path d=\"M 34.240625 128.158125 \nL 102.17106 128.158125 \n\" style=\"fill: none; stroke: #000000; stroke-width: 0.8; stroke-linejoin: miter; stroke-linecap: square\"/>\n   </g>\n   <g id=\"text_14\">\n    <!-- Head 1 -->\n    <g transform=\"translate(46.791467 122.158125) scale(0.12 -0.12)\">\n     <use xlink:href=\"#DejaVuSans-48\"/>\n     <use xlink:href=\"#DejaVuSans-65\" transform=\"translate(75.195312 0)\"/>\n     <use xlink:href=\"#DejaVuSans-61\" transform=\"translate(136.71875 0)\"/>\n     <use xlink:href=\"#DejaVuSans-64\" transform=\"translate(197.998047 0)\"/>\n     <use xlink:href=\"#DejaVuSans-20\" transform=\"translate(261.474609 0)\"/>\n     <use xlink:href=\"#DejaVuSans-31\" transform=\"translate(293.261719 0)\"/>\n    </g>\n   </g>\n  </g>\n  <g id=\"axes_6\">\n   <g id=\"patch_27\">\n    <path d=\"M 115.757147 196.08856 \nL 183.687582 196.08856 \nL 183.687582 128.158125 \nL 115.757147 128.158125 \nz\n\" style=\"fill: #ffffff\"/>\n   </g>\n   <g clip-path=\"url(#p45e2920668)\">\n    <image xlink:href=\"data:image/png;base64,\niVBORw0KGgoAAAANSUhEUgAAAF8AAABfCAYAAACOTBv1AAAB2klEQVR4nO3awSpEYRiA4TPjZ5hhNhZCU1Jko6TkQrgLZW/rBqwsKBs7G7ZuQNhYKHIJWFEaQzPDSpbfX9TbdN5n/fWd0zv/5m9O5WFh/qsI1GpD0UhRFEXR2toIZx4PzrJ2zV5cZ80Nsir9AmVmfJDxQcYHGR9kfJDxQcYHGR+URkdTOPTx0fu3B/b64YW6NDz5IOODjA8yPsj4IOODjA8yPigNp0o41G7387b148tYtRI/ryw8+SDjg4wPMj7I+CDjg4wPMj7I+KBUrcY3zl73//7684L7y5MPMj7I+CDjg4wPMj7I+CDjg1Il49bTyf1Wc6zxx9cpF08+yPgg44OMDzI+yPgg44OMDzI+KL13uuHQZz/zQ9l6fMNNyd/7hyVAxgcZH2R8kPFBxgcZH2R8UGpOjIRDe3dPWcvW55bCmcZ0M2tXGXjyQcYHGR9kfJDxQcYHGR9kfJDxQen8/jkc2lmdydt2exWODE+O5+0qAU8+yPgg44OMDzI+yPgg44OMD0qbmyvh0PbRZday/cXlcObl8DRr11TW1GDz5IOMDzI+yPgg44OMDzI+yPgg44PS8clNOLS71srb9vYajtQn63m7SsCTDzI+yPgg44OMDzI+yPgg44O+Ac92MZudttdiAAAAAElFTkSuQmCC\" id=\"image658a929070\" transform=\"scale(1 -1) translate(0 -68.4)\" x=\"115.757147\" y=\"-127.68856\" width=\"68.4\" height=\"68.4\"/>\n   </g>\n   <g id=\"matplotlib.axis_11\">\n    <g id=\"xtick_11\">\n     <g id=\"line2d_21\">\n      <g>\n       <use xlink:href=\"#m3239913108\" x=\"119.153668\" y=\"196.08856\" style=\"stroke: #000000; stroke-width: 0.8\"/>\n      </g>\n     </g>\n     <g id=\"text_15\">\n      <!-- 0 -->\n      <g transform=\"translate(115.972418 210.686997) scale(0.1 -0.1)\">\n       <use xlink:href=\"#DejaVuSans-30\"/>\n      </g>\n     </g>\n    </g>\n    <g id=\"xtick_12\">\n     <g id=\"line2d_22\">\n      <g>\n       <use xlink:href=\"#m3239913108\" x=\"153.118886\" y=\"196.08856\" style=\"stroke: #000000; stroke-width: 0.8\"/>\n      </g>\n     </g>\n     <g id=\"text_16\">\n      <!-- 5 -->\n      <g transform=\"translate(149.937636 210.686997) scale(0.1 -0.1)\">\n       <use xlink:href=\"#DejaVuSans-35\"/>\n      </g>\n     </g>\n    </g>\n    <g id=\"text_17\">\n     <!-- Key positions -->\n     <g transform=\"translate(116.659083 224.365122) scale(0.1 -0.1)\">\n      <use xlink:href=\"#DejaVuSans-4b\"/>\n      <use xlink:href=\"#DejaVuSans-65\" transform=\"translate(60.576172 0)\"/>\n      <use xlink:href=\"#DejaVuSans-79\" transform=\"translate(122.099609 0)\"/>\n      <use xlink:href=\"#DejaVuSans-20\" transform=\"translate(181.279297 0)\"/>\n      <use xlink:href=\"#DejaVuSans-70\" transform=\"translate(213.066406 0)\"/>\n      <use xlink:href=\"#DejaVuSans-6f\" transform=\"translate(276.542969 0)\"/>\n      <use xlink:href=\"#DejaVuSans-73\" transform=\"translate(337.724609 0)\"/>\n      <use xlink:href=\"#DejaVuSans-69\" transform=\"translate(389.824219 0)\"/>\n      <use xlink:href=\"#DejaVuSans-74\" transform=\"translate(417.607422 0)\"/>\n      <use xlink:href=\"#DejaVuSans-69\" transform=\"translate(456.816406 0)\"/>\n      <use xlink:href=\"#DejaVuSans-6f\" transform=\"translate(484.599609 0)\"/>\n      <use xlink:href=\"#DejaVuSans-6e\" transform=\"translate(545.78125 0)\"/>\n      <use xlink:href=\"#DejaVuSans-73\" transform=\"translate(609.160156 0)\"/>\n     </g>\n    </g>\n   </g>\n   <g id=\"matplotlib.axis_12\">\n    <g id=\"ytick_11\">\n     <g id=\"line2d_23\">\n      <g>\n       <use xlink:href=\"#m3d52d77240\" x=\"115.757147\" y=\"131.554647\" style=\"stroke: #000000; stroke-width: 0.8\"/>\n      </g>\n     </g>\n    </g>\n    <g id=\"ytick_12\">\n     <g id=\"line2d_24\">\n      <g>\n       <use xlink:href=\"#m3d52d77240\" x=\"115.757147\" y=\"165.519864\" style=\"stroke: #000000; stroke-width: 0.8\"/>\n      </g>\n     </g>\n    </g>\n   </g>\n   <g id=\"patch_28\">\n    <path d=\"M 115.757147 196.08856 \nL 115.757147 128.158125 \n\" style=\"fill: none; stroke: #000000; stroke-width: 0.8; stroke-linejoin: miter; stroke-linecap: square\"/>\n   </g>\n   <g id=\"patch_29\">\n    <path d=\"M 183.687582 196.08856 \nL 183.687582 128.158125 \n\" style=\"fill: none; stroke: #000000; stroke-width: 0.8; stroke-linejoin: miter; stroke-linecap: square\"/>\n   </g>\n   <g id=\"patch_30\">\n    <path d=\"M 115.757147 196.08856 \nL 183.687582 196.08856 \n\" style=\"fill: none; stroke: #000000; stroke-width: 0.8; stroke-linejoin: miter; stroke-linecap: square\"/>\n   </g>\n   <g id=\"patch_31\">\n    <path d=\"M 115.757147 128.158125 \nL 183.687582 128.158125 \n\" style=\"fill: none; stroke: #000000; stroke-width: 0.8; stroke-linejoin: miter; stroke-linecap: square\"/>\n   </g>\n   <g id=\"text_18\">\n    <!-- Head 2 -->\n    <g transform=\"translate(128.307989 122.158125) scale(0.12 -0.12)\">\n     <use xlink:href=\"#DejaVuSans-48\"/>\n     <use xlink:href=\"#DejaVuSans-65\" transform=\"translate(75.195312 0)\"/>\n     <use xlink:href=\"#DejaVuSans-61\" transform=\"translate(136.71875 0)\"/>\n     <use xlink:href=\"#DejaVuSans-64\" transform=\"translate(197.998047 0)\"/>\n     <use xlink:href=\"#DejaVuSans-20\" transform=\"translate(261.474609 0)\"/>\n     <use xlink:href=\"#DejaVuSans-32\" transform=\"translate(293.261719 0)\"/>\n    </g>\n   </g>\n  </g>\n  <g id=\"axes_7\">\n   <g id=\"patch_32\">\n    <path d=\"M 197.273668 196.08856 \nL 265.204103 196.08856 \nL 265.204103 128.158125 \nL 197.273668 128.158125 \nz\n\" style=\"fill: #ffffff\"/>\n   </g>\n   <g clip-path=\"url(#pb7ac080eaa)\">\n    <image xlink:href=\"data:image/png;base64,\niVBORw0KGgoAAAANSUhEUgAAAF8AAABfCAYAAACOTBv1AAAB0ElEQVR4nO3bPUokURRA4Vv6ehoRRITZwAQaCUYGLksREfOB2YAbcANmooGJiYkYi4mb8F/7GYnhvcHAoanzxZfbzamXFFU1fJz87ZF4P7vIRiIiYrJ7kM48Hh6Vdq2cXpbm5tkC/QfGzPgg44OMDzI+yPgg44OMDzI+qEWfpUP9M5+JiIghv5bDZLG2awQ8+SDjg4wPMj7I+CDjg4wPMj6oxSx9ihi95zNVwzD8t13zzpMPMj7I+CDjg4wPMj7I+CDjg4wParGQ33H2t4/Sssrd67Do9f5mCZDxQcYHGR9kfJDxQcYHGR/Uok3SodnLe2lZ5XGj72r+8OSDjA8yPsj4IOODjA8yPsj4IOODWlReXK2+KFv4srH0eyPhyQcZH2R8kPFBxgcZH2R8kPFBLVZW06H987vSsuN/v9KZ6d5+adcYePJBxgcZH2R8kPFBxgcZH2R8kPFBLR7u06Gt5WlpWX99TmeG6VJp1xh48kHGBxkfZHyQ8UHGBxkfZHxQi/XNdOh39QvCwjud/eaqtmtjuzY3xzz5IOODjA8yPsj4IOODjA8yPsj4oNZvr9OhnT9rtW2vT4WZ/FHjWHjyQcYHGR9kfJDxQcYHGR9kfNAXNUw3JkfPznsAAAAASUVORK5CYII=\" id=\"image9f8dabcb05\" transform=\"scale(1 -1) translate(0 -68.4)\" x=\"197.273668\" y=\"-127.68856\" width=\"68.4\" height=\"68.4\"/>\n   </g>\n   <g id=\"matplotlib.axis_13\">\n    <g id=\"xtick_13\">\n     <g id=\"line2d_25\">\n      <g>\n       <use xlink:href=\"#m3239913108\" x=\"200.67019\" y=\"196.08856\" style=\"stroke: #000000; stroke-width: 0.8\"/>\n      </g>\n     </g>\n     <g id=\"text_19\">\n      <!-- 0 -->\n      <g transform=\"translate(197.48894 210.686997) scale(0.1 -0.1)\">\n       <use xlink:href=\"#DejaVuSans-30\"/>\n      </g>\n     </g>\n    </g>\n    <g id=\"xtick_14\">\n     <g id=\"line2d_26\">\n      <g>\n       <use xlink:href=\"#m3239913108\" x=\"234.635408\" y=\"196.08856\" style=\"stroke: #000000; stroke-width: 0.8\"/>\n      </g>\n     </g>\n     <g id=\"text_20\">\n      <!-- 5 -->\n      <g transform=\"translate(231.454158 210.686997) scale(0.1 -0.1)\">\n       <use xlink:href=\"#DejaVuSans-35\"/>\n      </g>\n     </g>\n    </g>\n    <g id=\"text_21\">\n     <!-- Key positions -->\n     <g transform=\"translate(198.175605 224.365122) scale(0.1 -0.1)\">\n      <use xlink:href=\"#DejaVuSans-4b\"/>\n      <use xlink:href=\"#DejaVuSans-65\" transform=\"translate(60.576172 0)\"/>\n      <use xlink:href=\"#DejaVuSans-79\" transform=\"translate(122.099609 0)\"/>\n      <use xlink:href=\"#DejaVuSans-20\" transform=\"translate(181.279297 0)\"/>\n      <use xlink:href=\"#DejaVuSans-70\" transform=\"translate(213.066406 0)\"/>\n      <use xlink:href=\"#DejaVuSans-6f\" transform=\"translate(276.542969 0)\"/>\n      <use xlink:href=\"#DejaVuSans-73\" transform=\"translate(337.724609 0)\"/>\n      <use xlink:href=\"#DejaVuSans-69\" transform=\"translate(389.824219 0)\"/>\n      <use xlink:href=\"#DejaVuSans-74\" transform=\"translate(417.607422 0)\"/>\n      <use xlink:href=\"#DejaVuSans-69\" transform=\"translate(456.816406 0)\"/>\n      <use xlink:href=\"#DejaVuSans-6f\" transform=\"translate(484.599609 0)\"/>\n      <use xlink:href=\"#DejaVuSans-6e\" transform=\"translate(545.78125 0)\"/>\n      <use xlink:href=\"#DejaVuSans-73\" transform=\"translate(609.160156 0)\"/>\n     </g>\n    </g>\n   </g>\n   <g id=\"matplotlib.axis_14\">\n    <g id=\"ytick_13\">\n     <g id=\"line2d_27\">\n      <g>\n       <use xlink:href=\"#m3d52d77240\" x=\"197.273668\" y=\"131.554647\" style=\"stroke: #000000; stroke-width: 0.8\"/>\n      </g>\n     </g>\n    </g>\n    <g id=\"ytick_14\">\n     <g id=\"line2d_28\">\n      <g>\n       <use xlink:href=\"#m3d52d77240\" x=\"197.273668\" y=\"165.519864\" style=\"stroke: #000000; stroke-width: 0.8\"/>\n      </g>\n     </g>\n    </g>\n   </g>\n   <g id=\"patch_33\">\n    <path d=\"M 197.273668 196.08856 \nL 197.273668 128.158125 \n\" style=\"fill: none; stroke: #000000; stroke-width: 0.8; stroke-linejoin: miter; stroke-linecap: square\"/>\n   </g>\n   <g id=\"patch_34\">\n    <path d=\"M 265.204103 196.08856 \nL 265.204103 128.158125 \n\" style=\"fill: none; stroke: #000000; stroke-width: 0.8; stroke-linejoin: miter; stroke-linecap: square\"/>\n   </g>\n   <g id=\"patch_35\">\n    <path d=\"M 197.273668 196.08856 \nL 265.204103 196.08856 \n\" style=\"fill: none; stroke: #000000; stroke-width: 0.8; stroke-linejoin: miter; stroke-linecap: square\"/>\n   </g>\n   <g id=\"patch_36\">\n    <path d=\"M 197.273668 128.158125 \nL 265.204103 128.158125 \n\" style=\"fill: none; stroke: #000000; stroke-width: 0.8; stroke-linejoin: miter; stroke-linecap: square\"/>\n   </g>\n   <g id=\"text_22\">\n    <!-- Head 3 -->\n    <g transform=\"translate(209.824511 122.158125) scale(0.12 -0.12)\">\n     <use xlink:href=\"#DejaVuSans-48\"/>\n     <use xlink:href=\"#DejaVuSans-65\" transform=\"translate(75.195312 0)\"/>\n     <use xlink:href=\"#DejaVuSans-61\" transform=\"translate(136.71875 0)\"/>\n     <use xlink:href=\"#DejaVuSans-64\" transform=\"translate(197.998047 0)\"/>\n     <use xlink:href=\"#DejaVuSans-20\" transform=\"translate(261.474609 0)\"/>\n     <use xlink:href=\"#DejaVuSans-33\" transform=\"translate(293.261719 0)\"/>\n    </g>\n   </g>\n  </g>\n  <g id=\"axes_8\">\n   <g id=\"patch_37\">\n    <path d=\"M 278.79019 196.08856 \nL 346.720625 196.08856 \nL 346.720625 128.158125 \nL 278.79019 128.158125 \nz\n\" style=\"fill: #ffffff\"/>\n   </g>\n   <g clip-path=\"url(#pf87eccf703)\">\n    <image xlink:href=\"data:image/png;base64,\niVBORw0KGgoAAAANSUhEUgAAAF8AAABfCAYAAACOTBv1AAABq0lEQVR4nO3dsUoDURBA0fc2L0RNUKvU/oAfoNj4F9r4n7aKlbW9VjaiRBRRcNdGbWdA5BL2nnp4WS7TLLtJ6ufN5VACV8cn0UgppZSj6/NwZnh5Sp3V7e2n5tZZR1/AmBkfZHyQ8UHGBxkfZHyQ8UHGB7VS4/5DeA/8rda/Xc3IuPkg44OMDzI+yPgg44OMDzI+qJWhD4cm3jv9CzcfZHyQ8UHGBxkfZHyQ8UHGBxkf1DLPCLuSvMVNP29UKW4+yvgg44OMDzI+yPgg44OMDzI+yPgg44OMDzI+yPgg44OMDzI+yPigVrpJONSX5OPBzLcRfdT4y80HGR9kfJDxQcYHGR9kfJDxQa3Ot8Ohu/eP1GGH01k8tLlInTUGbj7I+CDjg4wPMj7I+CDjg4wPMj6oldk8HLpYvaUOO51thTO1j3/fZyzcfJDxQcYHGR9kfJDxQcYHGR/Uhsf7cOhsuZM77fkhHBleV6mj6u4y95lrzM0HGR9kfJDxQcYHGR9kfJDxQcYHtcyLq7fJF2UPphvhTF34HyA/3HyQ8UHGBxkfZHyQ8UHGBxkf9AWUNSqfiRxKXQAAAABJRU5ErkJggg==\" id=\"image42dabe165c\" transform=\"scale(1 -1) translate(0 -68.4)\" x=\"278.79019\" y=\"-127.68856\" width=\"68.4\" height=\"68.4\"/>\n   </g>\n   <g id=\"matplotlib.axis_15\">\n    <g id=\"xtick_15\">\n     <g id=\"line2d_29\">\n      <g>\n       <use xlink:href=\"#m3239913108\" x=\"282.186712\" y=\"196.08856\" style=\"stroke: #000000; stroke-width: 0.8\"/>\n      </g>\n     </g>\n     <g id=\"text_23\">\n      <!-- 0 -->\n      <g transform=\"translate(279.005462 210.686997) scale(0.1 -0.1)\">\n       <use xlink:href=\"#DejaVuSans-30\"/>\n      </g>\n     </g>\n    </g>\n    <g id=\"xtick_16\">\n     <g id=\"line2d_30\">\n      <g>\n       <use xlink:href=\"#m3239913108\" x=\"316.151929\" y=\"196.08856\" style=\"stroke: #000000; stroke-width: 0.8\"/>\n      </g>\n     </g>\n     <g id=\"text_24\">\n      <!-- 5 -->\n      <g transform=\"translate(312.970679 210.686997) scale(0.1 -0.1)\">\n       <use xlink:href=\"#DejaVuSans-35\"/>\n      </g>\n     </g>\n    </g>\n    <g id=\"text_25\">\n     <!-- Key positions -->\n     <g transform=\"translate(279.692126 224.365122) scale(0.1 -0.1)\">\n      <use xlink:href=\"#DejaVuSans-4b\"/>\n      <use xlink:href=\"#DejaVuSans-65\" transform=\"translate(60.576172 0)\"/>\n      <use xlink:href=\"#DejaVuSans-79\" transform=\"translate(122.099609 0)\"/>\n      <use xlink:href=\"#DejaVuSans-20\" transform=\"translate(181.279297 0)\"/>\n      <use xlink:href=\"#DejaVuSans-70\" transform=\"translate(213.066406 0)\"/>\n      <use xlink:href=\"#DejaVuSans-6f\" transform=\"translate(276.542969 0)\"/>\n      <use xlink:href=\"#DejaVuSans-73\" transform=\"translate(337.724609 0)\"/>\n      <use xlink:href=\"#DejaVuSans-69\" transform=\"translate(389.824219 0)\"/>\n      <use xlink:href=\"#DejaVuSans-74\" transform=\"translate(417.607422 0)\"/>\n      <use xlink:href=\"#DejaVuSans-69\" transform=\"translate(456.816406 0)\"/>\n      <use xlink:href=\"#DejaVuSans-6f\" transform=\"translate(484.599609 0)\"/>\n      <use xlink:href=\"#DejaVuSans-6e\" transform=\"translate(545.78125 0)\"/>\n      <use xlink:href=\"#DejaVuSans-73\" transform=\"translate(609.160156 0)\"/>\n     </g>\n    </g>\n   </g>\n   <g id=\"matplotlib.axis_16\">\n    <g id=\"ytick_15\">\n     <g id=\"line2d_31\">\n      <g>\n       <use xlink:href=\"#m3d52d77240\" x=\"278.79019\" y=\"131.554647\" style=\"stroke: #000000; stroke-width: 0.8\"/>\n      </g>\n     </g>\n    </g>\n    <g id=\"ytick_16\">\n     <g id=\"line2d_32\">\n      <g>\n       <use xlink:href=\"#m3d52d77240\" x=\"278.79019\" y=\"165.519864\" style=\"stroke: #000000; stroke-width: 0.8\"/>\n      </g>\n     </g>\n    </g>\n   </g>\n   <g id=\"patch_38\">\n    <path d=\"M 278.79019 196.08856 \nL 278.79019 128.158125 \n\" style=\"fill: none; stroke: #000000; stroke-width: 0.8; stroke-linejoin: miter; stroke-linecap: square\"/>\n   </g>\n   <g id=\"patch_39\">\n    <path d=\"M 346.720625 196.08856 \nL 346.720625 128.158125 \n\" style=\"fill: none; stroke: #000000; stroke-width: 0.8; stroke-linejoin: miter; stroke-linecap: square\"/>\n   </g>\n   <g id=\"patch_40\">\n    <path d=\"M 278.79019 196.08856 \nL 346.720625 196.08856 \n\" style=\"fill: none; stroke: #000000; stroke-width: 0.8; stroke-linejoin: miter; stroke-linecap: square\"/>\n   </g>\n   <g id=\"patch_41\">\n    <path d=\"M 278.79019 128.158125 \nL 346.720625 128.158125 \n\" style=\"fill: none; stroke: #000000; stroke-width: 0.8; stroke-linejoin: miter; stroke-linecap: square\"/>\n   </g>\n   <g id=\"text_26\">\n    <!-- Head 4 -->\n    <g transform=\"translate(291.341033 122.158125) scale(0.12 -0.12)\">\n     <use xlink:href=\"#DejaVuSans-48\"/>\n     <use xlink:href=\"#DejaVuSans-65\" transform=\"translate(75.195312 0)\"/>\n     <use xlink:href=\"#DejaVuSans-61\" transform=\"translate(136.71875 0)\"/>\n     <use xlink:href=\"#DejaVuSans-64\" transform=\"translate(197.998047 0)\"/>\n     <use xlink:href=\"#DejaVuSans-20\" transform=\"translate(261.474609 0)\"/>\n     <use xlink:href=\"#DejaVuSans-34\" transform=\"translate(293.261719 0)\"/>\n    </g>\n   </g>\n  </g>\n  <g id=\"axes_9\">\n   <g id=\"patch_42\">\n    <path d=\"M 366.250625 167.415342 \nL 372.071825 167.415342 \nL 372.071825 50.991342 \nL 366.250625 50.991342 \nz\n\" style=\"fill: #ffffff\"/>\n   </g>\n   <image xlink:href=\"data:image/png;base64,\niVBORw0KGgoAAAANSUhEUgAAAAgAAACiCAYAAAB8iIwDAAAA7klEQVR4nN2XSw4DIQxDUyn3P2s33ZWkN8iLZGCgsx1kP8cwn1d+3mnF5ZZR3Te3LAU6CkELjCyCFrACxoQFqc9BV5gQExkOiBmDFsgKBJkbGBiSLIYakxnYgg6OHpMnKcc8YMvxqOUutkzy+S13xbmYADkh5g2QqCC/9fKEmFd0QZA58BGEXehtygx3xFw/h7/oAp7E5oEMFBMVBluU980D60YFYgg5Jk9S7mIHpNwFODRSgEBDARjNk34noatOTLRYr4CTHHoXBNnogixkSIxZfxx0Rv2VIVGhwSBb1AJzFGQLUsC6dUjck+u7+AE+P2IIsbjxbAAAAABJRU5ErkJggg==\" id=\"imagecc44610993\" transform=\"scale(1 -1) translate(0 -116.64)\" x=\"366.48\" y=\"-50.4\" width=\"5.76\" height=\"116.64\"/>\n   <g id=\"matplotlib.axis_17\"/>\n   <g id=\"matplotlib.axis_18\">\n    <g id=\"ytick_17\">\n     <g id=\"line2d_33\">\n      <defs>\n       <path id=\"m2964d85975\" d=\"M 0 0 \nL 3.5 0 \n\" style=\"stroke: #000000; stroke-width: 0.8\"/>\n      </defs>\n      <g>\n       <use xlink:href=\"#m2964d85975\" x=\"372.071825\" y=\"167.415342\" style=\"stroke: #000000; stroke-width: 0.8\"/>\n      </g>\n     </g>\n     <g id=\"text_27\">\n      <!-- 0.0 -->\n      <g transform=\"translate(379.071825 171.214561) scale(0.1 -0.1)\">\n       <defs>\n        <path id=\"DejaVuSans-2e\" d=\"M 684 794 \nL 1344 794 \nL 1344 0 \nL 684 0 \nL 684 794 \nz\n\" transform=\"scale(0.015625)\"/>\n       </defs>\n       <use xlink:href=\"#DejaVuSans-30\"/>\n       <use xlink:href=\"#DejaVuSans-2e\" transform=\"translate(63.623047 0)\"/>\n       <use xlink:href=\"#DejaVuSans-30\" transform=\"translate(95.410156 0)\"/>\n      </g>\n     </g>\n    </g>\n    <g id=\"ytick_18\">\n     <g id=\"line2d_34\">\n      <g>\n       <use xlink:href=\"#m2964d85975\" x=\"372.071825\" y=\"139.260577\" style=\"stroke: #000000; stroke-width: 0.8\"/>\n      </g>\n     </g>\n     <g id=\"text_28\">\n      <!-- 0.2 -->\n      <g transform=\"translate(379.071825 143.059796) scale(0.1 -0.1)\">\n       <use xlink:href=\"#DejaVuSans-30\"/>\n       <use xlink:href=\"#DejaVuSans-2e\" transform=\"translate(63.623047 0)\"/>\n       <use xlink:href=\"#DejaVuSans-32\" transform=\"translate(95.410156 0)\"/>\n      </g>\n     </g>\n    </g>\n    <g id=\"ytick_19\">\n     <g id=\"line2d_35\">\n      <g>\n       <use xlink:href=\"#m2964d85975\" x=\"372.071825\" y=\"111.105811\" style=\"stroke: #000000; stroke-width: 0.8\"/>\n      </g>\n     </g>\n     <g id=\"text_29\">\n      <!-- 0.4 -->\n      <g transform=\"translate(379.071825 114.90503) scale(0.1 -0.1)\">\n       <use xlink:href=\"#DejaVuSans-30\"/>\n       <use xlink:href=\"#DejaVuSans-2e\" transform=\"translate(63.623047 0)\"/>\n       <use xlink:href=\"#DejaVuSans-34\" transform=\"translate(95.410156 0)\"/>\n      </g>\n     </g>\n    </g>\n    <g id=\"ytick_20\">\n     <g id=\"line2d_36\">\n      <g>\n       <use xlink:href=\"#m2964d85975\" x=\"372.071825\" y=\"82.951046\" style=\"stroke: #000000; stroke-width: 0.8\"/>\n      </g>\n     </g>\n     <g id=\"text_30\">\n      <!-- 0.6 -->\n      <g transform=\"translate(379.071825 86.750264) scale(0.1 -0.1)\">\n       <defs>\n        <path id=\"DejaVuSans-36\" d=\"M 2113 2584 \nQ 1688 2584 1439 2293 \nQ 1191 2003 1191 1497 \nQ 1191 994 1439 701 \nQ 1688 409 2113 409 \nQ 2538 409 2786 701 \nQ 3034 994 3034 1497 \nQ 3034 2003 2786 2293 \nQ 2538 2584 2113 2584 \nz\nM 3366 4563 \nL 3366 3988 \nQ 3128 4100 2886 4159 \nQ 2644 4219 2406 4219 \nQ 1781 4219 1451 3797 \nQ 1122 3375 1075 2522 \nQ 1259 2794 1537 2939 \nQ 1816 3084 2150 3084 \nQ 2853 3084 3261 2657 \nQ 3669 2231 3669 1497 \nQ 3669 778 3244 343 \nQ 2819 -91 2113 -91 \nQ 1303 -91 875 529 \nQ 447 1150 447 2328 \nQ 447 3434 972 4092 \nQ 1497 4750 2381 4750 \nQ 2619 4750 2861 4703 \nQ 3103 4656 3366 4563 \nz\n\" transform=\"scale(0.015625)\"/>\n       </defs>\n       <use xlink:href=\"#DejaVuSans-30\"/>\n       <use xlink:href=\"#DejaVuSans-2e\" transform=\"translate(63.623047 0)\"/>\n       <use xlink:href=\"#DejaVuSans-36\" transform=\"translate(95.410156 0)\"/>\n      </g>\n     </g>\n    </g>\n    <g id=\"ytick_21\">\n     <g id=\"line2d_37\">\n      <g>\n       <use xlink:href=\"#m2964d85975\" x=\"372.071825\" y=\"54.79628\" style=\"stroke: #000000; stroke-width: 0.8\"/>\n      </g>\n     </g>\n     <g id=\"text_31\">\n      <!-- 0.8 -->\n      <g transform=\"translate(379.071825 58.595499) scale(0.1 -0.1)\">\n       <defs>\n        <path id=\"DejaVuSans-38\" d=\"M 2034 2216 \nQ 1584 2216 1326 1975 \nQ 1069 1734 1069 1313 \nQ 1069 891 1326 650 \nQ 1584 409 2034 409 \nQ 2484 409 2743 651 \nQ 3003 894 3003 1313 \nQ 3003 1734 2745 1975 \nQ 2488 2216 2034 2216 \nz\nM 1403 2484 \nQ 997 2584 770 2862 \nQ 544 3141 544 3541 \nQ 544 4100 942 4425 \nQ 1341 4750 2034 4750 \nQ 2731 4750 3128 4425 \nQ 3525 4100 3525 3541 \nQ 3525 3141 3298 2862 \nQ 3072 2584 2669 2484 \nQ 3125 2378 3379 2068 \nQ 3634 1759 3634 1313 \nQ 3634 634 3220 271 \nQ 2806 -91 2034 -91 \nQ 1263 -91 848 271 \nQ 434 634 434 1313 \nQ 434 1759 690 2068 \nQ 947 2378 1403 2484 \nz\nM 1172 3481 \nQ 1172 3119 1398 2916 \nQ 1625 2713 2034 2713 \nQ 2441 2713 2670 2916 \nQ 2900 3119 2900 3481 \nQ 2900 3844 2670 4047 \nQ 2441 4250 2034 4250 \nQ 1625 4250 1398 4047 \nQ 1172 3844 1172 3481 \nz\n\" transform=\"scale(0.015625)\"/>\n       </defs>\n       <use xlink:href=\"#DejaVuSans-30\"/>\n       <use xlink:href=\"#DejaVuSans-2e\" transform=\"translate(63.623047 0)\"/>\n       <use xlink:href=\"#DejaVuSans-38\" transform=\"translate(95.410156 0)\"/>\n      </g>\n     </g>\n    </g>\n   </g>\n   <g id=\"LineCollection_1\"/>\n   <g id=\"patch_43\">\n    <path d=\"M 366.250625 167.415342 \nL 369.161225 167.415342 \nL 372.071825 167.415342 \nL 372.071825 50.991342 \nL 369.161225 50.991342 \nL 366.250625 50.991342 \nL 366.250625 167.415342 \nz\n\" style=\"fill: none; stroke: #000000; stroke-width: 0.8; stroke-linejoin: miter; stroke-linecap: square\"/>\n   </g>\n  </g>\n </g>\n <defs>\n  <clipPath id=\"p35e9527732\">\n   <rect x=\"34.240625\" y=\"22.318125\" width=\"67.930435\" height=\"67.930435\"/>\n  </clipPath>\n  <clipPath id=\"pdeba1bf633\">\n   <rect x=\"115.757147\" y=\"22.318125\" width=\"67.930435\" height=\"67.930435\"/>\n  </clipPath>\n  <clipPath id=\"pa696bf0d3a\">\n   <rect x=\"197.273668\" y=\"22.318125\" width=\"67.930435\" height=\"67.930435\"/>\n  </clipPath>\n  <clipPath id=\"pf9a0c55316\">\n   <rect x=\"278.79019\" y=\"22.318125\" width=\"67.930435\" height=\"67.930435\"/>\n  </clipPath>\n  <clipPath id=\"p6668998865\">\n   <rect x=\"34.240625\" y=\"128.158125\" width=\"67.930435\" height=\"67.930435\"/>\n  </clipPath>\n  <clipPath id=\"p45e2920668\">\n   <rect x=\"115.757147\" y=\"128.158125\" width=\"67.930435\" height=\"67.930435\"/>\n  </clipPath>\n  <clipPath id=\"pb7ac080eaa\">\n   <rect x=\"197.273668\" y=\"128.158125\" width=\"67.930435\" height=\"67.930435\"/>\n  </clipPath>\n  <clipPath id=\"pf87eccf703\">\n   <rect x=\"278.79019\" y=\"128.158125\" width=\"67.930435\" height=\"67.930435\"/>\n  </clipPath>\n </defs>\n</svg>\n"
          },
          "metadata": {}
        }
      ],
      "source": [
        "show_heatmaps(\n",
        "    enc_attention_weights,\n",
        "    xlabel=\"Key positions\",\n",
        "    ylabel=\"Query positions\",\n",
        "    titles=[\"Head %d\" % i for i in range(1, 5)],\n",
        "    figsize=(7, 3.5),\n",
        ")"
      ]
    },
    {
      "cell_type": "markdown",
      "metadata": {
        "id": "gG6i2tQFtpSi"
      },
      "source": [
        "Next we visualize decoder attention heatmaps."
      ]
    },
    {
      "cell_type": "code",
      "execution_count": 46,
      "metadata": {
        "colab": {
          "base_uri": "https://localhost:8080/"
        },
        "execution": {
          "iopub.execute_input": "2022-04-07T04:22:46.335268Z",
          "iopub.status.busy": "2022-04-07T04:22:46.334912Z",
          "iopub.status.idle": "2022-04-07T04:22:46.597360Z",
          "shell.execute_reply": "2022-04-07T04:22:46.596685Z",
          "shell.execute_reply.started": "2022-04-07T04:22:46.335230Z"
        },
        "id": "0GEyFQ5ctKj6",
        "outputId": "2d5738f6-de08-4160-d133-a0cd3e7dd4f4"
      },
      "outputs": [
        {
          "output_type": "execute_result",
          "data": {
            "text/plain": [
              "(torch.Size([2, 4, 6, 10]), torch.Size([2, 4, 6, 10]))"
            ]
          },
          "metadata": {},
          "execution_count": 46
        }
      ],
      "source": [
        "dec_attention_weights_2d = [\n",
        "    head[0].tolist() for step in dec_attention_weight_seq for attn in step for blk in attn for head in blk\n",
        "]\n",
        "dec_attention_weights_filled = torch.tensor(pd.DataFrame(dec_attention_weights_2d).fillna(0.0).values)\n",
        "dec_attention_weights = dec_attention_weights_filled.reshape((-1, 2, num_layers, num_heads, num_steps))\n",
        "dec_self_attention_weights, dec_inter_attention_weights = dec_attention_weights.permute(1, 2, 3, 0, 4)\n",
        "dec_self_attention_weights.shape, dec_inter_attention_weights.shape"
      ]
    },
    {
      "cell_type": "markdown",
      "metadata": {
        "id": "O9Jb3D3Zt97P"
      },
      "source": [
        "Decoder self-attention."
      ]
    },
    {
      "cell_type": "code",
      "execution_count": 47,
      "metadata": {
        "colab": {
          "base_uri": "https://localhost:8080/",
          "height": 388
        },
        "execution": {
          "iopub.execute_input": "2022-04-07T04:22:46.599207Z",
          "iopub.status.busy": "2022-04-07T04:22:46.598946Z",
          "iopub.status.idle": "2022-04-07T04:22:47.485134Z",
          "shell.execute_reply": "2022-04-07T04:22:47.484412Z",
          "shell.execute_reply.started": "2022-04-07T04:22:46.599170Z"
        },
        "id": "RIK92fjltsav",
        "outputId": "35e61dff-f4ba-4f47-a963-307f60af4f27"
      },
      "outputs": [
        {
          "output_type": "stream",
          "name": "stderr",
          "text": [
            "/tmp/ipython-input-44-637965182.py:2: DeprecationWarning: `set_matplotlib_formats` is deprecated since IPython 7.23, directly use `matplotlib_inline.backend_inline.set_matplotlib_formats()`\n",
            "  display.set_matplotlib_formats(\"svg\")\n"
          ]
        },
        {
          "output_type": "display_data",
          "data": {
            "text/plain": [
              "<Figure size 700x350 with 9 Axes>"
            ],
            "image/svg+xml": "<?xml version=\"1.0\" encoding=\"utf-8\" standalone=\"no\"?>\n<!DOCTYPE svg PUBLIC \"-//W3C//DTD SVG 1.1//EN\"\n  \"http://www.w3.org/Graphics/SVG/1.1/DTD/svg11.dtd\">\n<svg xmlns:xlink=\"http://www.w3.org/1999/xlink\" width=\"402.17495pt\" height=\"233.64481pt\" viewBox=\"0 0 402.17495 233.64481\" xmlns=\"http://www.w3.org/2000/svg\" version=\"1.1\">\n <metadata>\n  <rdf:RDF xmlns:dc=\"http://purl.org/dc/elements/1.1/\" xmlns:cc=\"http://creativecommons.org/ns#\" xmlns:rdf=\"http://www.w3.org/1999/02/22-rdf-syntax-ns#\">\n   <cc:Work>\n    <dc:type rdf:resource=\"http://purl.org/dc/dcmitype/StillImage\"/>\n    <dc:date>2025-06-26T07:35:30.874983</dc:date>\n    <dc:format>image/svg+xml</dc:format>\n    <dc:creator>\n     <cc:Agent>\n      <dc:title>Matplotlib v3.10.0, https://matplotlib.org/</dc:title>\n     </cc:Agent>\n    </dc:creator>\n   </cc:Work>\n  </rdf:RDF>\n </metadata>\n <defs>\n  <style type=\"text/css\">*{stroke-linejoin: round; stroke-linecap: butt}</style>\n </defs>\n <g id=\"figure_1\">\n  <g id=\"patch_1\">\n   <path d=\"M 0 233.64481 \nL 402.17495 233.64481 \nL 402.17495 0 \nL 0 0 \nz\n\" style=\"fill: #ffffff\"/>\n  </g>\n  <g id=\"axes_1\">\n   <g id=\"patch_2\">\n    <path d=\"M 34.240625 90.24856 \nL 102.17106 90.24856 \nL 102.17106 22.318125 \nL 34.240625 22.318125 \nz\n\" style=\"fill: #ffffff\"/>\n   </g>\n   <g clip-path=\"url(#pdbdeb2a254)\">\n    <image xlink:href=\"data:image/png;base64,\niVBORw0KGgoAAAANSUhEUgAAAF8AAABfCAYAAACOTBv1AAABcklEQVR4nO3cMWoCQRxG8Z11CZpACrsUVp7OxrOkC9ims5KA18gVUngAJeyCkhg9g34LjyXv1/9nhsdUw7Ll0h0uVeD8sUrGq+N6c/fs4/s22rs6/2Tz7SEar7PdlTA+yPgg44OMDzI+yPgg44OMDzI+yPgg44OMDzI+yPig8tfuo/f8UkpfZ7nZ4mkWzb91u55Och9vPsj4IOODjA8yPsj4IOODjA8yPsj4IOODjA8yPsj4IOODyrI8R+/5r99f2QHqUTQ/ZN58kPFBxgcZH2R8kPFBxgcZH2R8kPFBxgcZH2R8kPFBxgc14zr8vv43/GfNg+/5AhgfZHyQ8UHGBxkfZHyQ8UHGBxkfZHyQ8UHGBxkf1MwnTbZCu8/mpy/Z/IB580HGBxkfZHyQ8UHGBxkfZHyQ8UHGBxkfZHyQ8UHGBxkf1Hy2p2iB8o/f41PefJDxQcYHGR9kfJDxQcYHGR9kfJDxQcYHGR9kfJDxQcYHXQEL2yB0iagmeAAAAABJRU5ErkJggg==\" id=\"imagedfe0c5b123\" transform=\"scale(1 -1) translate(0 -68.4)\" x=\"34.240625\" y=\"-21.84856\" width=\"68.4\" height=\"68.4\"/>\n   </g>\n   <g id=\"matplotlib.axis_1\">\n    <g id=\"xtick_1\">\n     <g id=\"line2d_1\">\n      <defs>\n       <path id=\"mc48929c709\" d=\"M 0 0 \nL 0 3.5 \n\" style=\"stroke: #000000; stroke-width: 0.8\"/>\n      </defs>\n      <g>\n       <use xlink:href=\"#mc48929c709\" x=\"39.901495\" y=\"90.24856\" style=\"stroke: #000000; stroke-width: 0.8\"/>\n      </g>\n     </g>\n    </g>\n    <g id=\"xtick_2\">\n     <g id=\"line2d_2\">\n      <g>\n       <use xlink:href=\"#mc48929c709\" x=\"96.51019\" y=\"90.24856\" style=\"stroke: #000000; stroke-width: 0.8\"/>\n      </g>\n     </g>\n    </g>\n   </g>\n   <g id=\"matplotlib.axis_2\">\n    <g id=\"ytick_1\">\n     <g id=\"line2d_3\">\n      <defs>\n       <path id=\"m2a2a12a0db\" d=\"M 0 0 \nL -3.5 0 \n\" style=\"stroke: #000000; stroke-width: 0.8\"/>\n      </defs>\n      <g>\n       <use xlink:href=\"#m2a2a12a0db\" x=\"34.240625\" y=\"27.978995\" style=\"stroke: #000000; stroke-width: 0.8\"/>\n      </g>\n     </g>\n     <g id=\"text_1\">\n      <!-- 0 -->\n      <g transform=\"translate(20.878125 31.778213) scale(0.1 -0.1)\">\n       <defs>\n        <path id=\"DejaVuSans-30\" d=\"M 2034 4250 \nQ 1547 4250 1301 3770 \nQ 1056 3291 1056 2328 \nQ 1056 1369 1301 889 \nQ 1547 409 2034 409 \nQ 2525 409 2770 889 \nQ 3016 1369 3016 2328 \nQ 3016 3291 2770 3770 \nQ 2525 4250 2034 4250 \nz\nM 2034 4750 \nQ 2819 4750 3233 4129 \nQ 3647 3509 3647 2328 \nQ 3647 1150 3233 529 \nQ 2819 -91 2034 -91 \nQ 1250 -91 836 529 \nQ 422 1150 422 2328 \nQ 422 3509 836 4129 \nQ 1250 4750 2034 4750 \nz\n\" transform=\"scale(0.015625)\"/>\n       </defs>\n       <use xlink:href=\"#DejaVuSans-30\"/>\n      </g>\n     </g>\n    </g>\n    <g id=\"ytick_2\">\n     <g id=\"line2d_4\">\n      <g>\n       <use xlink:href=\"#m2a2a12a0db\" x=\"34.240625\" y=\"50.622473\" style=\"stroke: #000000; stroke-width: 0.8\"/>\n      </g>\n     </g>\n     <g id=\"text_2\">\n      <!-- 2 -->\n      <g transform=\"translate(20.878125 54.421692) scale(0.1 -0.1)\">\n       <defs>\n        <path id=\"DejaVuSans-32\" d=\"M 1228 531 \nL 3431 531 \nL 3431 0 \nL 469 0 \nL 469 531 \nQ 828 903 1448 1529 \nQ 2069 2156 2228 2338 \nQ 2531 2678 2651 2914 \nQ 2772 3150 2772 3378 \nQ 2772 3750 2511 3984 \nQ 2250 4219 1831 4219 \nQ 1534 4219 1204 4116 \nQ 875 4013 500 3803 \nL 500 4441 \nQ 881 4594 1212 4672 \nQ 1544 4750 1819 4750 \nQ 2544 4750 2975 4387 \nQ 3406 4025 3406 3419 \nQ 3406 3131 3298 2873 \nQ 3191 2616 2906 2266 \nQ 2828 2175 2409 1742 \nQ 1991 1309 1228 531 \nz\n\" transform=\"scale(0.015625)\"/>\n       </defs>\n       <use xlink:href=\"#DejaVuSans-32\"/>\n      </g>\n     </g>\n    </g>\n    <g id=\"ytick_3\">\n     <g id=\"line2d_5\">\n      <g>\n       <use xlink:href=\"#m2a2a12a0db\" x=\"34.240625\" y=\"73.265951\" style=\"stroke: #000000; stroke-width: 0.8\"/>\n      </g>\n     </g>\n     <g id=\"text_3\">\n      <!-- 4 -->\n      <g transform=\"translate(20.878125 77.06517) scale(0.1 -0.1)\">\n       <defs>\n        <path id=\"DejaVuSans-34\" d=\"M 2419 4116 \nL 825 1625 \nL 2419 1625 \nL 2419 4116 \nz\nM 2253 4666 \nL 3047 4666 \nL 3047 1625 \nL 3713 1625 \nL 3713 1100 \nL 3047 1100 \nL 3047 0 \nL 2419 0 \nL 2419 1100 \nL 313 1100 \nL 313 1709 \nL 2253 4666 \nz\n\" transform=\"scale(0.015625)\"/>\n       </defs>\n       <use xlink:href=\"#DejaVuSans-34\"/>\n      </g>\n     </g>\n    </g>\n    <g id=\"text_4\">\n     <!-- Query positions -->\n     <g transform=\"translate(14.798437 95.477874) rotate(-90) scale(0.1 -0.1)\">\n      <defs>\n       <path id=\"DejaVuSans-51\" d=\"M 2522 4238 \nQ 1834 4238 1429 3725 \nQ 1025 3213 1025 2328 \nQ 1025 1447 1429 934 \nQ 1834 422 2522 422 \nQ 3209 422 3611 934 \nQ 4013 1447 4013 2328 \nQ 4013 3213 3611 3725 \nQ 3209 4238 2522 4238 \nz\nM 3406 84 \nL 4238 -825 \nL 3475 -825 \nL 2784 -78 \nQ 2681 -84 2626 -87 \nQ 2572 -91 2522 -91 \nQ 1538 -91 948 567 \nQ 359 1225 359 2328 \nQ 359 3434 948 4092 \nQ 1538 4750 2522 4750 \nQ 3503 4750 4090 4092 \nQ 4678 3434 4678 2328 \nQ 4678 1516 4351 937 \nQ 4025 359 3406 84 \nz\n\" transform=\"scale(0.015625)\"/>\n       <path id=\"DejaVuSans-75\" d=\"M 544 1381 \nL 544 3500 \nL 1119 3500 \nL 1119 1403 \nQ 1119 906 1312 657 \nQ 1506 409 1894 409 \nQ 2359 409 2629 706 \nQ 2900 1003 2900 1516 \nL 2900 3500 \nL 3475 3500 \nL 3475 0 \nL 2900 0 \nL 2900 538 \nQ 2691 219 2414 64 \nQ 2138 -91 1772 -91 \nQ 1169 -91 856 284 \nQ 544 659 544 1381 \nz\nM 1991 3584 \nL 1991 3584 \nz\n\" transform=\"scale(0.015625)\"/>\n       <path id=\"DejaVuSans-65\" d=\"M 3597 1894 \nL 3597 1613 \nL 953 1613 \nQ 991 1019 1311 708 \nQ 1631 397 2203 397 \nQ 2534 397 2845 478 \nQ 3156 559 3463 722 \nL 3463 178 \nQ 3153 47 2828 -22 \nQ 2503 -91 2169 -91 \nQ 1331 -91 842 396 \nQ 353 884 353 1716 \nQ 353 2575 817 3079 \nQ 1281 3584 2069 3584 \nQ 2775 3584 3186 3129 \nQ 3597 2675 3597 1894 \nz\nM 3022 2063 \nQ 3016 2534 2758 2815 \nQ 2500 3097 2075 3097 \nQ 1594 3097 1305 2825 \nQ 1016 2553 972 2059 \nL 3022 2063 \nz\n\" transform=\"scale(0.015625)\"/>\n       <path id=\"DejaVuSans-72\" d=\"M 2631 2963 \nQ 2534 3019 2420 3045 \nQ 2306 3072 2169 3072 \nQ 1681 3072 1420 2755 \nQ 1159 2438 1159 1844 \nL 1159 0 \nL 581 0 \nL 581 3500 \nL 1159 3500 \nL 1159 2956 \nQ 1341 3275 1631 3429 \nQ 1922 3584 2338 3584 \nQ 2397 3584 2469 3576 \nQ 2541 3569 2628 3553 \nL 2631 2963 \nz\n\" transform=\"scale(0.015625)\"/>\n       <path id=\"DejaVuSans-79\" d=\"M 2059 -325 \nQ 1816 -950 1584 -1140 \nQ 1353 -1331 966 -1331 \nL 506 -1331 \nL 506 -850 \nL 844 -850 \nQ 1081 -850 1212 -737 \nQ 1344 -625 1503 -206 \nL 1606 56 \nL 191 3500 \nL 800 3500 \nL 1894 763 \nL 2988 3500 \nL 3597 3500 \nL 2059 -325 \nz\n\" transform=\"scale(0.015625)\"/>\n       <path id=\"DejaVuSans-20\" transform=\"scale(0.015625)\"/>\n       <path id=\"DejaVuSans-70\" d=\"M 1159 525 \nL 1159 -1331 \nL 581 -1331 \nL 581 3500 \nL 1159 3500 \nL 1159 2969 \nQ 1341 3281 1617 3432 \nQ 1894 3584 2278 3584 \nQ 2916 3584 3314 3078 \nQ 3713 2572 3713 1747 \nQ 3713 922 3314 415 \nQ 2916 -91 2278 -91 \nQ 1894 -91 1617 61 \nQ 1341 213 1159 525 \nz\nM 3116 1747 \nQ 3116 2381 2855 2742 \nQ 2594 3103 2138 3103 \nQ 1681 3103 1420 2742 \nQ 1159 2381 1159 1747 \nQ 1159 1113 1420 752 \nQ 1681 391 2138 391 \nQ 2594 391 2855 752 \nQ 3116 1113 3116 1747 \nz\n\" transform=\"scale(0.015625)\"/>\n       <path id=\"DejaVuSans-6f\" d=\"M 1959 3097 \nQ 1497 3097 1228 2736 \nQ 959 2375 959 1747 \nQ 959 1119 1226 758 \nQ 1494 397 1959 397 \nQ 2419 397 2687 759 \nQ 2956 1122 2956 1747 \nQ 2956 2369 2687 2733 \nQ 2419 3097 1959 3097 \nz\nM 1959 3584 \nQ 2709 3584 3137 3096 \nQ 3566 2609 3566 1747 \nQ 3566 888 3137 398 \nQ 2709 -91 1959 -91 \nQ 1206 -91 779 398 \nQ 353 888 353 1747 \nQ 353 2609 779 3096 \nQ 1206 3584 1959 3584 \nz\n\" transform=\"scale(0.015625)\"/>\n       <path id=\"DejaVuSans-73\" d=\"M 2834 3397 \nL 2834 2853 \nQ 2591 2978 2328 3040 \nQ 2066 3103 1784 3103 \nQ 1356 3103 1142 2972 \nQ 928 2841 928 2578 \nQ 928 2378 1081 2264 \nQ 1234 2150 1697 2047 \nL 1894 2003 \nQ 2506 1872 2764 1633 \nQ 3022 1394 3022 966 \nQ 3022 478 2636 193 \nQ 2250 -91 1575 -91 \nQ 1294 -91 989 -36 \nQ 684 19 347 128 \nL 347 722 \nQ 666 556 975 473 \nQ 1284 391 1588 391 \nQ 1994 391 2212 530 \nQ 2431 669 2431 922 \nQ 2431 1156 2273 1281 \nQ 2116 1406 1581 1522 \nL 1381 1569 \nQ 847 1681 609 1914 \nQ 372 2147 372 2553 \nQ 372 3047 722 3315 \nQ 1072 3584 1716 3584 \nQ 2034 3584 2315 3537 \nQ 2597 3491 2834 3397 \nz\n\" transform=\"scale(0.015625)\"/>\n       <path id=\"DejaVuSans-69\" d=\"M 603 3500 \nL 1178 3500 \nL 1178 0 \nL 603 0 \nL 603 3500 \nz\nM 603 4863 \nL 1178 4863 \nL 1178 4134 \nL 603 4134 \nL 603 4863 \nz\n\" transform=\"scale(0.015625)\"/>\n       <path id=\"DejaVuSans-74\" d=\"M 1172 4494 \nL 1172 3500 \nL 2356 3500 \nL 2356 3053 \nL 1172 3053 \nL 1172 1153 \nQ 1172 725 1289 603 \nQ 1406 481 1766 481 \nL 2356 481 \nL 2356 0 \nL 1766 0 \nQ 1100 0 847 248 \nQ 594 497 594 1153 \nL 594 3053 \nL 172 3053 \nL 172 3500 \nL 594 3500 \nL 594 4494 \nL 1172 4494 \nz\n\" transform=\"scale(0.015625)\"/>\n       <path id=\"DejaVuSans-6e\" d=\"M 3513 2113 \nL 3513 0 \nL 2938 0 \nL 2938 2094 \nQ 2938 2591 2744 2837 \nQ 2550 3084 2163 3084 \nQ 1697 3084 1428 2787 \nQ 1159 2491 1159 1978 \nL 1159 0 \nL 581 0 \nL 581 3500 \nL 1159 3500 \nL 1159 2956 \nQ 1366 3272 1645 3428 \nQ 1925 3584 2291 3584 \nQ 2894 3584 3203 3211 \nQ 3513 2838 3513 2113 \nz\n\" transform=\"scale(0.015625)\"/>\n      </defs>\n      <use xlink:href=\"#DejaVuSans-51\"/>\n      <use xlink:href=\"#DejaVuSans-75\" transform=\"translate(78.710938 0)\"/>\n      <use xlink:href=\"#DejaVuSans-65\" transform=\"translate(142.089844 0)\"/>\n      <use xlink:href=\"#DejaVuSans-72\" transform=\"translate(203.613281 0)\"/>\n      <use xlink:href=\"#DejaVuSans-79\" transform=\"translate(244.726562 0)\"/>\n      <use xlink:href=\"#DejaVuSans-20\" transform=\"translate(303.90625 0)\"/>\n      <use xlink:href=\"#DejaVuSans-70\" transform=\"translate(335.693359 0)\"/>\n      <use xlink:href=\"#DejaVuSans-6f\" transform=\"translate(399.169922 0)\"/>\n      <use xlink:href=\"#DejaVuSans-73\" transform=\"translate(460.351562 0)\"/>\n      <use xlink:href=\"#DejaVuSans-69\" transform=\"translate(512.451172 0)\"/>\n      <use xlink:href=\"#DejaVuSans-74\" transform=\"translate(540.234375 0)\"/>\n      <use xlink:href=\"#DejaVuSans-69\" transform=\"translate(579.443359 0)\"/>\n      <use xlink:href=\"#DejaVuSans-6f\" transform=\"translate(607.226562 0)\"/>\n      <use xlink:href=\"#DejaVuSans-6e\" transform=\"translate(668.408203 0)\"/>\n      <use xlink:href=\"#DejaVuSans-73\" transform=\"translate(731.787109 0)\"/>\n     </g>\n    </g>\n   </g>\n   <g id=\"patch_3\">\n    <path d=\"M 34.240625 90.24856 \nL 34.240625 22.318125 \n\" style=\"fill: none; stroke: #000000; stroke-width: 0.8; stroke-linejoin: miter; stroke-linecap: square\"/>\n   </g>\n   <g id=\"patch_4\">\n    <path d=\"M 102.17106 90.24856 \nL 102.17106 22.318125 \n\" style=\"fill: none; stroke: #000000; stroke-width: 0.8; stroke-linejoin: miter; stroke-linecap: square\"/>\n   </g>\n   <g id=\"patch_5\">\n    <path d=\"M 34.240625 90.24856 \nL 102.17106 90.24856 \n\" style=\"fill: none; stroke: #000000; stroke-width: 0.8; stroke-linejoin: miter; stroke-linecap: square\"/>\n   </g>\n   <g id=\"patch_6\">\n    <path d=\"M 34.240625 22.318125 \nL 102.17106 22.318125 \n\" style=\"fill: none; stroke: #000000; stroke-width: 0.8; stroke-linejoin: miter; stroke-linecap: square\"/>\n   </g>\n   <g id=\"text_5\">\n    <!-- Head 1 -->\n    <g transform=\"translate(46.791467 16.318125) scale(0.12 -0.12)\">\n     <defs>\n      <path id=\"DejaVuSans-48\" d=\"M 628 4666 \nL 1259 4666 \nL 1259 2753 \nL 3553 2753 \nL 3553 4666 \nL 4184 4666 \nL 4184 0 \nL 3553 0 \nL 3553 2222 \nL 1259 2222 \nL 1259 0 \nL 628 0 \nL 628 4666 \nz\n\" transform=\"scale(0.015625)\"/>\n      <path id=\"DejaVuSans-61\" d=\"M 2194 1759 \nQ 1497 1759 1228 1600 \nQ 959 1441 959 1056 \nQ 959 750 1161 570 \nQ 1363 391 1709 391 \nQ 2188 391 2477 730 \nQ 2766 1069 2766 1631 \nL 2766 1759 \nL 2194 1759 \nz\nM 3341 1997 \nL 3341 0 \nL 2766 0 \nL 2766 531 \nQ 2569 213 2275 61 \nQ 1981 -91 1556 -91 \nQ 1019 -91 701 211 \nQ 384 513 384 1019 \nQ 384 1609 779 1909 \nQ 1175 2209 1959 2209 \nL 2766 2209 \nL 2766 2266 \nQ 2766 2663 2505 2880 \nQ 2244 3097 1772 3097 \nQ 1472 3097 1187 3025 \nQ 903 2953 641 2809 \nL 641 3341 \nQ 956 3463 1253 3523 \nQ 1550 3584 1831 3584 \nQ 2591 3584 2966 3190 \nQ 3341 2797 3341 1997 \nz\n\" transform=\"scale(0.015625)\"/>\n      <path id=\"DejaVuSans-64\" d=\"M 2906 2969 \nL 2906 4863 \nL 3481 4863 \nL 3481 0 \nL 2906 0 \nL 2906 525 \nQ 2725 213 2448 61 \nQ 2172 -91 1784 -91 \nQ 1150 -91 751 415 \nQ 353 922 353 1747 \nQ 353 2572 751 3078 \nQ 1150 3584 1784 3584 \nQ 2172 3584 2448 3432 \nQ 2725 3281 2906 2969 \nz\nM 947 1747 \nQ 947 1113 1208 752 \nQ 1469 391 1925 391 \nQ 2381 391 2643 752 \nQ 2906 1113 2906 1747 \nQ 2906 2381 2643 2742 \nQ 2381 3103 1925 3103 \nQ 1469 3103 1208 2742 \nQ 947 2381 947 1747 \nz\n\" transform=\"scale(0.015625)\"/>\n      <path id=\"DejaVuSans-31\" d=\"M 794 531 \nL 1825 531 \nL 1825 4091 \nL 703 3866 \nL 703 4441 \nL 1819 4666 \nL 2450 4666 \nL 2450 531 \nL 3481 531 \nL 3481 0 \nL 794 0 \nL 794 531 \nz\n\" transform=\"scale(0.015625)\"/>\n     </defs>\n     <use xlink:href=\"#DejaVuSans-48\"/>\n     <use xlink:href=\"#DejaVuSans-65\" transform=\"translate(75.195312 0)\"/>\n     <use xlink:href=\"#DejaVuSans-61\" transform=\"translate(136.71875 0)\"/>\n     <use xlink:href=\"#DejaVuSans-64\" transform=\"translate(197.998047 0)\"/>\n     <use xlink:href=\"#DejaVuSans-20\" transform=\"translate(261.474609 0)\"/>\n     <use xlink:href=\"#DejaVuSans-31\" transform=\"translate(293.261719 0)\"/>\n    </g>\n   </g>\n  </g>\n  <g id=\"axes_2\">\n   <g id=\"patch_7\">\n    <path d=\"M 115.757147 90.24856 \nL 183.687582 90.24856 \nL 183.687582 22.318125 \nL 115.757147 22.318125 \nz\n\" style=\"fill: #ffffff\"/>\n   </g>\n   <g clip-path=\"url(#p3744a03cbb)\">\n    <image xlink:href=\"data:image/png;base64,\niVBORw0KGgoAAAANSUhEUgAAAF8AAABfCAYAAACOTBv1AAABX0lEQVR4nO3cPUoDURSA0YzY+FfZiZW9vSuwtnUFZgtWgpU70N0pxk5RQdJG95AX+JCc09+Zx8etHsNMv8vv3xlrmR+cDs3vbOgcrEH8kPgh8UPih8QPiR8SPyR+SPyQ+CHxQ+KHxA+JH5pWH4uh+/z7k/OhA9x9vQzN/2c2PyR+SPyQ+CHxQ+KHxA+JHxI/JH5I/JD4IfFD4ofED03z2dHQff7jcrGps2wdmx8SPyR+SPyQ+CHxQ+KHxA+JHxI/JH5I/JD4IfFD4oem1fvr2P929o6Gxh+Oz9aevf18Hnp3zeaHxA+JHxI/JH5I/JD4IfFD4ofED4kfEj8kfkj80O7P9dXQA/YvL4bm//u18AibHxI/JH5I/JD4IfFD4ofED4kfEj8kfkj8kPgh8UPih6ab2eHQJ+JPy7dNnWXr2PyQ+CHxQ+KHxA+JHxI/JH5I/JD4IfFD4ofED4kfEj/0BxHDHyTcKIT0AAAAAElFTkSuQmCC\" id=\"image2ecb24b92c\" transform=\"scale(1 -1) translate(0 -68.4)\" x=\"115.757147\" y=\"-21.84856\" width=\"68.4\" height=\"68.4\"/>\n   </g>\n   <g id=\"matplotlib.axis_3\">\n    <g id=\"xtick_3\">\n     <g id=\"line2d_6\">\n      <g>\n       <use xlink:href=\"#mc48929c709\" x=\"121.418016\" y=\"90.24856\" style=\"stroke: #000000; stroke-width: 0.8\"/>\n      </g>\n     </g>\n    </g>\n    <g id=\"xtick_4\">\n     <g id=\"line2d_7\">\n      <g>\n       <use xlink:href=\"#mc48929c709\" x=\"178.026712\" y=\"90.24856\" style=\"stroke: #000000; stroke-width: 0.8\"/>\n      </g>\n     </g>\n    </g>\n   </g>\n   <g id=\"matplotlib.axis_4\">\n    <g id=\"ytick_4\">\n     <g id=\"line2d_8\">\n      <g>\n       <use xlink:href=\"#m2a2a12a0db\" x=\"115.757147\" y=\"27.978995\" style=\"stroke: #000000; stroke-width: 0.8\"/>\n      </g>\n     </g>\n    </g>\n    <g id=\"ytick_5\">\n     <g id=\"line2d_9\">\n      <g>\n       <use xlink:href=\"#m2a2a12a0db\" x=\"115.757147\" y=\"50.622473\" style=\"stroke: #000000; stroke-width: 0.8\"/>\n      </g>\n     </g>\n    </g>\n    <g id=\"ytick_6\">\n     <g id=\"line2d_10\">\n      <g>\n       <use xlink:href=\"#m2a2a12a0db\" x=\"115.757147\" y=\"73.265951\" style=\"stroke: #000000; stroke-width: 0.8\"/>\n      </g>\n     </g>\n    </g>\n   </g>\n   <g id=\"patch_8\">\n    <path d=\"M 115.757147 90.24856 \nL 115.757147 22.318125 \n\" style=\"fill: none; stroke: #000000; stroke-width: 0.8; stroke-linejoin: miter; stroke-linecap: square\"/>\n   </g>\n   <g id=\"patch_9\">\n    <path d=\"M 183.687582 90.24856 \nL 183.687582 22.318125 \n\" style=\"fill: none; stroke: #000000; stroke-width: 0.8; stroke-linejoin: miter; stroke-linecap: square\"/>\n   </g>\n   <g id=\"patch_10\">\n    <path d=\"M 115.757147 90.24856 \nL 183.687582 90.24856 \n\" style=\"fill: none; stroke: #000000; stroke-width: 0.8; stroke-linejoin: miter; stroke-linecap: square\"/>\n   </g>\n   <g id=\"patch_11\">\n    <path d=\"M 115.757147 22.318125 \nL 183.687582 22.318125 \n\" style=\"fill: none; stroke: #000000; stroke-width: 0.8; stroke-linejoin: miter; stroke-linecap: square\"/>\n   </g>\n   <g id=\"text_6\">\n    <!-- Head 2 -->\n    <g transform=\"translate(128.307989 16.318125) scale(0.12 -0.12)\">\n     <use xlink:href=\"#DejaVuSans-48\"/>\n     <use xlink:href=\"#DejaVuSans-65\" transform=\"translate(75.195312 0)\"/>\n     <use xlink:href=\"#DejaVuSans-61\" transform=\"translate(136.71875 0)\"/>\n     <use xlink:href=\"#DejaVuSans-64\" transform=\"translate(197.998047 0)\"/>\n     <use xlink:href=\"#DejaVuSans-20\" transform=\"translate(261.474609 0)\"/>\n     <use xlink:href=\"#DejaVuSans-32\" transform=\"translate(293.261719 0)\"/>\n    </g>\n   </g>\n  </g>\n  <g id=\"axes_3\">\n   <g id=\"patch_12\">\n    <path d=\"M 197.273668 90.24856 \nL 265.204103 90.24856 \nL 265.204103 22.318125 \nL 197.273668 22.318125 \nz\n\" style=\"fill: #ffffff\"/>\n   </g>\n   <g clip-path=\"url(#pc3c2f801d0)\">\n    <image xlink:href=\"data:image/png;base64,\niVBORw0KGgoAAAANSUhEUgAAAF8AAABfCAYAAACOTBv1AAABZElEQVR4nO3Yy0klURRA0VdatIIOdNQBGJsxdArGYE6GIM4FQbAbP6DVOXiEpby95qfq1q47Osv273HbDWxvL5Px3fLr+NOz178vRu++vL0ZzS+nZ6P5g9F0RooPFR8qPlR8qPhQ8aHiQ8WHig8VHyo+VHyo+FDxoeXq+Hy0z//zcDc6wPb38dOz03261s2Hig8VHyo+VHyo+FDxoeJDxYeKDxUfKj5UfKj4UPGh9eVjtM7fbc9Po/mfvpOf6OZDxYeKDxUfKj5UfKj4UPGh4kPFh4oPFR8qPlR8qPjQev/2PnvC0cnXnGQPdfOh4kPFh4oPFR8qPlR8qPhQ8aHiQ8WHig8VHyo+tK7LMnvC9jE8wv7+//398m+g+FDxoeJDxYeKDxUfKj5UfKj4UPGh4kPFh4oPFR9aX4f7+OVw/aKj7J9uPlR8qPhQ8aHiQ8WHig8VHyo+VHyo+FDxoeJDxYeKD/0H8asffJry8SoAAAAASUVORK5CYII=\" id=\"image772cd7b1a1\" transform=\"scale(1 -1) translate(0 -68.4)\" x=\"197.273668\" y=\"-21.84856\" width=\"68.4\" height=\"68.4\"/>\n   </g>\n   <g id=\"matplotlib.axis_5\">\n    <g id=\"xtick_5\">\n     <g id=\"line2d_11\">\n      <g>\n       <use xlink:href=\"#mc48929c709\" x=\"202.934538\" y=\"90.24856\" style=\"stroke: #000000; stroke-width: 0.8\"/>\n      </g>\n     </g>\n    </g>\n    <g id=\"xtick_6\">\n     <g id=\"line2d_12\">\n      <g>\n       <use xlink:href=\"#mc48929c709\" x=\"259.543234\" y=\"90.24856\" style=\"stroke: #000000; stroke-width: 0.8\"/>\n      </g>\n     </g>\n    </g>\n   </g>\n   <g id=\"matplotlib.axis_6\">\n    <g id=\"ytick_7\">\n     <g id=\"line2d_13\">\n      <g>\n       <use xlink:href=\"#m2a2a12a0db\" x=\"197.273668\" y=\"27.978995\" style=\"stroke: #000000; stroke-width: 0.8\"/>\n      </g>\n     </g>\n    </g>\n    <g id=\"ytick_8\">\n     <g id=\"line2d_14\">\n      <g>\n       <use xlink:href=\"#m2a2a12a0db\" x=\"197.273668\" y=\"50.622473\" style=\"stroke: #000000; stroke-width: 0.8\"/>\n      </g>\n     </g>\n    </g>\n    <g id=\"ytick_9\">\n     <g id=\"line2d_15\">\n      <g>\n       <use xlink:href=\"#m2a2a12a0db\" x=\"197.273668\" y=\"73.265951\" style=\"stroke: #000000; stroke-width: 0.8\"/>\n      </g>\n     </g>\n    </g>\n   </g>\n   <g id=\"patch_13\">\n    <path d=\"M 197.273668 90.24856 \nL 197.273668 22.318125 \n\" style=\"fill: none; stroke: #000000; stroke-width: 0.8; stroke-linejoin: miter; stroke-linecap: square\"/>\n   </g>\n   <g id=\"patch_14\">\n    <path d=\"M 265.204103 90.24856 \nL 265.204103 22.318125 \n\" style=\"fill: none; stroke: #000000; stroke-width: 0.8; stroke-linejoin: miter; stroke-linecap: square\"/>\n   </g>\n   <g id=\"patch_15\">\n    <path d=\"M 197.273668 90.24856 \nL 265.204103 90.24856 \n\" style=\"fill: none; stroke: #000000; stroke-width: 0.8; stroke-linejoin: miter; stroke-linecap: square\"/>\n   </g>\n   <g id=\"patch_16\">\n    <path d=\"M 197.273668 22.318125 \nL 265.204103 22.318125 \n\" style=\"fill: none; stroke: #000000; stroke-width: 0.8; stroke-linejoin: miter; stroke-linecap: square\"/>\n   </g>\n   <g id=\"text_7\">\n    <!-- Head 3 -->\n    <g transform=\"translate(209.824511 16.318125) scale(0.12 -0.12)\">\n     <defs>\n      <path id=\"DejaVuSans-33\" d=\"M 2597 2516 \nQ 3050 2419 3304 2112 \nQ 3559 1806 3559 1356 \nQ 3559 666 3084 287 \nQ 2609 -91 1734 -91 \nQ 1441 -91 1130 -33 \nQ 819 25 488 141 \nL 488 750 \nQ 750 597 1062 519 \nQ 1375 441 1716 441 \nQ 2309 441 2620 675 \nQ 2931 909 2931 1356 \nQ 2931 1769 2642 2001 \nQ 2353 2234 1838 2234 \nL 1294 2234 \nL 1294 2753 \nL 1863 2753 \nQ 2328 2753 2575 2939 \nQ 2822 3125 2822 3475 \nQ 2822 3834 2567 4026 \nQ 2313 4219 1838 4219 \nQ 1578 4219 1281 4162 \nQ 984 4106 628 3988 \nL 628 4550 \nQ 988 4650 1302 4700 \nQ 1616 4750 1894 4750 \nQ 2613 4750 3031 4423 \nQ 3450 4097 3450 3541 \nQ 3450 3153 3228 2886 \nQ 3006 2619 2597 2516 \nz\n\" transform=\"scale(0.015625)\"/>\n     </defs>\n     <use xlink:href=\"#DejaVuSans-48\"/>\n     <use xlink:href=\"#DejaVuSans-65\" transform=\"translate(75.195312 0)\"/>\n     <use xlink:href=\"#DejaVuSans-61\" transform=\"translate(136.71875 0)\"/>\n     <use xlink:href=\"#DejaVuSans-64\" transform=\"translate(197.998047 0)\"/>\n     <use xlink:href=\"#DejaVuSans-20\" transform=\"translate(261.474609 0)\"/>\n     <use xlink:href=\"#DejaVuSans-33\" transform=\"translate(293.261719 0)\"/>\n    </g>\n   </g>\n  </g>\n  <g id=\"axes_4\">\n   <g id=\"patch_17\">\n    <path d=\"M 278.79019 90.24856 \nL 346.720625 90.24856 \nL 346.720625 22.318125 \nL 278.79019 22.318125 \nz\n\" style=\"fill: #ffffff\"/>\n   </g>\n   <g clip-path=\"url(#pa076d0d510)\">\n    <image xlink:href=\"data:image/png;base64,\niVBORw0KGgoAAAANSUhEUgAAAF8AAABfCAYAAACOTBv1AAABXElEQVR4nO3csUkEURRA0RlZMw0EKzC0BHNbsAYz2UZEI0Nja7APMRERDRRNjYRde9gvXGTPyd9/w+VHwzDz6uN5PQ2Y9w5GxqfLw6ONZ5efT0O753kemh+1k27fcuKHxA+JHxI/JH5I/JD4IfFD4ofED4kfEj8kfkj80GL99TZ0wP3xydD88v1xaP4/c/ND4ofED4kfEj8kfkj8kPgh8UPih8QPiR8SPyR+SPzQYnV7PXTA6cvD0PzPxdnGs7tXd0O7J9/nby/xQ+KHxA+JHxI/JH5I/JD4IfFD4ofED4kfEj8kfmg+n/aH/rdz8/36V8+yddz8kPgh8UPih8QPiR8SPyR+SPyQ+CHxQ+KHxA+JH1qsp6E3ygxw80Pih8QPiR8SPyR+SPyQ+CHxQ+KHxA+JHxI/JH5I/JD4IfFD4ofED4kfEj8kfkj8kPgh8UPih8QPiR8SPyR+SPzQL7ITGtB9FgBMAAAAAElFTkSuQmCC\" id=\"image497fdec12e\" transform=\"scale(1 -1) translate(0 -68.4)\" x=\"278.79019\" y=\"-21.84856\" width=\"68.4\" height=\"68.4\"/>\n   </g>\n   <g id=\"matplotlib.axis_7\">\n    <g id=\"xtick_7\">\n     <g id=\"line2d_16\">\n      <g>\n       <use xlink:href=\"#mc48929c709\" x=\"284.45106\" y=\"90.24856\" style=\"stroke: #000000; stroke-width: 0.8\"/>\n      </g>\n     </g>\n    </g>\n    <g id=\"xtick_8\">\n     <g id=\"line2d_17\">\n      <g>\n       <use xlink:href=\"#mc48929c709\" x=\"341.059755\" y=\"90.24856\" style=\"stroke: #000000; stroke-width: 0.8\"/>\n      </g>\n     </g>\n    </g>\n   </g>\n   <g id=\"matplotlib.axis_8\">\n    <g id=\"ytick_10\">\n     <g id=\"line2d_18\">\n      <g>\n       <use xlink:href=\"#m2a2a12a0db\" x=\"278.79019\" y=\"27.978995\" style=\"stroke: #000000; stroke-width: 0.8\"/>\n      </g>\n     </g>\n    </g>\n    <g id=\"ytick_11\">\n     <g id=\"line2d_19\">\n      <g>\n       <use xlink:href=\"#m2a2a12a0db\" x=\"278.79019\" y=\"50.622473\" style=\"stroke: #000000; stroke-width: 0.8\"/>\n      </g>\n     </g>\n    </g>\n    <g id=\"ytick_12\">\n     <g id=\"line2d_20\">\n      <g>\n       <use xlink:href=\"#m2a2a12a0db\" x=\"278.79019\" y=\"73.265951\" style=\"stroke: #000000; stroke-width: 0.8\"/>\n      </g>\n     </g>\n    </g>\n   </g>\n   <g id=\"patch_18\">\n    <path d=\"M 278.79019 90.24856 \nL 278.79019 22.318125 \n\" style=\"fill: none; stroke: #000000; stroke-width: 0.8; stroke-linejoin: miter; stroke-linecap: square\"/>\n   </g>\n   <g id=\"patch_19\">\n    <path d=\"M 346.720625 90.24856 \nL 346.720625 22.318125 \n\" style=\"fill: none; stroke: #000000; stroke-width: 0.8; stroke-linejoin: miter; stroke-linecap: square\"/>\n   </g>\n   <g id=\"patch_20\">\n    <path d=\"M 278.79019 90.24856 \nL 346.720625 90.24856 \n\" style=\"fill: none; stroke: #000000; stroke-width: 0.8; stroke-linejoin: miter; stroke-linecap: square\"/>\n   </g>\n   <g id=\"patch_21\">\n    <path d=\"M 278.79019 22.318125 \nL 346.720625 22.318125 \n\" style=\"fill: none; stroke: #000000; stroke-width: 0.8; stroke-linejoin: miter; stroke-linecap: square\"/>\n   </g>\n   <g id=\"text_8\">\n    <!-- Head 4 -->\n    <g transform=\"translate(291.341033 16.318125) scale(0.12 -0.12)\">\n     <use xlink:href=\"#DejaVuSans-48\"/>\n     <use xlink:href=\"#DejaVuSans-65\" transform=\"translate(75.195312 0)\"/>\n     <use xlink:href=\"#DejaVuSans-61\" transform=\"translate(136.71875 0)\"/>\n     <use xlink:href=\"#DejaVuSans-64\" transform=\"translate(197.998047 0)\"/>\n     <use xlink:href=\"#DejaVuSans-20\" transform=\"translate(261.474609 0)\"/>\n     <use xlink:href=\"#DejaVuSans-34\" transform=\"translate(293.261719 0)\"/>\n    </g>\n   </g>\n  </g>\n  <g id=\"axes_5\">\n   <g id=\"patch_22\">\n    <path d=\"M 34.240625 196.08856 \nL 102.17106 196.08856 \nL 102.17106 128.158125 \nL 34.240625 128.158125 \nz\n\" style=\"fill: #ffffff\"/>\n   </g>\n   <g clip-path=\"url(#pe26af5a5f5)\">\n    <image xlink:href=\"data:image/png;base64,\niVBORw0KGgoAAAANSUhEUgAAAF8AAABfCAYAAACOTBv1AAABWUlEQVR4nO3azUkDURSA0YlkZ1KAICq4tAbr8QfbEawnJdiCFpDNbDP2MC/4IZ6zv8zj464us1nm4zKxyvPl9dD8xZnewQrih8QPiR8SPyR+SPyQ+CHxQ+KHxA+JHxI/JH5I/NCmvucf7h5Wzz5+Hoa+vczHofmLq/ux+aFphogfEj8kfkj8kPgh8UPih8QPiR8SPyR+SPyQ+CHxQ/k9fzmdVs++7W+Hvv0+fw3Nj7L5IfFD4ofED4kfEj8kfkj8kPgh8UPih8QPiR8SPyR+aFs/4GV/s3r2Y/4+40t+n80PiR8SPyR+SPyQ+CHxQ+KHxA+JHxI/JH5I/JD4oe2yjP0h/rpbfxKepr9/Fh5h80Pih8QPiR8SPyR+SPyQ+CHxQ+KHxA+JHxI/JH5I/NDmadoNHfT/8z1+lM0PiR8SPyR+SPyQ+CHxQ+KHxA+JHxI/JH5I/JD4IfFDPzevJeEKbqDZAAAAAElFTkSuQmCC\" id=\"image3be510d952\" transform=\"scale(1 -1) translate(0 -68.4)\" x=\"34.240625\" y=\"-127.68856\" width=\"68.4\" height=\"68.4\"/>\n   </g>\n   <g id=\"matplotlib.axis_9\">\n    <g id=\"xtick_9\">\n     <g id=\"line2d_21\">\n      <g>\n       <use xlink:href=\"#mc48929c709\" x=\"39.901495\" y=\"196.08856\" style=\"stroke: #000000; stroke-width: 0.8\"/>\n      </g>\n     </g>\n     <g id=\"text_9\">\n      <!-- 0 -->\n      <g transform=\"translate(36.720245 210.686997) scale(0.1 -0.1)\">\n       <use xlink:href=\"#DejaVuSans-30\"/>\n      </g>\n     </g>\n    </g>\n    <g id=\"xtick_10\">\n     <g id=\"line2d_22\">\n      <g>\n       <use xlink:href=\"#mc48929c709\" x=\"96.51019\" y=\"196.08856\" style=\"stroke: #000000; stroke-width: 0.8\"/>\n      </g>\n     </g>\n     <g id=\"text_10\">\n      <!-- 5 -->\n      <g transform=\"translate(93.32894 210.686997) scale(0.1 -0.1)\">\n       <defs>\n        <path id=\"DejaVuSans-35\" d=\"M 691 4666 \nL 3169 4666 \nL 3169 4134 \nL 1269 4134 \nL 1269 2991 \nQ 1406 3038 1543 3061 \nQ 1681 3084 1819 3084 \nQ 2600 3084 3056 2656 \nQ 3513 2228 3513 1497 \nQ 3513 744 3044 326 \nQ 2575 -91 1722 -91 \nQ 1428 -91 1123 -41 \nQ 819 9 494 109 \nL 494 744 \nQ 775 591 1075 516 \nQ 1375 441 1709 441 \nQ 2250 441 2565 725 \nQ 2881 1009 2881 1497 \nQ 2881 1984 2565 2268 \nQ 2250 2553 1709 2553 \nQ 1456 2553 1204 2497 \nQ 953 2441 691 2322 \nL 691 4666 \nz\n\" transform=\"scale(0.015625)\"/>\n       </defs>\n       <use xlink:href=\"#DejaVuSans-35\"/>\n      </g>\n     </g>\n    </g>\n    <g id=\"text_11\">\n     <!-- Key positions -->\n     <g transform=\"translate(35.142561 224.365122) scale(0.1 -0.1)\">\n      <defs>\n       <path id=\"DejaVuSans-4b\" d=\"M 628 4666 \nL 1259 4666 \nL 1259 2694 \nL 3353 4666 \nL 4166 4666 \nL 1850 2491 \nL 4331 0 \nL 3500 0 \nL 1259 2247 \nL 1259 0 \nL 628 0 \nL 628 4666 \nz\n\" transform=\"scale(0.015625)\"/>\n      </defs>\n      <use xlink:href=\"#DejaVuSans-4b\"/>\n      <use xlink:href=\"#DejaVuSans-65\" transform=\"translate(60.576172 0)\"/>\n      <use xlink:href=\"#DejaVuSans-79\" transform=\"translate(122.099609 0)\"/>\n      <use xlink:href=\"#DejaVuSans-20\" transform=\"translate(181.279297 0)\"/>\n      <use xlink:href=\"#DejaVuSans-70\" transform=\"translate(213.066406 0)\"/>\n      <use xlink:href=\"#DejaVuSans-6f\" transform=\"translate(276.542969 0)\"/>\n      <use xlink:href=\"#DejaVuSans-73\" transform=\"translate(337.724609 0)\"/>\n      <use xlink:href=\"#DejaVuSans-69\" transform=\"translate(389.824219 0)\"/>\n      <use xlink:href=\"#DejaVuSans-74\" transform=\"translate(417.607422 0)\"/>\n      <use xlink:href=\"#DejaVuSans-69\" transform=\"translate(456.816406 0)\"/>\n      <use xlink:href=\"#DejaVuSans-6f\" transform=\"translate(484.599609 0)\"/>\n      <use xlink:href=\"#DejaVuSans-6e\" transform=\"translate(545.78125 0)\"/>\n      <use xlink:href=\"#DejaVuSans-73\" transform=\"translate(609.160156 0)\"/>\n     </g>\n    </g>\n   </g>\n   <g id=\"matplotlib.axis_10\">\n    <g id=\"ytick_13\">\n     <g id=\"line2d_23\">\n      <g>\n       <use xlink:href=\"#m2a2a12a0db\" x=\"34.240625\" y=\"133.818995\" style=\"stroke: #000000; stroke-width: 0.8\"/>\n      </g>\n     </g>\n     <g id=\"text_12\">\n      <!-- 0 -->\n      <g transform=\"translate(20.878125 137.618213) scale(0.1 -0.1)\">\n       <use xlink:href=\"#DejaVuSans-30\"/>\n      </g>\n     </g>\n    </g>\n    <g id=\"ytick_14\">\n     <g id=\"line2d_24\">\n      <g>\n       <use xlink:href=\"#m2a2a12a0db\" x=\"34.240625\" y=\"156.462473\" style=\"stroke: #000000; stroke-width: 0.8\"/>\n      </g>\n     </g>\n     <g id=\"text_13\">\n      <!-- 2 -->\n      <g transform=\"translate(20.878125 160.261692) scale(0.1 -0.1)\">\n       <use xlink:href=\"#DejaVuSans-32\"/>\n      </g>\n     </g>\n    </g>\n    <g id=\"ytick_15\">\n     <g id=\"line2d_25\">\n      <g>\n       <use xlink:href=\"#m2a2a12a0db\" x=\"34.240625\" y=\"179.105951\" style=\"stroke: #000000; stroke-width: 0.8\"/>\n      </g>\n     </g>\n     <g id=\"text_14\">\n      <!-- 4 -->\n      <g transform=\"translate(20.878125 182.90517) scale(0.1 -0.1)\">\n       <use xlink:href=\"#DejaVuSans-34\"/>\n      </g>\n     </g>\n    </g>\n    <g id=\"text_15\">\n     <!-- Query positions -->\n     <g transform=\"translate(14.798437 201.317874) rotate(-90) scale(0.1 -0.1)\">\n      <use xlink:href=\"#DejaVuSans-51\"/>\n      <use xlink:href=\"#DejaVuSans-75\" transform=\"translate(78.710938 0)\"/>\n      <use xlink:href=\"#DejaVuSans-65\" transform=\"translate(142.089844 0)\"/>\n      <use xlink:href=\"#DejaVuSans-72\" transform=\"translate(203.613281 0)\"/>\n      <use xlink:href=\"#DejaVuSans-79\" transform=\"translate(244.726562 0)\"/>\n      <use xlink:href=\"#DejaVuSans-20\" transform=\"translate(303.90625 0)\"/>\n      <use xlink:href=\"#DejaVuSans-70\" transform=\"translate(335.693359 0)\"/>\n      <use xlink:href=\"#DejaVuSans-6f\" transform=\"translate(399.169922 0)\"/>\n      <use xlink:href=\"#DejaVuSans-73\" transform=\"translate(460.351562 0)\"/>\n      <use xlink:href=\"#DejaVuSans-69\" transform=\"translate(512.451172 0)\"/>\n      <use xlink:href=\"#DejaVuSans-74\" transform=\"translate(540.234375 0)\"/>\n      <use xlink:href=\"#DejaVuSans-69\" transform=\"translate(579.443359 0)\"/>\n      <use xlink:href=\"#DejaVuSans-6f\" transform=\"translate(607.226562 0)\"/>\n      <use xlink:href=\"#DejaVuSans-6e\" transform=\"translate(668.408203 0)\"/>\n      <use xlink:href=\"#DejaVuSans-73\" transform=\"translate(731.787109 0)\"/>\n     </g>\n    </g>\n   </g>\n   <g id=\"patch_23\">\n    <path d=\"M 34.240625 196.08856 \nL 34.240625 128.158125 \n\" style=\"fill: none; stroke: #000000; stroke-width: 0.8; stroke-linejoin: miter; stroke-linecap: square\"/>\n   </g>\n   <g id=\"patch_24\">\n    <path d=\"M 102.17106 196.08856 \nL 102.17106 128.158125 \n\" style=\"fill: none; stroke: #000000; stroke-width: 0.8; stroke-linejoin: miter; stroke-linecap: square\"/>\n   </g>\n   <g id=\"patch_25\">\n    <path d=\"M 34.240625 196.08856 \nL 102.17106 196.08856 \n\" style=\"fill: none; stroke: #000000; stroke-width: 0.8; stroke-linejoin: miter; stroke-linecap: square\"/>\n   </g>\n   <g id=\"patch_26\">\n    <path d=\"M 34.240625 128.158125 \nL 102.17106 128.158125 \n\" style=\"fill: none; stroke: #000000; stroke-width: 0.8; stroke-linejoin: miter; stroke-linecap: square\"/>\n   </g>\n   <g id=\"text_16\">\n    <!-- Head 1 -->\n    <g transform=\"translate(46.791467 122.158125) scale(0.12 -0.12)\">\n     <use xlink:href=\"#DejaVuSans-48\"/>\n     <use xlink:href=\"#DejaVuSans-65\" transform=\"translate(75.195312 0)\"/>\n     <use xlink:href=\"#DejaVuSans-61\" transform=\"translate(136.71875 0)\"/>\n     <use xlink:href=\"#DejaVuSans-64\" transform=\"translate(197.998047 0)\"/>\n     <use xlink:href=\"#DejaVuSans-20\" transform=\"translate(261.474609 0)\"/>\n     <use xlink:href=\"#DejaVuSans-31\" transform=\"translate(293.261719 0)\"/>\n    </g>\n   </g>\n  </g>\n  <g id=\"axes_6\">\n   <g id=\"patch_27\">\n    <path d=\"M 115.757147 196.08856 \nL 183.687582 196.08856 \nL 183.687582 128.158125 \nL 115.757147 128.158125 \nz\n\" style=\"fill: #ffffff\"/>\n   </g>\n   <g clip-path=\"url(#p9b6d4a73d0)\">\n    <image xlink:href=\"data:image/png;base64,\niVBORw0KGgoAAAANSUhEUgAAAF8AAABfCAYAAACOTBv1AAABk0lEQVR4nO3aMUrEQABG4ZkQLLfQUgQRwXbVI2jrYfQcghexUrAR2UKw1cJGEC3EQkG02U4m3iF/8Qi+r/8z4ZFqduvv7flQAt3uQTIv5et9/HZtPTq63d9E++H6Itp30VoR44OMDzI+yPgg44OMDzI+yPgg44OMDzI+yPgg44OMD+qHxVX2hO15NG+Pd+PHs9Xo7PS3iLp3mJ0frRUxPsj4IOODjA8yPsj4IOODjA8yPsj4IOODjA8yPsj4oDosf6L/57eXh+gFuq356O3lxk509tHbU7RP+eWDjA8yPsj4IOODjA8yPsj4IOODjA8yPsj4IOODjA8yPqi2j9foPv9scz96gePP59Hb2k3725n220+c8UHGBxkfZHyQ8UHGBxkfZHyQ8UHGBxkfZHyQ8UH1pJtFV8qn3+OvhEsppfYr0X7K/PJBxgcZH2R8kPFBxgcZH2R8kPFBxgcZH2R8kPFBxgcZH9QvW4se8J/v41N++SDjg4wPMj7I+CDjg4wPMj7I+CDjg4wPMj7I+CDjg4wP+gOpiymnmkM+vAAAAABJRU5ErkJggg==\" id=\"image46a63c8363\" transform=\"scale(1 -1) translate(0 -68.4)\" x=\"115.757147\" y=\"-127.68856\" width=\"68.4\" height=\"68.4\"/>\n   </g>\n   <g id=\"matplotlib.axis_11\">\n    <g id=\"xtick_11\">\n     <g id=\"line2d_26\">\n      <g>\n       <use xlink:href=\"#mc48929c709\" x=\"121.418016\" y=\"196.08856\" style=\"stroke: #000000; stroke-width: 0.8\"/>\n      </g>\n     </g>\n     <g id=\"text_17\">\n      <!-- 0 -->\n      <g transform=\"translate(118.236766 210.686997) scale(0.1 -0.1)\">\n       <use xlink:href=\"#DejaVuSans-30\"/>\n      </g>\n     </g>\n    </g>\n    <g id=\"xtick_12\">\n     <g id=\"line2d_27\">\n      <g>\n       <use xlink:href=\"#mc48929c709\" x=\"178.026712\" y=\"196.08856\" style=\"stroke: #000000; stroke-width: 0.8\"/>\n      </g>\n     </g>\n     <g id=\"text_18\">\n      <!-- 5 -->\n      <g transform=\"translate(174.845462 210.686997) scale(0.1 -0.1)\">\n       <use xlink:href=\"#DejaVuSans-35\"/>\n      </g>\n     </g>\n    </g>\n    <g id=\"text_19\">\n     <!-- Key positions -->\n     <g transform=\"translate(116.659083 224.365122) scale(0.1 -0.1)\">\n      <use xlink:href=\"#DejaVuSans-4b\"/>\n      <use xlink:href=\"#DejaVuSans-65\" transform=\"translate(60.576172 0)\"/>\n      <use xlink:href=\"#DejaVuSans-79\" transform=\"translate(122.099609 0)\"/>\n      <use xlink:href=\"#DejaVuSans-20\" transform=\"translate(181.279297 0)\"/>\n      <use xlink:href=\"#DejaVuSans-70\" transform=\"translate(213.066406 0)\"/>\n      <use xlink:href=\"#DejaVuSans-6f\" transform=\"translate(276.542969 0)\"/>\n      <use xlink:href=\"#DejaVuSans-73\" transform=\"translate(337.724609 0)\"/>\n      <use xlink:href=\"#DejaVuSans-69\" transform=\"translate(389.824219 0)\"/>\n      <use xlink:href=\"#DejaVuSans-74\" transform=\"translate(417.607422 0)\"/>\n      <use xlink:href=\"#DejaVuSans-69\" transform=\"translate(456.816406 0)\"/>\n      <use xlink:href=\"#DejaVuSans-6f\" transform=\"translate(484.599609 0)\"/>\n      <use xlink:href=\"#DejaVuSans-6e\" transform=\"translate(545.78125 0)\"/>\n      <use xlink:href=\"#DejaVuSans-73\" transform=\"translate(609.160156 0)\"/>\n     </g>\n    </g>\n   </g>\n   <g id=\"matplotlib.axis_12\">\n    <g id=\"ytick_16\">\n     <g id=\"line2d_28\">\n      <g>\n       <use xlink:href=\"#m2a2a12a0db\" x=\"115.757147\" y=\"133.818995\" style=\"stroke: #000000; stroke-width: 0.8\"/>\n      </g>\n     </g>\n    </g>\n    <g id=\"ytick_17\">\n     <g id=\"line2d_29\">\n      <g>\n       <use xlink:href=\"#m2a2a12a0db\" x=\"115.757147\" y=\"156.462473\" style=\"stroke: #000000; stroke-width: 0.8\"/>\n      </g>\n     </g>\n    </g>\n    <g id=\"ytick_18\">\n     <g id=\"line2d_30\">\n      <g>\n       <use xlink:href=\"#m2a2a12a0db\" x=\"115.757147\" y=\"179.105951\" style=\"stroke: #000000; stroke-width: 0.8\"/>\n      </g>\n     </g>\n    </g>\n   </g>\n   <g id=\"patch_28\">\n    <path d=\"M 115.757147 196.08856 \nL 115.757147 128.158125 \n\" style=\"fill: none; stroke: #000000; stroke-width: 0.8; stroke-linejoin: miter; stroke-linecap: square\"/>\n   </g>\n   <g id=\"patch_29\">\n    <path d=\"M 183.687582 196.08856 \nL 183.687582 128.158125 \n\" style=\"fill: none; stroke: #000000; stroke-width: 0.8; stroke-linejoin: miter; stroke-linecap: square\"/>\n   </g>\n   <g id=\"patch_30\">\n    <path d=\"M 115.757147 196.08856 \nL 183.687582 196.08856 \n\" style=\"fill: none; stroke: #000000; stroke-width: 0.8; stroke-linejoin: miter; stroke-linecap: square\"/>\n   </g>\n   <g id=\"patch_31\">\n    <path d=\"M 115.757147 128.158125 \nL 183.687582 128.158125 \n\" style=\"fill: none; stroke: #000000; stroke-width: 0.8; stroke-linejoin: miter; stroke-linecap: square\"/>\n   </g>\n   <g id=\"text_20\">\n    <!-- Head 2 -->\n    <g transform=\"translate(128.307989 122.158125) scale(0.12 -0.12)\">\n     <use xlink:href=\"#DejaVuSans-48\"/>\n     <use xlink:href=\"#DejaVuSans-65\" transform=\"translate(75.195312 0)\"/>\n     <use xlink:href=\"#DejaVuSans-61\" transform=\"translate(136.71875 0)\"/>\n     <use xlink:href=\"#DejaVuSans-64\" transform=\"translate(197.998047 0)\"/>\n     <use xlink:href=\"#DejaVuSans-20\" transform=\"translate(261.474609 0)\"/>\n     <use xlink:href=\"#DejaVuSans-32\" transform=\"translate(293.261719 0)\"/>\n    </g>\n   </g>\n  </g>\n  <g id=\"axes_7\">\n   <g id=\"patch_32\">\n    <path d=\"M 197.273668 196.08856 \nL 265.204103 196.08856 \nL 265.204103 128.158125 \nL 197.273668 128.158125 \nz\n\" style=\"fill: #ffffff\"/>\n   </g>\n   <g clip-path=\"url(#pb68bd0d6c2)\">\n    <image xlink:href=\"data:image/png;base64,\niVBORw0KGgoAAAANSUhEUgAAAF8AAABfCAYAAACOTBv1AAABWElEQVR4nO3csUkEURRA0Z1lMy1BUIyNTazCKrQdM5uwChsQBCswNBBhQ1l7mLdwWTwnfzOfy48ewyyH/fdhwyqPZxej+e2RzsEK4ofED4kfEj8kfkj8kPgh8UPih8QPiR8SPyR+SPzQ8n55Ndrn33y8jQ7w+/qyenZ7dz9692ZZhuOzeTc/JH5I/JD4IfFD4ofED4kfEj8kfkj8kPgh8UPih8QPLaf8ff70+/jn/eeRTrKOmx8SPyR+SPyQ+CHxQ+KHxA+JHxI/JH5I/JD4IfFD4od29QEmO/l6Hz/l5ofED4kfEj8kfkj8kPgh8UPih8QPiR8SPyR+SPzQ7vDzNXrA0/XtaP7U18ITbn5I/JD4IfFD4ofED4kfEj8kfkj8kPgh8UPih8QPiR9aHjbno1++/Od9/JSbHxI/JH5I/JD4IfFD4ofED4kfEj8kfkj8kPgh8UPih/4A8M0gEZGEmCwAAAAASUVORK5CYII=\" id=\"image90303271df\" transform=\"scale(1 -1) translate(0 -68.4)\" x=\"197.273668\" y=\"-127.68856\" width=\"68.4\" height=\"68.4\"/>\n   </g>\n   <g id=\"matplotlib.axis_13\">\n    <g id=\"xtick_13\">\n     <g id=\"line2d_31\">\n      <g>\n       <use xlink:href=\"#mc48929c709\" x=\"202.934538\" y=\"196.08856\" style=\"stroke: #000000; stroke-width: 0.8\"/>\n      </g>\n     </g>\n     <g id=\"text_21\">\n      <!-- 0 -->\n      <g transform=\"translate(199.753288 210.686997) scale(0.1 -0.1)\">\n       <use xlink:href=\"#DejaVuSans-30\"/>\n      </g>\n     </g>\n    </g>\n    <g id=\"xtick_14\">\n     <g id=\"line2d_32\">\n      <g>\n       <use xlink:href=\"#mc48929c709\" x=\"259.543234\" y=\"196.08856\" style=\"stroke: #000000; stroke-width: 0.8\"/>\n      </g>\n     </g>\n     <g id=\"text_22\">\n      <!-- 5 -->\n      <g transform=\"translate(256.361984 210.686997) scale(0.1 -0.1)\">\n       <use xlink:href=\"#DejaVuSans-35\"/>\n      </g>\n     </g>\n    </g>\n    <g id=\"text_23\">\n     <!-- Key positions -->\n     <g transform=\"translate(198.175605 224.365122) scale(0.1 -0.1)\">\n      <use xlink:href=\"#DejaVuSans-4b\"/>\n      <use xlink:href=\"#DejaVuSans-65\" transform=\"translate(60.576172 0)\"/>\n      <use xlink:href=\"#DejaVuSans-79\" transform=\"translate(122.099609 0)\"/>\n      <use xlink:href=\"#DejaVuSans-20\" transform=\"translate(181.279297 0)\"/>\n      <use xlink:href=\"#DejaVuSans-70\" transform=\"translate(213.066406 0)\"/>\n      <use xlink:href=\"#DejaVuSans-6f\" transform=\"translate(276.542969 0)\"/>\n      <use xlink:href=\"#DejaVuSans-73\" transform=\"translate(337.724609 0)\"/>\n      <use xlink:href=\"#DejaVuSans-69\" transform=\"translate(389.824219 0)\"/>\n      <use xlink:href=\"#DejaVuSans-74\" transform=\"translate(417.607422 0)\"/>\n      <use xlink:href=\"#DejaVuSans-69\" transform=\"translate(456.816406 0)\"/>\n      <use xlink:href=\"#DejaVuSans-6f\" transform=\"translate(484.599609 0)\"/>\n      <use xlink:href=\"#DejaVuSans-6e\" transform=\"translate(545.78125 0)\"/>\n      <use xlink:href=\"#DejaVuSans-73\" transform=\"translate(609.160156 0)\"/>\n     </g>\n    </g>\n   </g>\n   <g id=\"matplotlib.axis_14\">\n    <g id=\"ytick_19\">\n     <g id=\"line2d_33\">\n      <g>\n       <use xlink:href=\"#m2a2a12a0db\" x=\"197.273668\" y=\"133.818995\" style=\"stroke: #000000; stroke-width: 0.8\"/>\n      </g>\n     </g>\n    </g>\n    <g id=\"ytick_20\">\n     <g id=\"line2d_34\">\n      <g>\n       <use xlink:href=\"#m2a2a12a0db\" x=\"197.273668\" y=\"156.462473\" style=\"stroke: #000000; stroke-width: 0.8\"/>\n      </g>\n     </g>\n    </g>\n    <g id=\"ytick_21\">\n     <g id=\"line2d_35\">\n      <g>\n       <use xlink:href=\"#m2a2a12a0db\" x=\"197.273668\" y=\"179.105951\" style=\"stroke: #000000; stroke-width: 0.8\"/>\n      </g>\n     </g>\n    </g>\n   </g>\n   <g id=\"patch_33\">\n    <path d=\"M 197.273668 196.08856 \nL 197.273668 128.158125 \n\" style=\"fill: none; stroke: #000000; stroke-width: 0.8; stroke-linejoin: miter; stroke-linecap: square\"/>\n   </g>\n   <g id=\"patch_34\">\n    <path d=\"M 265.204103 196.08856 \nL 265.204103 128.158125 \n\" style=\"fill: none; stroke: #000000; stroke-width: 0.8; stroke-linejoin: miter; stroke-linecap: square\"/>\n   </g>\n   <g id=\"patch_35\">\n    <path d=\"M 197.273668 196.08856 \nL 265.204103 196.08856 \n\" style=\"fill: none; stroke: #000000; stroke-width: 0.8; stroke-linejoin: miter; stroke-linecap: square\"/>\n   </g>\n   <g id=\"patch_36\">\n    <path d=\"M 197.273668 128.158125 \nL 265.204103 128.158125 \n\" style=\"fill: none; stroke: #000000; stroke-width: 0.8; stroke-linejoin: miter; stroke-linecap: square\"/>\n   </g>\n   <g id=\"text_24\">\n    <!-- Head 3 -->\n    <g transform=\"translate(209.824511 122.158125) scale(0.12 -0.12)\">\n     <use xlink:href=\"#DejaVuSans-48\"/>\n     <use xlink:href=\"#DejaVuSans-65\" transform=\"translate(75.195312 0)\"/>\n     <use xlink:href=\"#DejaVuSans-61\" transform=\"translate(136.71875 0)\"/>\n     <use xlink:href=\"#DejaVuSans-64\" transform=\"translate(197.998047 0)\"/>\n     <use xlink:href=\"#DejaVuSans-20\" transform=\"translate(261.474609 0)\"/>\n     <use xlink:href=\"#DejaVuSans-33\" transform=\"translate(293.261719 0)\"/>\n    </g>\n   </g>\n  </g>\n  <g id=\"axes_8\">\n   <g id=\"patch_37\">\n    <path d=\"M 278.79019 196.08856 \nL 346.720625 196.08856 \nL 346.720625 128.158125 \nL 278.79019 128.158125 \nz\n\" style=\"fill: #ffffff\"/>\n   </g>\n   <g clip-path=\"url(#pa3d2c93904)\">\n    <image xlink:href=\"data:image/png;base64,\niVBORw0KGgoAAAANSUhEUgAAAF8AAABfCAYAAACOTBv1AAABh0lEQVR4nO3csUpCUQCHcY/emgQXl0BobPEN3HyJHsHcGmtoaoieIOk9XH0GN2dBpCYparvdeof7Fz7C77f/PfJxpoNY6uXrbyfxvo/mvevb1tt68RCdXd08RvtUFz39xBkfZHyQ8UHGBxkfZHyQ8UHGBxkfZHyQ8UHGBxkfZHxQab4O2Xt+6qduPS3VWXT0/eAy2j99bKO9Nx9kfJDxQcYHGR9kfJDxQcYHGR9kfJDxQcYHGR9kfJDxQaU5vIXv+dn8ZTRuvZ3vN9HZpTqP9ilvPsj4IOODjA8yPsj4IOODjA8yPsj4IOODjA8yPsj4IOODqma9ij6gO55E++nFoPWWfo9PefNBxgcZH2R8kPFBxgcZH2R8kPFBxgcZH2R8kPFBxgfFPxG/G15FX+D5M/vblP/Mmw8yPsj4IOODjA8yPsj4IOODjA8yPsj4IOODjA8yPsj4oDLr9KP3/MX37ljf5eR480HGBxkfZHyQ8UHGBxkfZHyQ8UHGBxkfZHyQ8UHGBxkf9AejTSiVLeC9swAAAABJRU5ErkJggg==\" id=\"imageb945a3a35c\" transform=\"scale(1 -1) translate(0 -68.4)\" x=\"278.79019\" y=\"-127.68856\" width=\"68.4\" height=\"68.4\"/>\n   </g>\n   <g id=\"matplotlib.axis_15\">\n    <g id=\"xtick_15\">\n     <g id=\"line2d_36\">\n      <g>\n       <use xlink:href=\"#mc48929c709\" x=\"284.45106\" y=\"196.08856\" style=\"stroke: #000000; stroke-width: 0.8\"/>\n      </g>\n     </g>\n     <g id=\"text_25\">\n      <!-- 0 -->\n      <g transform=\"translate(281.26981 210.686997) scale(0.1 -0.1)\">\n       <use xlink:href=\"#DejaVuSans-30\"/>\n      </g>\n     </g>\n    </g>\n    <g id=\"xtick_16\">\n     <g id=\"line2d_37\">\n      <g>\n       <use xlink:href=\"#mc48929c709\" x=\"341.059755\" y=\"196.08856\" style=\"stroke: #000000; stroke-width: 0.8\"/>\n      </g>\n     </g>\n     <g id=\"text_26\">\n      <!-- 5 -->\n      <g transform=\"translate(337.878505 210.686997) scale(0.1 -0.1)\">\n       <use xlink:href=\"#DejaVuSans-35\"/>\n      </g>\n     </g>\n    </g>\n    <g id=\"text_27\">\n     <!-- Key positions -->\n     <g transform=\"translate(279.692126 224.365122) scale(0.1 -0.1)\">\n      <use xlink:href=\"#DejaVuSans-4b\"/>\n      <use xlink:href=\"#DejaVuSans-65\" transform=\"translate(60.576172 0)\"/>\n      <use xlink:href=\"#DejaVuSans-79\" transform=\"translate(122.099609 0)\"/>\n      <use xlink:href=\"#DejaVuSans-20\" transform=\"translate(181.279297 0)\"/>\n      <use xlink:href=\"#DejaVuSans-70\" transform=\"translate(213.066406 0)\"/>\n      <use xlink:href=\"#DejaVuSans-6f\" transform=\"translate(276.542969 0)\"/>\n      <use xlink:href=\"#DejaVuSans-73\" transform=\"translate(337.724609 0)\"/>\n      <use xlink:href=\"#DejaVuSans-69\" transform=\"translate(389.824219 0)\"/>\n      <use xlink:href=\"#DejaVuSans-74\" transform=\"translate(417.607422 0)\"/>\n      <use xlink:href=\"#DejaVuSans-69\" transform=\"translate(456.816406 0)\"/>\n      <use xlink:href=\"#DejaVuSans-6f\" transform=\"translate(484.599609 0)\"/>\n      <use xlink:href=\"#DejaVuSans-6e\" transform=\"translate(545.78125 0)\"/>\n      <use xlink:href=\"#DejaVuSans-73\" transform=\"translate(609.160156 0)\"/>\n     </g>\n    </g>\n   </g>\n   <g id=\"matplotlib.axis_16\">\n    <g id=\"ytick_22\">\n     <g id=\"line2d_38\">\n      <g>\n       <use xlink:href=\"#m2a2a12a0db\" x=\"278.79019\" y=\"133.818995\" style=\"stroke: #000000; stroke-width: 0.8\"/>\n      </g>\n     </g>\n    </g>\n    <g id=\"ytick_23\">\n     <g id=\"line2d_39\">\n      <g>\n       <use xlink:href=\"#m2a2a12a0db\" x=\"278.79019\" y=\"156.462473\" style=\"stroke: #000000; stroke-width: 0.8\"/>\n      </g>\n     </g>\n    </g>\n    <g id=\"ytick_24\">\n     <g id=\"line2d_40\">\n      <g>\n       <use xlink:href=\"#m2a2a12a0db\" x=\"278.79019\" y=\"179.105951\" style=\"stroke: #000000; stroke-width: 0.8\"/>\n      </g>\n     </g>\n    </g>\n   </g>\n   <g id=\"patch_38\">\n    <path d=\"M 278.79019 196.08856 \nL 278.79019 128.158125 \n\" style=\"fill: none; stroke: #000000; stroke-width: 0.8; stroke-linejoin: miter; stroke-linecap: square\"/>\n   </g>\n   <g id=\"patch_39\">\n    <path d=\"M 346.720625 196.08856 \nL 346.720625 128.158125 \n\" style=\"fill: none; stroke: #000000; stroke-width: 0.8; stroke-linejoin: miter; stroke-linecap: square\"/>\n   </g>\n   <g id=\"patch_40\">\n    <path d=\"M 278.79019 196.08856 \nL 346.720625 196.08856 \n\" style=\"fill: none; stroke: #000000; stroke-width: 0.8; stroke-linejoin: miter; stroke-linecap: square\"/>\n   </g>\n   <g id=\"patch_41\">\n    <path d=\"M 278.79019 128.158125 \nL 346.720625 128.158125 \n\" style=\"fill: none; stroke: #000000; stroke-width: 0.8; stroke-linejoin: miter; stroke-linecap: square\"/>\n   </g>\n   <g id=\"text_28\">\n    <!-- Head 4 -->\n    <g transform=\"translate(291.341033 122.158125) scale(0.12 -0.12)\">\n     <use xlink:href=\"#DejaVuSans-48\"/>\n     <use xlink:href=\"#DejaVuSans-65\" transform=\"translate(75.195312 0)\"/>\n     <use xlink:href=\"#DejaVuSans-61\" transform=\"translate(136.71875 0)\"/>\n     <use xlink:href=\"#DejaVuSans-64\" transform=\"translate(197.998047 0)\"/>\n     <use xlink:href=\"#DejaVuSans-20\" transform=\"translate(261.474609 0)\"/>\n     <use xlink:href=\"#DejaVuSans-34\" transform=\"translate(293.261719 0)\"/>\n    </g>\n   </g>\n  </g>\n  <g id=\"axes_9\">\n   <g id=\"patch_42\">\n    <path d=\"M 366.250625 167.415342 \nL 372.071825 167.415342 \nL 372.071825 50.991342 \nL 366.250625 50.991342 \nz\n\" style=\"fill: #ffffff\"/>\n   </g>\n   <image xlink:href=\"data:image/png;base64,\niVBORw0KGgoAAAANSUhEUgAAAAgAAACiCAYAAAB8iIwDAAAA7klEQVR4nN2XSw4DIQxDUyn3P2s33ZWkN8iLZGCgsx1kP8cwn1d+3mnF5ZZR3Te3LAU6CkELjCyCFrACxoQFqc9BV5gQExkOiBmDFsgKBJkbGBiSLIYakxnYgg6OHpMnKcc8YMvxqOUutkzy+S13xbmYADkh5g2QqCC/9fKEmFd0QZA58BGEXehtygx3xFw/h7/oAp7E5oEMFBMVBluU980D60YFYgg5Jk9S7mIHpNwFODRSgEBDARjNk34noatOTLRYr4CTHHoXBNnogixkSIxZfxx0Rv2VIVGhwSBb1AJzFGQLUsC6dUjck+u7+AE+P2IIsbjxbAAAAABJRU5ErkJggg==\" id=\"imageca2689cbf5\" transform=\"scale(1 -1) translate(0 -116.64)\" x=\"366.48\" y=\"-50.4\" width=\"5.76\" height=\"116.64\"/>\n   <g id=\"matplotlib.axis_17\"/>\n   <g id=\"matplotlib.axis_18\">\n    <g id=\"ytick_25\">\n     <g id=\"line2d_41\">\n      <defs>\n       <path id=\"m557c5f6e4e\" d=\"M 0 0 \nL 3.5 0 \n\" style=\"stroke: #000000; stroke-width: 0.8\"/>\n      </defs>\n      <g>\n       <use xlink:href=\"#m557c5f6e4e\" x=\"372.071825\" y=\"167.415342\" style=\"stroke: #000000; stroke-width: 0.8\"/>\n      </g>\n     </g>\n     <g id=\"text_29\">\n      <!-- 0.0 -->\n      <g transform=\"translate(379.071825 171.214561) scale(0.1 -0.1)\">\n       <defs>\n        <path id=\"DejaVuSans-2e\" d=\"M 684 794 \nL 1344 794 \nL 1344 0 \nL 684 0 \nL 684 794 \nz\n\" transform=\"scale(0.015625)\"/>\n       </defs>\n       <use xlink:href=\"#DejaVuSans-30\"/>\n       <use xlink:href=\"#DejaVuSans-2e\" transform=\"translate(63.623047 0)\"/>\n       <use xlink:href=\"#DejaVuSans-30\" transform=\"translate(95.410156 0)\"/>\n      </g>\n     </g>\n    </g>\n    <g id=\"ytick_26\">\n     <g id=\"line2d_42\">\n      <g>\n       <use xlink:href=\"#m557c5f6e4e\" x=\"372.071825\" y=\"144.130542\" style=\"stroke: #000000; stroke-width: 0.8\"/>\n      </g>\n     </g>\n     <g id=\"text_30\">\n      <!-- 0.2 -->\n      <g transform=\"translate(379.071825 147.929761) scale(0.1 -0.1)\">\n       <use xlink:href=\"#DejaVuSans-30\"/>\n       <use xlink:href=\"#DejaVuSans-2e\" transform=\"translate(63.623047 0)\"/>\n       <use xlink:href=\"#DejaVuSans-32\" transform=\"translate(95.410156 0)\"/>\n      </g>\n     </g>\n    </g>\n    <g id=\"ytick_27\">\n     <g id=\"line2d_43\">\n      <g>\n       <use xlink:href=\"#m557c5f6e4e\" x=\"372.071825\" y=\"120.845742\" style=\"stroke: #000000; stroke-width: 0.8\"/>\n      </g>\n     </g>\n     <g id=\"text_31\">\n      <!-- 0.4 -->\n      <g transform=\"translate(379.071825 124.644961) scale(0.1 -0.1)\">\n       <use xlink:href=\"#DejaVuSans-30\"/>\n       <use xlink:href=\"#DejaVuSans-2e\" transform=\"translate(63.623047 0)\"/>\n       <use xlink:href=\"#DejaVuSans-34\" transform=\"translate(95.410156 0)\"/>\n      </g>\n     </g>\n    </g>\n    <g id=\"ytick_28\">\n     <g id=\"line2d_44\">\n      <g>\n       <use xlink:href=\"#m557c5f6e4e\" x=\"372.071825\" y=\"97.560942\" style=\"stroke: #000000; stroke-width: 0.8\"/>\n      </g>\n     </g>\n     <g id=\"text_32\">\n      <!-- 0.6 -->\n      <g transform=\"translate(379.071825 101.360161) scale(0.1 -0.1)\">\n       <defs>\n        <path id=\"DejaVuSans-36\" d=\"M 2113 2584 \nQ 1688 2584 1439 2293 \nQ 1191 2003 1191 1497 \nQ 1191 994 1439 701 \nQ 1688 409 2113 409 \nQ 2538 409 2786 701 \nQ 3034 994 3034 1497 \nQ 3034 2003 2786 2293 \nQ 2538 2584 2113 2584 \nz\nM 3366 4563 \nL 3366 3988 \nQ 3128 4100 2886 4159 \nQ 2644 4219 2406 4219 \nQ 1781 4219 1451 3797 \nQ 1122 3375 1075 2522 \nQ 1259 2794 1537 2939 \nQ 1816 3084 2150 3084 \nQ 2853 3084 3261 2657 \nQ 3669 2231 3669 1497 \nQ 3669 778 3244 343 \nQ 2819 -91 2113 -91 \nQ 1303 -91 875 529 \nQ 447 1150 447 2328 \nQ 447 3434 972 4092 \nQ 1497 4750 2381 4750 \nQ 2619 4750 2861 4703 \nQ 3103 4656 3366 4563 \nz\n\" transform=\"scale(0.015625)\"/>\n       </defs>\n       <use xlink:href=\"#DejaVuSans-30\"/>\n       <use xlink:href=\"#DejaVuSans-2e\" transform=\"translate(63.623047 0)\"/>\n       <use xlink:href=\"#DejaVuSans-36\" transform=\"translate(95.410156 0)\"/>\n      </g>\n     </g>\n    </g>\n    <g id=\"ytick_29\">\n     <g id=\"line2d_45\">\n      <g>\n       <use xlink:href=\"#m557c5f6e4e\" x=\"372.071825\" y=\"74.276142\" style=\"stroke: #000000; stroke-width: 0.8\"/>\n      </g>\n     </g>\n     <g id=\"text_33\">\n      <!-- 0.8 -->\n      <g transform=\"translate(379.071825 78.075361) scale(0.1 -0.1)\">\n       <defs>\n        <path id=\"DejaVuSans-38\" d=\"M 2034 2216 \nQ 1584 2216 1326 1975 \nQ 1069 1734 1069 1313 \nQ 1069 891 1326 650 \nQ 1584 409 2034 409 \nQ 2484 409 2743 651 \nQ 3003 894 3003 1313 \nQ 3003 1734 2745 1975 \nQ 2488 2216 2034 2216 \nz\nM 1403 2484 \nQ 997 2584 770 2862 \nQ 544 3141 544 3541 \nQ 544 4100 942 4425 \nQ 1341 4750 2034 4750 \nQ 2731 4750 3128 4425 \nQ 3525 4100 3525 3541 \nQ 3525 3141 3298 2862 \nQ 3072 2584 2669 2484 \nQ 3125 2378 3379 2068 \nQ 3634 1759 3634 1313 \nQ 3634 634 3220 271 \nQ 2806 -91 2034 -91 \nQ 1263 -91 848 271 \nQ 434 634 434 1313 \nQ 434 1759 690 2068 \nQ 947 2378 1403 2484 \nz\nM 1172 3481 \nQ 1172 3119 1398 2916 \nQ 1625 2713 2034 2713 \nQ 2441 2713 2670 2916 \nQ 2900 3119 2900 3481 \nQ 2900 3844 2670 4047 \nQ 2441 4250 2034 4250 \nQ 1625 4250 1398 4047 \nQ 1172 3844 1172 3481 \nz\n\" transform=\"scale(0.015625)\"/>\n       </defs>\n       <use xlink:href=\"#DejaVuSans-30\"/>\n       <use xlink:href=\"#DejaVuSans-2e\" transform=\"translate(63.623047 0)\"/>\n       <use xlink:href=\"#DejaVuSans-38\" transform=\"translate(95.410156 0)\"/>\n      </g>\n     </g>\n    </g>\n    <g id=\"ytick_30\">\n     <g id=\"line2d_46\">\n      <g>\n       <use xlink:href=\"#m557c5f6e4e\" x=\"372.071825\" y=\"50.991342\" style=\"stroke: #000000; stroke-width: 0.8\"/>\n      </g>\n     </g>\n     <g id=\"text_34\">\n      <!-- 1.0 -->\n      <g transform=\"translate(379.071825 54.790561) scale(0.1 -0.1)\">\n       <use xlink:href=\"#DejaVuSans-31\"/>\n       <use xlink:href=\"#DejaVuSans-2e\" transform=\"translate(63.623047 0)\"/>\n       <use xlink:href=\"#DejaVuSans-30\" transform=\"translate(95.410156 0)\"/>\n      </g>\n     </g>\n    </g>\n   </g>\n   <g id=\"LineCollection_1\"/>\n   <g id=\"patch_43\">\n    <path d=\"M 366.250625 167.415342 \nL 369.161225 167.415342 \nL 372.071825 167.415342 \nL 372.071825 50.991342 \nL 369.161225 50.991342 \nL 366.250625 50.991342 \nL 366.250625 167.415342 \nz\n\" style=\"fill: none; stroke: #000000; stroke-width: 0.8; stroke-linejoin: miter; stroke-linecap: square\"/>\n   </g>\n  </g>\n </g>\n <defs>\n  <clipPath id=\"pdbdeb2a254\">\n   <rect x=\"34.240625\" y=\"22.318125\" width=\"67.930435\" height=\"67.930435\"/>\n  </clipPath>\n  <clipPath id=\"p3744a03cbb\">\n   <rect x=\"115.757147\" y=\"22.318125\" width=\"67.930435\" height=\"67.930435\"/>\n  </clipPath>\n  <clipPath id=\"pc3c2f801d0\">\n   <rect x=\"197.273668\" y=\"22.318125\" width=\"67.930435\" height=\"67.930435\"/>\n  </clipPath>\n  <clipPath id=\"pa076d0d510\">\n   <rect x=\"278.79019\" y=\"22.318125\" width=\"67.930435\" height=\"67.930435\"/>\n  </clipPath>\n  <clipPath id=\"pe26af5a5f5\">\n   <rect x=\"34.240625\" y=\"128.158125\" width=\"67.930435\" height=\"67.930435\"/>\n  </clipPath>\n  <clipPath id=\"p9b6d4a73d0\">\n   <rect x=\"115.757147\" y=\"128.158125\" width=\"67.930435\" height=\"67.930435\"/>\n  </clipPath>\n  <clipPath id=\"pb68bd0d6c2\">\n   <rect x=\"197.273668\" y=\"128.158125\" width=\"67.930435\" height=\"67.930435\"/>\n  </clipPath>\n  <clipPath id=\"pa3d2c93904\">\n   <rect x=\"278.79019\" y=\"128.158125\" width=\"67.930435\" height=\"67.930435\"/>\n  </clipPath>\n </defs>\n</svg>\n"
          },
          "metadata": {}
        }
      ],
      "source": [
        "# Plus one to include the beginning-of-sequence token\n",
        "show_heatmaps(\n",
        "    dec_self_attention_weights[:, :, :, : len(translation.split()) + 1],\n",
        "    xlabel=\"Key positions\",\n",
        "    ylabel=\"Query positions\",\n",
        "    titles=[\"Head %d\" % i for i in range(1, 5)],\n",
        "    figsize=(7, 3.5),\n",
        ")"
      ]
    },
    {
      "cell_type": "markdown",
      "metadata": {
        "id": "cab19ZpWuI0A"
      },
      "source": [
        "Decoder encoder-attention."
      ]
    },
    {
      "cell_type": "code",
      "execution_count": 48,
      "metadata": {
        "colab": {
          "base_uri": "https://localhost:8080/",
          "height": 352
        },
        "execution": {
          "iopub.execute_input": "2022-04-07T04:22:47.487310Z",
          "iopub.status.busy": "2022-04-07T04:22:47.486839Z",
          "iopub.status.idle": "2022-04-07T04:22:48.254575Z",
          "shell.execute_reply": "2022-04-07T04:22:48.253892Z",
          "shell.execute_reply.started": "2022-04-07T04:22:47.487273Z"
        },
        "id": "vASzp_5tt_cH",
        "outputId": "7d4d8b12-7860-4b11-e718-5a6480944791"
      },
      "outputs": [
        {
          "output_type": "stream",
          "name": "stderr",
          "text": [
            "/tmp/ipython-input-44-637965182.py:2: DeprecationWarning: `set_matplotlib_formats` is deprecated since IPython 7.23, directly use `matplotlib_inline.backend_inline.set_matplotlib_formats()`\n",
            "  display.set_matplotlib_formats(\"svg\")\n"
          ]
        },
        {
          "output_type": "display_data",
          "data": {
            "text/plain": [
              "<Figure size 700x350 with 9 Axes>"
            ],
            "image/svg+xml": "<?xml version=\"1.0\" encoding=\"utf-8\" standalone=\"no\"?>\n<!DOCTYPE svg PUBLIC \"-//W3C//DTD SVG 1.1//EN\"\n  \"http://www.w3.org/Graphics/SVG/1.1/DTD/svg11.dtd\">\n<svg xmlns:xlink=\"http://www.w3.org/1999/xlink\" width=\"402.17495pt\" height=\"206.472636pt\" viewBox=\"0 0 402.17495 206.472636\" xmlns=\"http://www.w3.org/2000/svg\" version=\"1.1\">\n <metadata>\n  <rdf:RDF xmlns:dc=\"http://purl.org/dc/elements/1.1/\" xmlns:cc=\"http://creativecommons.org/ns#\" xmlns:rdf=\"http://www.w3.org/1999/02/22-rdf-syntax-ns#\">\n   <cc:Work>\n    <dc:type rdf:resource=\"http://purl.org/dc/dcmitype/StillImage\"/>\n    <dc:date>2025-06-26T07:35:31.532820</dc:date>\n    <dc:format>image/svg+xml</dc:format>\n    <dc:creator>\n     <cc:Agent>\n      <dc:title>Matplotlib v3.10.0, https://matplotlib.org/</dc:title>\n     </cc:Agent>\n    </dc:creator>\n   </cc:Work>\n  </rdf:RDF>\n </metadata>\n <defs>\n  <style type=\"text/css\">*{stroke-linejoin: round; stroke-linecap: butt}</style>\n </defs>\n <g id=\"figure_1\">\n  <g id=\"patch_1\">\n   <path d=\"M 0 206.472636 \nL 402.17495 206.472636 \nL 402.17495 0 \nL 0 0 \nz\n\" style=\"fill: #ffffff\"/>\n  </g>\n  <g id=\"axes_1\">\n   <g id=\"patch_2\">\n    <path d=\"M 34.240625 63.076386 \nL 102.17106 63.076386 \nL 102.17106 22.318125 \nL 34.240625 22.318125 \nz\n\" style=\"fill: #ffffff\"/>\n   </g>\n   <g clip-path=\"url(#pc016491560)\">\n    <image xlink:href=\"data:image/png;base64,\niVBORw0KGgoAAAANSUhEUgAAAF8AAAA5CAYAAABQ4feyAAABR0lEQVR4nO3br0rDURiH8Vc5S2uzGGymgcmmWZPIBGXXINosJsv8g2CxaBBMFjHZDILFO7AYxEvQJgZx8xLe0x7kPJ/85d14OPU39XO2O4nE+9VDNomIiPnBYj6apD8XERFldF21+8+m6T/QMuODjA8yPsj4IOODjA8yPsj4oPJ595SO5hZm6671evlmPK671QBfPsj4IOODjA8yPsj4IOODjA8qz28f6Wjj/Ljq2NfBYbrpbq5U3WqBLx9kfJDxQcYHGR9kfJDxQcYHGR9UZjolHX2fnFYd6+5tp5vJ60vVrRb48kHGBxkfZHyQ8UHGBxkfZHxQWVrrp6PO/lHVsfvlQbpZH1Z8sdgIXz7I+CDjg4wPMj7I+CDjg4wPMj6olK1hOtrpr1Ydu3i8TDe/tzdVt1rgywcZH2R8kPFBxgcZH2R8kPFBf4uUI9nuvqd3AAAAAElFTkSuQmCC\" id=\"image48cdc217a3\" transform=\"scale(1 -1) translate(0 -41.04)\" x=\"34.240625\" y=\"-22.036386\" width=\"68.4\" height=\"41.04\"/>\n   </g>\n   <g id=\"matplotlib.axis_1\">\n    <g id=\"xtick_1\">\n     <g id=\"line2d_1\">\n      <defs>\n       <path id=\"md923019eb0\" d=\"M 0 0 \nL 0 3.5 \n\" style=\"stroke: #000000; stroke-width: 0.8\"/>\n      </defs>\n      <g>\n       <use xlink:href=\"#md923019eb0\" x=\"37.637147\" y=\"63.076386\" style=\"stroke: #000000; stroke-width: 0.8\"/>\n      </g>\n     </g>\n    </g>\n    <g id=\"xtick_2\">\n     <g id=\"line2d_2\">\n      <g>\n       <use xlink:href=\"#md923019eb0\" x=\"71.602364\" y=\"63.076386\" style=\"stroke: #000000; stroke-width: 0.8\"/>\n      </g>\n     </g>\n    </g>\n   </g>\n   <g id=\"matplotlib.axis_2\">\n    <g id=\"ytick_1\">\n     <g id=\"line2d_3\">\n      <defs>\n       <path id=\"m96c95aeab8\" d=\"M 0 0 \nL -3.5 0 \n\" style=\"stroke: #000000; stroke-width: 0.8\"/>\n      </defs>\n      <g>\n       <use xlink:href=\"#m96c95aeab8\" x=\"34.240625\" y=\"25.714647\" style=\"stroke: #000000; stroke-width: 0.8\"/>\n      </g>\n     </g>\n     <g id=\"text_1\">\n      <!-- 0 -->\n      <g transform=\"translate(20.878125 29.513865) scale(0.1 -0.1)\">\n       <defs>\n        <path id=\"DejaVuSans-30\" d=\"M 2034 4250 \nQ 1547 4250 1301 3770 \nQ 1056 3291 1056 2328 \nQ 1056 1369 1301 889 \nQ 1547 409 2034 409 \nQ 2525 409 2770 889 \nQ 3016 1369 3016 2328 \nQ 3016 3291 2770 3770 \nQ 2525 4250 2034 4250 \nz\nM 2034 4750 \nQ 2819 4750 3233 4129 \nQ 3647 3509 3647 2328 \nQ 3647 1150 3233 529 \nQ 2819 -91 2034 -91 \nQ 1250 -91 836 529 \nQ 422 1150 422 2328 \nQ 422 3509 836 4129 \nQ 1250 4750 2034 4750 \nz\n\" transform=\"scale(0.015625)\"/>\n       </defs>\n       <use xlink:href=\"#DejaVuSans-30\"/>\n      </g>\n     </g>\n    </g>\n    <g id=\"ytick_2\">\n     <g id=\"line2d_4\">\n      <g>\n       <use xlink:href=\"#m96c95aeab8\" x=\"34.240625\" y=\"59.679864\" style=\"stroke: #000000; stroke-width: 0.8\"/>\n      </g>\n     </g>\n     <g id=\"text_2\">\n      <!-- 5 -->\n      <g transform=\"translate(20.878125 63.479083) scale(0.1 -0.1)\">\n       <defs>\n        <path id=\"DejaVuSans-35\" d=\"M 691 4666 \nL 3169 4666 \nL 3169 4134 \nL 1269 4134 \nL 1269 2991 \nQ 1406 3038 1543 3061 \nQ 1681 3084 1819 3084 \nQ 2600 3084 3056 2656 \nQ 3513 2228 3513 1497 \nQ 3513 744 3044 326 \nQ 2575 -91 1722 -91 \nQ 1428 -91 1123 -41 \nQ 819 9 494 109 \nL 494 744 \nQ 775 591 1075 516 \nQ 1375 441 1709 441 \nQ 2250 441 2565 725 \nQ 2881 1009 2881 1497 \nQ 2881 1984 2565 2268 \nQ 2250 2553 1709 2553 \nQ 1456 2553 1204 2497 \nQ 953 2441 691 2322 \nL 691 4666 \nz\n\" transform=\"scale(0.015625)\"/>\n       </defs>\n       <use xlink:href=\"#DejaVuSans-35\"/>\n      </g>\n     </g>\n    </g>\n    <g id=\"text_3\">\n     <!-- Query positions -->\n     <g transform=\"translate(14.798437 81.891787) rotate(-90) scale(0.1 -0.1)\">\n      <defs>\n       <path id=\"DejaVuSans-51\" d=\"M 2522 4238 \nQ 1834 4238 1429 3725 \nQ 1025 3213 1025 2328 \nQ 1025 1447 1429 934 \nQ 1834 422 2522 422 \nQ 3209 422 3611 934 \nQ 4013 1447 4013 2328 \nQ 4013 3213 3611 3725 \nQ 3209 4238 2522 4238 \nz\nM 3406 84 \nL 4238 -825 \nL 3475 -825 \nL 2784 -78 \nQ 2681 -84 2626 -87 \nQ 2572 -91 2522 -91 \nQ 1538 -91 948 567 \nQ 359 1225 359 2328 \nQ 359 3434 948 4092 \nQ 1538 4750 2522 4750 \nQ 3503 4750 4090 4092 \nQ 4678 3434 4678 2328 \nQ 4678 1516 4351 937 \nQ 4025 359 3406 84 \nz\n\" transform=\"scale(0.015625)\"/>\n       <path id=\"DejaVuSans-75\" d=\"M 544 1381 \nL 544 3500 \nL 1119 3500 \nL 1119 1403 \nQ 1119 906 1312 657 \nQ 1506 409 1894 409 \nQ 2359 409 2629 706 \nQ 2900 1003 2900 1516 \nL 2900 3500 \nL 3475 3500 \nL 3475 0 \nL 2900 0 \nL 2900 538 \nQ 2691 219 2414 64 \nQ 2138 -91 1772 -91 \nQ 1169 -91 856 284 \nQ 544 659 544 1381 \nz\nM 1991 3584 \nL 1991 3584 \nz\n\" transform=\"scale(0.015625)\"/>\n       <path id=\"DejaVuSans-65\" d=\"M 3597 1894 \nL 3597 1613 \nL 953 1613 \nQ 991 1019 1311 708 \nQ 1631 397 2203 397 \nQ 2534 397 2845 478 \nQ 3156 559 3463 722 \nL 3463 178 \nQ 3153 47 2828 -22 \nQ 2503 -91 2169 -91 \nQ 1331 -91 842 396 \nQ 353 884 353 1716 \nQ 353 2575 817 3079 \nQ 1281 3584 2069 3584 \nQ 2775 3584 3186 3129 \nQ 3597 2675 3597 1894 \nz\nM 3022 2063 \nQ 3016 2534 2758 2815 \nQ 2500 3097 2075 3097 \nQ 1594 3097 1305 2825 \nQ 1016 2553 972 2059 \nL 3022 2063 \nz\n\" transform=\"scale(0.015625)\"/>\n       <path id=\"DejaVuSans-72\" d=\"M 2631 2963 \nQ 2534 3019 2420 3045 \nQ 2306 3072 2169 3072 \nQ 1681 3072 1420 2755 \nQ 1159 2438 1159 1844 \nL 1159 0 \nL 581 0 \nL 581 3500 \nL 1159 3500 \nL 1159 2956 \nQ 1341 3275 1631 3429 \nQ 1922 3584 2338 3584 \nQ 2397 3584 2469 3576 \nQ 2541 3569 2628 3553 \nL 2631 2963 \nz\n\" transform=\"scale(0.015625)\"/>\n       <path id=\"DejaVuSans-79\" d=\"M 2059 -325 \nQ 1816 -950 1584 -1140 \nQ 1353 -1331 966 -1331 \nL 506 -1331 \nL 506 -850 \nL 844 -850 \nQ 1081 -850 1212 -737 \nQ 1344 -625 1503 -206 \nL 1606 56 \nL 191 3500 \nL 800 3500 \nL 1894 763 \nL 2988 3500 \nL 3597 3500 \nL 2059 -325 \nz\n\" transform=\"scale(0.015625)\"/>\n       <path id=\"DejaVuSans-20\" transform=\"scale(0.015625)\"/>\n       <path id=\"DejaVuSans-70\" d=\"M 1159 525 \nL 1159 -1331 \nL 581 -1331 \nL 581 3500 \nL 1159 3500 \nL 1159 2969 \nQ 1341 3281 1617 3432 \nQ 1894 3584 2278 3584 \nQ 2916 3584 3314 3078 \nQ 3713 2572 3713 1747 \nQ 3713 922 3314 415 \nQ 2916 -91 2278 -91 \nQ 1894 -91 1617 61 \nQ 1341 213 1159 525 \nz\nM 3116 1747 \nQ 3116 2381 2855 2742 \nQ 2594 3103 2138 3103 \nQ 1681 3103 1420 2742 \nQ 1159 2381 1159 1747 \nQ 1159 1113 1420 752 \nQ 1681 391 2138 391 \nQ 2594 391 2855 752 \nQ 3116 1113 3116 1747 \nz\n\" transform=\"scale(0.015625)\"/>\n       <path id=\"DejaVuSans-6f\" d=\"M 1959 3097 \nQ 1497 3097 1228 2736 \nQ 959 2375 959 1747 \nQ 959 1119 1226 758 \nQ 1494 397 1959 397 \nQ 2419 397 2687 759 \nQ 2956 1122 2956 1747 \nQ 2956 2369 2687 2733 \nQ 2419 3097 1959 3097 \nz\nM 1959 3584 \nQ 2709 3584 3137 3096 \nQ 3566 2609 3566 1747 \nQ 3566 888 3137 398 \nQ 2709 -91 1959 -91 \nQ 1206 -91 779 398 \nQ 353 888 353 1747 \nQ 353 2609 779 3096 \nQ 1206 3584 1959 3584 \nz\n\" transform=\"scale(0.015625)\"/>\n       <path id=\"DejaVuSans-73\" d=\"M 2834 3397 \nL 2834 2853 \nQ 2591 2978 2328 3040 \nQ 2066 3103 1784 3103 \nQ 1356 3103 1142 2972 \nQ 928 2841 928 2578 \nQ 928 2378 1081 2264 \nQ 1234 2150 1697 2047 \nL 1894 2003 \nQ 2506 1872 2764 1633 \nQ 3022 1394 3022 966 \nQ 3022 478 2636 193 \nQ 2250 -91 1575 -91 \nQ 1294 -91 989 -36 \nQ 684 19 347 128 \nL 347 722 \nQ 666 556 975 473 \nQ 1284 391 1588 391 \nQ 1994 391 2212 530 \nQ 2431 669 2431 922 \nQ 2431 1156 2273 1281 \nQ 2116 1406 1581 1522 \nL 1381 1569 \nQ 847 1681 609 1914 \nQ 372 2147 372 2553 \nQ 372 3047 722 3315 \nQ 1072 3584 1716 3584 \nQ 2034 3584 2315 3537 \nQ 2597 3491 2834 3397 \nz\n\" transform=\"scale(0.015625)\"/>\n       <path id=\"DejaVuSans-69\" d=\"M 603 3500 \nL 1178 3500 \nL 1178 0 \nL 603 0 \nL 603 3500 \nz\nM 603 4863 \nL 1178 4863 \nL 1178 4134 \nL 603 4134 \nL 603 4863 \nz\n\" transform=\"scale(0.015625)\"/>\n       <path id=\"DejaVuSans-74\" d=\"M 1172 4494 \nL 1172 3500 \nL 2356 3500 \nL 2356 3053 \nL 1172 3053 \nL 1172 1153 \nQ 1172 725 1289 603 \nQ 1406 481 1766 481 \nL 2356 481 \nL 2356 0 \nL 1766 0 \nQ 1100 0 847 248 \nQ 594 497 594 1153 \nL 594 3053 \nL 172 3053 \nL 172 3500 \nL 594 3500 \nL 594 4494 \nL 1172 4494 \nz\n\" transform=\"scale(0.015625)\"/>\n       <path id=\"DejaVuSans-6e\" d=\"M 3513 2113 \nL 3513 0 \nL 2938 0 \nL 2938 2094 \nQ 2938 2591 2744 2837 \nQ 2550 3084 2163 3084 \nQ 1697 3084 1428 2787 \nQ 1159 2491 1159 1978 \nL 1159 0 \nL 581 0 \nL 581 3500 \nL 1159 3500 \nL 1159 2956 \nQ 1366 3272 1645 3428 \nQ 1925 3584 2291 3584 \nQ 2894 3584 3203 3211 \nQ 3513 2838 3513 2113 \nz\n\" transform=\"scale(0.015625)\"/>\n      </defs>\n      <use xlink:href=\"#DejaVuSans-51\"/>\n      <use xlink:href=\"#DejaVuSans-75\" transform=\"translate(78.710938 0)\"/>\n      <use xlink:href=\"#DejaVuSans-65\" transform=\"translate(142.089844 0)\"/>\n      <use xlink:href=\"#DejaVuSans-72\" transform=\"translate(203.613281 0)\"/>\n      <use xlink:href=\"#DejaVuSans-79\" transform=\"translate(244.726562 0)\"/>\n      <use xlink:href=\"#DejaVuSans-20\" transform=\"translate(303.90625 0)\"/>\n      <use xlink:href=\"#DejaVuSans-70\" transform=\"translate(335.693359 0)\"/>\n      <use xlink:href=\"#DejaVuSans-6f\" transform=\"translate(399.169922 0)\"/>\n      <use xlink:href=\"#DejaVuSans-73\" transform=\"translate(460.351562 0)\"/>\n      <use xlink:href=\"#DejaVuSans-69\" transform=\"translate(512.451172 0)\"/>\n      <use xlink:href=\"#DejaVuSans-74\" transform=\"translate(540.234375 0)\"/>\n      <use xlink:href=\"#DejaVuSans-69\" transform=\"translate(579.443359 0)\"/>\n      <use xlink:href=\"#DejaVuSans-6f\" transform=\"translate(607.226562 0)\"/>\n      <use xlink:href=\"#DejaVuSans-6e\" transform=\"translate(668.408203 0)\"/>\n      <use xlink:href=\"#DejaVuSans-73\" transform=\"translate(731.787109 0)\"/>\n     </g>\n    </g>\n   </g>\n   <g id=\"patch_3\">\n    <path d=\"M 34.240625 63.076386 \nL 34.240625 22.318125 \n\" style=\"fill: none; stroke: #000000; stroke-width: 0.8; stroke-linejoin: miter; stroke-linecap: square\"/>\n   </g>\n   <g id=\"patch_4\">\n    <path d=\"M 102.17106 63.076386 \nL 102.17106 22.318125 \n\" style=\"fill: none; stroke: #000000; stroke-width: 0.8; stroke-linejoin: miter; stroke-linecap: square\"/>\n   </g>\n   <g id=\"patch_5\">\n    <path d=\"M 34.240625 63.076386 \nL 102.17106 63.076386 \n\" style=\"fill: none; stroke: #000000; stroke-width: 0.8; stroke-linejoin: miter; stroke-linecap: square\"/>\n   </g>\n   <g id=\"patch_6\">\n    <path d=\"M 34.240625 22.318125 \nL 102.17106 22.318125 \n\" style=\"fill: none; stroke: #000000; stroke-width: 0.8; stroke-linejoin: miter; stroke-linecap: square\"/>\n   </g>\n   <g id=\"text_4\">\n    <!-- Head 1 -->\n    <g transform=\"translate(46.791467 16.318125) scale(0.12 -0.12)\">\n     <defs>\n      <path id=\"DejaVuSans-48\" d=\"M 628 4666 \nL 1259 4666 \nL 1259 2753 \nL 3553 2753 \nL 3553 4666 \nL 4184 4666 \nL 4184 0 \nL 3553 0 \nL 3553 2222 \nL 1259 2222 \nL 1259 0 \nL 628 0 \nL 628 4666 \nz\n\" transform=\"scale(0.015625)\"/>\n      <path id=\"DejaVuSans-61\" d=\"M 2194 1759 \nQ 1497 1759 1228 1600 \nQ 959 1441 959 1056 \nQ 959 750 1161 570 \nQ 1363 391 1709 391 \nQ 2188 391 2477 730 \nQ 2766 1069 2766 1631 \nL 2766 1759 \nL 2194 1759 \nz\nM 3341 1997 \nL 3341 0 \nL 2766 0 \nL 2766 531 \nQ 2569 213 2275 61 \nQ 1981 -91 1556 -91 \nQ 1019 -91 701 211 \nQ 384 513 384 1019 \nQ 384 1609 779 1909 \nQ 1175 2209 1959 2209 \nL 2766 2209 \nL 2766 2266 \nQ 2766 2663 2505 2880 \nQ 2244 3097 1772 3097 \nQ 1472 3097 1187 3025 \nQ 903 2953 641 2809 \nL 641 3341 \nQ 956 3463 1253 3523 \nQ 1550 3584 1831 3584 \nQ 2591 3584 2966 3190 \nQ 3341 2797 3341 1997 \nz\n\" transform=\"scale(0.015625)\"/>\n      <path id=\"DejaVuSans-64\" d=\"M 2906 2969 \nL 2906 4863 \nL 3481 4863 \nL 3481 0 \nL 2906 0 \nL 2906 525 \nQ 2725 213 2448 61 \nQ 2172 -91 1784 -91 \nQ 1150 -91 751 415 \nQ 353 922 353 1747 \nQ 353 2572 751 3078 \nQ 1150 3584 1784 3584 \nQ 2172 3584 2448 3432 \nQ 2725 3281 2906 2969 \nz\nM 947 1747 \nQ 947 1113 1208 752 \nQ 1469 391 1925 391 \nQ 2381 391 2643 752 \nQ 2906 1113 2906 1747 \nQ 2906 2381 2643 2742 \nQ 2381 3103 1925 3103 \nQ 1469 3103 1208 2742 \nQ 947 2381 947 1747 \nz\n\" transform=\"scale(0.015625)\"/>\n      <path id=\"DejaVuSans-31\" d=\"M 794 531 \nL 1825 531 \nL 1825 4091 \nL 703 3866 \nL 703 4441 \nL 1819 4666 \nL 2450 4666 \nL 2450 531 \nL 3481 531 \nL 3481 0 \nL 794 0 \nL 794 531 \nz\n\" transform=\"scale(0.015625)\"/>\n     </defs>\n     <use xlink:href=\"#DejaVuSans-48\"/>\n     <use xlink:href=\"#DejaVuSans-65\" transform=\"translate(75.195312 0)\"/>\n     <use xlink:href=\"#DejaVuSans-61\" transform=\"translate(136.71875 0)\"/>\n     <use xlink:href=\"#DejaVuSans-64\" transform=\"translate(197.998047 0)\"/>\n     <use xlink:href=\"#DejaVuSans-20\" transform=\"translate(261.474609 0)\"/>\n     <use xlink:href=\"#DejaVuSans-31\" transform=\"translate(293.261719 0)\"/>\n    </g>\n   </g>\n  </g>\n  <g id=\"axes_2\">\n   <g id=\"patch_7\">\n    <path d=\"M 115.757147 63.076386 \nL 183.687582 63.076386 \nL 183.687582 22.318125 \nL 115.757147 22.318125 \nz\n\" style=\"fill: #ffffff\"/>\n   </g>\n   <g clip-path=\"url(#pf7d1079b66)\">\n    <image xlink:href=\"data:image/png;base64,\niVBORw0KGgoAAAANSUhEUgAAAF8AAAA5CAYAAABQ4feyAAABT0lEQVR4nO3aoUpDYRiH8c956mkGZRbvYM1mMGgdCC6pFyBmNdpWjCpWMQgLXoAiWOwDoyKCghcgm6BsXsL7todxnl/+8zIevrYz93d+OC2Bj4vbaFJKKaXdWws346dh6lY9uEvtZlmL/gFNZnyQ8UHGBxkfZHyQ8UHGBxkfVE1fX8JRu7uaOjZ5e48349/UrSbw5YOMDzI+yPgg44OMDzI+yPig6uv+ORwt7m6kjo0e478I695m6lYT+PJBxgcZH2R8kPFBxgcZH2R8kPFB1dLJQTja7x6ljp09XIabyc1V6tZ8ajXbfPkg44OMDzI+yPgg44OMDzI+qCqf8feVWwt16thkcB1uWp1O6lYT+PJBxgcZH2R8kPFBxgcZH2R8kPFBVVleCUfD75/UsfXtnXAz6p+mbtV7x6ndLPPlg4wPMj7I+CDjg4wPMj7I+KB/TF0sB3gRyCkAAAAASUVORK5CYII=\" id=\"imagec8678bb50a\" transform=\"scale(1 -1) translate(0 -41.04)\" x=\"115.757147\" y=\"-22.036386\" width=\"68.4\" height=\"41.04\"/>\n   </g>\n   <g id=\"matplotlib.axis_3\">\n    <g id=\"xtick_3\">\n     <g id=\"line2d_5\">\n      <g>\n       <use xlink:href=\"#md923019eb0\" x=\"119.153668\" y=\"63.076386\" style=\"stroke: #000000; stroke-width: 0.8\"/>\n      </g>\n     </g>\n    </g>\n    <g id=\"xtick_4\">\n     <g id=\"line2d_6\">\n      <g>\n       <use xlink:href=\"#md923019eb0\" x=\"153.118886\" y=\"63.076386\" style=\"stroke: #000000; stroke-width: 0.8\"/>\n      </g>\n     </g>\n    </g>\n   </g>\n   <g id=\"matplotlib.axis_4\">\n    <g id=\"ytick_3\">\n     <g id=\"line2d_7\">\n      <g>\n       <use xlink:href=\"#m96c95aeab8\" x=\"115.757147\" y=\"25.714647\" style=\"stroke: #000000; stroke-width: 0.8\"/>\n      </g>\n     </g>\n    </g>\n    <g id=\"ytick_4\">\n     <g id=\"line2d_8\">\n      <g>\n       <use xlink:href=\"#m96c95aeab8\" x=\"115.757147\" y=\"59.679864\" style=\"stroke: #000000; stroke-width: 0.8\"/>\n      </g>\n     </g>\n    </g>\n   </g>\n   <g id=\"patch_8\">\n    <path d=\"M 115.757147 63.076386 \nL 115.757147 22.318125 \n\" style=\"fill: none; stroke: #000000; stroke-width: 0.8; stroke-linejoin: miter; stroke-linecap: square\"/>\n   </g>\n   <g id=\"patch_9\">\n    <path d=\"M 183.687582 63.076386 \nL 183.687582 22.318125 \n\" style=\"fill: none; stroke: #000000; stroke-width: 0.8; stroke-linejoin: miter; stroke-linecap: square\"/>\n   </g>\n   <g id=\"patch_10\">\n    <path d=\"M 115.757147 63.076386 \nL 183.687582 63.076386 \n\" style=\"fill: none; stroke: #000000; stroke-width: 0.8; stroke-linejoin: miter; stroke-linecap: square\"/>\n   </g>\n   <g id=\"patch_11\">\n    <path d=\"M 115.757147 22.318125 \nL 183.687582 22.318125 \n\" style=\"fill: none; stroke: #000000; stroke-width: 0.8; stroke-linejoin: miter; stroke-linecap: square\"/>\n   </g>\n   <g id=\"text_5\">\n    <!-- Head 2 -->\n    <g transform=\"translate(128.307989 16.318125) scale(0.12 -0.12)\">\n     <defs>\n      <path id=\"DejaVuSans-32\" d=\"M 1228 531 \nL 3431 531 \nL 3431 0 \nL 469 0 \nL 469 531 \nQ 828 903 1448 1529 \nQ 2069 2156 2228 2338 \nQ 2531 2678 2651 2914 \nQ 2772 3150 2772 3378 \nQ 2772 3750 2511 3984 \nQ 2250 4219 1831 4219 \nQ 1534 4219 1204 4116 \nQ 875 4013 500 3803 \nL 500 4441 \nQ 881 4594 1212 4672 \nQ 1544 4750 1819 4750 \nQ 2544 4750 2975 4387 \nQ 3406 4025 3406 3419 \nQ 3406 3131 3298 2873 \nQ 3191 2616 2906 2266 \nQ 2828 2175 2409 1742 \nQ 1991 1309 1228 531 \nz\n\" transform=\"scale(0.015625)\"/>\n     </defs>\n     <use xlink:href=\"#DejaVuSans-48\"/>\n     <use xlink:href=\"#DejaVuSans-65\" transform=\"translate(75.195312 0)\"/>\n     <use xlink:href=\"#DejaVuSans-61\" transform=\"translate(136.71875 0)\"/>\n     <use xlink:href=\"#DejaVuSans-64\" transform=\"translate(197.998047 0)\"/>\n     <use xlink:href=\"#DejaVuSans-20\" transform=\"translate(261.474609 0)\"/>\n     <use xlink:href=\"#DejaVuSans-32\" transform=\"translate(293.261719 0)\"/>\n    </g>\n   </g>\n  </g>\n  <g id=\"axes_3\">\n   <g id=\"patch_12\">\n    <path d=\"M 197.273668 63.076386 \nL 265.204103 63.076386 \nL 265.204103 22.318125 \nL 197.273668 22.318125 \nz\n\" style=\"fill: #ffffff\"/>\n   </g>\n   <g clip-path=\"url(#p4cdfb9a05e)\">\n    <image xlink:href=\"data:image/png;base64,\niVBORw0KGgoAAAANSUhEUgAAAF8AAAA5CAYAAABQ4feyAAABZklEQVR4nO3ZsSvEYRzH8eenyyADGXQp1lski1Eng4HNQG6xMNjEYLXLREaDsjPJQjKIQVIyMChXl005i8Sf8Hy3d7/u/Zo/fbvePcuvK84Gqn8pY3q1npuklFL6unrMbnpnJkK3Khu7oV2ZddE/oJMZH2R8kPFBxgcZH2R8kPFBxgcVP1uL2S/c1G6Hjn3evWY3783YrbHnh9CuzHz5IOODjA8yPsj4IOODjA8yPqhyf3idHY2v1EPHuvt6sptarRq61Ql8+SDjg4wPMj7I+CDjg4wPMj7I+KDi9/Ey+zfi2uhc6Nj++V52czS/Gbq13HoJ7crMlw8yPsj4IOODjA8yPsj4IOODipP+wexH1ux2I3Ts7eA0uxlu1EO3Kus7oV2Z+fJBxgcZH2R8kPFBxgcZH2R8kPFBxffCZPYL9+OpFTo2tDSV3TSPL0K3Rm5uQ7sy8+WDjA8yPsj4IOODjA8yPsj4oH9zcjFwTCnraAAAAABJRU5ErkJggg==\" id=\"imageca745594a6\" transform=\"scale(1 -1) translate(0 -41.04)\" x=\"197.273668\" y=\"-22.036386\" width=\"68.4\" height=\"41.04\"/>\n   </g>\n   <g id=\"matplotlib.axis_5\">\n    <g id=\"xtick_5\">\n     <g id=\"line2d_9\">\n      <g>\n       <use xlink:href=\"#md923019eb0\" x=\"200.67019\" y=\"63.076386\" style=\"stroke: #000000; stroke-width: 0.8\"/>\n      </g>\n     </g>\n    </g>\n    <g id=\"xtick_6\">\n     <g id=\"line2d_10\">\n      <g>\n       <use xlink:href=\"#md923019eb0\" x=\"234.635408\" y=\"63.076386\" style=\"stroke: #000000; stroke-width: 0.8\"/>\n      </g>\n     </g>\n    </g>\n   </g>\n   <g id=\"matplotlib.axis_6\">\n    <g id=\"ytick_5\">\n     <g id=\"line2d_11\">\n      <g>\n       <use xlink:href=\"#m96c95aeab8\" x=\"197.273668\" y=\"25.714647\" style=\"stroke: #000000; stroke-width: 0.8\"/>\n      </g>\n     </g>\n    </g>\n    <g id=\"ytick_6\">\n     <g id=\"line2d_12\">\n      <g>\n       <use xlink:href=\"#m96c95aeab8\" x=\"197.273668\" y=\"59.679864\" style=\"stroke: #000000; stroke-width: 0.8\"/>\n      </g>\n     </g>\n    </g>\n   </g>\n   <g id=\"patch_13\">\n    <path d=\"M 197.273668 63.076386 \nL 197.273668 22.318125 \n\" style=\"fill: none; stroke: #000000; stroke-width: 0.8; stroke-linejoin: miter; stroke-linecap: square\"/>\n   </g>\n   <g id=\"patch_14\">\n    <path d=\"M 265.204103 63.076386 \nL 265.204103 22.318125 \n\" style=\"fill: none; stroke: #000000; stroke-width: 0.8; stroke-linejoin: miter; stroke-linecap: square\"/>\n   </g>\n   <g id=\"patch_15\">\n    <path d=\"M 197.273668 63.076386 \nL 265.204103 63.076386 \n\" style=\"fill: none; stroke: #000000; stroke-width: 0.8; stroke-linejoin: miter; stroke-linecap: square\"/>\n   </g>\n   <g id=\"patch_16\">\n    <path d=\"M 197.273668 22.318125 \nL 265.204103 22.318125 \n\" style=\"fill: none; stroke: #000000; stroke-width: 0.8; stroke-linejoin: miter; stroke-linecap: square\"/>\n   </g>\n   <g id=\"text_6\">\n    <!-- Head 3 -->\n    <g transform=\"translate(209.824511 16.318125) scale(0.12 -0.12)\">\n     <defs>\n      <path id=\"DejaVuSans-33\" d=\"M 2597 2516 \nQ 3050 2419 3304 2112 \nQ 3559 1806 3559 1356 \nQ 3559 666 3084 287 \nQ 2609 -91 1734 -91 \nQ 1441 -91 1130 -33 \nQ 819 25 488 141 \nL 488 750 \nQ 750 597 1062 519 \nQ 1375 441 1716 441 \nQ 2309 441 2620 675 \nQ 2931 909 2931 1356 \nQ 2931 1769 2642 2001 \nQ 2353 2234 1838 2234 \nL 1294 2234 \nL 1294 2753 \nL 1863 2753 \nQ 2328 2753 2575 2939 \nQ 2822 3125 2822 3475 \nQ 2822 3834 2567 4026 \nQ 2313 4219 1838 4219 \nQ 1578 4219 1281 4162 \nQ 984 4106 628 3988 \nL 628 4550 \nQ 988 4650 1302 4700 \nQ 1616 4750 1894 4750 \nQ 2613 4750 3031 4423 \nQ 3450 4097 3450 3541 \nQ 3450 3153 3228 2886 \nQ 3006 2619 2597 2516 \nz\n\" transform=\"scale(0.015625)\"/>\n     </defs>\n     <use xlink:href=\"#DejaVuSans-48\"/>\n     <use xlink:href=\"#DejaVuSans-65\" transform=\"translate(75.195312 0)\"/>\n     <use xlink:href=\"#DejaVuSans-61\" transform=\"translate(136.71875 0)\"/>\n     <use xlink:href=\"#DejaVuSans-64\" transform=\"translate(197.998047 0)\"/>\n     <use xlink:href=\"#DejaVuSans-20\" transform=\"translate(261.474609 0)\"/>\n     <use xlink:href=\"#DejaVuSans-33\" transform=\"translate(293.261719 0)\"/>\n    </g>\n   </g>\n  </g>\n  <g id=\"axes_4\">\n   <g id=\"patch_17\">\n    <path d=\"M 278.79019 63.076386 \nL 346.720625 63.076386 \nL 346.720625 22.318125 \nL 278.79019 22.318125 \nz\n\" style=\"fill: #ffffff\"/>\n   </g>\n   <g clip-path=\"url(#p81e3129017)\">\n    <image xlink:href=\"data:image/png;base64,\niVBORw0KGgoAAAANSUhEUgAAAF8AAAA5CAYAAABQ4feyAAABX0lEQVR4nO3arUqDYRiH8ed1CxsomMQiooxpGH4EHTbR5lcz2ASrJ6BnsDOwGSyC6BF4AjIFEcbAJmIxziSC8xCeu8jFy65f/nNvXDxlsOJtqTlMGZNT47lJSiml3++f7Gbi9Dh0q7J3EtqV2Rj9BUaZ8UHGBxkfZHyQ8UHGBxkfZHxQ8bW7nv2FW1ttxq4NBtnJ+30/dGqu2419Zon58kHGBxkfZHyQ8UHGBxkfZHxQtbbVzo4eOnehY+3zw+ymXn8N3RoFvnyQ8UHGBxkfZHyQ8UHGBxkfZHxQtVhoZUdXn5ehYxub+9nNR+c2dGs6tCo3Xz7I+CDjg4wPMj7I+CDjg4wPKvqN+ex/NRsHK6FjL9eP2c3yxVnoVmX7KLQrM18+yPgg44OMDzI+yPgg44OMDzI+qDq7NpMd9W6eQsdaO4vZzbD3HLqV/IWr/2R8kPFBxgcZH2R8kPFBxgf9AQHqJ6cLSNMWAAAAAElFTkSuQmCC\" id=\"image7e30e30730\" transform=\"scale(1 -1) translate(0 -41.04)\" x=\"278.79019\" y=\"-22.036386\" width=\"68.4\" height=\"41.04\"/>\n   </g>\n   <g id=\"matplotlib.axis_7\">\n    <g id=\"xtick_7\">\n     <g id=\"line2d_13\">\n      <g>\n       <use xlink:href=\"#md923019eb0\" x=\"282.186712\" y=\"63.076386\" style=\"stroke: #000000; stroke-width: 0.8\"/>\n      </g>\n     </g>\n    </g>\n    <g id=\"xtick_8\">\n     <g id=\"line2d_14\">\n      <g>\n       <use xlink:href=\"#md923019eb0\" x=\"316.151929\" y=\"63.076386\" style=\"stroke: #000000; stroke-width: 0.8\"/>\n      </g>\n     </g>\n    </g>\n   </g>\n   <g id=\"matplotlib.axis_8\">\n    <g id=\"ytick_7\">\n     <g id=\"line2d_15\">\n      <g>\n       <use xlink:href=\"#m96c95aeab8\" x=\"278.79019\" y=\"25.714647\" style=\"stroke: #000000; stroke-width: 0.8\"/>\n      </g>\n     </g>\n    </g>\n    <g id=\"ytick_8\">\n     <g id=\"line2d_16\">\n      <g>\n       <use xlink:href=\"#m96c95aeab8\" x=\"278.79019\" y=\"59.679864\" style=\"stroke: #000000; stroke-width: 0.8\"/>\n      </g>\n     </g>\n    </g>\n   </g>\n   <g id=\"patch_18\">\n    <path d=\"M 278.79019 63.076386 \nL 278.79019 22.318125 \n\" style=\"fill: none; stroke: #000000; stroke-width: 0.8; stroke-linejoin: miter; stroke-linecap: square\"/>\n   </g>\n   <g id=\"patch_19\">\n    <path d=\"M 346.720625 63.076386 \nL 346.720625 22.318125 \n\" style=\"fill: none; stroke: #000000; stroke-width: 0.8; stroke-linejoin: miter; stroke-linecap: square\"/>\n   </g>\n   <g id=\"patch_20\">\n    <path d=\"M 278.79019 63.076386 \nL 346.720625 63.076386 \n\" style=\"fill: none; stroke: #000000; stroke-width: 0.8; stroke-linejoin: miter; stroke-linecap: square\"/>\n   </g>\n   <g id=\"patch_21\">\n    <path d=\"M 278.79019 22.318125 \nL 346.720625 22.318125 \n\" style=\"fill: none; stroke: #000000; stroke-width: 0.8; stroke-linejoin: miter; stroke-linecap: square\"/>\n   </g>\n   <g id=\"text_7\">\n    <!-- Head 4 -->\n    <g transform=\"translate(291.341033 16.318125) scale(0.12 -0.12)\">\n     <defs>\n      <path id=\"DejaVuSans-34\" d=\"M 2419 4116 \nL 825 1625 \nL 2419 1625 \nL 2419 4116 \nz\nM 2253 4666 \nL 3047 4666 \nL 3047 1625 \nL 3713 1625 \nL 3713 1100 \nL 3047 1100 \nL 3047 0 \nL 2419 0 \nL 2419 1100 \nL 313 1100 \nL 313 1709 \nL 2253 4666 \nz\n\" transform=\"scale(0.015625)\"/>\n     </defs>\n     <use xlink:href=\"#DejaVuSans-48\"/>\n     <use xlink:href=\"#DejaVuSans-65\" transform=\"translate(75.195312 0)\"/>\n     <use xlink:href=\"#DejaVuSans-61\" transform=\"translate(136.71875 0)\"/>\n     <use xlink:href=\"#DejaVuSans-64\" transform=\"translate(197.998047 0)\"/>\n     <use xlink:href=\"#DejaVuSans-20\" transform=\"translate(261.474609 0)\"/>\n     <use xlink:href=\"#DejaVuSans-34\" transform=\"translate(293.261719 0)\"/>\n    </g>\n   </g>\n  </g>\n  <g id=\"axes_5\">\n   <g id=\"patch_22\">\n    <path d=\"M 34.240625 168.916386 \nL 102.17106 168.916386 \nL 102.17106 128.158125 \nL 34.240625 128.158125 \nz\n\" style=\"fill: #ffffff\"/>\n   </g>\n   <g clip-path=\"url(#p6eb2e5eb63)\">\n    <image xlink:href=\"data:image/png;base64,\niVBORw0KGgoAAAANSUhEUgAAAF8AAAA5CAYAAABQ4feyAAABSElEQVR4nO3aPUoDYRRG4ZtkUkRJ408IFlqojW5DrOzdhp0rs0pjGSwEsRKxsTJI1EYTEiUu4X6gcBjmPPXLJRy+JjCt5eX5KhKvo7tsEhER8/lPuml3WkW39sY3Rbs6a9M/oMmMDzI+yPgg44OMDzI+yPgg44Oq9+v7dPQy+So6tn+0lW7WDodFt5rAlw8yPsj4IOODjA8yPsj4IOODqvHjNB2dnh0XHWt1O+lm9jQputUvWtWbLx9kfJDxQcYHGR9kfJDxQcYHGR9UXb19pqOTZf4BbEREd3cn3fT660W3msCXDzI+yPgg44OMDzI+yPgg44Oqi4PBvx2b3T6km0XBn7qIiM2//pga8OWDjA8yPsj4IOODjA8yPsj4IOODqsF2Lx2tFt9Fx6bPH+lmY9iET2DL+PJBxgcZH2R8kPFBxgcZH2R80C8GbCf5TfFVAwAAAABJRU5ErkJggg==\" id=\"image7e956edb6b\" transform=\"scale(1 -1) translate(0 -41.04)\" x=\"34.240625\" y=\"-127.876386\" width=\"68.4\" height=\"41.04\"/>\n   </g>\n   <g id=\"matplotlib.axis_9\">\n    <g id=\"xtick_9\">\n     <g id=\"line2d_17\">\n      <g>\n       <use xlink:href=\"#md923019eb0\" x=\"37.637147\" y=\"168.916386\" style=\"stroke: #000000; stroke-width: 0.8\"/>\n      </g>\n     </g>\n     <g id=\"text_8\">\n      <!-- 0 -->\n      <g transform=\"translate(34.455897 183.514823) scale(0.1 -0.1)\">\n       <use xlink:href=\"#DejaVuSans-30\"/>\n      </g>\n     </g>\n    </g>\n    <g id=\"xtick_10\">\n     <g id=\"line2d_18\">\n      <g>\n       <use xlink:href=\"#md923019eb0\" x=\"71.602364\" y=\"168.916386\" style=\"stroke: #000000; stroke-width: 0.8\"/>\n      </g>\n     </g>\n     <g id=\"text_9\">\n      <!-- 5 -->\n      <g transform=\"translate(68.421114 183.514823) scale(0.1 -0.1)\">\n       <use xlink:href=\"#DejaVuSans-35\"/>\n      </g>\n     </g>\n    </g>\n    <g id=\"text_10\">\n     <!-- Key positions -->\n     <g transform=\"translate(35.142561 197.192948) scale(0.1 -0.1)\">\n      <defs>\n       <path id=\"DejaVuSans-4b\" d=\"M 628 4666 \nL 1259 4666 \nL 1259 2694 \nL 3353 4666 \nL 4166 4666 \nL 1850 2491 \nL 4331 0 \nL 3500 0 \nL 1259 2247 \nL 1259 0 \nL 628 0 \nL 628 4666 \nz\n\" transform=\"scale(0.015625)\"/>\n      </defs>\n      <use xlink:href=\"#DejaVuSans-4b\"/>\n      <use xlink:href=\"#DejaVuSans-65\" transform=\"translate(60.576172 0)\"/>\n      <use xlink:href=\"#DejaVuSans-79\" transform=\"translate(122.099609 0)\"/>\n      <use xlink:href=\"#DejaVuSans-20\" transform=\"translate(181.279297 0)\"/>\n      <use xlink:href=\"#DejaVuSans-70\" transform=\"translate(213.066406 0)\"/>\n      <use xlink:href=\"#DejaVuSans-6f\" transform=\"translate(276.542969 0)\"/>\n      <use xlink:href=\"#DejaVuSans-73\" transform=\"translate(337.724609 0)\"/>\n      <use xlink:href=\"#DejaVuSans-69\" transform=\"translate(389.824219 0)\"/>\n      <use xlink:href=\"#DejaVuSans-74\" transform=\"translate(417.607422 0)\"/>\n      <use xlink:href=\"#DejaVuSans-69\" transform=\"translate(456.816406 0)\"/>\n      <use xlink:href=\"#DejaVuSans-6f\" transform=\"translate(484.599609 0)\"/>\n      <use xlink:href=\"#DejaVuSans-6e\" transform=\"translate(545.78125 0)\"/>\n      <use xlink:href=\"#DejaVuSans-73\" transform=\"translate(609.160156 0)\"/>\n     </g>\n    </g>\n   </g>\n   <g id=\"matplotlib.axis_10\">\n    <g id=\"ytick_9\">\n     <g id=\"line2d_19\">\n      <g>\n       <use xlink:href=\"#m96c95aeab8\" x=\"34.240625\" y=\"131.554647\" style=\"stroke: #000000; stroke-width: 0.8\"/>\n      </g>\n     </g>\n     <g id=\"text_11\">\n      <!-- 0 -->\n      <g transform=\"translate(20.878125 135.353865) scale(0.1 -0.1)\">\n       <use xlink:href=\"#DejaVuSans-30\"/>\n      </g>\n     </g>\n    </g>\n    <g id=\"ytick_10\">\n     <g id=\"line2d_20\">\n      <g>\n       <use xlink:href=\"#m96c95aeab8\" x=\"34.240625\" y=\"165.519864\" style=\"stroke: #000000; stroke-width: 0.8\"/>\n      </g>\n     </g>\n     <g id=\"text_12\">\n      <!-- 5 -->\n      <g transform=\"translate(20.878125 169.319083) scale(0.1 -0.1)\">\n       <use xlink:href=\"#DejaVuSans-35\"/>\n      </g>\n     </g>\n    </g>\n    <g id=\"text_13\">\n     <!-- Query positions -->\n     <g transform=\"translate(14.798437 187.731787) rotate(-90) scale(0.1 -0.1)\">\n      <use xlink:href=\"#DejaVuSans-51\"/>\n      <use xlink:href=\"#DejaVuSans-75\" transform=\"translate(78.710938 0)\"/>\n      <use xlink:href=\"#DejaVuSans-65\" transform=\"translate(142.089844 0)\"/>\n      <use xlink:href=\"#DejaVuSans-72\" transform=\"translate(203.613281 0)\"/>\n      <use xlink:href=\"#DejaVuSans-79\" transform=\"translate(244.726562 0)\"/>\n      <use xlink:href=\"#DejaVuSans-20\" transform=\"translate(303.90625 0)\"/>\n      <use xlink:href=\"#DejaVuSans-70\" transform=\"translate(335.693359 0)\"/>\n      <use xlink:href=\"#DejaVuSans-6f\" transform=\"translate(399.169922 0)\"/>\n      <use xlink:href=\"#DejaVuSans-73\" transform=\"translate(460.351562 0)\"/>\n      <use xlink:href=\"#DejaVuSans-69\" transform=\"translate(512.451172 0)\"/>\n      <use xlink:href=\"#DejaVuSans-74\" transform=\"translate(540.234375 0)\"/>\n      <use xlink:href=\"#DejaVuSans-69\" transform=\"translate(579.443359 0)\"/>\n      <use xlink:href=\"#DejaVuSans-6f\" transform=\"translate(607.226562 0)\"/>\n      <use xlink:href=\"#DejaVuSans-6e\" transform=\"translate(668.408203 0)\"/>\n      <use xlink:href=\"#DejaVuSans-73\" transform=\"translate(731.787109 0)\"/>\n     </g>\n    </g>\n   </g>\n   <g id=\"patch_23\">\n    <path d=\"M 34.240625 168.916386 \nL 34.240625 128.158125 \n\" style=\"fill: none; stroke: #000000; stroke-width: 0.8; stroke-linejoin: miter; stroke-linecap: square\"/>\n   </g>\n   <g id=\"patch_24\">\n    <path d=\"M 102.17106 168.916386 \nL 102.17106 128.158125 \n\" style=\"fill: none; stroke: #000000; stroke-width: 0.8; stroke-linejoin: miter; stroke-linecap: square\"/>\n   </g>\n   <g id=\"patch_25\">\n    <path d=\"M 34.240625 168.916386 \nL 102.17106 168.916386 \n\" style=\"fill: none; stroke: #000000; stroke-width: 0.8; stroke-linejoin: miter; stroke-linecap: square\"/>\n   </g>\n   <g id=\"patch_26\">\n    <path d=\"M 34.240625 128.158125 \nL 102.17106 128.158125 \n\" style=\"fill: none; stroke: #000000; stroke-width: 0.8; stroke-linejoin: miter; stroke-linecap: square\"/>\n   </g>\n   <g id=\"text_14\">\n    <!-- Head 1 -->\n    <g transform=\"translate(46.791467 122.158125) scale(0.12 -0.12)\">\n     <use xlink:href=\"#DejaVuSans-48\"/>\n     <use xlink:href=\"#DejaVuSans-65\" transform=\"translate(75.195312 0)\"/>\n     <use xlink:href=\"#DejaVuSans-61\" transform=\"translate(136.71875 0)\"/>\n     <use xlink:href=\"#DejaVuSans-64\" transform=\"translate(197.998047 0)\"/>\n     <use xlink:href=\"#DejaVuSans-20\" transform=\"translate(261.474609 0)\"/>\n     <use xlink:href=\"#DejaVuSans-31\" transform=\"translate(293.261719 0)\"/>\n    </g>\n   </g>\n  </g>\n  <g id=\"axes_6\">\n   <g id=\"patch_27\">\n    <path d=\"M 115.757147 168.916386 \nL 183.687582 168.916386 \nL 183.687582 128.158125 \nL 115.757147 128.158125 \nz\n\" style=\"fill: #ffffff\"/>\n   </g>\n   <g clip-path=\"url(#pc6e6591bcc)\">\n    <image xlink:href=\"data:image/png;base64,\niVBORw0KGgoAAAANSUhEUgAAAF8AAAA5CAYAAABQ4feyAAABU0lEQVR4nO3arUpEYRRG4e/oEdHxIgQxaDA4jHlQDCoYTEYxGU0mq2B1isUrMJj1HoQBwSyCXRRE8GfG4AXs3RaHs578shkWX5tTvW2ujkugc7gfTUoppdwfD8JN92gjdas+uUjtmmyC/gFtZnyQ8UHGBxkfZHyQ8UHGBxkfVFdTk+Fo/PiQOrayvhBufp9fUrfq1KrZfPkg44OMDzI+yPgg44OMDzI+qJ7p98LR7flN6tjW2UG4GQ2HqVtt4MsHGR9kfJDxQcYHGR9kfJDxQcYHpf6t+x6H39L+68yFk9HXT+5WC/jyQcYHGR9kfJDxQcYHGR9kfFBdLS6Fo7vXj9Sx3eVuuPm8uk7dmk6tms2XDzI+yPgg44OMDzI+yPgg44OMD6ret3vhf4SzO/3UsadB/EHt/N5a6lZ9epnaNZkvH2R8kPFBxgcZH2R8kPFBxgf9AZICJlxwV7gbAAAAAElFTkSuQmCC\" id=\"imagef66c0db0a0\" transform=\"scale(1 -1) translate(0 -41.04)\" x=\"115.757147\" y=\"-127.876386\" width=\"68.4\" height=\"41.04\"/>\n   </g>\n   <g id=\"matplotlib.axis_11\">\n    <g id=\"xtick_11\">\n     <g id=\"line2d_21\">\n      <g>\n       <use xlink:href=\"#md923019eb0\" x=\"119.153668\" y=\"168.916386\" style=\"stroke: #000000; stroke-width: 0.8\"/>\n      </g>\n     </g>\n     <g id=\"text_15\">\n      <!-- 0 -->\n      <g transform=\"translate(115.972418 183.514823) scale(0.1 -0.1)\">\n       <use xlink:href=\"#DejaVuSans-30\"/>\n      </g>\n     </g>\n    </g>\n    <g id=\"xtick_12\">\n     <g id=\"line2d_22\">\n      <g>\n       <use xlink:href=\"#md923019eb0\" x=\"153.118886\" y=\"168.916386\" style=\"stroke: #000000; stroke-width: 0.8\"/>\n      </g>\n     </g>\n     <g id=\"text_16\">\n      <!-- 5 -->\n      <g transform=\"translate(149.937636 183.514823) scale(0.1 -0.1)\">\n       <use xlink:href=\"#DejaVuSans-35\"/>\n      </g>\n     </g>\n    </g>\n    <g id=\"text_17\">\n     <!-- Key positions -->\n     <g transform=\"translate(116.659083 197.192948) scale(0.1 -0.1)\">\n      <use xlink:href=\"#DejaVuSans-4b\"/>\n      <use xlink:href=\"#DejaVuSans-65\" transform=\"translate(60.576172 0)\"/>\n      <use xlink:href=\"#DejaVuSans-79\" transform=\"translate(122.099609 0)\"/>\n      <use xlink:href=\"#DejaVuSans-20\" transform=\"translate(181.279297 0)\"/>\n      <use xlink:href=\"#DejaVuSans-70\" transform=\"translate(213.066406 0)\"/>\n      <use xlink:href=\"#DejaVuSans-6f\" transform=\"translate(276.542969 0)\"/>\n      <use xlink:href=\"#DejaVuSans-73\" transform=\"translate(337.724609 0)\"/>\n      <use xlink:href=\"#DejaVuSans-69\" transform=\"translate(389.824219 0)\"/>\n      <use xlink:href=\"#DejaVuSans-74\" transform=\"translate(417.607422 0)\"/>\n      <use xlink:href=\"#DejaVuSans-69\" transform=\"translate(456.816406 0)\"/>\n      <use xlink:href=\"#DejaVuSans-6f\" transform=\"translate(484.599609 0)\"/>\n      <use xlink:href=\"#DejaVuSans-6e\" transform=\"translate(545.78125 0)\"/>\n      <use xlink:href=\"#DejaVuSans-73\" transform=\"translate(609.160156 0)\"/>\n     </g>\n    </g>\n   </g>\n   <g id=\"matplotlib.axis_12\">\n    <g id=\"ytick_11\">\n     <g id=\"line2d_23\">\n      <g>\n       <use xlink:href=\"#m96c95aeab8\" x=\"115.757147\" y=\"131.554647\" style=\"stroke: #000000; stroke-width: 0.8\"/>\n      </g>\n     </g>\n    </g>\n    <g id=\"ytick_12\">\n     <g id=\"line2d_24\">\n      <g>\n       <use xlink:href=\"#m96c95aeab8\" x=\"115.757147\" y=\"165.519864\" style=\"stroke: #000000; stroke-width: 0.8\"/>\n      </g>\n     </g>\n    </g>\n   </g>\n   <g id=\"patch_28\">\n    <path d=\"M 115.757147 168.916386 \nL 115.757147 128.158125 \n\" style=\"fill: none; stroke: #000000; stroke-width: 0.8; stroke-linejoin: miter; stroke-linecap: square\"/>\n   </g>\n   <g id=\"patch_29\">\n    <path d=\"M 183.687582 168.916386 \nL 183.687582 128.158125 \n\" style=\"fill: none; stroke: #000000; stroke-width: 0.8; stroke-linejoin: miter; stroke-linecap: square\"/>\n   </g>\n   <g id=\"patch_30\">\n    <path d=\"M 115.757147 168.916386 \nL 183.687582 168.916386 \n\" style=\"fill: none; stroke: #000000; stroke-width: 0.8; stroke-linejoin: miter; stroke-linecap: square\"/>\n   </g>\n   <g id=\"patch_31\">\n    <path d=\"M 115.757147 128.158125 \nL 183.687582 128.158125 \n\" style=\"fill: none; stroke: #000000; stroke-width: 0.8; stroke-linejoin: miter; stroke-linecap: square\"/>\n   </g>\n   <g id=\"text_18\">\n    <!-- Head 2 -->\n    <g transform=\"translate(128.307989 122.158125) scale(0.12 -0.12)\">\n     <use xlink:href=\"#DejaVuSans-48\"/>\n     <use xlink:href=\"#DejaVuSans-65\" transform=\"translate(75.195312 0)\"/>\n     <use xlink:href=\"#DejaVuSans-61\" transform=\"translate(136.71875 0)\"/>\n     <use xlink:href=\"#DejaVuSans-64\" transform=\"translate(197.998047 0)\"/>\n     <use xlink:href=\"#DejaVuSans-20\" transform=\"translate(261.474609 0)\"/>\n     <use xlink:href=\"#DejaVuSans-32\" transform=\"translate(293.261719 0)\"/>\n    </g>\n   </g>\n  </g>\n  <g id=\"axes_7\">\n   <g id=\"patch_32\">\n    <path d=\"M 197.273668 168.916386 \nL 265.204103 168.916386 \nL 265.204103 128.158125 \nL 197.273668 128.158125 \nz\n\" style=\"fill: #ffffff\"/>\n   </g>\n   <g clip-path=\"url(#p7f8527de6b)\">\n    <image xlink:href=\"data:image/png;base64,\niVBORw0KGgoAAAANSUhEUgAAAF8AAAA5CAYAAABQ4feyAAABRklEQVR4nO3cPUoDYRRG4W/GCWilkkaDIvgDFoJV6pQuwkW4FXfgVhQs7OwMNv6BjZoxheCAgi7h3u4Q5jz1yyUcviZFUj0eHfyVwOZ4J5qUUkp5un6IN+136tbJyzS1W2Q1/QH6zPgg44OMDzI+yPgg44OMDzI+qBlurYajs4ub1LHz03G4GX1+pW71gS8fZHyQ8UHGBxkfZHyQ8UHGBzXvz/NwtLc8SB2rV+JdNa9St/rAlw8yPsj4IOODjA8yPsj4IOODjA9q3touHA0HS6lj9Wgj3PzcvaZu9YEvH2R8kPFBxgcZH2R8kPFBxgc1h/tr4aidfqSOdbf34WY2i7/UlVLKemq12Hz5IOODjA8yPsj4IOODjA8yPsj4oKbrfsPRZLKbOnZ5Ff/fzvF2/OvHvvDlg4wPMj7I+CDjg4wPMj7I+KB/gkUoKbE0fDgAAAAASUVORK5CYII=\" id=\"image282ca9620a\" transform=\"scale(1 -1) translate(0 -41.04)\" x=\"197.273668\" y=\"-127.876386\" width=\"68.4\" height=\"41.04\"/>\n   </g>\n   <g id=\"matplotlib.axis_13\">\n    <g id=\"xtick_13\">\n     <g id=\"line2d_25\">\n      <g>\n       <use xlink:href=\"#md923019eb0\" x=\"200.67019\" y=\"168.916386\" style=\"stroke: #000000; stroke-width: 0.8\"/>\n      </g>\n     </g>\n     <g id=\"text_19\">\n      <!-- 0 -->\n      <g transform=\"translate(197.48894 183.514823) scale(0.1 -0.1)\">\n       <use xlink:href=\"#DejaVuSans-30\"/>\n      </g>\n     </g>\n    </g>\n    <g id=\"xtick_14\">\n     <g id=\"line2d_26\">\n      <g>\n       <use xlink:href=\"#md923019eb0\" x=\"234.635408\" y=\"168.916386\" style=\"stroke: #000000; stroke-width: 0.8\"/>\n      </g>\n     </g>\n     <g id=\"text_20\">\n      <!-- 5 -->\n      <g transform=\"translate(231.454158 183.514823) scale(0.1 -0.1)\">\n       <use xlink:href=\"#DejaVuSans-35\"/>\n      </g>\n     </g>\n    </g>\n    <g id=\"text_21\">\n     <!-- Key positions -->\n     <g transform=\"translate(198.175605 197.192948) scale(0.1 -0.1)\">\n      <use xlink:href=\"#DejaVuSans-4b\"/>\n      <use xlink:href=\"#DejaVuSans-65\" transform=\"translate(60.576172 0)\"/>\n      <use xlink:href=\"#DejaVuSans-79\" transform=\"translate(122.099609 0)\"/>\n      <use xlink:href=\"#DejaVuSans-20\" transform=\"translate(181.279297 0)\"/>\n      <use xlink:href=\"#DejaVuSans-70\" transform=\"translate(213.066406 0)\"/>\n      <use xlink:href=\"#DejaVuSans-6f\" transform=\"translate(276.542969 0)\"/>\n      <use xlink:href=\"#DejaVuSans-73\" transform=\"translate(337.724609 0)\"/>\n      <use xlink:href=\"#DejaVuSans-69\" transform=\"translate(389.824219 0)\"/>\n      <use xlink:href=\"#DejaVuSans-74\" transform=\"translate(417.607422 0)\"/>\n      <use xlink:href=\"#DejaVuSans-69\" transform=\"translate(456.816406 0)\"/>\n      <use xlink:href=\"#DejaVuSans-6f\" transform=\"translate(484.599609 0)\"/>\n      <use xlink:href=\"#DejaVuSans-6e\" transform=\"translate(545.78125 0)\"/>\n      <use xlink:href=\"#DejaVuSans-73\" transform=\"translate(609.160156 0)\"/>\n     </g>\n    </g>\n   </g>\n   <g id=\"matplotlib.axis_14\">\n    <g id=\"ytick_13\">\n     <g id=\"line2d_27\">\n      <g>\n       <use xlink:href=\"#m96c95aeab8\" x=\"197.273668\" y=\"131.554647\" style=\"stroke: #000000; stroke-width: 0.8\"/>\n      </g>\n     </g>\n    </g>\n    <g id=\"ytick_14\">\n     <g id=\"line2d_28\">\n      <g>\n       <use xlink:href=\"#m96c95aeab8\" x=\"197.273668\" y=\"165.519864\" style=\"stroke: #000000; stroke-width: 0.8\"/>\n      </g>\n     </g>\n    </g>\n   </g>\n   <g id=\"patch_33\">\n    <path d=\"M 197.273668 168.916386 \nL 197.273668 128.158125 \n\" style=\"fill: none; stroke: #000000; stroke-width: 0.8; stroke-linejoin: miter; stroke-linecap: square\"/>\n   </g>\n   <g id=\"patch_34\">\n    <path d=\"M 265.204103 168.916386 \nL 265.204103 128.158125 \n\" style=\"fill: none; stroke: #000000; stroke-width: 0.8; stroke-linejoin: miter; stroke-linecap: square\"/>\n   </g>\n   <g id=\"patch_35\">\n    <path d=\"M 197.273668 168.916386 \nL 265.204103 168.916386 \n\" style=\"fill: none; stroke: #000000; stroke-width: 0.8; stroke-linejoin: miter; stroke-linecap: square\"/>\n   </g>\n   <g id=\"patch_36\">\n    <path d=\"M 197.273668 128.158125 \nL 265.204103 128.158125 \n\" style=\"fill: none; stroke: #000000; stroke-width: 0.8; stroke-linejoin: miter; stroke-linecap: square\"/>\n   </g>\n   <g id=\"text_22\">\n    <!-- Head 3 -->\n    <g transform=\"translate(209.824511 122.158125) scale(0.12 -0.12)\">\n     <use xlink:href=\"#DejaVuSans-48\"/>\n     <use xlink:href=\"#DejaVuSans-65\" transform=\"translate(75.195312 0)\"/>\n     <use xlink:href=\"#DejaVuSans-61\" transform=\"translate(136.71875 0)\"/>\n     <use xlink:href=\"#DejaVuSans-64\" transform=\"translate(197.998047 0)\"/>\n     <use xlink:href=\"#DejaVuSans-20\" transform=\"translate(261.474609 0)\"/>\n     <use xlink:href=\"#DejaVuSans-33\" transform=\"translate(293.261719 0)\"/>\n    </g>\n   </g>\n  </g>\n  <g id=\"axes_8\">\n   <g id=\"patch_37\">\n    <path d=\"M 278.79019 168.916386 \nL 346.720625 168.916386 \nL 346.720625 128.158125 \nL 278.79019 128.158125 \nz\n\" style=\"fill: #ffffff\"/>\n   </g>\n   <g clip-path=\"url(#p35ff48c5c6)\">\n    <image xlink:href=\"data:image/png;base64,\niVBORw0KGgoAAAANSUhEUgAAAF8AAAA5CAYAAABQ4feyAAABT0lEQVR4nO3ZrUpEYRRG4aN+/gyjQUcEg2AyWwSLV2C2TjKaDQavwaCIyYswqKCCYBeEKf4gmLwBcZwTxkvYuy0OZz35ZTMsvnKYifq4P64Co8FHNKmqqqqu79/CzcrMdOrWzucgtWuySfoHtJnxQcYHGR9kfJDxQcYHGR9kfFB5vngIR+/Dv9Sxvf52uBmP6tStNvDlg4wPMj7I+CDjg4wPMj7I+KDyXccfPbtba6ljPy9f4WZqfjZ1K/dnY7P58kHGBxkfZHyQ8UHGBxkfZHyQ8UFlo9cNR4d3r6ljZ+cH4WZ4+5i61Qa+fJDxQcYHGR9kfJDxQcYHGR9UOp0Sjk5P9lPHro4uw816dy51azO1ajZfPsj4IOODjA8yPsj4IOODjA8yPqgsri6Eo9+bp9SxpRJ/LS/3cl+4beDLBxkfZHyQ8UHGBxkfZHyQ8UH/RlYmirE7NLgAAAAASUVORK5CYII=\" id=\"image508086a0af\" transform=\"scale(1 -1) translate(0 -41.04)\" x=\"278.79019\" y=\"-127.876386\" width=\"68.4\" height=\"41.04\"/>\n   </g>\n   <g id=\"matplotlib.axis_15\">\n    <g id=\"xtick_15\">\n     <g id=\"line2d_29\">\n      <g>\n       <use xlink:href=\"#md923019eb0\" x=\"282.186712\" y=\"168.916386\" style=\"stroke: #000000; stroke-width: 0.8\"/>\n      </g>\n     </g>\n     <g id=\"text_23\">\n      <!-- 0 -->\n      <g transform=\"translate(279.005462 183.514823) scale(0.1 -0.1)\">\n       <use xlink:href=\"#DejaVuSans-30\"/>\n      </g>\n     </g>\n    </g>\n    <g id=\"xtick_16\">\n     <g id=\"line2d_30\">\n      <g>\n       <use xlink:href=\"#md923019eb0\" x=\"316.151929\" y=\"168.916386\" style=\"stroke: #000000; stroke-width: 0.8\"/>\n      </g>\n     </g>\n     <g id=\"text_24\">\n      <!-- 5 -->\n      <g transform=\"translate(312.970679 183.514823) scale(0.1 -0.1)\">\n       <use xlink:href=\"#DejaVuSans-35\"/>\n      </g>\n     </g>\n    </g>\n    <g id=\"text_25\">\n     <!-- Key positions -->\n     <g transform=\"translate(279.692126 197.192948) scale(0.1 -0.1)\">\n      <use xlink:href=\"#DejaVuSans-4b\"/>\n      <use xlink:href=\"#DejaVuSans-65\" transform=\"translate(60.576172 0)\"/>\n      <use xlink:href=\"#DejaVuSans-79\" transform=\"translate(122.099609 0)\"/>\n      <use xlink:href=\"#DejaVuSans-20\" transform=\"translate(181.279297 0)\"/>\n      <use xlink:href=\"#DejaVuSans-70\" transform=\"translate(213.066406 0)\"/>\n      <use xlink:href=\"#DejaVuSans-6f\" transform=\"translate(276.542969 0)\"/>\n      <use xlink:href=\"#DejaVuSans-73\" transform=\"translate(337.724609 0)\"/>\n      <use xlink:href=\"#DejaVuSans-69\" transform=\"translate(389.824219 0)\"/>\n      <use xlink:href=\"#DejaVuSans-74\" transform=\"translate(417.607422 0)\"/>\n      <use xlink:href=\"#DejaVuSans-69\" transform=\"translate(456.816406 0)\"/>\n      <use xlink:href=\"#DejaVuSans-6f\" transform=\"translate(484.599609 0)\"/>\n      <use xlink:href=\"#DejaVuSans-6e\" transform=\"translate(545.78125 0)\"/>\n      <use xlink:href=\"#DejaVuSans-73\" transform=\"translate(609.160156 0)\"/>\n     </g>\n    </g>\n   </g>\n   <g id=\"matplotlib.axis_16\">\n    <g id=\"ytick_15\">\n     <g id=\"line2d_31\">\n      <g>\n       <use xlink:href=\"#m96c95aeab8\" x=\"278.79019\" y=\"131.554647\" style=\"stroke: #000000; stroke-width: 0.8\"/>\n      </g>\n     </g>\n    </g>\n    <g id=\"ytick_16\">\n     <g id=\"line2d_32\">\n      <g>\n       <use xlink:href=\"#m96c95aeab8\" x=\"278.79019\" y=\"165.519864\" style=\"stroke: #000000; stroke-width: 0.8\"/>\n      </g>\n     </g>\n    </g>\n   </g>\n   <g id=\"patch_38\">\n    <path d=\"M 278.79019 168.916386 \nL 278.79019 128.158125 \n\" style=\"fill: none; stroke: #000000; stroke-width: 0.8; stroke-linejoin: miter; stroke-linecap: square\"/>\n   </g>\n   <g id=\"patch_39\">\n    <path d=\"M 346.720625 168.916386 \nL 346.720625 128.158125 \n\" style=\"fill: none; stroke: #000000; stroke-width: 0.8; stroke-linejoin: miter; stroke-linecap: square\"/>\n   </g>\n   <g id=\"patch_40\">\n    <path d=\"M 278.79019 168.916386 \nL 346.720625 168.916386 \n\" style=\"fill: none; stroke: #000000; stroke-width: 0.8; stroke-linejoin: miter; stroke-linecap: square\"/>\n   </g>\n   <g id=\"patch_41\">\n    <path d=\"M 278.79019 128.158125 \nL 346.720625 128.158125 \n\" style=\"fill: none; stroke: #000000; stroke-width: 0.8; stroke-linejoin: miter; stroke-linecap: square\"/>\n   </g>\n   <g id=\"text_26\">\n    <!-- Head 4 -->\n    <g transform=\"translate(291.341033 122.158125) scale(0.12 -0.12)\">\n     <use xlink:href=\"#DejaVuSans-48\"/>\n     <use xlink:href=\"#DejaVuSans-65\" transform=\"translate(75.195312 0)\"/>\n     <use xlink:href=\"#DejaVuSans-61\" transform=\"translate(136.71875 0)\"/>\n     <use xlink:href=\"#DejaVuSans-64\" transform=\"translate(197.998047 0)\"/>\n     <use xlink:href=\"#DejaVuSans-20\" transform=\"translate(261.474609 0)\"/>\n     <use xlink:href=\"#DejaVuSans-34\" transform=\"translate(293.261719 0)\"/>\n    </g>\n   </g>\n  </g>\n  <g id=\"axes_9\">\n   <g id=\"patch_42\">\n    <path d=\"M 366.250625 153.829255 \nL 372.071825 153.829255 \nL 372.071825 37.405255 \nL 366.250625 37.405255 \nz\n\" style=\"fill: #ffffff\"/>\n   </g>\n   <image xlink:href=\"data:image/png;base64,\niVBORw0KGgoAAAANSUhEUgAAAAgAAACiCAYAAAB8iIwDAAAA60lEQVR4nOWXMQ7DMAwDVcD/f2uWbpHUH+gM0BZstGsE6kjaSPrJ75NW/IZlVM9tWJYCPQpBCkYDQStIIVGhIYf9NjnqjgNDA+4wEDRAkIkKGDUzyAqYA3ahQxIDJ6nngId2v039yE20uR9ST/KELhruhX79dcgFNtGFPHCDzbwB8ogumIFerI5dqB8YrICQd9hUv+X+pIugoAIZyOaEQvnchssucAVCxn6behcdkPqJwhV4cWqBmRw6FGgA/1bjvSAFZMAkXe9igU1aIUPqNl9y8S5YodaNkFiWbhMvDkPSClTAuk+AnGCoJX6MlWEIAYuDfgAAAABJRU5ErkJggg==\" id=\"image17d1ac1003\" transform=\"scale(1 -1) translate(0 -116.64)\" x=\"366.48\" y=\"-36.72\" width=\"5.76\" height=\"116.64\"/>\n   <g id=\"matplotlib.axis_17\"/>\n   <g id=\"matplotlib.axis_18\">\n    <g id=\"ytick_17\">\n     <g id=\"line2d_33\">\n      <defs>\n       <path id=\"m90a9ea41cf\" d=\"M 0 0 \nL 3.5 0 \n\" style=\"stroke: #000000; stroke-width: 0.8\"/>\n      </defs>\n      <g>\n       <use xlink:href=\"#m90a9ea41cf\" x=\"372.071825\" y=\"153.829255\" style=\"stroke: #000000; stroke-width: 0.8\"/>\n      </g>\n     </g>\n     <g id=\"text_27\">\n      <!-- 0.0 -->\n      <g transform=\"translate(379.071825 157.628474) scale(0.1 -0.1)\">\n       <defs>\n        <path id=\"DejaVuSans-2e\" d=\"M 684 794 \nL 1344 794 \nL 1344 0 \nL 684 0 \nL 684 794 \nz\n\" transform=\"scale(0.015625)\"/>\n       </defs>\n       <use xlink:href=\"#DejaVuSans-30\"/>\n       <use xlink:href=\"#DejaVuSans-2e\" transform=\"translate(63.623047 0)\"/>\n       <use xlink:href=\"#DejaVuSans-30\" transform=\"translate(95.410156 0)\"/>\n      </g>\n     </g>\n    </g>\n    <g id=\"ytick_18\">\n     <g id=\"line2d_34\">\n      <g>\n       <use xlink:href=\"#m90a9ea41cf\" x=\"372.071825\" y=\"123.288513\" style=\"stroke: #000000; stroke-width: 0.8\"/>\n      </g>\n     </g>\n     <g id=\"text_28\">\n      <!-- 0.1 -->\n      <g transform=\"translate(379.071825 127.087732) scale(0.1 -0.1)\">\n       <use xlink:href=\"#DejaVuSans-30\"/>\n       <use xlink:href=\"#DejaVuSans-2e\" transform=\"translate(63.623047 0)\"/>\n       <use xlink:href=\"#DejaVuSans-31\" transform=\"translate(95.410156 0)\"/>\n      </g>\n     </g>\n    </g>\n    <g id=\"ytick_19\">\n     <g id=\"line2d_35\">\n      <g>\n       <use xlink:href=\"#m90a9ea41cf\" x=\"372.071825\" y=\"92.747771\" style=\"stroke: #000000; stroke-width: 0.8\"/>\n      </g>\n     </g>\n     <g id=\"text_29\">\n      <!-- 0.2 -->\n      <g transform=\"translate(379.071825 96.54699) scale(0.1 -0.1)\">\n       <use xlink:href=\"#DejaVuSans-30\"/>\n       <use xlink:href=\"#DejaVuSans-2e\" transform=\"translate(63.623047 0)\"/>\n       <use xlink:href=\"#DejaVuSans-32\" transform=\"translate(95.410156 0)\"/>\n      </g>\n     </g>\n    </g>\n    <g id=\"ytick_20\">\n     <g id=\"line2d_36\">\n      <g>\n       <use xlink:href=\"#m90a9ea41cf\" x=\"372.071825\" y=\"62.207029\" style=\"stroke: #000000; stroke-width: 0.8\"/>\n      </g>\n     </g>\n     <g id=\"text_30\">\n      <!-- 0.3 -->\n      <g transform=\"translate(379.071825 66.006248) scale(0.1 -0.1)\">\n       <use xlink:href=\"#DejaVuSans-30\"/>\n       <use xlink:href=\"#DejaVuSans-2e\" transform=\"translate(63.623047 0)\"/>\n       <use xlink:href=\"#DejaVuSans-33\" transform=\"translate(95.410156 0)\"/>\n      </g>\n     </g>\n    </g>\n   </g>\n   <g id=\"LineCollection_1\"/>\n   <g id=\"patch_43\">\n    <path d=\"M 366.250625 153.829255 \nL 369.161225 153.829255 \nL 372.071825 153.829255 \nL 372.071825 37.405255 \nL 369.161225 37.405255 \nL 366.250625 37.405255 \nL 366.250625 153.829255 \nz\n\" style=\"fill: none; stroke: #000000; stroke-width: 0.8; stroke-linejoin: miter; stroke-linecap: square\"/>\n   </g>\n  </g>\n </g>\n <defs>\n  <clipPath id=\"pc016491560\">\n   <rect x=\"34.240625\" y=\"22.318125\" width=\"67.930435\" height=\"40.758261\"/>\n  </clipPath>\n  <clipPath id=\"pf7d1079b66\">\n   <rect x=\"115.757147\" y=\"22.318125\" width=\"67.930435\" height=\"40.758261\"/>\n  </clipPath>\n  <clipPath id=\"p4cdfb9a05e\">\n   <rect x=\"197.273668\" y=\"22.318125\" width=\"67.930435\" height=\"40.758261\"/>\n  </clipPath>\n  <clipPath id=\"p81e3129017\">\n   <rect x=\"278.79019\" y=\"22.318125\" width=\"67.930435\" height=\"40.758261\"/>\n  </clipPath>\n  <clipPath id=\"p6eb2e5eb63\">\n   <rect x=\"34.240625\" y=\"128.158125\" width=\"67.930435\" height=\"40.758261\"/>\n  </clipPath>\n  <clipPath id=\"pc6e6591bcc\">\n   <rect x=\"115.757147\" y=\"128.158125\" width=\"67.930435\" height=\"40.758261\"/>\n  </clipPath>\n  <clipPath id=\"p7f8527de6b\">\n   <rect x=\"197.273668\" y=\"128.158125\" width=\"67.930435\" height=\"40.758261\"/>\n  </clipPath>\n  <clipPath id=\"p35ff48c5c6\">\n   <rect x=\"278.79019\" y=\"128.158125\" width=\"67.930435\" height=\"40.758261\"/>\n  </clipPath>\n </defs>\n</svg>\n"
          },
          "metadata": {}
        }
      ],
      "source": [
        "show_heatmaps(\n",
        "    dec_inter_attention_weights,\n",
        "    xlabel=\"Key positions\",\n",
        "    ylabel=\"Query positions\",\n",
        "    titles=[\"Head %d\" % i for i in range(1, 5)],\n",
        "    figsize=(7, 3.5),\n",
        ")"
      ]
    },
    {
      "cell_type": "code",
      "source": [],
      "metadata": {
        "id": "0_SGNJj_JQO7"
      },
      "execution_count": 48,
      "outputs": []
    }
  ],
  "metadata": {
    "colab": {
      "name": "transformers_jax.ipynb",
      "provenance": [],
      "gpuType": "A100",
      "machine_shape": "hm"
    },
    "kernelspec": {
      "display_name": "Python 3",
      "name": "python3"
    },
    "language_info": {
      "codemirror_mode": {
        "name": "ipython",
        "version": 3
      },
      "file_extension": ".py",
      "mimetype": "text/x-python",
      "name": "python",
      "nbconvert_exporter": "python",
      "pygments_lexer": "ipython3",
      "version": "3.7.12"
    },
    "accelerator": "GPU"
  },
  "nbformat": 4,
  "nbformat_minor": 0
}